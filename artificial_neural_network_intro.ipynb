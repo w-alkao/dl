{
 "cells": [
  {
   "cell_type": "code",
   "execution_count": 1,
   "id": "ab814617-948a-48e4-8d64-74134bf44f22",
   "metadata": {},
   "outputs": [],
   "source": [
    "import tensorflow as tf\n",
    "from tensorflow import keras\n",
    "from keras import layers"
   ]
  },
  {
   "cell_type": "code",
   "execution_count": 135,
   "id": "f11d955d-ce50-48d4-9f8b-166a91b18b59",
   "metadata": {},
   "outputs": [],
   "source": [
    "import numpy as np\n",
    "from sklearn.datasets import load_iris, fetch_california_housing\n",
    "from sklearn.linear_model import Perceptron\n",
    "import matplotlib.pyplot as plt\n",
    "from sklearn.preprocessing import StandardScaler\n",
    "from sklearn.pipeline import make_pipeline\n",
    "from scipy.special import expit as sigmoid\n",
    "from sklearn.metrics import mean_squared_error\n",
    "from sklearn.model_selection import train_test_split\n",
    "from sklearn.neural_network import MLPRegressor\n",
    "import pandas as pd\n",
    "from pathlib import Path\n",
    "from time import strftime"
   ]
  },
  {
   "cell_type": "code",
   "execution_count": null,
   "id": "f90d3983-a0e7-4c2a-9b08-3237ae61f9f7",
   "metadata": {},
   "outputs": [],
   "source": []
  },
  {
   "cell_type": "markdown",
   "id": "e5604324-2910-4c2e-a52f-cba76aeef844",
   "metadata": {},
   "source": [
    "### The Perceptron"
   ]
  },
  {
   "cell_type": "code",
   "execution_count": 3,
   "id": "81419992-bb01-446e-858d-509826f49de8",
   "metadata": {},
   "outputs": [],
   "source": [
    "iris = load_iris(as_frame=True)\n",
    "X = iris.data[[\"sepal length (cm)\", \"sepal width (cm)\"]].values\n",
    "y = (iris.target == 0)"
   ]
  },
  {
   "cell_type": "code",
   "execution_count": 4,
   "id": "17670e5e-1177-4cf7-8311-8ae8a08bd1c1",
   "metadata": {},
   "outputs": [
    {
     "data": {
      "text/plain": [
       "array(['setosa', 'versicolor', 'virginica'], dtype='<U10')"
      ]
     },
     "execution_count": 4,
     "metadata": {},
     "output_type": "execute_result"
    }
   ],
   "source": [
    "iris.target_names"
   ]
  },
  {
   "cell_type": "code",
   "execution_count": 5,
   "id": "07a0eea4-cb5f-4ca0-b363-b7073041b87b",
   "metadata": {
    "scrolled": true
   },
   "outputs": [
    {
     "data": {
      "text/plain": [
       "<matplotlib.legend.Legend at 0x25566523190>"
      ]
     },
     "execution_count": 5,
     "metadata": {},
     "output_type": "execute_result"
    },
    {
     "data": {
      "image/png": "[encoded data removed]",
      "text/plain": [
       "<Figure size 640x480 with 1 Axes>"
      ]
     },
     "metadata": {},
     "output_type": "display_data"
    }
   ],
   "source": [
    "plt.plot(X[:, 0][y==True], X[:, 1][y==True], \"o\", label=\"setosa\")\n",
    "plt.plot(X[:, 0][y==False], X[:, 1][y==False], \"o\", label=\"versicolor or virginica\")\n",
    "plt.grid()\n",
    "plt.legend()"
   ]
  },
  {
   "cell_type": "code",
   "execution_count": 6,
   "id": "192bfac4-196b-4615-9dcc-5ca45de8c86e",
   "metadata": {},
   "outputs": [
    {
     "data": {
      "text/html": [
       "<style>#sk-container-id-1 {\n",
       "  /* Definition of color scheme common for light and dark mode */\n",
       "  --sklearn-color-text: #000;\n",
       "  --sklearn-color-text-muted: #666;\n",
       "  --sklearn-color-line: gray;\n",
       "  /* Definition of color scheme for unfitted estimators */\n",
       "  --sklearn-color-unfitted-level-0: #fff5e6;\n",
       "  --sklearn-color-unfitted-level-1: #f6e4d2;\n",
       "  --sklearn-color-unfitted-level-2: #ffe0b3;\n",
       "  --sklearn-color-unfitted-level-3: chocolate;\n",
       "  /* Definition of color scheme for fitted estimators */\n",
       "  --sklearn-color-fitted-level-0: #f0f8ff;\n",
       "  --sklearn-color-fitted-level-1: #d4ebff;\n",
       "  --sklearn-color-fitted-level-2: #b3dbfd;\n",
       "  --sklearn-color-fitted-level-3: cornflowerblue;\n",
       "\n",
       "  /* Specific color for light theme */\n",
       "  --sklearn-color-text-on-default-background: var(--sg-text-color, var(--theme-code-foreground, var(--jp-content-font-color1, black)));\n",
       "  --sklearn-color-background: var(--sg-background-color, var(--theme-background, var(--jp-layout-color0, white)));\n",
       "  --sklearn-color-border-box: var(--sg-text-color, var(--theme-code-foreground, var(--jp-content-font-color1, black)));\n",
       "  --sklearn-color-icon: #696969;\n",
       "\n",
       "  @media (prefers-color-scheme: dark) {\n",
       "    /* Redefinition of color scheme for dark theme */\n",
       "    --sklearn-color-text-on-default-background: var(--sg-text-color, var(--theme-code-foreground, var(--jp-content-font-color1, white)));\n",
       "    --sklearn-color-background: var(--sg-background-color, var(--theme-background, var(--jp-layout-color0, #111)));\n",
       "    --sklearn-color-border-box: var(--sg-text-color, var(--theme-code-foreground, var(--jp-content-font-color1, white)));\n",
       "    --sklearn-color-icon: #878787;\n",
       "  }\n",
       "}\n",
       "\n",
       "#sk-container-id-1 {\n",
       "  color: var(--sklearn-color-text);\n",
       "}\n",
       "\n",
       "#sk-container-id-1 pre {\n",
       "  padding: 0;\n",
       "}\n",
       "\n",
       "#sk-container-id-1 input.sk-hidden--visually {\n",
       "  border: 0;\n",
       "  clip: rect(1px 1px 1px 1px);\n",
       "  clip: rect(1px, 1px, 1px, 1px);\n",
       "  height: 1px;\n",
       "  margin: -1px;\n",
       "  overflow: hidden;\n",
       "  padding: 0;\n",
       "  position: absolute;\n",
       "  width: 1px;\n",
       "}\n",
       "\n",
       "#sk-container-id-1 div.sk-dashed-wrapped {\n",
       "  border: 1px dashed var(--sklearn-color-line);\n",
       "  margin: 0 0.4em 0.5em 0.4em;\n",
       "  box-sizing: border-box;\n",
       "  padding-bottom: 0.4em;\n",
       "  background-color: var(--sklearn-color-background);\n",
       "}\n",
       "\n",
       "#sk-container-id-1 div.sk-container {\n",
       "  /* jupyter's `normalize.less` sets `[hidden] { display: none; }`\n",
       "     but bootstrap.min.css set `[hidden] { display: none !important; }`\n",
       "     so we also need the `!important` here to be able to override the\n",
       "     default hidden behavior on the sphinx rendered scikit-learn.org.\n",
       "     See: https://github.com/scikit-learn/scikit-learn/issues/21755 */\n",
       "  display: inline-block !important;\n",
       "  position: relative;\n",
       "}\n",
       "\n",
       "#sk-container-id-1 div.sk-text-repr-fallback {\n",
       "  display: none;\n",
       "}\n",
       "\n",
       "div.sk-parallel-item,\n",
       "div.sk-serial,\n",
       "div.sk-item {\n",
       "  /* draw centered vertical line to link estimators */\n",
       "  background-image: linear-gradient(var(--sklearn-color-text-on-default-background), var(--sklearn-color-text-on-default-background));\n",
       "  background-size: 2px 100%;\n",
       "  background-repeat: no-repeat;\n",
       "  background-position: center center;\n",
       "}\n",
       "\n",
       "/* Parallel-specific style estimator block */\n",
       "\n",
       "#sk-container-id-1 div.sk-parallel-item::after {\n",
       "  content: \"\";\n",
       "  width: 100%;\n",
       "  border-bottom: 2px solid var(--sklearn-color-text-on-default-background);\n",
       "  flex-grow: 1;\n",
       "}\n",
       "\n",
       "#sk-container-id-1 div.sk-parallel {\n",
       "  display: flex;\n",
       "  align-items: stretch;\n",
       "  justify-content: center;\n",
       "  background-color: var(--sklearn-color-background);\n",
       "  position: relative;\n",
       "}\n",
       "\n",
       "#sk-container-id-1 div.sk-parallel-item {\n",
       "  display: flex;\n",
       "  flex-direction: column;\n",
       "}\n",
       "\n",
       "#sk-container-id-1 div.sk-parallel-item:first-child::after {\n",
       "  align-self: flex-end;\n",
       "  width: 50%;\n",
       "}\n",
       "\n",
       "#sk-container-id-1 div.sk-parallel-item:last-child::after {\n",
       "  align-self: flex-start;\n",
       "  width: 50%;\n",
       "}\n",
       "\n",
       "#sk-container-id-1 div.sk-parallel-item:only-child::after {\n",
       "  width: 0;\n",
       "}\n",
       "\n",
       "/* Serial-specific style estimator block */\n",
       "\n",
       "#sk-container-id-1 div.sk-serial {\n",
       "  display: flex;\n",
       "  flex-direction: column;\n",
       "  align-items: center;\n",
       "  background-color: var(--sklearn-color-background);\n",
       "  padding-right: 1em;\n",
       "  padding-left: 1em;\n",
       "}\n",
       "\n",
       "\n",
       "/* Toggleable style: style used for estimator/Pipeline/ColumnTransformer box that is\n",
       "clickable and can be expanded/collapsed.\n",
       "- Pipeline and ColumnTransformer use this feature and define the default style\n",
       "- Estimators will overwrite some part of the style using the `sk-estimator` class\n",
       "*/\n",
       "\n",
       "/* Pipeline and ColumnTransformer style (default) */\n",
       "\n",
       "#sk-container-id-1 div.sk-toggleable {\n",
       "  /* Default theme specific background. It is overwritten whether we have a\n",
       "  specific estimator or a Pipeline/ColumnTransformer */\n",
       "  background-color: var(--sklearn-color-background);\n",
       "}\n",
       "\n",
       "/* Toggleable label */\n",
       "#sk-container-id-1 label.sk-toggleable__label {\n",
       "  cursor: pointer;\n",
       "  display: flex;\n",
       "  width: 100%;\n",
       "  margin-bottom: 0;\n",
       "  padding: 0.5em;\n",
       "  box-sizing: border-box;\n",
       "  text-align: center;\n",
       "  align-items: start;\n",
       "  justify-content: space-between;\n",
       "  gap: 0.5em;\n",
       "}\n",
       "\n",
       "#sk-container-id-1 label.sk-toggleable__label .caption {\n",
       "  font-size: 0.6rem;\n",
       "  font-weight: lighter;\n",
       "  color: var(--sklearn-color-text-muted);\n",
       "}\n",
       "\n",
       "#sk-container-id-1 label.sk-toggleable__label-arrow:before {\n",
       "  /* Arrow on the left of the label */\n",
       "  content: \"▸\";\n",
       "  float: left;\n",
       "  margin-right: 0.25em;\n",
       "  color: var(--sklearn-color-icon);\n",
       "}\n",
       "\n",
       "#sk-container-id-1 label.sk-toggleable__label-arrow:hover:before {\n",
       "  color: var(--sklearn-color-text);\n",
       "}\n",
       "\n",
       "/* Toggleable content - dropdown */\n",
       "\n",
       "#sk-container-id-1 div.sk-toggleable__content {\n",
       "  max-height: 0;\n",
       "  max-width: 0;\n",
       "  overflow: hidden;\n",
       "  text-align: left;\n",
       "  /* unfitted */\n",
       "  background-color: var(--sklearn-color-unfitted-level-0);\n",
       "}\n",
       "\n",
       "#sk-container-id-1 div.sk-toggleable__content.fitted {\n",
       "  /* fitted */\n",
       "  background-color: var(--sklearn-color-fitted-level-0);\n",
       "}\n",
       "\n",
       "#sk-container-id-1 div.sk-toggleable__content pre {\n",
       "  margin: 0.2em;\n",
       "  border-radius: 0.25em;\n",
       "  color: var(--sklearn-color-text);\n",
       "  /* unfitted */\n",
       "  background-color: var(--sklearn-color-unfitted-level-0);\n",
       "}\n",
       "\n",
       "#sk-container-id-1 div.sk-toggleable__content.fitted pre {\n",
       "  /* unfitted */\n",
       "  background-color: var(--sklearn-color-fitted-level-0);\n",
       "}\n",
       "\n",
       "#sk-container-id-1 input.sk-toggleable__control:checked~div.sk-toggleable__content {\n",
       "  /* Expand drop-down */\n",
       "  max-height: 200px;\n",
       "  max-width: 100%;\n",
       "  overflow: auto;\n",
       "}\n",
       "\n",
       "#sk-container-id-1 input.sk-toggleable__control:checked~label.sk-toggleable__label-arrow:before {\n",
       "  content: \"▾\";\n",
       "}\n",
       "\n",
       "/* Pipeline/ColumnTransformer-specific style */\n",
       "\n",
       "#sk-container-id-1 div.sk-label input.sk-toggleable__control:checked~label.sk-toggleable__label {\n",
       "  color: var(--sklearn-color-text);\n",
       "  background-color: var(--sklearn-color-unfitted-level-2);\n",
       "}\n",
       "\n",
       "#sk-container-id-1 div.sk-label.fitted input.sk-toggleable__control:checked~label.sk-toggleable__label {\n",
       "  background-color: var(--sklearn-color-fitted-level-2);\n",
       "}\n",
       "\n",
       "/* Estimator-specific style */\n",
       "\n",
       "/* Colorize estimator box */\n",
       "#sk-container-id-1 div.sk-estimator input.sk-toggleable__control:checked~label.sk-toggleable__label {\n",
       "  /* unfitted */\n",
       "  background-color: var(--sklearn-color-unfitted-level-2);\n",
       "}\n",
       "\n",
       "#sk-container-id-1 div.sk-estimator.fitted input.sk-toggleable__control:checked~label.sk-toggleable__label {\n",
       "  /* fitted */\n",
       "  background-color: var(--sklearn-color-fitted-level-2);\n",
       "}\n",
       "\n",
       "#sk-container-id-1 div.sk-label label.sk-toggleable__label,\n",
       "#sk-container-id-1 div.sk-label label {\n",
       "  /* The background is the default theme color */\n",
       "  color: var(--sklearn-color-text-on-default-background);\n",
       "}\n",
       "\n",
       "/* On hover, darken the color of the background */\n",
       "#sk-container-id-1 div.sk-label:hover label.sk-toggleable__label {\n",
       "  color: var(--sklearn-color-text);\n",
       "  background-color: var(--sklearn-color-unfitted-level-2);\n",
       "}\n",
       "\n",
       "/* Label box, darken color on hover, fitted */\n",
       "#sk-container-id-1 div.sk-label.fitted:hover label.sk-toggleable__label.fitted {\n",
       "  color: var(--sklearn-color-text);\n",
       "  background-color: var(--sklearn-color-fitted-level-2);\n",
       "}\n",
       "\n",
       "/* Estimator label */\n",
       "\n",
       "#sk-container-id-1 div.sk-label label {\n",
       "  font-family: monospace;\n",
       "  font-weight: bold;\n",
       "  display: inline-block;\n",
       "  line-height: 1.2em;\n",
       "}\n",
       "\n",
       "#sk-container-id-1 div.sk-label-container {\n",
       "  text-align: center;\n",
       "}\n",
       "\n",
       "/* Estimator-specific */\n",
       "#sk-container-id-1 div.sk-estimator {\n",
       "  font-family: monospace;\n",
       "  border: 1px dotted var(--sklearn-color-border-box);\n",
       "  border-radius: 0.25em;\n",
       "  box-sizing: border-box;\n",
       "  margin-bottom: 0.5em;\n",
       "  /* unfitted */\n",
       "  background-color: var(--sklearn-color-unfitted-level-0);\n",
       "}\n",
       "\n",
       "#sk-container-id-1 div.sk-estimator.fitted {\n",
       "  /* fitted */\n",
       "  background-color: var(--sklearn-color-fitted-level-0);\n",
       "}\n",
       "\n",
       "/* on hover */\n",
       "#sk-container-id-1 div.sk-estimator:hover {\n",
       "  /* unfitted */\n",
       "  background-color: var(--sklearn-color-unfitted-level-2);\n",
       "}\n",
       "\n",
       "#sk-container-id-1 div.sk-estimator.fitted:hover {\n",
       "  /* fitted */\n",
       "  background-color: var(--sklearn-color-fitted-level-2);\n",
       "}\n",
       "\n",
       "/* Specification for estimator info (e.g. \"i\" and \"?\") */\n",
       "\n",
       "/* Common style for \"i\" and \"?\" */\n",
       "\n",
       ".sk-estimator-doc-link,\n",
       "a:link.sk-estimator-doc-link,\n",
       "a:visited.sk-estimator-doc-link {\n",
       "  float: right;\n",
       "  font-size: smaller;\n",
       "  line-height: 1em;\n",
       "  font-family: monospace;\n",
       "  background-color: var(--sklearn-color-background);\n",
       "  border-radius: 1em;\n",
       "  height: 1em;\n",
       "  width: 1em;\n",
       "  text-decoration: none !important;\n",
       "  margin-left: 0.5em;\n",
       "  text-align: center;\n",
       "  /* unfitted */\n",
       "  border: var(--sklearn-color-unfitted-level-1) 1pt solid;\n",
       "  color: var(--sklearn-color-unfitted-level-1);\n",
       "}\n",
       "\n",
       ".sk-estimator-doc-link.fitted,\n",
       "a:link.sk-estimator-doc-link.fitted,\n",
       "a:visited.sk-estimator-doc-link.fitted {\n",
       "  /* fitted */\n",
       "  border: var(--sklearn-color-fitted-level-1) 1pt solid;\n",
       "  color: var(--sklearn-color-fitted-level-1);\n",
       "}\n",
       "\n",
       "/* On hover */\n",
       "div.sk-estimator:hover .sk-estimator-doc-link:hover,\n",
       ".sk-estimator-doc-link:hover,\n",
       "div.sk-label-container:hover .sk-estimator-doc-link:hover,\n",
       ".sk-estimator-doc-link:hover {\n",
       "  /* unfitted */\n",
       "  background-color: var(--sklearn-color-unfitted-level-3);\n",
       "  color: var(--sklearn-color-background);\n",
       "  text-decoration: none;\n",
       "}\n",
       "\n",
       "div.sk-estimator.fitted:hover .sk-estimator-doc-link.fitted:hover,\n",
       ".sk-estimator-doc-link.fitted:hover,\n",
       "div.sk-label-container:hover .sk-estimator-doc-link.fitted:hover,\n",
       ".sk-estimator-doc-link.fitted:hover {\n",
       "  /* fitted */\n",
       "  background-color: var(--sklearn-color-fitted-level-3);\n",
       "  color: var(--sklearn-color-background);\n",
       "  text-decoration: none;\n",
       "}\n",
       "\n",
       "/* Span, style for the box shown on hovering the info icon */\n",
       ".sk-estimator-doc-link span {\n",
       "  display: none;\n",
       "  z-index: 9999;\n",
       "  position: relative;\n",
       "  font-weight: normal;\n",
       "  right: .2ex;\n",
       "  padding: .5ex;\n",
       "  margin: .5ex;\n",
       "  width: min-content;\n",
       "  min-width: 20ex;\n",
       "  max-width: 50ex;\n",
       "  color: var(--sklearn-color-text);\n",
       "  box-shadow: 2pt 2pt 4pt #999;\n",
       "  /* unfitted */\n",
       "  background: var(--sklearn-color-unfitted-level-0);\n",
       "  border: .5pt solid var(--sklearn-color-unfitted-level-3);\n",
       "}\n",
       "\n",
       ".sk-estimator-doc-link.fitted span {\n",
       "  /* fitted */\n",
       "  background: var(--sklearn-color-fitted-level-0);\n",
       "  border: var(--sklearn-color-fitted-level-3);\n",
       "}\n",
       "\n",
       ".sk-estimator-doc-link:hover span {\n",
       "  display: block;\n",
       "}\n",
       "\n",
       "/* \"?\"-specific style due to the `<a>` HTML tag */\n",
       "\n",
       "#sk-container-id-1 a.estimator_doc_link {\n",
       "  float: right;\n",
       "  font-size: 1rem;\n",
       "  line-height: 1em;\n",
       "  font-family: monospace;\n",
       "  background-color: var(--sklearn-color-background);\n",
       "  border-radius: 1rem;\n",
       "  height: 1rem;\n",
       "  width: 1rem;\n",
       "  text-decoration: none;\n",
       "  /* unfitted */\n",
       "  color: var(--sklearn-color-unfitted-level-1);\n",
       "  border: var(--sklearn-color-unfitted-level-1) 1pt solid;\n",
       "}\n",
       "\n",
       "#sk-container-id-1 a.estimator_doc_link.fitted {\n",
       "  /* fitted */\n",
       "  border: var(--sklearn-color-fitted-level-1) 1pt solid;\n",
       "  color: var(--sklearn-color-fitted-level-1);\n",
       "}\n",
       "\n",
       "/* On hover */\n",
       "#sk-container-id-1 a.estimator_doc_link:hover {\n",
       "  /* unfitted */\n",
       "  background-color: var(--sklearn-color-unfitted-level-3);\n",
       "  color: var(--sklearn-color-background);\n",
       "  text-decoration: none;\n",
       "}\n",
       "\n",
       "#sk-container-id-1 a.estimator_doc_link.fitted:hover {\n",
       "  /* fitted */\n",
       "  background-color: var(--sklearn-color-fitted-level-3);\n",
       "}\n",
       "</style><div id=\"sk-container-id-1\" class=\"sk-top-container\"><div class=\"sk-text-repr-fallback\"><pre>Pipeline(steps=[(&#x27;standardscaler&#x27;, StandardScaler()),\n",
       "                (&#x27;perceptron&#x27;, Perceptron(random_state=42))])</pre><b>In a Jupyter environment, please rerun this cell to show the HTML representation or trust the notebook. <br />On GitHub, the HTML representation is unable to render, please try loading this page with nbviewer.org.</b></div><div class=\"sk-container\" hidden><div class=\"sk-item sk-dashed-wrapped\"><div class=\"sk-label-container\"><div class=\"sk-label fitted sk-toggleable\"><input class=\"sk-toggleable__control sk-hidden--visually\" id=\"sk-estimator-id-1\" type=\"checkbox\" ><label for=\"sk-estimator-id-1\" class=\"sk-toggleable__label fitted sk-toggleable__label-arrow\"><div><div>Pipeline</div></div><div><a class=\"sk-estimator-doc-link fitted\" rel=\"noreferrer\" target=\"_blank\" href=\"https://scikit-learn.org/1.6/modules/generated/sklearn.pipeline.Pipeline.html\">?<span>Documentation for Pipeline</span></a><span class=\"sk-estimator-doc-link fitted\">i<span>Fitted</span></span></div></label><div class=\"sk-toggleable__content fitted\"><pre>Pipeline(steps=[(&#x27;standardscaler&#x27;, StandardScaler()),\n",
       "                (&#x27;perceptron&#x27;, Perceptron(random_state=42))])</pre></div> </div></div><div class=\"sk-serial\"><div class=\"sk-item\"><div class=\"sk-estimator fitted sk-toggleable\"><input class=\"sk-toggleable__control sk-hidden--visually\" id=\"sk-estimator-id-2\" type=\"checkbox\" ><label for=\"sk-estimator-id-2\" class=\"sk-toggleable__label fitted sk-toggleable__label-arrow\"><div><div>StandardScaler</div></div><div><a class=\"sk-estimator-doc-link fitted\" rel=\"noreferrer\" target=\"_blank\" href=\"https://scikit-learn.org/1.6/modules/generated/sklearn.preprocessing.StandardScaler.html\">?<span>Documentation for StandardScaler</span></a></div></label><div class=\"sk-toggleable__content fitted\"><pre>StandardScaler()</pre></div> </div></div><div class=\"sk-item\"><div class=\"sk-estimator fitted sk-toggleable\"><input class=\"sk-toggleable__control sk-hidden--visually\" id=\"sk-estimator-id-3\" type=\"checkbox\" ><label for=\"sk-estimator-id-3\" class=\"sk-toggleable__label fitted sk-toggleable__label-arrow\"><div><div>Perceptron</div></div><div><a class=\"sk-estimator-doc-link fitted\" rel=\"noreferrer\" target=\"_blank\" href=\"https://scikit-learn.org/1.6/modules/generated/sklearn.linear_model.Perceptron.html\">?<span>Documentation for Perceptron</span></a></div></label><div class=\"sk-toggleable__content fitted\"><pre>Perceptron(random_state=42)</pre></div> </div></div></div></div></div></div>"
      ],
      "text/plain": [
       "Pipeline(steps=[('standardscaler', StandardScaler()),\n",
       "                ('perceptron', Perceptron(random_state=42))])"
      ]
     },
     "execution_count": 6,
     "metadata": {},
     "output_type": "execute_result"
    }
   ],
   "source": [
    "scaler = StandardScaler()\n",
    "per_clf = Perceptron(random_state=42)\n",
    "scaled_per_clf = make_pipeline(scaler, per_clf)\n",
    "scaled_per_clf.fit(X, y)"
   ]
  },
  {
   "cell_type": "code",
   "execution_count": null,
   "id": "784e8eba-96e6-4027-8234-6455571a93e8",
   "metadata": {},
   "outputs": [],
   "source": []
  },
  {
   "cell_type": "code",
   "execution_count": null,
   "id": "5eaf6922-715e-4fa4-ae84-3b212e0dc33a",
   "metadata": {},
   "outputs": [],
   "source": []
  },
  {
   "cell_type": "code",
   "execution_count": 7,
   "id": "840b020e-bc7e-4796-a68a-1b3af426e0b5",
   "metadata": {},
   "outputs": [],
   "source": [
    "w = per_clf.coef_[0] / scaler.scale_\n",
    "b = per_clf.decision_function([-scaler.mean_ / scaler.scale_])\n",
    "\n",
    "axes = [ X[:, 0].min()-0.2, X[:, 0].max()+0.2,  X[:, 1].min()-0.2, X[:, 1].max()+0.2]\n",
    "xmin, xmax = X[:, 0].min()-1, X[:, 0].max()\n",
    "z = np.linspace(xmin, xmax, 500)\n",
    "decision_boundary = -w[0] / w[1] * z - b / w[1]"
   ]
  },
  {
   "cell_type": "code",
   "execution_count": 8,
   "id": "ebdabd75-222d-4371-8e95-b8324757b576",
   "metadata": {},
   "outputs": [],
   "source": [
    "\n",
    "from matplotlib.colors import ListedColormap\n",
    "x0, x1 = np.meshgrid(\n",
    "    np.linspace(axes[0], axes[1], 200).reshape(-1, 1),\n",
    "    np.linspace(axes[2], axes[3], 200).reshape(-1, 1),\n",
    ")\n",
    "X_new = np.c_[x0.ravel(), x1.ravel()]\n",
    "y_predict = scaled_per_clf.predict(X_new)\n",
    "zz = y_predict.reshape(x0.shape)\n",
    "custom_cmap = ListedColormap(['#9898ff', '#fafab0'])"
   ]
  },
  {
   "cell_type": "code",
   "execution_count": 9,
   "id": "f9b625c8-a07d-4730-9f87-413ed2628743",
   "metadata": {},
   "outputs": [
    {
     "data": {
      "text/plain": [
       "(4.1, 8.1, 1.8, 4.6000000000000005)"
      ]
     },
     "execution_count": 9,
     "metadata": {},
     "output_type": "execute_result"
    },
    {
     "data": {
      "image/png": "[encoded data removed]",
      "text/plain": [
       "<Figure size 640x480 with 1 Axes>"
      ]
     },
     "metadata": {},
     "output_type": "display_data"
    }
   ],
   "source": [
    "plt.plot(z, decision_boundary, \"r-\", label=\"decision boundary\")\n",
    "plt.plot(X[:, 0][y==True], X[:, 1][y==True], \"o\", label=\"setosa\")\n",
    "plt.plot(X[:, 0][y==False], X[:, 1][y==False], \"go\", label=\"versicolor or virginica\")\n",
    "plt.legend(loc=\"upper right\")\n",
    "plt.contourf(x0, x1, zz, cmap=custom_cmap)\n",
    "plt.axis(axes)"
   ]
  },
  {
   "cell_type": "code",
   "execution_count": null,
   "id": "2e9ec96e-a217-40e0-9516-35d69cf58dac",
   "metadata": {},
   "outputs": [],
   "source": []
  },
  {
   "cell_type": "markdown",
   "id": "ba19f546-6d12-4cab-9833-641377e990a7",
   "metadata": {},
   "source": [
    "### Activation function"
   ]
  },
  {
   "cell_type": "code",
   "execution_count": 10,
   "id": "b7d8d321-3c7e-4c3f-b996-e1a3a597ec43",
   "metadata": {},
   "outputs": [
    {
     "data": {
      "text/plain": [
       "(-4.5, 4.5, -0.2, 1.2)"
      ]
     },
     "execution_count": 10,
     "metadata": {},
     "output_type": "execute_result"
    },
    {
     "data": {
      "image/png": "[encoded data removed]",
      "text/plain": [
       "<Figure size 1100x310 with 2 Axes>"
      ]
     },
     "metadata": {},
     "output_type": "display_data"
    }
   ],
   "source": [
    "def relu(z):\n",
    "    return np.maximum(0, z)\n",
    "\n",
    "def derivative(f, z, eps=0.000001):\n",
    "    return (f(z + eps) - f(z - eps))/(2 * eps)\n",
    "\n",
    "max_z = 4.5\n",
    "z = np.linspace(-max_z, max_z, 200)\n",
    "\n",
    "plt.figure(figsize=(11, 3.1))\n",
    "\n",
    "plt.subplot(121)\n",
    "plt.plot([-max_z, 0], [0, 0], \"r-\", linewidth=2, label=\"Heaviside\")\n",
    "plt.plot(z, relu(z), \"m-.\", linewidth=2, label=\"ReLU\")\n",
    "plt.plot([0, 0], [0, 1], \"r-\", linewidth=0.5)\n",
    "plt.plot([0, max_z], [1, 1], \"r-\", linewidth=2)\n",
    "plt.plot(z, sigmoid(z), \"g--\", linewidth=2, label=\"Sigmoid\")\n",
    "plt.plot(z, np.tanh(z), \"b-\", linewidth=1, label=\"Tanh\")\n",
    "plt.grid(True)\n",
    "plt.title(\"Activation functions\")\n",
    "plt.axis([-max_z, max_z, -1.65, 2.4])\n",
    "plt.gca().set_yticks([-1, 0, 1, 2])\n",
    "plt.legend(loc=\"lower right\", fontsize=13)\n",
    "\n",
    "plt.subplot(122)\n",
    "plt.plot(z, derivative(np.sign, z), \"r-\", linewidth=2, label=\"Heaviside\")\n",
    "plt.plot(0, 0, \"ro\", markersize=5)\n",
    "plt.plot(0, 0, \"rx\", markersize=10)\n",
    "plt.plot(z, derivative(sigmoid, z), \"g--\", linewidth=2, label=\"Sigmoid\")\n",
    "plt.plot(z, derivative(np.tanh, z), \"b-\", linewidth=1, label=\"Tanh\")\n",
    "plt.plot([-max_z, 0], [0, 0], \"m-.\", linewidth=2)\n",
    "plt.plot([0, max_z], [1, 1], \"m-.\", linewidth=2)\n",
    "plt.plot([0, 0], [0, 1], \"m-.\", linewidth=1.2)\n",
    "plt.plot(0, 1, \"mo\", markersize=5)\n",
    "plt.plot(0, 1, \"mx\", markersize=10)\n",
    "plt.grid(True)\n",
    "plt.title(\"Derivatives\")\n",
    "plt.axis([-max_z, max_z, -0.2, 1.2])"
   ]
  },
  {
   "cell_type": "code",
   "execution_count": null,
   "id": "cf751d57-3d78-48a9-ad4d-450cc6a2de48",
   "metadata": {},
   "outputs": [],
   "source": []
  },
  {
   "cell_type": "code",
   "execution_count": null,
   "id": "09fe7134-0e23-4e4d-b25b-f5d1d9614027",
   "metadata": {},
   "outputs": [],
   "source": []
  },
  {
   "cell_type": "markdown",
   "id": "5182f0dd-2859-4d8f-8570-61cb5654f482",
   "metadata": {},
   "source": [
    "### Regression MLPs"
   ]
  },
  {
   "cell_type": "code",
   "execution_count": 3,
   "id": "10ad6763-9535-44b2-b1c2-8bd05b9cadc4",
   "metadata": {},
   "outputs": [],
   "source": [
    "housing = fetch_california_housing()"
   ]
  },
  {
   "cell_type": "code",
   "execution_count": 4,
   "id": "649abef9-d238-4bf4-81b9-441c0feba65e",
   "metadata": {},
   "outputs": [
    {
     "data": {
      "text/plain": [
       "['data', 'target', 'frame', 'target_names', 'feature_names', 'DESCR']"
      ]
     },
     "execution_count": 4,
     "metadata": {},
     "output_type": "execute_result"
    }
   ],
   "source": [
    "list(housing)"
   ]
  },
  {
   "cell_type": "code",
   "execution_count": 5,
   "id": "aabdb1c8-18d7-49d9-a81a-c53e1edbf71f",
   "metadata": {},
   "outputs": [],
   "source": [
    "X_train_full, X_test, y_train_full, y_test = train_test_split(\n",
    "  housing.data, housing.target, random_state=42\n",
    ")\n",
    "\n",
    "X_train, X_valid, y_train, y_valid = train_test_split(\n",
    "  X_train_full, y_train_full, random_state=42\n",
    ")"
   ]
  },
  {
   "cell_type": "code",
   "execution_count": 963,
   "id": "944fc0aa-f6f4-4ed5-af43-ad9453888f9d",
   "metadata": {},
   "outputs": [],
   "source": [
    "mlp_reg = MLPRegressor(hidden_layer_sizes=[50, 50, 50], random_state=42)\n",
    "pipeline = make_pipeline(StandardScaler(), mlp_reg)"
   ]
  },
  {
   "cell_type": "code",
   "execution_count": 965,
   "id": "7b91348b-1aab-4687-8efc-21f0e393b5ea",
   "metadata": {},
   "outputs": [
    {
     "data": {
      "text/html": [
       "<style>#sk-container-id-43 {\n",
       "  /* Definition of color scheme common for light and dark mode */\n",
       "  --sklearn-color-text: #000;\n",
       "  --sklearn-color-text-muted: #666;\n",
       "  --sklearn-color-line: gray;\n",
       "  /* Definition of color scheme for unfitted estimators */\n",
       "  --sklearn-color-unfitted-level-0: #fff5e6;\n",
       "  --sklearn-color-unfitted-level-1: #f6e4d2;\n",
       "  --sklearn-color-unfitted-level-2: #ffe0b3;\n",
       "  --sklearn-color-unfitted-level-3: chocolate;\n",
       "  /* Definition of color scheme for fitted estimators */\n",
       "  --sklearn-color-fitted-level-0: #f0f8ff;\n",
       "  --sklearn-color-fitted-level-1: #d4ebff;\n",
       "  --sklearn-color-fitted-level-2: #b3dbfd;\n",
       "  --sklearn-color-fitted-level-3: cornflowerblue;\n",
       "\n",
       "  /* Specific color for light theme */\n",
       "  --sklearn-color-text-on-default-background: var(--sg-text-color, var(--theme-code-foreground, var(--jp-content-font-color1, black)));\n",
       "  --sklearn-color-background: var(--sg-background-color, var(--theme-background, var(--jp-layout-color0, white)));\n",
       "  --sklearn-color-border-box: var(--sg-text-color, var(--theme-code-foreground, var(--jp-content-font-color1, black)));\n",
       "  --sklearn-color-icon: #696969;\n",
       "\n",
       "  @media (prefers-color-scheme: dark) {\n",
       "    /* Redefinition of color scheme for dark theme */\n",
       "    --sklearn-color-text-on-default-background: var(--sg-text-color, var(--theme-code-foreground, var(--jp-content-font-color1, white)));\n",
       "    --sklearn-color-background: var(--sg-background-color, var(--theme-background, var(--jp-layout-color0, #111)));\n",
       "    --sklearn-color-border-box: var(--sg-text-color, var(--theme-code-foreground, var(--jp-content-font-color1, white)));\n",
       "    --sklearn-color-icon: #878787;\n",
       "  }\n",
       "}\n",
       "\n",
       "#sk-container-id-43 {\n",
       "  color: var(--sklearn-color-text);\n",
       "}\n",
       "\n",
       "#sk-container-id-43 pre {\n",
       "  padding: 0;\n",
       "}\n",
       "\n",
       "#sk-container-id-43 input.sk-hidden--visually {\n",
       "  border: 0;\n",
       "  clip: rect(1px 1px 1px 1px);\n",
       "  clip: rect(1px, 1px, 1px, 1px);\n",
       "  height: 1px;\n",
       "  margin: -1px;\n",
       "  overflow: hidden;\n",
       "  padding: 0;\n",
       "  position: absolute;\n",
       "  width: 1px;\n",
       "}\n",
       "\n",
       "#sk-container-id-43 div.sk-dashed-wrapped {\n",
       "  border: 1px dashed var(--sklearn-color-line);\n",
       "  margin: 0 0.4em 0.5em 0.4em;\n",
       "  box-sizing: border-box;\n",
       "  padding-bottom: 0.4em;\n",
       "  background-color: var(--sklearn-color-background);\n",
       "}\n",
       "\n",
       "#sk-container-id-43 div.sk-container {\n",
       "  /* jupyter's `normalize.less` sets `[hidden] { display: none; }`\n",
       "     but bootstrap.min.css set `[hidden] { display: none !important; }`\n",
       "     so we also need the `!important` here to be able to override the\n",
       "     default hidden behavior on the sphinx rendered scikit-learn.org.\n",
       "     See: https://github.com/scikit-learn/scikit-learn/issues/21755 */\n",
       "  display: inline-block !important;\n",
       "  position: relative;\n",
       "}\n",
       "\n",
       "#sk-container-id-43 div.sk-text-repr-fallback {\n",
       "  display: none;\n",
       "}\n",
       "\n",
       "div.sk-parallel-item,\n",
       "div.sk-serial,\n",
       "div.sk-item {\n",
       "  /* draw centered vertical line to link estimators */\n",
       "  background-image: linear-gradient(var(--sklearn-color-text-on-default-background), var(--sklearn-color-text-on-default-background));\n",
       "  background-size: 2px 100%;\n",
       "  background-repeat: no-repeat;\n",
       "  background-position: center center;\n",
       "}\n",
       "\n",
       "/* Parallel-specific style estimator block */\n",
       "\n",
       "#sk-container-id-43 div.sk-parallel-item::after {\n",
       "  content: \"\";\n",
       "  width: 100%;\n",
       "  border-bottom: 2px solid var(--sklearn-color-text-on-default-background);\n",
       "  flex-grow: 1;\n",
       "}\n",
       "\n",
       "#sk-container-id-43 div.sk-parallel {\n",
       "  display: flex;\n",
       "  align-items: stretch;\n",
       "  justify-content: center;\n",
       "  background-color: var(--sklearn-color-background);\n",
       "  position: relative;\n",
       "}\n",
       "\n",
       "#sk-container-id-43 div.sk-parallel-item {\n",
       "  display: flex;\n",
       "  flex-direction: column;\n",
       "}\n",
       "\n",
       "#sk-container-id-43 div.sk-parallel-item:first-child::after {\n",
       "  align-self: flex-end;\n",
       "  width: 50%;\n",
       "}\n",
       "\n",
       "#sk-container-id-43 div.sk-parallel-item:last-child::after {\n",
       "  align-self: flex-start;\n",
       "  width: 50%;\n",
       "}\n",
       "\n",
       "#sk-container-id-43 div.sk-parallel-item:only-child::after {\n",
       "  width: 0;\n",
       "}\n",
       "\n",
       "/* Serial-specific style estimator block */\n",
       "\n",
       "#sk-container-id-43 div.sk-serial {\n",
       "  display: flex;\n",
       "  flex-direction: column;\n",
       "  align-items: center;\n",
       "  background-color: var(--sklearn-color-background);\n",
       "  padding-right: 1em;\n",
       "  padding-left: 1em;\n",
       "}\n",
       "\n",
       "\n",
       "/* Toggleable style: style used for estimator/Pipeline/ColumnTransformer box that is\n",
       "clickable and can be expanded/collapsed.\n",
       "- Pipeline and ColumnTransformer use this feature and define the default style\n",
       "- Estimators will overwrite some part of the style using the `sk-estimator` class\n",
       "*/\n",
       "\n",
       "/* Pipeline and ColumnTransformer style (default) */\n",
       "\n",
       "#sk-container-id-43 div.sk-toggleable {\n",
       "  /* Default theme specific background. It is overwritten whether we have a\n",
       "  specific estimator or a Pipeline/ColumnTransformer */\n",
       "  background-color: var(--sklearn-color-background);\n",
       "}\n",
       "\n",
       "/* Toggleable label */\n",
       "#sk-container-id-43 label.sk-toggleable__label {\n",
       "  cursor: pointer;\n",
       "  display: flex;\n",
       "  width: 100%;\n",
       "  margin-bottom: 0;\n",
       "  padding: 0.5em;\n",
       "  box-sizing: border-box;\n",
       "  text-align: center;\n",
       "  align-items: start;\n",
       "  justify-content: space-between;\n",
       "  gap: 0.5em;\n",
       "}\n",
       "\n",
       "#sk-container-id-43 label.sk-toggleable__label .caption {\n",
       "  font-size: 0.6rem;\n",
       "  font-weight: lighter;\n",
       "  color: var(--sklearn-color-text-muted);\n",
       "}\n",
       "\n",
       "#sk-container-id-43 label.sk-toggleable__label-arrow:before {\n",
       "  /* Arrow on the left of the label */\n",
       "  content: \"▸\";\n",
       "  float: left;\n",
       "  margin-right: 0.25em;\n",
       "  color: var(--sklearn-color-icon);\n",
       "}\n",
       "\n",
       "#sk-container-id-43 label.sk-toggleable__label-arrow:hover:before {\n",
       "  color: var(--sklearn-color-text);\n",
       "}\n",
       "\n",
       "/* Toggleable content - dropdown */\n",
       "\n",
       "#sk-container-id-43 div.sk-toggleable__content {\n",
       "  max-height: 0;\n",
       "  max-width: 0;\n",
       "  overflow: hidden;\n",
       "  text-align: left;\n",
       "  /* unfitted */\n",
       "  background-color: var(--sklearn-color-unfitted-level-0);\n",
       "}\n",
       "\n",
       "#sk-container-id-43 div.sk-toggleable__content.fitted {\n",
       "  /* fitted */\n",
       "  background-color: var(--sklearn-color-fitted-level-0);\n",
       "}\n",
       "\n",
       "#sk-container-id-43 div.sk-toggleable__content pre {\n",
       "  margin: 0.2em;\n",
       "  border-radius: 0.25em;\n",
       "  color: var(--sklearn-color-text);\n",
       "  /* unfitted */\n",
       "  background-color: var(--sklearn-color-unfitted-level-0);\n",
       "}\n",
       "\n",
       "#sk-container-id-43 div.sk-toggleable__content.fitted pre {\n",
       "  /* unfitted */\n",
       "  background-color: var(--sklearn-color-fitted-level-0);\n",
       "}\n",
       "\n",
       "#sk-container-id-43 input.sk-toggleable__control:checked~div.sk-toggleable__content {\n",
       "  /* Expand drop-down */\n",
       "  max-height: 200px;\n",
       "  max-width: 100%;\n",
       "  overflow: auto;\n",
       "}\n",
       "\n",
       "#sk-container-id-43 input.sk-toggleable__control:checked~label.sk-toggleable__label-arrow:before {\n",
       "  content: \"▾\";\n",
       "}\n",
       "\n",
       "/* Pipeline/ColumnTransformer-specific style */\n",
       "\n",
       "#sk-container-id-43 div.sk-label input.sk-toggleable__control:checked~label.sk-toggleable__label {\n",
       "  color: var(--sklearn-color-text);\n",
       "  background-color: var(--sklearn-color-unfitted-level-2);\n",
       "}\n",
       "\n",
       "#sk-container-id-43 div.sk-label.fitted input.sk-toggleable__control:checked~label.sk-toggleable__label {\n",
       "  background-color: var(--sklearn-color-fitted-level-2);\n",
       "}\n",
       "\n",
       "/* Estimator-specific style */\n",
       "\n",
       "/* Colorize estimator box */\n",
       "#sk-container-id-43 div.sk-estimator input.sk-toggleable__control:checked~label.sk-toggleable__label {\n",
       "  /* unfitted */\n",
       "  background-color: var(--sklearn-color-unfitted-level-2);\n",
       "}\n",
       "\n",
       "#sk-container-id-43 div.sk-estimator.fitted input.sk-toggleable__control:checked~label.sk-toggleable__label {\n",
       "  /* fitted */\n",
       "  background-color: var(--sklearn-color-fitted-level-2);\n",
       "}\n",
       "\n",
       "#sk-container-id-43 div.sk-label label.sk-toggleable__label,\n",
       "#sk-container-id-43 div.sk-label label {\n",
       "  /* The background is the default theme color */\n",
       "  color: var(--sklearn-color-text-on-default-background);\n",
       "}\n",
       "\n",
       "/* On hover, darken the color of the background */\n",
       "#sk-container-id-43 div.sk-label:hover label.sk-toggleable__label {\n",
       "  color: var(--sklearn-color-text);\n",
       "  background-color: var(--sklearn-color-unfitted-level-2);\n",
       "}\n",
       "\n",
       "/* Label box, darken color on hover, fitted */\n",
       "#sk-container-id-43 div.sk-label.fitted:hover label.sk-toggleable__label.fitted {\n",
       "  color: var(--sklearn-color-text);\n",
       "  background-color: var(--sklearn-color-fitted-level-2);\n",
       "}\n",
       "\n",
       "/* Estimator label */\n",
       "\n",
       "#sk-container-id-43 div.sk-label label {\n",
       "  font-family: monospace;\n",
       "  font-weight: bold;\n",
       "  display: inline-block;\n",
       "  line-height: 1.2em;\n",
       "}\n",
       "\n",
       "#sk-container-id-43 div.sk-label-container {\n",
       "  text-align: center;\n",
       "}\n",
       "\n",
       "/* Estimator-specific */\n",
       "#sk-container-id-43 div.sk-estimator {\n",
       "  font-family: monospace;\n",
       "  border: 1px dotted var(--sklearn-color-border-box);\n",
       "  border-radius: 0.25em;\n",
       "  box-sizing: border-box;\n",
       "  margin-bottom: 0.5em;\n",
       "  /* unfitted */\n",
       "  background-color: var(--sklearn-color-unfitted-level-0);\n",
       "}\n",
       "\n",
       "#sk-container-id-43 div.sk-estimator.fitted {\n",
       "  /* fitted */\n",
       "  background-color: var(--sklearn-color-fitted-level-0);\n",
       "}\n",
       "\n",
       "/* on hover */\n",
       "#sk-container-id-43 div.sk-estimator:hover {\n",
       "  /* unfitted */\n",
       "  background-color: var(--sklearn-color-unfitted-level-2);\n",
       "}\n",
       "\n",
       "#sk-container-id-43 div.sk-estimator.fitted:hover {\n",
       "  /* fitted */\n",
       "  background-color: var(--sklearn-color-fitted-level-2);\n",
       "}\n",
       "\n",
       "/* Specification for estimator info (e.g. \"i\" and \"?\") */\n",
       "\n",
       "/* Common style for \"i\" and \"?\" */\n",
       "\n",
       ".sk-estimator-doc-link,\n",
       "a:link.sk-estimator-doc-link,\n",
       "a:visited.sk-estimator-doc-link {\n",
       "  float: right;\n",
       "  font-size: smaller;\n",
       "  line-height: 1em;\n",
       "  font-family: monospace;\n",
       "  background-color: var(--sklearn-color-background);\n",
       "  border-radius: 1em;\n",
       "  height: 1em;\n",
       "  width: 1em;\n",
       "  text-decoration: none !important;\n",
       "  margin-left: 0.5em;\n",
       "  text-align: center;\n",
       "  /* unfitted */\n",
       "  border: var(--sklearn-color-unfitted-level-1) 1pt solid;\n",
       "  color: var(--sklearn-color-unfitted-level-1);\n",
       "}\n",
       "\n",
       ".sk-estimator-doc-link.fitted,\n",
       "a:link.sk-estimator-doc-link.fitted,\n",
       "a:visited.sk-estimator-doc-link.fitted {\n",
       "  /* fitted */\n",
       "  border: var(--sklearn-color-fitted-level-1) 1pt solid;\n",
       "  color: var(--sklearn-color-fitted-level-1);\n",
       "}\n",
       "\n",
       "/* On hover */\n",
       "div.sk-estimator:hover .sk-estimator-doc-link:hover,\n",
       ".sk-estimator-doc-link:hover,\n",
       "div.sk-label-container:hover .sk-estimator-doc-link:hover,\n",
       ".sk-estimator-doc-link:hover {\n",
       "  /* unfitted */\n",
       "  background-color: var(--sklearn-color-unfitted-level-3);\n",
       "  color: var(--sklearn-color-background);\n",
       "  text-decoration: none;\n",
       "}\n",
       "\n",
       "div.sk-estimator.fitted:hover .sk-estimator-doc-link.fitted:hover,\n",
       ".sk-estimator-doc-link.fitted:hover,\n",
       "div.sk-label-container:hover .sk-estimator-doc-link.fitted:hover,\n",
       ".sk-estimator-doc-link.fitted:hover {\n",
       "  /* fitted */\n",
       "  background-color: var(--sklearn-color-fitted-level-3);\n",
       "  color: var(--sklearn-color-background);\n",
       "  text-decoration: none;\n",
       "}\n",
       "\n",
       "/* Span, style for the box shown on hovering the info icon */\n",
       ".sk-estimator-doc-link span {\n",
       "  display: none;\n",
       "  z-index: 9999;\n",
       "  position: relative;\n",
       "  font-weight: normal;\n",
       "  right: .2ex;\n",
       "  padding: .5ex;\n",
       "  margin: .5ex;\n",
       "  width: min-content;\n",
       "  min-width: 20ex;\n",
       "  max-width: 50ex;\n",
       "  color: var(--sklearn-color-text);\n",
       "  box-shadow: 2pt 2pt 4pt #999;\n",
       "  /* unfitted */\n",
       "  background: var(--sklearn-color-unfitted-level-0);\n",
       "  border: .5pt solid var(--sklearn-color-unfitted-level-3);\n",
       "}\n",
       "\n",
       ".sk-estimator-doc-link.fitted span {\n",
       "  /* fitted */\n",
       "  background: var(--sklearn-color-fitted-level-0);\n",
       "  border: var(--sklearn-color-fitted-level-3);\n",
       "}\n",
       "\n",
       ".sk-estimator-doc-link:hover span {\n",
       "  display: block;\n",
       "}\n",
       "\n",
       "/* \"?\"-specific style due to the `<a>` HTML tag */\n",
       "\n",
       "#sk-container-id-43 a.estimator_doc_link {\n",
       "  float: right;\n",
       "  font-size: 1rem;\n",
       "  line-height: 1em;\n",
       "  font-family: monospace;\n",
       "  background-color: var(--sklearn-color-background);\n",
       "  border-radius: 1rem;\n",
       "  height: 1rem;\n",
       "  width: 1rem;\n",
       "  text-decoration: none;\n",
       "  /* unfitted */\n",
       "  color: var(--sklearn-color-unfitted-level-1);\n",
       "  border: var(--sklearn-color-unfitted-level-1) 1pt solid;\n",
       "}\n",
       "\n",
       "#sk-container-id-43 a.estimator_doc_link.fitted {\n",
       "  /* fitted */\n",
       "  border: var(--sklearn-color-fitted-level-1) 1pt solid;\n",
       "  color: var(--sklearn-color-fitted-level-1);\n",
       "}\n",
       "\n",
       "/* On hover */\n",
       "#sk-container-id-43 a.estimator_doc_link:hover {\n",
       "  /* unfitted */\n",
       "  background-color: var(--sklearn-color-unfitted-level-3);\n",
       "  color: var(--sklearn-color-background);\n",
       "  text-decoration: none;\n",
       "}\n",
       "\n",
       "#sk-container-id-43 a.estimator_doc_link.fitted:hover {\n",
       "  /* fitted */\n",
       "  background-color: var(--sklearn-color-fitted-level-3);\n",
       "}\n",
       "</style><div id=\"sk-container-id-43\" class=\"sk-top-container\"><div class=\"sk-text-repr-fallback\"><pre>Pipeline(steps=[(&#x27;standardscaler&#x27;, StandardScaler()),\n",
       "                (&#x27;mlpregressor&#x27;,\n",
       "                 MLPRegressor(hidden_layer_sizes=[50, 50, 50],\n",
       "                              random_state=42))])</pre><b>In a Jupyter environment, please rerun this cell to show the HTML representation or trust the notebook. <br />On GitHub, the HTML representation is unable to render, please try loading this page with nbviewer.org.</b></div><div class=\"sk-container\" hidden><div class=\"sk-item sk-dashed-wrapped\"><div class=\"sk-label-container\"><div class=\"sk-label fitted sk-toggleable\"><input class=\"sk-toggleable__control sk-hidden--visually\" id=\"sk-estimator-id-73\" type=\"checkbox\" ><label for=\"sk-estimator-id-73\" class=\"sk-toggleable__label fitted sk-toggleable__label-arrow\"><div><div>Pipeline</div></div><div><a class=\"sk-estimator-doc-link fitted\" rel=\"noreferrer\" target=\"_blank\" href=\"https://scikit-learn.org/1.6/modules/generated/sklearn.pipeline.Pipeline.html\">?<span>Documentation for Pipeline</span></a><span class=\"sk-estimator-doc-link fitted\">i<span>Fitted</span></span></div></label><div class=\"sk-toggleable__content fitted\"><pre>Pipeline(steps=[(&#x27;standardscaler&#x27;, StandardScaler()),\n",
       "                (&#x27;mlpregressor&#x27;,\n",
       "                 MLPRegressor(hidden_layer_sizes=[50, 50, 50],\n",
       "                              random_state=42))])</pre></div> </div></div><div class=\"sk-serial\"><div class=\"sk-item\"><div class=\"sk-estimator fitted sk-toggleable\"><input class=\"sk-toggleable__control sk-hidden--visually\" id=\"sk-estimator-id-74\" type=\"checkbox\" ><label for=\"sk-estimator-id-74\" class=\"sk-toggleable__label fitted sk-toggleable__label-arrow\"><div><div>StandardScaler</div></div><div><a class=\"sk-estimator-doc-link fitted\" rel=\"noreferrer\" target=\"_blank\" href=\"https://scikit-learn.org/1.6/modules/generated/sklearn.preprocessing.StandardScaler.html\">?<span>Documentation for StandardScaler</span></a></div></label><div class=\"sk-toggleable__content fitted\"><pre>StandardScaler()</pre></div> </div></div><div class=\"sk-item\"><div class=\"sk-estimator fitted sk-toggleable\"><input class=\"sk-toggleable__control sk-hidden--visually\" id=\"sk-estimator-id-75\" type=\"checkbox\" ><label for=\"sk-estimator-id-75\" class=\"sk-toggleable__label fitted sk-toggleable__label-arrow\"><div><div>MLPRegressor</div></div><div><a class=\"sk-estimator-doc-link fitted\" rel=\"noreferrer\" target=\"_blank\" href=\"https://scikit-learn.org/1.6/modules/generated/sklearn.neural_network.MLPRegressor.html\">?<span>Documentation for MLPRegressor</span></a></div></label><div class=\"sk-toggleable__content fitted\"><pre>MLPRegressor(hidden_layer_sizes=[50, 50, 50], random_state=42)</pre></div> </div></div></div></div></div></div>"
      ],
      "text/plain": [
       "Pipeline(steps=[('standardscaler', StandardScaler()),\n",
       "                ('mlpregressor',\n",
       "                 MLPRegressor(hidden_layer_sizes=[50, 50, 50],\n",
       "                              random_state=42))])"
      ]
     },
     "execution_count": 965,
     "metadata": {},
     "output_type": "execute_result"
    }
   ],
   "source": [
    "pipeline.fit(X_train, y_train)"
   ]
  },
  {
   "cell_type": "code",
   "execution_count": 983,
   "id": "e44ca20d-4cc6-4d46-b43a-d46c7c6f4565",
   "metadata": {},
   "outputs": [
    {
     "data": {
      "text/plain": [
       "np.float64(0.5053326657968437)"
      ]
     },
     "execution_count": 983,
     "metadata": {},
     "output_type": "execute_result"
    }
   ],
   "source": [
    "y_pred = pipeline.predict(X_valid)\n",
    "rmse = mean_squared_error(y_valid, y_pred)\n",
    "np.sqrt(rmse)"
   ]
  },
  {
   "cell_type": "code",
   "execution_count": null,
   "id": "ba25bf26-76fe-4e57-a4b8-69818de1604c",
   "metadata": {},
   "outputs": [],
   "source": []
  },
  {
   "cell_type": "code",
   "execution_count": null,
   "id": "fb9f62d9-a56f-4640-8b02-de4392151d53",
   "metadata": {},
   "outputs": [],
   "source": []
  },
  {
   "cell_type": "markdown",
   "id": "1e5dc8ef-7192-4bbf-9b05-f636fdf47344",
   "metadata": {},
   "source": [
    "### Implementing MLPs with Keras"
   ]
  },
  {
   "cell_type": "markdown",
   "id": "9f363708-555b-4ab2-a7b7-d6bd318636ac",
   "metadata": {},
   "source": [
    "### Image Classifier"
   ]
  },
  {
   "cell_type": "code",
   "execution_count": 3,
   "id": "d951a7a6-c6c7-471a-82d2-a5d3aba55da9",
   "metadata": {},
   "outputs": [],
   "source": [
    "fashion_mnist = tf.keras.datasets.fashion_mnist.load_data()\n",
    "(X_train_full, y_train_full), (X_test, y_test) = fashion_mnist\n",
    "X_train, y_train = X_train_full[:-5000], y_train_full[:-5000]\n",
    "X_valid, y_valid = X_train_full[-5000:], y_train_full[-5000:]"
   ]
  },
  {
   "cell_type": "code",
   "execution_count": 4,
   "id": "9925ed0e-8c51-4227-b93c-f9790cca6c63",
   "metadata": {},
   "outputs": [
    {
     "data": {
      "text/plain": [
       "(55000, 28, 28)"
      ]
     },
     "execution_count": 4,
     "metadata": {},
     "output_type": "execute_result"
    }
   ],
   "source": [
    "X_train.shape"
   ]
  },
  {
   "cell_type": "code",
   "execution_count": 5,
   "id": "c676c1df-a8c3-4328-9ce1-c1ef884378be",
   "metadata": {},
   "outputs": [
    {
     "data": {
      "text/plain": [
       "dtype('uint8')"
      ]
     },
     "execution_count": 5,
     "metadata": {},
     "output_type": "execute_result"
    }
   ],
   "source": [
    "X_train.dtype"
   ]
  },
  {
   "cell_type": "code",
   "execution_count": 6,
   "id": "774dd28d-b63e-492b-844b-dd9f0af595e4",
   "metadata": {},
   "outputs": [],
   "source": [
    "X_train, X_valid, X_test = X_train/255., X_valid/255., X_test/255."
   ]
  },
  {
   "cell_type": "code",
   "execution_count": 7,
   "id": "4082f12a-508a-4aca-ba6d-ea711026e434",
   "metadata": {},
   "outputs": [],
   "source": [
    "class_names = [\"T-shirt/top\", \"Trouser\", \"Pullover\", \"Dress\", \"Coat\",\n",
    "              \"Sandal\", \"Shirt\", \"Sneaker\", \"Bag\", \"Ankle boot\"]"
   ]
  },
  {
   "cell_type": "code",
   "execution_count": 8,
   "id": "6f58b3b1-0b93-43a3-b9fd-150c9860484e",
   "metadata": {},
   "outputs": [
    {
     "data": {
      "text/plain": [
       "'Ankle boot'"
      ]
     },
     "execution_count": 8,
     "metadata": {},
     "output_type": "execute_result"
    }
   ],
   "source": [
    "class_names[y_train[0]]"
   ]
  },
  {
   "cell_type": "code",
   "execution_count": 9,
   "id": "05c2afdc-58a8-46b8-842a-c934b8fdca8b",
   "metadata": {},
   "outputs": [
    {
     "data": {
      "image/png": "[encoded data removed]",
      "text/plain": [
       "<Figure size 1200x480 with 40 Axes>"
      ]
     },
     "metadata": {},
     "output_type": "display_data"
    }
   ],
   "source": [
    "n_rows = 4\n",
    "n_cols = 10\n",
    "plt.figure(figsize=(n_cols * 1.2, n_rows * 1.2))\n",
    "for row in range(n_rows):\n",
    "    for col in range(n_cols):\n",
    "        index = n_cols * row + col\n",
    "        plt.subplot(n_rows, n_cols, index + 1)\n",
    "        plt.imshow(X_train[index], cmap=\"binary\", interpolation=\"nearest\")\n",
    "        plt.axis('off')\n",
    "        plt.title(class_names[y_train[index]])\n",
    "plt.subplots_adjust(wspace=0.2, hspace=0.5)"
   ]
  },
  {
   "cell_type": "code",
   "execution_count": 10,
   "id": "adbc4275-ac20-4c7b-bfc7-82cd13819316",
   "metadata": {},
   "outputs": [],
   "source": [
    "tf.random.set_seed(42)\n",
    "model = keras.Sequential()\n",
    "model.add(layers.Input(shape=[28, 28]))\n",
    "model.add(layers.Flatten())\n",
    "model.add(layers.Dense(300, activation=\"relu\"))\n",
    "model.add(layers.Dense(100, activation=\"relu\"))\n",
    "model.add(layers.Dense(10, activation=\"softmax\"))"
   ]
  },
  {
   "cell_type": "code",
   "execution_count": 11,
   "id": "0c779bbb-1983-48b4-8792-0483b937142e",
   "metadata": {},
   "outputs": [],
   "source": [
    "model = keras.Sequential([\n",
    "  layers.Flatten(input_shape=[28, 28]),\n",
    "  layers.Dense(300, activation=\"relu\"),\n",
    "  layers.Dense(100, activation=\"relu\"),\n",
    "  layers.Dense(10, activation=\"softmax\")\n",
    "])"
   ]
  },
  {
   "cell_type": "code",
   "execution_count": 12,
   "id": "60eef5e1-5653-4d5c-95cc-331236a35c3b",
   "metadata": {},
   "outputs": [
    {
     "name": "stdout",
     "output_type": "stream",
     "text": [
      "Model: \"sequential_1\"\n",
      "_________________________________________________________________\n",
      " Layer (type)                Output Shape              Param #   \n",
      "=================================================================\n",
      " flatten_1 (Flatten)         (None, 784)               0         \n",
      "                                                                 \n",
      " dense_3 (Dense)             (None, 300)               235500    \n",
      "                                                                 \n",
      " dense_4 (Dense)             (None, 100)               30100     \n",
      "                                                                 \n",
      " dense_5 (Dense)             (None, 10)                1010      \n",
      "                                                                 \n",
      "=================================================================\n",
      "Total params: 266,610\n",
      "Trainable params: 266,610\n",
      "Non-trainable params: 0\n",
      "_________________________________________________________________\n"
     ]
    }
   ],
   "source": [
    "model.summary()"
   ]
  },
  {
   "cell_type": "code",
   "execution_count": 13,
   "id": "76b7995b-b3ec-4a0c-8180-5f6ce4a94a28",
   "metadata": {},
   "outputs": [
    {
     "data": {
      "text/plain": [
       "[<keras.layers.reshaping.flatten.Flatten at 0x1a86d3a06d0>,\n",
       " <keras.layers.core.dense.Dense at 0x1a86d3a0250>,\n",
       " <keras.layers.core.dense.Dense at 0x1a86d3a02b0>,\n",
       " <keras.layers.core.dense.Dense at 0x1a86d3a0580>]"
      ]
     },
     "execution_count": 13,
     "metadata": {},
     "output_type": "execute_result"
    }
   ],
   "source": [
    "model.layers"
   ]
  },
  {
   "cell_type": "code",
   "execution_count": 14,
   "id": "90dbecba-59b0-4b17-8062-b0caa279870a",
   "metadata": {},
   "outputs": [
    {
     "data": {
      "text/plain": [
       "'dense_4'"
      ]
     },
     "execution_count": 14,
     "metadata": {},
     "output_type": "execute_result"
    }
   ],
   "source": [
    "hidden1 = model.layers[2]\n",
    "hidden1.name"
   ]
  },
  {
   "cell_type": "code",
   "execution_count": 18,
   "id": "51f1b583-7f57-43ef-8c39-b24604a55b7e",
   "metadata": {},
   "outputs": [
    {
     "data": {
      "text/plain": [
       "True"
      ]
     },
     "execution_count": 18,
     "metadata": {},
     "output_type": "execute_result"
    }
   ],
   "source": [
    "model.get_layer(\"dense_4\") is hidden1"
   ]
  },
  {
   "cell_type": "code",
   "execution_count": 19,
   "id": "cceb3b08-2f64-415d-8ce8-7aa06e7cf39a",
   "metadata": {},
   "outputs": [],
   "source": [
    "weights, biases = hidden1.get_weights()"
   ]
  },
  {
   "cell_type": "code",
   "execution_count": 20,
   "id": "9df68313-7e8e-421c-a8bd-dbb42ed0aec4",
   "metadata": {},
   "outputs": [
    {
     "data": {
      "text/plain": [
       "array([[ 0.10906368,  0.05278177, -0.08773276, ...,  0.01737181,\n",
       "        -0.08813687,  0.0419871 ],\n",
       "       [-0.07758407,  0.06858488,  0.02257303, ..., -0.10682523,\n",
       "        -0.08446953, -0.0061474 ],\n",
       "       [-0.08464348, -0.11232359, -0.00020321, ...,  0.00285586,\n",
       "        -0.02608187,  0.00387607],\n",
       "       ...,\n",
       "       [ 0.04765936,  0.09121772,  0.01713108, ...,  0.03578011,\n",
       "        -0.1211664 , -0.09497619],\n",
       "       [-0.0702031 ,  0.11888426, -0.07921402, ..., -0.09505825,\n",
       "         0.09319039,  0.09833463],\n",
       "       [ 0.04041003,  0.0382997 ,  0.04361244, ...,  0.04905259,\n",
       "        -0.07321794, -0.00035863]], dtype=float32)"
      ]
     },
     "execution_count": 20,
     "metadata": {},
     "output_type": "execute_result"
    }
   ],
   "source": [
    "weights"
   ]
  },
  {
   "cell_type": "code",
   "execution_count": 21,
   "id": "ee111cdf-5570-4ca4-84d4-73e4076d66eb",
   "metadata": {
    "scrolled": true
   },
   "outputs": [
    {
     "data": {
      "text/plain": [
       "array([0., 0., 0., 0., 0., 0., 0., 0., 0., 0., 0., 0., 0., 0., 0., 0., 0.,\n",
       "       0., 0., 0., 0., 0., 0., 0., 0., 0., 0., 0., 0., 0., 0., 0., 0., 0.,\n",
       "       0., 0., 0., 0., 0., 0., 0., 0., 0., 0., 0., 0., 0., 0., 0., 0., 0.,\n",
       "       0., 0., 0., 0., 0., 0., 0., 0., 0., 0., 0., 0., 0., 0., 0., 0., 0.,\n",
       "       0., 0., 0., 0., 0., 0., 0., 0., 0., 0., 0., 0., 0., 0., 0., 0., 0.,\n",
       "       0., 0., 0., 0., 0., 0., 0., 0., 0., 0., 0., 0., 0., 0., 0.],\n",
       "      dtype=float32)"
      ]
     },
     "execution_count": 21,
     "metadata": {},
     "output_type": "execute_result"
    }
   ],
   "source": [
    "biases"
   ]
  },
  {
   "cell_type": "code",
   "execution_count": 22,
   "id": "c3227be3-908c-424e-b53a-cd50fb0dc5e7",
   "metadata": {},
   "outputs": [
    {
     "data": {
      "text/plain": [
       "((300, 100), (100,))"
      ]
     },
     "execution_count": 22,
     "metadata": {},
     "output_type": "execute_result"
    }
   ],
   "source": [
    "weights.shape, biases.shape"
   ]
  },
  {
   "cell_type": "code",
   "execution_count": 23,
   "id": "8d90eddf-9bd2-40a2-8fb4-cfc35e8a477b",
   "metadata": {},
   "outputs": [],
   "source": [
    "model.compile(loss=\"sparse_categorical_crossentropy\",\n",
    "             optimizer=\"sgd\",\n",
    "             metrics=[\"accuracy\"])"
   ]
  },
  {
   "cell_type": "code",
   "execution_count": 24,
   "id": "f0248a14-d1f0-4c77-98a6-81c0b6429150",
   "metadata": {},
   "outputs": [
    {
     "data": {
      "text/plain": [
       "array([[1., 0., 0., 0., 0., 0., 0., 0., 0., 0.],\n",
       "       [0., 0., 0., 0., 0., 1., 0., 0., 0., 0.],\n",
       "       [0., 1., 0., 0., 0., 0., 0., 0., 0., 0.],\n",
       "       [1., 0., 0., 0., 0., 0., 0., 0., 0., 0.]], dtype=float32)"
      ]
     },
     "execution_count": 24,
     "metadata": {},
     "output_type": "execute_result"
    }
   ],
   "source": [
    "keras.utils.to_categorical([0, 5, 1, 0], num_classes=10)"
   ]
  },
  {
   "cell_type": "code",
   "execution_count": 25,
   "id": "6f3fb9fd-6d2a-450c-82ad-905733b78c23",
   "metadata": {},
   "outputs": [
    {
     "data": {
      "text/plain": [
       "array([0, 5, 1, 0], dtype=int64)"
      ]
     },
     "execution_count": 25,
     "metadata": {},
     "output_type": "execute_result"
    }
   ],
   "source": [
    "np.argmax(\n",
    "    [[1., 0., 0., 0., 0., 0., 0., 0., 0., 0.],\n",
    "     [0., 0., 0., 0., 0., 1., 0., 0., 0., 0.],\n",
    "     [0., 1., 0., 0., 0., 0., 0., 0., 0., 0.],\n",
    "     [1., 0., 0., 0., 0., 0., 0., 0., 0., 0.]],\n",
    "    axis=1\n",
    ")"
   ]
  },
  {
   "cell_type": "code",
   "execution_count": null,
   "id": "bf69d3bc-8ccc-43cc-810e-b1398ee298bd",
   "metadata": {},
   "outputs": [],
   "source": []
  },
  {
   "cell_type": "code",
   "execution_count": 26,
   "id": "43d0feb2-5454-4481-a562-43d2fba9216a",
   "metadata": {
    "scrolled": true
   },
   "outputs": [
    {
     "name": "stdout",
     "output_type": "stream",
     "text": [
      "Epoch 1/30\n",
      "1719/1719 [==============================] - 9s 4ms/step - loss: 0.7157 - accuracy: 0.7649 - val_loss: 0.5009 - val_accuracy: 0.8282\n",
      "Epoch 2/30\n",
      "1719/1719 [==============================] - 6s 3ms/step - loss: 0.4869 - accuracy: 0.8301 - val_loss: 0.4681 - val_accuracy: 0.8320\n",
      "Epoch 3/30\n",
      "1719/1719 [==============================] - 6s 3ms/step - loss: 0.4423 - accuracy: 0.8447 - val_loss: 0.4246 - val_accuracy: 0.8516\n",
      "Epoch 4/30\n",
      "1719/1719 [==============================] - 6s 4ms/step - loss: 0.4178 - accuracy: 0.8533 - val_loss: 0.3994 - val_accuracy: 0.8602\n",
      "Epoch 5/30\n",
      "1719/1719 [==============================] - 6s 4ms/step - loss: 0.3968 - accuracy: 0.8615 - val_loss: 0.3950 - val_accuracy: 0.8602\n",
      "Epoch 6/30\n",
      "1719/1719 [==============================] - 6s 4ms/step - loss: 0.3802 - accuracy: 0.8656 - val_loss: 0.3934 - val_accuracy: 0.8642\n",
      "Epoch 7/30\n",
      "1719/1719 [==============================] - 6s 4ms/step - loss: 0.3678 - accuracy: 0.8694 - val_loss: 0.3744 - val_accuracy: 0.8664\n",
      "Epoch 8/30\n",
      "1719/1719 [==============================] - 6s 4ms/step - loss: 0.3558 - accuracy: 0.8742 - val_loss: 0.3656 - val_accuracy: 0.8692\n",
      "Epoch 9/30\n",
      "1719/1719 [==============================] - 6s 4ms/step - loss: 0.3455 - accuracy: 0.8772 - val_loss: 0.3521 - val_accuracy: 0.8724\n",
      "Epoch 10/30\n",
      "1719/1719 [==============================] - 6s 4ms/step - loss: 0.3352 - accuracy: 0.8799 - val_loss: 0.3491 - val_accuracy: 0.8756\n",
      "Epoch 11/30\n",
      "1719/1719 [==============================] - 6s 4ms/step - loss: 0.3267 - accuracy: 0.8842 - val_loss: 0.3680 - val_accuracy: 0.8644\n",
      "Epoch 12/30\n",
      "1719/1719 [==============================] - 6s 4ms/step - loss: 0.3190 - accuracy: 0.8859 - val_loss: 0.3480 - val_accuracy: 0.8732\n",
      "Epoch 13/30\n",
      "1719/1719 [==============================] - 6s 4ms/step - loss: 0.3117 - accuracy: 0.8900 - val_loss: 0.3332 - val_accuracy: 0.8784\n",
      "Epoch 14/30\n",
      "1719/1719 [==============================] - 6s 4ms/step - loss: 0.3047 - accuracy: 0.8909 - val_loss: 0.3402 - val_accuracy: 0.8766\n",
      "Epoch 15/30\n",
      "1719/1719 [==============================] - 6s 4ms/step - loss: 0.2991 - accuracy: 0.8933 - val_loss: 0.3418 - val_accuracy: 0.8750\n",
      "Epoch 16/30\n",
      "1719/1719 [==============================] - 6s 4ms/step - loss: 0.2917 - accuracy: 0.8946 - val_loss: 0.3285 - val_accuracy: 0.8806\n",
      "Epoch 17/30\n",
      "1719/1719 [==============================] - 7s 4ms/step - loss: 0.2869 - accuracy: 0.8960 - val_loss: 0.3345 - val_accuracy: 0.8782\n",
      "Epoch 18/30\n",
      "1719/1719 [==============================] - 6s 4ms/step - loss: 0.2814 - accuracy: 0.8988 - val_loss: 0.3245 - val_accuracy: 0.8792\n",
      "Epoch 19/30\n",
      "1719/1719 [==============================] - 6s 4ms/step - loss: 0.2758 - accuracy: 0.9006 - val_loss: 0.3667 - val_accuracy: 0.8644\n",
      "Epoch 20/30\n",
      "1719/1719 [==============================] - 7s 4ms/step - loss: 0.2716 - accuracy: 0.9028 - val_loss: 0.3157 - val_accuracy: 0.8824\n",
      "Epoch 21/30\n",
      "1719/1719 [==============================] - 7s 4ms/step - loss: 0.2662 - accuracy: 0.9040 - val_loss: 0.3172 - val_accuracy: 0.8816\n",
      "Epoch 22/30\n",
      "1719/1719 [==============================] - 7s 4ms/step - loss: 0.2612 - accuracy: 0.9050 - val_loss: 0.3172 - val_accuracy: 0.8830\n",
      "Epoch 23/30\n",
      "1719/1719 [==============================] - 7s 4ms/step - loss: 0.2575 - accuracy: 0.9073 - val_loss: 0.3610 - val_accuracy: 0.8710\n",
      "Epoch 24/30\n",
      "1719/1719 [==============================] - 6s 4ms/step - loss: 0.2519 - accuracy: 0.9099 - val_loss: 0.3186 - val_accuracy: 0.8828\n",
      "Epoch 25/30\n",
      "1719/1719 [==============================] - 7s 4ms/step - loss: 0.2480 - accuracy: 0.9107 - val_loss: 0.3186 - val_accuracy: 0.8828\n",
      "Epoch 26/30\n",
      "1719/1719 [==============================] - 7s 4ms/step - loss: 0.2449 - accuracy: 0.9125 - val_loss: 0.3121 - val_accuracy: 0.8848\n",
      "Epoch 27/30\n",
      "1719/1719 [==============================] - 7s 4ms/step - loss: 0.2395 - accuracy: 0.9130 - val_loss: 0.3217 - val_accuracy: 0.8838\n",
      "Epoch 28/30\n",
      "1719/1719 [==============================] - 7s 4ms/step - loss: 0.2366 - accuracy: 0.9146 - val_loss: 0.3120 - val_accuracy: 0.8884\n",
      "Epoch 29/30\n",
      "1719/1719 [==============================] - 6s 4ms/step - loss: 0.2325 - accuracy: 0.9161 - val_loss: 0.3235 - val_accuracy: 0.8816\n",
      "Epoch 30/30\n",
      "1719/1719 [==============================] - 7s 4ms/step - loss: 0.2293 - accuracy: 0.9179 - val_loss: 0.3100 - val_accuracy: 0.8904\n"
     ]
    }
   ],
   "source": [
    "history = model.fit(X_train, y_train, epochs=30,\n",
    "                   validation_data=(X_valid, y_valid))"
   ]
  },
  {
   "cell_type": "code",
   "execution_count": null,
   "id": "48c12298-e0c2-4b91-b7f6-8f72b6969855",
   "metadata": {},
   "outputs": [],
   "source": []
  },
  {
   "cell_type": "code",
   "execution_count": 27,
   "id": "48e6fc01-a346-4fc9-8059-8c558f683452",
   "metadata": {},
   "outputs": [
    {
     "data": {
      "text/plain": [
       "{'verbose': 1, 'epochs': 30, 'steps': 1719}"
      ]
     },
     "execution_count": 27,
     "metadata": {},
     "output_type": "execute_result"
    }
   ],
   "source": [
    "history.params"
   ]
  },
  {
   "cell_type": "code",
   "execution_count": 28,
   "id": "216a0ead-3bbf-400c-80c0-50455b79bc9b",
   "metadata": {
    "scrolled": true
   },
   "outputs": [
    {
     "data": {
      "text/plain": [
       "[0,\n",
       " 1,\n",
       " 2,\n",
       " 3,\n",
       " 4,\n",
       " 5,\n",
       " 6,\n",
       " 7,\n",
       " 8,\n",
       " 9,\n",
       " 10,\n",
       " 11,\n",
       " 12,\n",
       " 13,\n",
       " 14,\n",
       " 15,\n",
       " 16,\n",
       " 17,\n",
       " 18,\n",
       " 19,\n",
       " 20,\n",
       " 21,\n",
       " 22,\n",
       " 23,\n",
       " 24,\n",
       " 25,\n",
       " 26,\n",
       " 27,\n",
       " 28,\n",
       " 29]"
      ]
     },
     "execution_count": 28,
     "metadata": {},
     "output_type": "execute_result"
    }
   ],
   "source": [
    "history.epoch"
   ]
  },
  {
   "cell_type": "code",
   "execution_count": 29,
   "id": "f18dc547-b12b-4f6f-9076-00e2625f4c69",
   "metadata": {
    "scrolled": true
   },
   "outputs": [
    {
     "data": {
      "text/plain": [
       "{'loss': [0.7157484889030457,\n",
       "  0.48691368103027344,\n",
       "  0.4422523081302643,\n",
       "  0.41776877641677856,\n",
       "  0.3968411087989807,\n",
       "  0.3802070915699005,\n",
       "  0.3678492307662964,\n",
       "  0.35584399104118347,\n",
       "  0.3454688787460327,\n",
       "  0.3352092206478119,\n",
       "  0.326722115278244,\n",
       "  0.3190459907054901,\n",
       "  0.3117281496524811,\n",
       "  0.3046524226665497,\n",
       "  0.2990884482860565,\n",
       "  0.29170316457748413,\n",
       "  0.2868645489215851,\n",
       "  0.28135624527931213,\n",
       "  0.27577316761016846,\n",
       "  0.2716418504714966,\n",
       "  0.26617154479026794,\n",
       "  0.26123762130737305,\n",
       "  0.2574509382247925,\n",
       "  0.2518654763698578,\n",
       "  0.248041570186615,\n",
       "  0.24491915106773376,\n",
       "  0.23948611319065094,\n",
       "  0.23664258420467377,\n",
       "  0.23253729939460754,\n",
       "  0.22934119403362274],\n",
       " 'accuracy': [0.7649272680282593,\n",
       "  0.8300727009773254,\n",
       "  0.8446909189224243,\n",
       "  0.8532909154891968,\n",
       "  0.8614909052848816,\n",
       "  0.8656181693077087,\n",
       "  0.869418203830719,\n",
       "  0.8742181658744812,\n",
       "  0.8772363662719727,\n",
       "  0.8798909187316895,\n",
       "  0.884218156337738,\n",
       "  0.8859090805053711,\n",
       "  0.8900363445281982,\n",
       "  0.89085453748703,\n",
       "  0.8932909369468689,\n",
       "  0.8946181535720825,\n",
       "  0.8960363864898682,\n",
       "  0.8988181948661804,\n",
       "  0.900563657283783,\n",
       "  0.9028363823890686,\n",
       "  0.9039818048477173,\n",
       "  0.9049636125564575,\n",
       "  0.9072545170783997,\n",
       "  0.9099090695381165,\n",
       "  0.9106727242469788,\n",
       "  0.9124727249145508,\n",
       "  0.9129636287689209,\n",
       "  0.914618194103241,\n",
       "  0.9161454439163208,\n",
       "  0.9178909063339233],\n",
       " 'val_loss': [0.5009475350379944,\n",
       "  0.46809467673301697,\n",
       "  0.4246213436126709,\n",
       "  0.39943641424179077,\n",
       "  0.39499378204345703,\n",
       "  0.3933776319026947,\n",
       "  0.3744358420372009,\n",
       "  0.3655652403831482,\n",
       "  0.3520987033843994,\n",
       "  0.3491117060184479,\n",
       "  0.3679567575454712,\n",
       "  0.34798943996429443,\n",
       "  0.33319273591041565,\n",
       "  0.34020206332206726,\n",
       "  0.34182652831077576,\n",
       "  0.32850128412246704,\n",
       "  0.33445078134536743,\n",
       "  0.3244597017765045,\n",
       "  0.3666890561580658,\n",
       "  0.3157488703727722,\n",
       "  0.31717735528945923,\n",
       "  0.31717821955680847,\n",
       "  0.3610444962978363,\n",
       "  0.318602591753006,\n",
       "  0.3186405897140503,\n",
       "  0.3120652139186859,\n",
       "  0.3216956853866577,\n",
       "  0.31195786595344543,\n",
       "  0.32354286313056946,\n",
       "  0.3100127577781677],\n",
       " 'val_accuracy': [0.8281999826431274,\n",
       "  0.8320000171661377,\n",
       "  0.8515999913215637,\n",
       "  0.8601999878883362,\n",
       "  0.8601999878883362,\n",
       "  0.8641999959945679,\n",
       "  0.8664000034332275,\n",
       "  0.8691999912261963,\n",
       "  0.8723999857902527,\n",
       "  0.8755999803543091,\n",
       "  0.8644000291824341,\n",
       "  0.873199999332428,\n",
       "  0.8784000277519226,\n",
       "  0.8766000270843506,\n",
       "  0.875,\n",
       "  0.8805999755859375,\n",
       "  0.8781999945640564,\n",
       "  0.8791999816894531,\n",
       "  0.8644000291824341,\n",
       "  0.8823999762535095,\n",
       "  0.881600022315979,\n",
       "  0.8830000162124634,\n",
       "  0.8709999918937683,\n",
       "  0.8827999830245972,\n",
       "  0.8827999830245972,\n",
       "  0.8848000168800354,\n",
       "  0.8838000297546387,\n",
       "  0.8884000182151794,\n",
       "  0.881600022315979,\n",
       "  0.8903999924659729]}"
      ]
     },
     "execution_count": 29,
     "metadata": {},
     "output_type": "execute_result"
    }
   ],
   "source": [
    "history.history"
   ]
  },
  {
   "cell_type": "code",
   "execution_count": null,
   "id": "8c966c8f-812c-49a7-927e-59aafb846521",
   "metadata": {},
   "outputs": [],
   "source": []
  },
  {
   "cell_type": "code",
   "execution_count": 30,
   "id": "30306d30-e151-42af-894b-7b0016da7f61",
   "metadata": {},
   "outputs": [
    {
     "data": {
      "text/plain": [
       "<Axes: xlabel='Epoch'>"
      ]
     },
     "execution_count": 30,
     "metadata": {},
     "output_type": "execute_result"
    },
    {
     "data": {
      "image/png": "[encoded data removed]",
      "text/plain": [
       "<Figure size 800x500 with 1 Axes>"
      ]
     },
     "metadata": {},
     "output_type": "display_data"
    }
   ],
   "source": [
    "pd.DataFrame(history.history).plot(\n",
    "  figsize=(8, 5), xlim=[0, 30], ylim=[0, 1], grid=True, xlabel=\"Epoch\",\n",
    "  style=[\"r--\", \"r--.\", \"b-\", \"b-*\"]\n",
    ")"
   ]
  },
  {
   "cell_type": "code",
   "execution_count": 31,
   "id": "7324f98b-c8a1-4f76-af78-f87b79b562bd",
   "metadata": {},
   "outputs": [
    {
     "data": {
      "image/png": "[encoded data removed]",
      "text/plain": [
       "<Figure size 1200x300 with 2 Axes>"
      ]
     },
     "metadata": {},
     "output_type": "display_data"
    }
   ],
   "source": [
    "loss = history.history['loss']\n",
    "val_loss = history.history['val_loss']\n",
    "\n",
    "accuracy = history.history['accuracy']\n",
    "val_accuracy = history.history['val_accuracy']\n",
    "\n",
    "epochs = history.epoch\n",
    "\n",
    "fig, axes = plt.subplots(ncols=2, figsize=(12, 3))\n",
    "\n",
    "plt.sca(axes[0])\n",
    "plt.plot(epochs, loss, label='Training loss')\n",
    "plt.plot(epochs, val_loss, label='Validation loss')\n",
    "plt.title('Training and validation loss')\n",
    "plt.xlabel('Epochs')\n",
    "plt.ylabel('Loss')\n",
    "plt.legend()\n",
    "plt.grid()\n",
    "\n",
    "\n",
    "plt.sca(axes[1])\n",
    "plt.plot(epochs, accuracy,  label='Training accuracy')\n",
    "plt.plot(epochs, val_accuracy, label='Validation accuracy')\n",
    "plt.title('Training and validation accuracy')\n",
    "plt.xlabel('Epochs')\n",
    "plt.ylabel('Accuracy')\n",
    "plt.legend()\n",
    "plt.grid()\n"
   ]
  },
  {
   "cell_type": "code",
   "execution_count": null,
   "id": "37782263-16a7-482c-8dcc-582fce9fce20",
   "metadata": {},
   "outputs": [],
   "source": []
  },
  {
   "cell_type": "code",
   "execution_count": null,
   "id": "95ec8022-c850-4b6a-8eaa-a154bbdfaf08",
   "metadata": {},
   "outputs": [],
   "source": []
  },
  {
   "cell_type": "code",
   "execution_count": 32,
   "id": "b2c5840a-fbdd-4c0f-891f-165d023beb77",
   "metadata": {},
   "outputs": [
    {
     "name": "stdout",
     "output_type": "stream",
     "text": [
      "313/313 [==============================] - 1s 2ms/step - loss: 0.3272 - accuracy: 0.8828\n"
     ]
    },
    {
     "data": {
      "text/plain": [
       "[0.3271940350532532, 0.8827999830245972]"
      ]
     },
     "execution_count": 32,
     "metadata": {},
     "output_type": "execute_result"
    }
   ],
   "source": [
    "model.evaluate(X_test, y_test)"
   ]
  },
  {
   "cell_type": "code",
   "execution_count": 33,
   "id": "330f36a9-e50b-42a1-badf-14e901b6cb25",
   "metadata": {},
   "outputs": [
    {
     "name": "stdout",
     "output_type": "stream",
     "text": [
      "1/1 [==============================] - 0s 193ms/step\n"
     ]
    },
    {
     "data": {
      "text/plain": [
       "array([[0.  , 0.  , 0.  , 0.  , 0.  , 0.01, 0.  , 0.01, 0.  , 0.98],\n",
       "       [0.  , 0.  , 1.  , 0.  , 0.  , 0.  , 0.  , 0.  , 0.  , 0.  ],\n",
       "       [0.  , 1.  , 0.  , 0.  , 0.  , 0.  , 0.  , 0.  , 0.  , 0.  ]],\n",
       "      dtype=float32)"
      ]
     },
     "execution_count": 33,
     "metadata": {},
     "output_type": "execute_result"
    }
   ],
   "source": [
    "X_new = X_test[:3]\n",
    "y_proba = model.predict(X_new)\n",
    "y_proba.round(2)"
   ]
  },
  {
   "cell_type": "code",
   "execution_count": 34,
   "id": "5abde99e-4175-4f26-a893-326cf19e9afe",
   "metadata": {},
   "outputs": [
    {
     "data": {
      "text/plain": [
       "array([9, 2, 1], dtype=int64)"
      ]
     },
     "execution_count": 34,
     "metadata": {},
     "output_type": "execute_result"
    }
   ],
   "source": [
    "y_pred = y_proba.argmax(axis=-1)\n",
    "y_pred"
   ]
  },
  {
   "cell_type": "code",
   "execution_count": 35,
   "id": "ac5b35d4-8d99-4649-83b8-07d057f3672a",
   "metadata": {},
   "outputs": [
    {
     "data": {
      "text/plain": [
       "array(['Ankle boot', 'Pullover', 'Trouser'], dtype='<U11')"
      ]
     },
     "execution_count": 35,
     "metadata": {},
     "output_type": "execute_result"
    }
   ],
   "source": [
    "np.array(class_names)[y_pred]"
   ]
  },
  {
   "cell_type": "code",
   "execution_count": 36,
   "id": "72231805-ff28-4469-a22d-80e7e0c1cd3a",
   "metadata": {},
   "outputs": [
    {
     "data": {
      "text/plain": [
       "array([9, 2, 1], dtype=uint8)"
      ]
     },
     "execution_count": 36,
     "metadata": {},
     "output_type": "execute_result"
    }
   ],
   "source": [
    "y_new = y_test[:3]\n",
    "y_new"
   ]
  },
  {
   "cell_type": "code",
   "execution_count": 40,
   "id": "674fdba2-5c03-4a8a-905d-1e2d05753c2e",
   "metadata": {},
   "outputs": [
    {
     "data": {
      "image/png": "[encoded data removed]",
      "text/plain": [
       "<Figure size 640x480 with 3 Axes>"
      ]
     },
     "metadata": {},
     "output_type": "display_data"
    }
   ],
   "source": [
    "for index, image in enumerate(X_new):\n",
    "    plt.subplot(1, 3, index + 1)\n",
    "    plt.imshow(image, cmap=\"binary\", interpolation=\"nearest\")\n",
    "    plt.axis(\"off\")\n",
    "    plt.title(class_names[y_test[index]])\n",
    "plt.subplots_adjust(wspace=0.2, hspace=0.5)"
   ]
  },
  {
   "cell_type": "code",
   "execution_count": null,
   "id": "407e8bbb-6def-4fd2-8388-56e96f17f88b",
   "metadata": {},
   "outputs": [],
   "source": []
  },
  {
   "cell_type": "code",
   "execution_count": null,
   "id": "9492eb33-ca0c-493d-88c0-a863030e8e93",
   "metadata": {},
   "outputs": [],
   "source": []
  },
  {
   "cell_type": "markdown",
   "id": "41c9e529-0457-4d05-bdd3-dcb2c0b09e2c",
   "metadata": {},
   "source": [
    "### Regression MLP"
   ]
  },
  {
   "cell_type": "code",
   "execution_count": 41,
   "id": "45b2de12-bc51-461e-98e6-07d72b8099bb",
   "metadata": {},
   "outputs": [],
   "source": [
    "housing = fetch_california_housing()\n",
    "\n",
    "X_train_full, X_test, y_train_full, y_test = train_test_split(\n",
    "  housing.data, housing.target, random_state=42\n",
    ")\n",
    "\n",
    "X_train, X_valid, y_train, y_valid = train_test_split(\n",
    "  X_train_full, y_train_full, random_state=42\n",
    ")"
   ]
  },
  {
   "cell_type": "code",
   "execution_count": 42,
   "id": "8ecd3e32-486f-494f-ad82-432d3108bc93",
   "metadata": {},
   "outputs": [],
   "source": [
    "tf.random.set_seed(42)\n",
    "norm_layer = layers.Normalization(input_shape=X_train.shape[1:])"
   ]
  },
  {
   "cell_type": "code",
   "execution_count": 125,
   "id": "cf1149e8-25ea-41e8-ac18-0ada2de5556e",
   "metadata": {},
   "outputs": [],
   "source": [
    "model = keras.Sequential([\n",
    "  norm_layer,\n",
    "  layers.Dense(50, activation=\"relu\"),\n",
    "  layers.Dense(50, activation=\"relu\"),\n",
    "  layers.Dense(50, activation=\"relu\"),\n",
    "  layers.Dense(1)\n",
    "])"
   ]
  },
  {
   "cell_type": "code",
   "execution_count": 47,
   "id": "77be2f02-e2d5-4576-bbf4-f98649b388de",
   "metadata": {},
   "outputs": [
    {
     "name": "stdout",
     "output_type": "stream",
     "text": [
      "Model: \"sequential_2\"\n",
      "_________________________________________________________________\n",
      " Layer (type)                Output Shape              Param #   \n",
      "=================================================================\n",
      " normalization (Normalizatio  (None, 8)                17        \n",
      " n)                                                              \n",
      "                                                                 \n",
      " dense_6 (Dense)             (None, 50)                450       \n",
      "                                                                 \n",
      " dense_7 (Dense)             (None, 50)                2550      \n",
      "                                                                 \n",
      " dense_8 (Dense)             (None, 50)                2550      \n",
      "                                                                 \n",
      " dense_9 (Dense)             (None, 1)                 51        \n",
      "                                                                 \n",
      "=================================================================\n",
      "Total params: 5,618\n",
      "Trainable params: 5,601\n",
      "Non-trainable params: 17\n",
      "_________________________________________________________________\n"
     ]
    }
   ],
   "source": [
    "model.summary()"
   ]
  },
  {
   "cell_type": "code",
   "execution_count": 126,
   "id": "cf059104-5a84-4424-8dbd-0b2938bed7c0",
   "metadata": {},
   "outputs": [],
   "source": [
    "optimizer = tf.keras.optimizers.Adam(learning_rate=1e-3)\n",
    "model.compile(loss=\"mse\", optimizer=optimizer, metrics=[\"RootMeanSquaredError\"])\n",
    "norm_layer.adapt(X_train)"
   ]
  },
  {
   "cell_type": "code",
   "execution_count": 49,
   "id": "2b49f6b7-2dd3-4e60-8909-903cb432b1d7",
   "metadata": {
    "scrolled": true
   },
   "outputs": [
    {
     "name": "stdout",
     "output_type": "stream",
     "text": [
      "Epoch 1/30\n",
      "363/363 [==============================] - 2s 4ms/step - loss: 0.9383 - root_mean_squared_error: 0.9687 - val_loss: 0.4879 - val_root_mean_squared_error: 0.6985\n",
      "Epoch 2/30\n",
      "363/363 [==============================] - 1s 3ms/step - loss: 0.3796 - root_mean_squared_error: 0.6161 - val_loss: 1.3562 - val_root_mean_squared_error: 1.1646\n",
      "Epoch 3/30\n",
      "363/363 [==============================] - 1s 3ms/step - loss: 0.3726 - root_mean_squared_error: 0.6104 - val_loss: 0.3496 - val_root_mean_squared_error: 0.5913\n",
      "Epoch 4/30\n",
      "363/363 [==============================] - 1s 3ms/step - loss: 0.3400 - root_mean_squared_error: 0.5831 - val_loss: 2.5845 - val_root_mean_squared_error: 1.6076\n",
      "Epoch 5/30\n",
      "363/363 [==============================] - 1s 3ms/step - loss: 0.3268 - root_mean_squared_error: 0.5717 - val_loss: 2.1206 - val_root_mean_squared_error: 1.4562\n",
      "Epoch 6/30\n",
      "363/363 [==============================] - 1s 3ms/step - loss: 0.3348 - root_mean_squared_error: 0.5786 - val_loss: 0.4336 - val_root_mean_squared_error: 0.6585\n",
      "Epoch 7/30\n",
      "363/363 [==============================] - 1s 3ms/step - loss: 0.3130 - root_mean_squared_error: 0.5595 - val_loss: 0.6231 - val_root_mean_squared_error: 0.7894\n",
      "Epoch 8/30\n",
      "363/363 [==============================] - 1s 3ms/step - loss: 0.3042 - root_mean_squared_error: 0.5515 - val_loss: 3.7106 - val_root_mean_squared_error: 1.9263\n",
      "Epoch 9/30\n",
      "363/363 [==============================] - 1s 3ms/step - loss: 0.3116 - root_mean_squared_error: 0.5582 - val_loss: 1.7716 - val_root_mean_squared_error: 1.3310\n",
      "Epoch 10/30\n",
      "363/363 [==============================] - 1s 3ms/step - loss: 0.3042 - root_mean_squared_error: 0.5516 - val_loss: 0.3119 - val_root_mean_squared_error: 0.5585\n",
      "Epoch 11/30\n",
      "363/363 [==============================] - 1s 3ms/step - loss: 0.2883 - root_mean_squared_error: 0.5369 - val_loss: 0.5502 - val_root_mean_squared_error: 0.7417\n",
      "Epoch 12/30\n",
      "363/363 [==============================] - 1s 3ms/step - loss: 0.2981 - root_mean_squared_error: 0.5460 - val_loss: 0.5556 - val_root_mean_squared_error: 0.7454\n",
      "Epoch 13/30\n",
      "363/363 [==============================] - 1s 3ms/step - loss: 0.2872 - root_mean_squared_error: 0.5359 - val_loss: 0.2764 - val_root_mean_squared_error: 0.5257\n",
      "Epoch 14/30\n",
      "363/363 [==============================] - 1s 3ms/step - loss: 0.2839 - root_mean_squared_error: 0.5328 - val_loss: 0.3597 - val_root_mean_squared_error: 0.5997\n",
      "Epoch 15/30\n",
      "363/363 [==============================] - 1s 3ms/step - loss: 0.2823 - root_mean_squared_error: 0.5313 - val_loss: 0.2954 - val_root_mean_squared_error: 0.5435\n",
      "Epoch 16/30\n",
      "363/363 [==============================] - 1s 3ms/step - loss: 0.2794 - root_mean_squared_error: 0.5286 - val_loss: 0.2860 - val_root_mean_squared_error: 0.5348\n",
      "Epoch 17/30\n",
      "363/363 [==============================] - 1s 4ms/step - loss: 0.2767 - root_mean_squared_error: 0.5260 - val_loss: 0.6768 - val_root_mean_squared_error: 0.8227\n",
      "Epoch 18/30\n",
      "363/363 [==============================] - 1s 3ms/step - loss: 0.2735 - root_mean_squared_error: 0.5230 - val_loss: 0.4625 - val_root_mean_squared_error: 0.6801\n",
      "Epoch 19/30\n",
      "363/363 [==============================] - 1s 3ms/step - loss: 0.2690 - root_mean_squared_error: 0.5186 - val_loss: 0.3299 - val_root_mean_squared_error: 0.5743\n",
      "Epoch 20/30\n",
      "363/363 [==============================] - 2s 4ms/step - loss: 0.2736 - root_mean_squared_error: 0.5231 - val_loss: 0.5351 - val_root_mean_squared_error: 0.7315\n",
      "Epoch 21/30\n",
      "363/363 [==============================] - 1s 3ms/step - loss: 0.2695 - root_mean_squared_error: 0.5191 - val_loss: 0.2903 - val_root_mean_squared_error: 0.5388\n",
      "Epoch 22/30\n",
      "363/363 [==============================] - 1s 4ms/step - loss: 0.2645 - root_mean_squared_error: 0.5143 - val_loss: 0.5408 - val_root_mean_squared_error: 0.7354\n",
      "Epoch 23/30\n",
      "363/363 [==============================] - 1s 3ms/step - loss: 0.2616 - root_mean_squared_error: 0.5114 - val_loss: 0.3125 - val_root_mean_squared_error: 0.5590\n",
      "Epoch 24/30\n",
      "363/363 [==============================] - 1s 3ms/step - loss: 0.2666 - root_mean_squared_error: 0.5163 - val_loss: 0.3868 - val_root_mean_squared_error: 0.6219\n",
      "Epoch 25/30\n",
      "363/363 [==============================] - 1s 3ms/step - loss: 0.2597 - root_mean_squared_error: 0.5096 - val_loss: 0.4339 - val_root_mean_squared_error: 0.6587\n",
      "Epoch 26/30\n",
      "363/363 [==============================] - 1s 3ms/step - loss: 0.2564 - root_mean_squared_error: 0.5063 - val_loss: 0.6033 - val_root_mean_squared_error: 0.7767\n",
      "Epoch 27/30\n",
      "363/363 [==============================] - 1s 3ms/step - loss: 0.2564 - root_mean_squared_error: 0.5064 - val_loss: 0.3785 - val_root_mean_squared_error: 0.6152\n",
      "Epoch 28/30\n",
      "363/363 [==============================] - 1s 3ms/step - loss: 0.2576 - root_mean_squared_error: 0.5076 - val_loss: 0.9714 - val_root_mean_squared_error: 0.9856\n",
      "Epoch 29/30\n",
      "363/363 [==============================] - 1s 3ms/step - loss: 0.2574 - root_mean_squared_error: 0.5074 - val_loss: 0.3272 - val_root_mean_squared_error: 0.5720\n",
      "Epoch 30/30\n",
      "363/363 [==============================] - 1s 3ms/step - loss: 0.2522 - root_mean_squared_error: 0.5022 - val_loss: 0.2791 - val_root_mean_squared_error: 0.5283\n"
     ]
    }
   ],
   "source": [
    "history = model.fit(X_train, y_train, epochs=30,\n",
    "                   validation_data=(X_valid, y_valid))"
   ]
  },
  {
   "cell_type": "code",
   "execution_count": 50,
   "id": "a5aaf5ab-5d69-4835-989a-45bbe694af74",
   "metadata": {},
   "outputs": [
    {
     "data": {
      "text/plain": [
       "<Axes: xlabel='Epoch'>"
      ]
     },
     "execution_count": 50,
     "metadata": {},
     "output_type": "execute_result"
    },
    {
     "data": {
      "image/png": "[encoded data removed]",
      "text/plain": [
       "<Figure size 800x500 with 1 Axes>"
      ]
     },
     "metadata": {},
     "output_type": "display_data"
    }
   ],
   "source": [
    "pd.DataFrame(history.history).plot(\n",
    "  figsize=(8, 5), xlim=[0, 30], ylim=[0, 1], grid=True, xlabel=\"Epoch\",\n",
    "  style=[\"r--\", \"r--.\", \"b-\", \"b-*\"]\n",
    ")"
   ]
  },
  {
   "cell_type": "code",
   "execution_count": 53,
   "id": "8d8dfea3-901a-4a33-9381-31c71165e3bc",
   "metadata": {},
   "outputs": [
    {
     "data": {
      "image/png": "[encoded data removed]",
      "text/plain": [
       "<Figure size 1200x300 with 2 Axes>"
      ]
     },
     "metadata": {},
     "output_type": "display_data"
    }
   ],
   "source": [
    "loss = history.history['loss']\n",
    "val_loss = history.history['val_loss']\n",
    "\n",
    "rmse = history.history['root_mean_squared_error']\n",
    "val_rmse = history.history['val_root_mean_squared_error']\n",
    "\n",
    "epochs = history.epoch\n",
    "\n",
    "fig, axes = plt.subplots(ncols=2, figsize=(12, 3))\n",
    "\n",
    "plt.sca(axes[0])\n",
    "plt.plot(epochs, loss, label='Training loss')\n",
    "plt.plot(epochs, val_loss, label='Validation loss')\n",
    "plt.title('Training and validation loss')\n",
    "plt.xlabel('Epochs')\n",
    "plt.ylabel('Loss')\n",
    "plt.legend()\n",
    "plt.grid()\n",
    "\n",
    "\n",
    "plt.sca(axes[1])\n",
    "plt.plot(epochs, rmse,  label='Training accuracy')\n",
    "plt.plot(epochs, val_rmse, label='Validation accuracy')\n",
    "plt.title('Training and validation accuracy')\n",
    "plt.xlabel('Epochs')\n",
    "plt.ylabel('Accuracy')\n",
    "plt.legend()\n",
    "plt.grid()"
   ]
  },
  {
   "cell_type": "code",
   "execution_count": 54,
   "id": "d350e482-f06d-4549-9cba-e1603469d27e",
   "metadata": {},
   "outputs": [
    {
     "name": "stdout",
     "output_type": "stream",
     "text": [
      "162/162 [==============================] - 0s 2ms/step - loss: 0.2749 - root_mean_squared_error: 0.5243\n"
     ]
    },
    {
     "data": {
      "text/plain": [
       "[0.27489808201789856, 0.5243072509765625]"
      ]
     },
     "execution_count": 54,
     "metadata": {},
     "output_type": "execute_result"
    }
   ],
   "source": [
    "model.evaluate(X_test, y_test)"
   ]
  },
  {
   "cell_type": "code",
   "execution_count": 55,
   "id": "0bedac0b-837b-477c-89d4-542659922650",
   "metadata": {},
   "outputs": [
    {
     "data": {
      "text/plain": [
       "array([[ 1.68120000e+00,  2.50000000e+01,  4.19220056e+00,\n",
       "         1.02228412e+00,  1.39200000e+03,  3.87743733e+00,\n",
       "         3.60600000e+01, -1.19010000e+02],\n",
       "       [ 2.53130000e+00,  3.00000000e+01,  5.03938356e+00,\n",
       "         1.19349315e+00,  1.56500000e+03,  2.67979452e+00,\n",
       "         3.51400000e+01, -1.19460000e+02],\n",
       "       [ 3.48010000e+00,  5.20000000e+01,  3.97715472e+00,\n",
       "         1.18587747e+00,  1.31000000e+03,  1.36033229e+00,\n",
       "         3.78000000e+01, -1.22440000e+02]])"
      ]
     },
     "execution_count": 55,
     "metadata": {},
     "output_type": "execute_result"
    }
   ],
   "source": [
    "X_new = X_test[:3]\n",
    "X_new"
   ]
  },
  {
   "cell_type": "code",
   "execution_count": 56,
   "id": "58941749-bab2-4244-8fb5-55ab999abdc8",
   "metadata": {},
   "outputs": [
    {
     "name": "stdout",
     "output_type": "stream",
     "text": [
      "1/1 [==============================] - 0s 390ms/step\n"
     ]
    },
    {
     "data": {
      "text/plain": [
       "array([[0.52485424],\n",
       "       [0.9164789 ],\n",
       "       [4.7690105 ]], dtype=float32)"
      ]
     },
     "execution_count": 56,
     "metadata": {},
     "output_type": "execute_result"
    }
   ],
   "source": [
    "model.predict(X_new)"
   ]
  },
  {
   "cell_type": "code",
   "execution_count": 57,
   "id": "a6bb932d-a12a-4174-b2aa-39ee406c1d01",
   "metadata": {},
   "outputs": [
    {
     "data": {
      "text/plain": [
       "array([0.477  , 0.458  , 5.00001])"
      ]
     },
     "execution_count": 57,
     "metadata": {},
     "output_type": "execute_result"
    }
   ],
   "source": [
    "y_test[:3]"
   ]
  },
  {
   "cell_type": "code",
   "execution_count": null,
   "id": "f95699d6-446f-401f-8edf-413969646b27",
   "metadata": {},
   "outputs": [],
   "source": []
  },
  {
   "cell_type": "code",
   "execution_count": null,
   "id": "d133fe55-b4f4-4979-9a12-fbccea2eb83d",
   "metadata": {},
   "outputs": [],
   "source": []
  },
  {
   "cell_type": "markdown",
   "id": "267c0a5c-eefc-4c32-a8fa-ea371efeac2d",
   "metadata": {},
   "source": [
    "### Complex Models using Functional API"
   ]
  },
  {
   "cell_type": "code",
   "execution_count": 59,
   "id": "79cec9d7-05d7-4fad-b8b7-b2b181f362b1",
   "metadata": {},
   "outputs": [],
   "source": [
    "normalization_layer = layers.Normalization()\n",
    "hidden_layer1 = layers.Dense(50, activation=\"relu\")\n",
    "hidden_layer2 = layers.Dense(50, activation=\"relu\")\n",
    "hidden_layer3 = layers.Dense(50, activation=\"relu\")\n",
    "concat_layer = layers.Concatenate()\n",
    "output_layer = layers.Dense(1)"
   ]
  },
  {
   "cell_type": "code",
   "execution_count": 60,
   "id": "aab0b9f5-c143-411c-86c5-d0a84ec2d5b9",
   "metadata": {},
   "outputs": [],
   "source": [
    "input_ = layers.Input(shape=X_train.shape[1:])\n",
    "normalized = normalization_layer(input_)\n",
    "hidden1 = hidden_layer1(normalized)\n",
    "hidden2 = hidden_layer2(hidden1)\n",
    "hidden3 = hidden_layer3(hidden2)\n",
    "concat = concat_layer([normalized, hidden3])\n",
    "output = output_layer(concat)\n",
    "\n",
    "model = keras.Model(inputs=[input_], outputs=[output])"
   ]
  },
  {
   "cell_type": "code",
   "execution_count": 61,
   "id": "9ec4743e-0e24-421a-9f6a-40d55c5f5a59",
   "metadata": {},
   "outputs": [
    {
     "name": "stdout",
     "output_type": "stream",
     "text": [
      "Model: \"model\"\n",
      "__________________________________________________________________________________________________\n",
      " Layer (type)                   Output Shape         Param #     Connected to                     \n",
      "==================================================================================================\n",
      " input_3 (InputLayer)           [(None, 8)]          0           []                               \n",
      "                                                                                                  \n",
      " normalization_1 (Normalization  (None, 8)           17          ['input_3[0][0]']                \n",
      " )                                                                                                \n",
      "                                                                                                  \n",
      " dense_10 (Dense)               (None, 50)           450         ['normalization_1[0][0]']        \n",
      "                                                                                                  \n",
      " dense_11 (Dense)               (None, 50)           2550        ['dense_10[0][0]']               \n",
      "                                                                                                  \n",
      " dense_12 (Dense)               (None, 50)           2550        ['dense_11[0][0]']               \n",
      "                                                                                                  \n",
      " concatenate (Concatenate)      (None, 58)           0           ['normalization_1[0][0]',        \n",
      "                                                                  'dense_12[0][0]']               \n",
      "                                                                                                  \n",
      " dense_13 (Dense)               (None, 1)            59          ['concatenate[0][0]']            \n",
      "                                                                                                  \n",
      "==================================================================================================\n",
      "Total params: 5,626\n",
      "Trainable params: 5,609\n",
      "Non-trainable params: 17\n",
      "__________________________________________________________________________________________________\n"
     ]
    }
   ],
   "source": [
    "model.summary()"
   ]
  },
  {
   "cell_type": "code",
   "execution_count": 62,
   "id": "3167a42e-f3f0-427a-b85a-bf2fc54042ff",
   "metadata": {},
   "outputs": [],
   "source": [
    "optimizer = tf.keras.optimizers.Adam(learning_rate=1e-3)\n",
    "\n",
    "model.compile(\n",
    "    loss=\"mse\",\n",
    "    optimizer=optimizer,\n",
    "    metrics=[\"RootMeanSquaredError\"]\n",
    ")\n",
    "normalization_layer.adapt(X_train)"
   ]
  },
  {
   "cell_type": "code",
   "execution_count": 63,
   "id": "5e17631e-cfbe-47ab-99ab-fe8cd642cfc5",
   "metadata": {
    "scrolled": true
   },
   "outputs": [
    {
     "name": "stdout",
     "output_type": "stream",
     "text": [
      "Epoch 1/30\n",
      "363/363 [==============================] - 2s 3ms/step - loss: 1.0071 - root_mean_squared_error: 1.0036 - val_loss: 0.5453 - val_root_mean_squared_error: 0.7384\n",
      "Epoch 2/30\n",
      "363/363 [==============================] - 1s 3ms/step - loss: 0.3919 - root_mean_squared_error: 0.6260 - val_loss: 0.6100 - val_root_mean_squared_error: 0.7811\n",
      "Epoch 3/30\n",
      "363/363 [==============================] - 1s 3ms/step - loss: 0.3692 - root_mean_squared_error: 0.6076 - val_loss: 0.5898 - val_root_mean_squared_error: 0.7680\n",
      "Epoch 4/30\n",
      "363/363 [==============================] - 1s 3ms/step - loss: 0.3396 - root_mean_squared_error: 0.5827 - val_loss: 2.8486 - val_root_mean_squared_error: 1.6878\n",
      "Epoch 5/30\n",
      "363/363 [==============================] - 1s 3ms/step - loss: 0.3291 - root_mean_squared_error: 0.5737 - val_loss: 1.8266 - val_root_mean_squared_error: 1.3515\n",
      "Epoch 6/30\n",
      "363/363 [==============================] - 1s 3ms/step - loss: 0.3519 - root_mean_squared_error: 0.5932 - val_loss: 2.6878 - val_root_mean_squared_error: 1.6395\n",
      "Epoch 7/30\n",
      "363/363 [==============================] - 1s 3ms/step - loss: 0.3306 - root_mean_squared_error: 0.5750 - val_loss: 2.6639 - val_root_mean_squared_error: 1.6321\n",
      "Epoch 8/30\n",
      "363/363 [==============================] - 1s 3ms/step - loss: 0.3157 - root_mean_squared_error: 0.5619 - val_loss: 10.0959 - val_root_mean_squared_error: 3.1774\n",
      "Epoch 9/30\n",
      "363/363 [==============================] - 1s 3ms/step - loss: 0.3304 - root_mean_squared_error: 0.5748 - val_loss: 14.3743 - val_root_mean_squared_error: 3.7913\n",
      "Epoch 10/30\n",
      "363/363 [==============================] - 1s 3ms/step - loss: 0.4225 - root_mean_squared_error: 0.6500 - val_loss: 4.8733 - val_root_mean_squared_error: 2.2076\n",
      "Epoch 11/30\n",
      "363/363 [==============================] - 1s 3ms/step - loss: 0.3071 - root_mean_squared_error: 0.5542 - val_loss: 3.9332 - val_root_mean_squared_error: 1.9832\n",
      "Epoch 12/30\n",
      "363/363 [==============================] - 1s 3ms/step - loss: 0.3661 - root_mean_squared_error: 0.6051 - val_loss: 3.2634 - val_root_mean_squared_error: 1.8065\n",
      "Epoch 13/30\n",
      "363/363 [==============================] - 1s 3ms/step - loss: 0.3069 - root_mean_squared_error: 0.5539 - val_loss: 1.0445 - val_root_mean_squared_error: 1.0220\n",
      "Epoch 14/30\n",
      "363/363 [==============================] - 1s 4ms/step - loss: 0.2914 - root_mean_squared_error: 0.5398 - val_loss: 3.4875 - val_root_mean_squared_error: 1.8675\n",
      "Epoch 15/30\n",
      "363/363 [==============================] - 1s 3ms/step - loss: 0.2852 - root_mean_squared_error: 0.5340 - val_loss: 3.7336 - val_root_mean_squared_error: 1.9323\n",
      "Epoch 16/30\n",
      "363/363 [==============================] - 1s 3ms/step - loss: 0.3082 - root_mean_squared_error: 0.5551 - val_loss: 5.3040 - val_root_mean_squared_error: 2.3030\n",
      "Epoch 17/30\n",
      "363/363 [==============================] - 1s 3ms/step - loss: 0.3153 - root_mean_squared_error: 0.5615 - val_loss: 0.4290 - val_root_mean_squared_error: 0.6550\n",
      "Epoch 18/30\n",
      "363/363 [==============================] - 1s 3ms/step - loss: 0.2732 - root_mean_squared_error: 0.5227 - val_loss: 0.3595 - val_root_mean_squared_error: 0.5996\n",
      "Epoch 19/30\n",
      "363/363 [==============================] - 1s 3ms/step - loss: 0.2677 - root_mean_squared_error: 0.5174 - val_loss: 0.2733 - val_root_mean_squared_error: 0.5228\n",
      "Epoch 20/30\n",
      "363/363 [==============================] - 1s 3ms/step - loss: 0.2701 - root_mean_squared_error: 0.5197 - val_loss: 0.2753 - val_root_mean_squared_error: 0.5247\n",
      "Epoch 21/30\n",
      "363/363 [==============================] - 1s 4ms/step - loss: 0.2661 - root_mean_squared_error: 0.5159 - val_loss: 0.2748 - val_root_mean_squared_error: 0.5243\n",
      "Epoch 22/30\n",
      "363/363 [==============================] - 1s 3ms/step - loss: 0.2655 - root_mean_squared_error: 0.5153 - val_loss: 0.3384 - val_root_mean_squared_error: 0.5817\n",
      "Epoch 23/30\n",
      "363/363 [==============================] - 1s 3ms/step - loss: 0.2629 - root_mean_squared_error: 0.5127 - val_loss: 0.2982 - val_root_mean_squared_error: 0.5460\n",
      "Epoch 24/30\n",
      "363/363 [==============================] - 1s 3ms/step - loss: 0.2632 - root_mean_squared_error: 0.5130 - val_loss: 0.2637 - val_root_mean_squared_error: 0.5135\n",
      "Epoch 25/30\n",
      "363/363 [==============================] - 1s 3ms/step - loss: 0.2620 - root_mean_squared_error: 0.5119 - val_loss: 0.2803 - val_root_mean_squared_error: 0.5294\n",
      "Epoch 26/30\n",
      "363/363 [==============================] - 1s 3ms/step - loss: 0.2602 - root_mean_squared_error: 0.5101 - val_loss: 0.2837 - val_root_mean_squared_error: 0.5326\n",
      "Epoch 27/30\n",
      "363/363 [==============================] - 1s 3ms/step - loss: 0.2596 - root_mean_squared_error: 0.5096 - val_loss: 2.2330 - val_root_mean_squared_error: 1.4943\n",
      "Epoch 28/30\n",
      "363/363 [==============================] - 1s 3ms/step - loss: 0.2768 - root_mean_squared_error: 0.5261 - val_loss: 6.1216 - val_root_mean_squared_error: 2.4742\n",
      "Epoch 29/30\n",
      "363/363 [==============================] - 1s 3ms/step - loss: 0.2761 - root_mean_squared_error: 0.5254 - val_loss: 5.5252 - val_root_mean_squared_error: 2.3506\n",
      "Epoch 30/30\n",
      "363/363 [==============================] - 1s 3ms/step - loss: 0.3050 - root_mean_squared_error: 0.5523 - val_loss: 0.4853 - val_root_mean_squared_error: 0.6967\n"
     ]
    }
   ],
   "source": [
    "history = model.fit(X_train, y_train, epochs=30,\n",
    "                   validation_data=(X_valid, y_valid))"
   ]
  },
  {
   "cell_type": "code",
   "execution_count": 64,
   "id": "fedd4198-b6dd-4526-938c-291458cb5c5c",
   "metadata": {},
   "outputs": [
    {
     "data": {
      "text/plain": [
       "<matplotlib.legend.Legend at 0x1a86a629220>"
      ]
     },
     "execution_count": 64,
     "metadata": {},
     "output_type": "execute_result"
    },
    {
     "data": {
      "image/png": "[encoded data removed]",
      "text/plain": [
       "<Figure size 800x500 with 1 Axes>"
      ]
     },
     "metadata": {},
     "output_type": "display_data"
    }
   ],
   "source": [
    "plt.figure(figsize=(8,5))\n",
    "\n",
    "for key, style in zip(history.history, [\"r--\", \"r--.\", \"g-\", \"b-*\"]):\n",
    "  epochs = np.array(history.epoch) + (0 if key.startswith(\"val_\") else -0.5)\n",
    "  plt.plot(epochs, history.history[key], style, label=key)\n",
    "plt.xlabel(\"Epochs\")\n",
    "plt.grid()\n",
    "plt.legend()"
   ]
  },
  {
   "cell_type": "code",
   "execution_count": 65,
   "id": "9455466a-3cff-4819-b503-edcb340676a2",
   "metadata": {},
   "outputs": [
    {
     "data": {
      "image/png": "[encoded data removed]",
      "text/plain": [
       "<Figure size 1200x300 with 2 Axes>"
      ]
     },
     "metadata": {},
     "output_type": "display_data"
    }
   ],
   "source": [
    "loss = history.history['loss']\n",
    "val_loss = history.history['val_loss']\n",
    "\n",
    "rmse = history.history['root_mean_squared_error']\n",
    "val_rmse = history.history['val_root_mean_squared_error']\n",
    "\n",
    "epochs = history.epoch\n",
    "\n",
    "fig, axes = plt.subplots(ncols=2, figsize=(12, 3))\n",
    "\n",
    "plt.sca(axes[0])\n",
    "plt.plot(epochs, loss, label='Training loss')\n",
    "plt.plot(epochs, val_loss, label='Validation loss')\n",
    "plt.title('Training and validation loss')\n",
    "plt.xlabel('Epochs')\n",
    "plt.ylabel('Loss')\n",
    "plt.legend()\n",
    "plt.grid()\n",
    "\n",
    "\n",
    "plt.sca(axes[1])\n",
    "plt.plot(epochs, rmse,  label='Training accuracy')\n",
    "plt.plot(epochs, val_rmse, label='Validation accuracy')\n",
    "plt.title('Training and validation accuracy')\n",
    "plt.xlabel('Epochs')\n",
    "plt.ylabel('Accuracy')\n",
    "plt.legend()\n",
    "plt.grid()"
   ]
  },
  {
   "cell_type": "code",
   "execution_count": 66,
   "id": "7253ef83-0bd3-4728-8d97-327785f8341d",
   "metadata": {},
   "outputs": [
    {
     "name": "stdout",
     "output_type": "stream",
     "text": [
      "162/162 [==============================] - 0s 2ms/step - loss: 0.2791 - root_mean_squared_error: 0.5283\n"
     ]
    },
    {
     "data": {
      "text/plain": [
       "[0.2791389524936676, 0.5283360481262207]"
      ]
     },
     "execution_count": 66,
     "metadata": {},
     "output_type": "execute_result"
    }
   ],
   "source": [
    "model.evaluate(X_test, y_test)"
   ]
  },
  {
   "cell_type": "code",
   "execution_count": 68,
   "id": "f78f1409-9ca7-4361-b0c6-f595613cd8d0",
   "metadata": {},
   "outputs": [
    {
     "name": "stdout",
     "output_type": "stream",
     "text": [
      "1/1 [==============================] - 0s 216ms/step\n"
     ]
    },
    {
     "data": {
      "text/plain": [
       "array([[0.47576714],\n",
       "       [1.1505992 ],\n",
       "       [4.865598  ]], dtype=float32)"
      ]
     },
     "execution_count": 68,
     "metadata": {},
     "output_type": "execute_result"
    }
   ],
   "source": [
    "model.predict(X_new)"
   ]
  },
  {
   "cell_type": "code",
   "execution_count": 70,
   "id": "0188f2c0-621b-4b76-9aaf-721fde85db24",
   "metadata": {},
   "outputs": [
    {
     "data": {
      "text/plain": [
       "array([0.477  , 0.458  , 5.00001])"
      ]
     },
     "execution_count": 70,
     "metadata": {},
     "output_type": "execute_result"
    }
   ],
   "source": [
    "y_test[:3]"
   ]
  },
  {
   "cell_type": "code",
   "execution_count": null,
   "id": "34ca4f7d-e9bb-4f7b-ab13-d312a42b689d",
   "metadata": {},
   "outputs": [],
   "source": []
  },
  {
   "cell_type": "code",
   "execution_count": null,
   "id": "d96f0184-1cee-49c1-8086-5aa34c527856",
   "metadata": {},
   "outputs": [],
   "source": []
  },
  {
   "cell_type": "markdown",
   "id": "285d5600-d9e5-40ad-a120-9ff5e227e52e",
   "metadata": {},
   "source": [
    "### Multiple Inputs"
   ]
  },
  {
   "cell_type": "code",
   "execution_count": 71,
   "id": "29636a9b-994a-4d77-b5ba-a694d00dfe4d",
   "metadata": {},
   "outputs": [],
   "source": [
    "input_wide = layers.Input(shape=[5])\n",
    "input_deep = layers.Input(shape=[6])\n",
    "\n",
    "norm_layer_wide = layers.Normalization()\n",
    "norm_layer_deep = layers.Normalization()\n",
    "\n",
    "norm_wide = norm_layer_wide(input_wide)\n",
    "norm_deep = norm_layer_deep(input_deep)\n",
    "\n",
    "hidden1 = layers.Dense(50, activation=\"relu\")(norm_deep)\n",
    "hidden2 = layers.Dense(50, activation=\"relu\")(hidden1)\n",
    "hidden3 = layers.Dense(50, activation=\"relu\")(hidden2)\n",
    "\n",
    "concat = layers.concatenate([norm_wide, hidden3])\n",
    "output = layers.Dense(1)(concat)\n",
    "\n",
    "model = keras.Model(inputs=[input_wide, input_deep], outputs=[output])"
   ]
  },
  {
   "cell_type": "code",
   "execution_count": 72,
   "id": "89ef4b18-8b49-400d-b3f1-89f15566cae1",
   "metadata": {},
   "outputs": [
    {
     "name": "stdout",
     "output_type": "stream",
     "text": [
      "Model: \"model_1\"\n",
      "__________________________________________________________________________________________________\n",
      " Layer (type)                   Output Shape         Param #     Connected to                     \n",
      "==================================================================================================\n",
      " input_5 (InputLayer)           [(None, 6)]          0           []                               \n",
      "                                                                                                  \n",
      " normalization_3 (Normalization  (None, 6)           13          ['input_5[0][0]']                \n",
      " )                                                                                                \n",
      "                                                                                                  \n",
      " dense_14 (Dense)               (None, 50)           350         ['normalization_3[0][0]']        \n",
      "                                                                                                  \n",
      " input_4 (InputLayer)           [(None, 5)]          0           []                               \n",
      "                                                                                                  \n",
      " dense_15 (Dense)               (None, 50)           2550        ['dense_14[0][0]']               \n",
      "                                                                                                  \n",
      " normalization_2 (Normalization  (None, 5)           11          ['input_4[0][0]']                \n",
      " )                                                                                                \n",
      "                                                                                                  \n",
      " dense_16 (Dense)               (None, 50)           2550        ['dense_15[0][0]']               \n",
      "                                                                                                  \n",
      " concatenate_1 (Concatenate)    (None, 55)           0           ['normalization_2[0][0]',        \n",
      "                                                                  'dense_16[0][0]']               \n",
      "                                                                                                  \n",
      " dense_17 (Dense)               (None, 1)            56          ['concatenate_1[0][0]']          \n",
      "                                                                                                  \n",
      "==================================================================================================\n",
      "Total params: 5,530\n",
      "Trainable params: 5,506\n",
      "Non-trainable params: 24\n",
      "__________________________________________________________________________________________________\n"
     ]
    }
   ],
   "source": [
    "model.summary()"
   ]
  },
  {
   "cell_type": "code",
   "execution_count": 73,
   "id": "c2038ea7-7c35-4250-9478-f5ed24179244",
   "metadata": {},
   "outputs": [],
   "source": [
    "optimizer = tf.keras.optimizers.Adam(learning_rate=1e-3)\n",
    "model.compile(\n",
    "  loss=\"mse\",\n",
    "  optimizer=optimizer,\n",
    "  metrics=[\"RootMeanSquaredError\"]\n",
    ")"
   ]
  },
  {
   "cell_type": "code",
   "execution_count": 74,
   "id": "e97470ee-afc6-4786-8437-8d73531036f7",
   "metadata": {},
   "outputs": [],
   "source": [
    "X_train_wide, X_train_deep = X_train[:, :5], X_train[:, 2:]\n",
    "X_valid_wide, X_valid_deep = X_valid[:, :5], X_valid[:, 2:]\n",
    "X_test_wide, X_test_deep = X_test[:, :5], X_test[:, 2:]\n",
    "X_new_wide, X_new_deep = X_test_wide[:3], X_test_deep[:3]\n",
    "\n",
    "norm_layer_wide.adapt(X_train_wide)\n",
    "norm_layer_deep.adapt(X_train_deep)"
   ]
  },
  {
   "cell_type": "code",
   "execution_count": 75,
   "id": "ecb4bc29-6969-49c5-a534-ac69479548f3",
   "metadata": {
    "scrolled": true
   },
   "outputs": [
    {
     "name": "stdout",
     "output_type": "stream",
     "text": [
      "Epoch 1/30\n",
      "363/363 [==============================] - 2s 4ms/step - loss: 1.2891 - root_mean_squared_error: 1.1354 - val_loss: 0.5199 - val_root_mean_squared_error: 0.7210\n",
      "Epoch 2/30\n",
      "363/363 [==============================] - 1s 3ms/step - loss: 0.4711 - root_mean_squared_error: 0.6863 - val_loss: 2.4160 - val_root_mean_squared_error: 1.5543\n",
      "Epoch 3/30\n",
      "363/363 [==============================] - 1s 3ms/step - loss: 0.4170 - root_mean_squared_error: 0.6458 - val_loss: 0.3821 - val_root_mean_squared_error: 0.6181\n",
      "Epoch 4/30\n",
      "363/363 [==============================] - 1s 3ms/step - loss: 0.3704 - root_mean_squared_error: 0.6086 - val_loss: 0.3495 - val_root_mean_squared_error: 0.5912\n",
      "Epoch 5/30\n",
      "363/363 [==============================] - 1s 3ms/step - loss: 0.3563 - root_mean_squared_error: 0.5969 - val_loss: 0.4779 - val_root_mean_squared_error: 0.6913\n",
      "Epoch 6/30\n",
      "363/363 [==============================] - 1s 3ms/step - loss: 0.3409 - root_mean_squared_error: 0.5838 - val_loss: 0.3148 - val_root_mean_squared_error: 0.5610\n",
      "Epoch 7/30\n",
      "363/363 [==============================] - 1s 3ms/step - loss: 0.3407 - root_mean_squared_error: 0.5837 - val_loss: 0.3227 - val_root_mean_squared_error: 0.5681\n",
      "Epoch 8/30\n",
      "363/363 [==============================] - 1s 3ms/step - loss: 0.3294 - root_mean_squared_error: 0.5739 - val_loss: 0.3661 - val_root_mean_squared_error: 0.6051\n",
      "Epoch 9/30\n",
      "363/363 [==============================] - 1s 3ms/step - loss: 0.3239 - root_mean_squared_error: 0.5691 - val_loss: 0.3512 - val_root_mean_squared_error: 0.5926\n",
      "Epoch 10/30\n",
      "363/363 [==============================] - 1s 3ms/step - loss: 0.3276 - root_mean_squared_error: 0.5723 - val_loss: 0.8009 - val_root_mean_squared_error: 0.8949\n",
      "Epoch 11/30\n",
      "363/363 [==============================] - 1s 4ms/step - loss: 0.3202 - root_mean_squared_error: 0.5658 - val_loss: 0.6621 - val_root_mean_squared_error: 0.8137\n",
      "Epoch 12/30\n",
      "363/363 [==============================] - 1s 3ms/step - loss: 0.3312 - root_mean_squared_error: 0.5755 - val_loss: 0.4994 - val_root_mean_squared_error: 0.7066\n",
      "Epoch 13/30\n",
      "363/363 [==============================] - 1s 3ms/step - loss: 0.3146 - root_mean_squared_error: 0.5609 - val_loss: 0.2948 - val_root_mean_squared_error: 0.5430\n",
      "Epoch 14/30\n",
      "363/363 [==============================] - 1s 3ms/step - loss: 0.3136 - root_mean_squared_error: 0.5600 - val_loss: 0.2912 - val_root_mean_squared_error: 0.5397\n",
      "Epoch 15/30\n",
      "363/363 [==============================] - 1s 3ms/step - loss: 0.3094 - root_mean_squared_error: 0.5562 - val_loss: 0.3472 - val_root_mean_squared_error: 0.5892\n",
      "Epoch 16/30\n",
      "363/363 [==============================] - 1s 3ms/step - loss: 0.3086 - root_mean_squared_error: 0.5555 - val_loss: 0.3476 - val_root_mean_squared_error: 0.5895\n",
      "Epoch 17/30\n",
      "363/363 [==============================] - 1s 3ms/step - loss: 0.3081 - root_mean_squared_error: 0.5551 - val_loss: 0.6131 - val_root_mean_squared_error: 0.7830\n",
      "Epoch 18/30\n",
      "363/363 [==============================] - 1s 3ms/step - loss: 0.3003 - root_mean_squared_error: 0.5480 - val_loss: 0.3004 - val_root_mean_squared_error: 0.5481\n",
      "Epoch 19/30\n",
      "363/363 [==============================] - 1s 3ms/step - loss: 0.2959 - root_mean_squared_error: 0.5439 - val_loss: 0.4308 - val_root_mean_squared_error: 0.6563\n",
      "Epoch 20/30\n",
      "363/363 [==============================] - 1s 3ms/step - loss: 0.2980 - root_mean_squared_error: 0.5459 - val_loss: 0.3282 - val_root_mean_squared_error: 0.5729\n",
      "Epoch 21/30\n",
      "363/363 [==============================] - 1s 3ms/step - loss: 0.2965 - root_mean_squared_error: 0.5445 - val_loss: 0.3608 - val_root_mean_squared_error: 0.6007\n",
      "Epoch 22/30\n",
      "363/363 [==============================] - 1s 3ms/step - loss: 0.2920 - root_mean_squared_error: 0.5404 - val_loss: 0.3515 - val_root_mean_squared_error: 0.5929\n",
      "Epoch 23/30\n",
      "363/363 [==============================] - 1s 3ms/step - loss: 0.2861 - root_mean_squared_error: 0.5349 - val_loss: 0.3119 - val_root_mean_squared_error: 0.5585\n",
      "Epoch 24/30\n",
      "363/363 [==============================] - 1s 4ms/step - loss: 0.2867 - root_mean_squared_error: 0.5354 - val_loss: 0.5939 - val_root_mean_squared_error: 0.7707\n",
      "Epoch 25/30\n",
      "363/363 [==============================] - 1s 3ms/step - loss: 0.2850 - root_mean_squared_error: 0.5339 - val_loss: 0.3255 - val_root_mean_squared_error: 0.5705\n",
      "Epoch 26/30\n",
      "363/363 [==============================] - 1s 3ms/step - loss: 0.2836 - root_mean_squared_error: 0.5325 - val_loss: 0.5732 - val_root_mean_squared_error: 0.7571\n",
      "Epoch 27/30\n",
      "363/363 [==============================] - 1s 3ms/step - loss: 0.2828 - root_mean_squared_error: 0.5318 - val_loss: 0.2864 - val_root_mean_squared_error: 0.5352\n",
      "Epoch 28/30\n",
      "363/363 [==============================] - 1s 3ms/step - loss: 0.2823 - root_mean_squared_error: 0.5314 - val_loss: 0.3601 - val_root_mean_squared_error: 0.6001\n",
      "Epoch 29/30\n",
      "363/363 [==============================] - 1s 3ms/step - loss: 0.2757 - root_mean_squared_error: 0.5251 - val_loss: 0.3095 - val_root_mean_squared_error: 0.5564\n",
      "Epoch 30/30\n",
      "363/363 [==============================] - 1s 3ms/step - loss: 0.2760 - root_mean_squared_error: 0.5254 - val_loss: 0.3708 - val_root_mean_squared_error: 0.6089\n"
     ]
    }
   ],
   "source": [
    "history = model.fit(\n",
    "  (X_train_wide, X_train_deep), y_train, epochs=30,\n",
    "  validation_data=((X_valid_wide, X_valid_deep), y_valid)\n",
    ")"
   ]
  },
  {
   "cell_type": "code",
   "execution_count": 76,
   "id": "cae23546-1814-40a1-8184-ac007d9c7a80",
   "metadata": {},
   "outputs": [
    {
     "data": {
      "text/plain": [
       "<matplotlib.legend.Legend at 0x1a878dcfeb0>"
      ]
     },
     "execution_count": 76,
     "metadata": {},
     "output_type": "execute_result"
    },
    {
     "data": {
      "image/png": "[encoded data removed]",
      "text/plain": [
       "<Figure size 800x500 with 1 Axes>"
      ]
     },
     "metadata": {},
     "output_type": "display_data"
    }
   ],
   "source": [
    "pd.DataFrame(history.history).plot(\n",
    "  figsize=(8,5), grid=True, xlabel=\"Epochs\",\n",
    "  style=[\"r--\", \"r--.\", \"g-\", \"b-*\"]\n",
    ")\n",
    "plt.legend()\n"
   ]
  },
  {
   "cell_type": "code",
   "execution_count": 77,
   "id": "c4d3f2d0-e748-427f-a0ec-b3de9563ac7c",
   "metadata": {},
   "outputs": [
    {
     "data": {
      "image/png": "[encoded data removed]",
      "text/plain": [
       "<Figure size 1200x300 with 2 Axes>"
      ]
     },
     "metadata": {},
     "output_type": "display_data"
    }
   ],
   "source": [
    "loss = history.history['loss']\n",
    "val_loss = history.history['val_loss']\n",
    "\n",
    "rmse = history.history['root_mean_squared_error']\n",
    "val_rmse = history.history['val_root_mean_squared_error']\n",
    "\n",
    "epochs = history.epoch\n",
    "\n",
    "fig, axes = plt.subplots(ncols=2, figsize=(12, 3))\n",
    "\n",
    "plt.sca(axes[0])\n",
    "plt.plot(epochs, loss, label='Training loss')\n",
    "plt.plot(epochs, val_loss, label='Validation loss')\n",
    "plt.title('Training and validation loss')\n",
    "plt.xlabel('Epochs')\n",
    "plt.ylabel('Loss')\n",
    "plt.legend()\n",
    "plt.grid()\n",
    "\n",
    "\n",
    "plt.sca(axes[1])\n",
    "plt.plot(epochs, rmse,  label='Training accuracy')\n",
    "plt.plot(epochs, val_rmse, label='Validation accuracy')\n",
    "plt.title('Training and validation accuracy')\n",
    "plt.xlabel('Epochs')\n",
    "plt.ylabel('Accuracy')\n",
    "plt.legend()\n",
    "plt.grid()"
   ]
  },
  {
   "cell_type": "code",
   "execution_count": 78,
   "id": "7848e5bc-f87c-4880-bf94-23adb1319a80",
   "metadata": {},
   "outputs": [
    {
     "name": "stdout",
     "output_type": "stream",
     "text": [
      "162/162 [==============================] - 0s 2ms/step - loss: 0.2970 - root_mean_squared_error: 0.5450\n"
     ]
    },
    {
     "data": {
      "text/plain": [
       "[0.29704463481903076, 0.5450180172920227]"
      ]
     },
     "execution_count": 78,
     "metadata": {},
     "output_type": "execute_result"
    }
   ],
   "source": [
    "model.evaluate((X_test_wide, X_test_deep), y_test)"
   ]
  },
  {
   "cell_type": "code",
   "execution_count": 80,
   "id": "158c5fa9-19a1-4a77-80fa-010ffce31903",
   "metadata": {},
   "outputs": [
    {
     "name": "stdout",
     "output_type": "stream",
     "text": [
      "1/1 [==============================] - 0s 258ms/step\n"
     ]
    },
    {
     "data": {
      "text/plain": [
       "array([[0.49440524],\n",
       "       [0.8967973 ],\n",
       "       [3.7021258 ]], dtype=float32)"
      ]
     },
     "execution_count": 80,
     "metadata": {},
     "output_type": "execute_result"
    }
   ],
   "source": [
    "model.predict((X_new_wide, X_new_deep))"
   ]
  },
  {
   "cell_type": "code",
   "execution_count": 83,
   "id": "f1825259-dee0-487b-8ac5-df436bafc85f",
   "metadata": {},
   "outputs": [
    {
     "data": {
      "text/plain": [
       "array([0.477  , 0.458  , 5.00001])"
      ]
     },
     "execution_count": 83,
     "metadata": {},
     "output_type": "execute_result"
    }
   ],
   "source": [
    "y_test[:3]"
   ]
  },
  {
   "cell_type": "code",
   "execution_count": null,
   "id": "30cb2922-7ef4-47f0-9490-4b5b1e503d57",
   "metadata": {},
   "outputs": [],
   "source": []
  },
  {
   "cell_type": "code",
   "execution_count": null,
   "id": "d34caa30-505b-494b-b4ef-034dcb65b987",
   "metadata": {},
   "outputs": [],
   "source": []
  },
  {
   "cell_type": "markdown",
   "id": "653bd7cc-fe8d-4550-8de2-479c7c2aa17d",
   "metadata": {},
   "source": [
    "### Multiple Inputs and Outputs"
   ]
  },
  {
   "cell_type": "code",
   "execution_count": 86,
   "id": "fd4aa663-580e-4ba6-9c20-4e09680c0fc1",
   "metadata": {},
   "outputs": [],
   "source": [
    "input_wide = layers.Input(shape=[5])\n",
    "norm_layer_wide = layers.Normalization()\n",
    "norm_wide = norm_layer_wide(input_wide)\n",
    "\n",
    "input_deep = layers.Input(shape=[6])\n",
    "norm_layer_deep = layers.Normalization()\n",
    "norm_deep = norm_layer_deep(input_deep)\n",
    "\n",
    "hidden1 = layers.Dense(50, activation=\"relu\")(norm_deep)\n",
    "hidden2 = layers.Dense(50, activation=\"relu\")(hidden1)\n",
    "hidden3 = layers.Dense(50, activation=\"relu\")(hidden2)\n",
    "\n",
    "concat = layers.concatenate([norm_wide, hidden3])\n",
    "output = layers.Dense(1)(concat)\n",
    "\n",
    "aux_output = layers.Dense(1)(hidden3)\n",
    "\n",
    "model = keras.Model(inputs=[input_wide, input_deep], outputs=[output, aux_output])"
   ]
  },
  {
   "cell_type": "code",
   "execution_count": 87,
   "id": "ee053ba3-38c9-4702-aa8e-3538092fd8d3",
   "metadata": {},
   "outputs": [
    {
     "name": "stdout",
     "output_type": "stream",
     "text": [
      "Model: \"model_2\"\n",
      "__________________________________________________________________________________________________\n",
      " Layer (type)                   Output Shape         Param #     Connected to                     \n",
      "==================================================================================================\n",
      " input_9 (InputLayer)           [(None, 6)]          0           []                               \n",
      "                                                                                                  \n",
      " normalization_7 (Normalization  (None, 6)           13          ['input_9[0][0]']                \n",
      " )                                                                                                \n",
      "                                                                                                  \n",
      " dense_23 (Dense)               (None, 50)           350         ['normalization_7[0][0]']        \n",
      "                                                                                                  \n",
      " input_8 (InputLayer)           [(None, 5)]          0           []                               \n",
      "                                                                                                  \n",
      " dense_24 (Dense)               (None, 50)           2550        ['dense_23[0][0]']               \n",
      "                                                                                                  \n",
      " normalization_6 (Normalization  (None, 5)           11          ['input_8[0][0]']                \n",
      " )                                                                                                \n",
      "                                                                                                  \n",
      " dense_25 (Dense)               (None, 50)           2550        ['dense_24[0][0]']               \n",
      "                                                                                                  \n",
      " concatenate_3 (Concatenate)    (None, 55)           0           ['normalization_6[0][0]',        \n",
      "                                                                  'dense_25[0][0]']               \n",
      "                                                                                                  \n",
      " dense_26 (Dense)               (None, 1)            56          ['concatenate_3[0][0]']          \n",
      "                                                                                                  \n",
      " dense_27 (Dense)               (None, 1)            51          ['dense_25[0][0]']               \n",
      "                                                                                                  \n",
      "==================================================================================================\n",
      "Total params: 5,581\n",
      "Trainable params: 5,557\n",
      "Non-trainable params: 24\n",
      "__________________________________________________________________________________________________\n"
     ]
    }
   ],
   "source": [
    "model.summary()"
   ]
  },
  {
   "cell_type": "code",
   "execution_count": 88,
   "id": "fa415497-b293-46c0-a7f2-787540dd4033",
   "metadata": {},
   "outputs": [],
   "source": [
    "optimizer = tf.keras.optimizers.Adam(learning_rate=1e-3)\n",
    "\n",
    "model.compile(\n",
    "    loss=(\"mse\", \"mse\"),\n",
    "    loss_weights=(0.9, 0.1),\n",
    "    optimizer=optimizer,\n",
    "    metrics=[\"RootMeanSquaredError\"]\n",
    ")"
   ]
  },
  {
   "cell_type": "code",
   "execution_count": 89,
   "id": "81e40873-9dff-4ade-aab0-949ae8bb0079",
   "metadata": {
    "scrolled": true
   },
   "outputs": [
    {
     "name": "stdout",
     "output_type": "stream",
     "text": [
      "Epoch 1/30\n",
      "363/363 [==============================] - 3s 5ms/step - loss: 0.9604 - dense_26_loss: 0.9406 - dense_27_loss: 1.1380 - dense_26_root_mean_squared_error: 0.9699 - dense_27_root_mean_squared_error: 1.0668 - val_loss: 0.4632 - val_dense_26_loss: 0.4539 - val_dense_27_loss: 0.5475 - val_dense_26_root_mean_squared_error: 0.6737 - val_dense_27_root_mean_squared_error: 0.7399\n",
      "Epoch 2/30\n",
      "363/363 [==============================] - 1s 3ms/step - loss: 0.4454 - dense_26_loss: 0.4368 - dense_27_loss: 0.5229 - dense_26_root_mean_squared_error: 0.6609 - dense_27_root_mean_squared_error: 0.7231 - val_loss: 2.3300 - val_dense_26_loss: 2.4682 - val_dense_27_loss: 1.0861 - val_dense_26_root_mean_squared_error: 1.5711 - val_dense_27_root_mean_squared_error: 1.0421\n",
      "Epoch 3/30\n",
      "363/363 [==============================] - 1s 3ms/step - loss: 0.4168 - dense_26_loss: 0.4092 - dense_27_loss: 0.4850 - dense_26_root_mean_squared_error: 0.6397 - dense_27_root_mean_squared_error: 0.6964 - val_loss: 0.3618 - val_dense_26_loss: 0.3521 - val_dense_27_loss: 0.4490 - val_dense_26_root_mean_squared_error: 0.5934 - val_dense_27_root_mean_squared_error: 0.6701\n",
      "Epoch 4/30\n",
      "363/363 [==============================] - 1s 3ms/step - loss: 0.3755 - dense_26_loss: 0.3666 - dense_27_loss: 0.4558 - dense_26_root_mean_squared_error: 0.6054 - dense_27_root_mean_squared_error: 0.6751 - val_loss: 1.8999 - val_dense_26_loss: 1.9869 - val_dense_27_loss: 1.1167 - val_dense_26_root_mean_squared_error: 1.4096 - val_dense_27_root_mean_squared_error: 1.0567\n",
      "Epoch 5/30\n",
      "363/363 [==============================] - 1s 3ms/step - loss: 0.3573 - dense_26_loss: 0.3491 - dense_27_loss: 0.4314 - dense_26_root_mean_squared_error: 0.5908 - dense_27_root_mean_squared_error: 0.6568 - val_loss: 2.9348 - val_dense_26_loss: 2.8645 - val_dense_27_loss: 3.5680 - val_dense_26_root_mean_squared_error: 1.6925 - val_dense_27_root_mean_squared_error: 1.8889\n",
      "Epoch 6/30\n",
      "363/363 [==============================] - 1s 4ms/step - loss: 0.3759 - dense_26_loss: 0.3674 - dense_27_loss: 0.4520 - dense_26_root_mean_squared_error: 0.6062 - dense_27_root_mean_squared_error: 0.6723 - val_loss: 1.2099 - val_dense_26_loss: 1.1398 - val_dense_27_loss: 1.8409 - val_dense_26_root_mean_squared_error: 1.0676 - val_dense_27_root_mean_squared_error: 1.3568\n",
      "Epoch 7/30\n",
      "363/363 [==============================] - 1s 4ms/step - loss: 0.3471 - dense_26_loss: 0.3393 - dense_27_loss: 0.4166 - dense_26_root_mean_squared_error: 0.5825 - dense_27_root_mean_squared_error: 0.6454 - val_loss: 2.7092 - val_dense_26_loss: 2.6137 - val_dense_27_loss: 3.5679 - val_dense_26_root_mean_squared_error: 1.6167 - val_dense_27_root_mean_squared_error: 1.8889\n",
      "Epoch 8/30\n",
      "363/363 [==============================] - 1s 3ms/step - loss: 0.3468 - dense_26_loss: 0.3396 - dense_27_loss: 0.4113 - dense_26_root_mean_squared_error: 0.5828 - dense_27_root_mean_squared_error: 0.6413 - val_loss: 2.4611 - val_dense_26_loss: 2.3446 - val_dense_27_loss: 3.5098 - val_dense_26_root_mean_squared_error: 1.5312 - val_dense_27_root_mean_squared_error: 1.8735\n",
      "Epoch 9/30\n",
      "363/363 [==============================] - 1s 3ms/step - loss: 0.3455 - dense_26_loss: 0.3377 - dense_27_loss: 0.4153 - dense_26_root_mean_squared_error: 0.5812 - dense_27_root_mean_squared_error: 0.6444 - val_loss: 0.3426 - val_dense_26_loss: 0.3396 - val_dense_27_loss: 0.3697 - val_dense_26_root_mean_squared_error: 0.5828 - val_dense_27_root_mean_squared_error: 0.6080\n",
      "Epoch 10/30\n",
      "363/363 [==============================] - 1s 3ms/step - loss: 0.3289 - dense_26_loss: 0.3226 - dense_27_loss: 0.3852 - dense_26_root_mean_squared_error: 0.5680 - dense_27_root_mean_squared_error: 0.6206 - val_loss: 0.3793 - val_dense_26_loss: 0.3755 - val_dense_27_loss: 0.4138 - val_dense_26_root_mean_squared_error: 0.6128 - val_dense_27_root_mean_squared_error: 0.6433\n",
      "Epoch 11/30\n",
      "363/363 [==============================] - 1s 4ms/step - loss: 0.3226 - dense_26_loss: 0.3166 - dense_27_loss: 0.3766 - dense_26_root_mean_squared_error: 0.5627 - dense_27_root_mean_squared_error: 0.6137 - val_loss: 0.2976 - val_dense_26_loss: 0.2907 - val_dense_27_loss: 0.3601 - val_dense_26_root_mean_squared_error: 0.5391 - val_dense_27_root_mean_squared_error: 0.6001\n",
      "Epoch 12/30\n",
      "363/363 [==============================] - 1s 3ms/step - loss: 0.3240 - dense_26_loss: 0.3180 - dense_27_loss: 0.3779 - dense_26_root_mean_squared_error: 0.5639 - dense_27_root_mean_squared_error: 0.6147 - val_loss: 0.3447 - val_dense_26_loss: 0.3305 - val_dense_27_loss: 0.4725 - val_dense_26_root_mean_squared_error: 0.5749 - val_dense_27_root_mean_squared_error: 0.6874\n",
      "Epoch 13/30\n",
      "363/363 [==============================] - 1s 3ms/step - loss: 0.3174 - dense_26_loss: 0.3114 - dense_27_loss: 0.3713 - dense_26_root_mean_squared_error: 0.5581 - dense_27_root_mean_squared_error: 0.6094 - val_loss: 0.2996 - val_dense_26_loss: 0.2925 - val_dense_27_loss: 0.3632 - val_dense_26_root_mean_squared_error: 0.5409 - val_dense_27_root_mean_squared_error: 0.6026\n",
      "Epoch 14/30\n",
      "363/363 [==============================] - 1s 3ms/step - loss: 0.3200 - dense_26_loss: 0.3142 - dense_27_loss: 0.3728 - dense_26_root_mean_squared_error: 0.5605 - dense_27_root_mean_squared_error: 0.6106 - val_loss: 0.2989 - val_dense_26_loss: 0.2906 - val_dense_27_loss: 0.3731 - val_dense_26_root_mean_squared_error: 0.5391 - val_dense_27_root_mean_squared_error: 0.6108\n",
      "Epoch 15/30\n",
      "363/363 [==============================] - 1s 3ms/step - loss: 0.3168 - dense_26_loss: 0.3113 - dense_27_loss: 0.3659 - dense_26_root_mean_squared_error: 0.5579 - dense_27_root_mean_squared_error: 0.6049 - val_loss: 0.2997 - val_dense_26_loss: 0.2936 - val_dense_27_loss: 0.3548 - val_dense_26_root_mean_squared_error: 0.5418 - val_dense_27_root_mean_squared_error: 0.5957\n",
      "Epoch 16/30\n",
      "363/363 [==============================] - 1s 3ms/step - loss: 0.3114 - dense_26_loss: 0.3058 - dense_27_loss: 0.3621 - dense_26_root_mean_squared_error: 0.5529 - dense_27_root_mean_squared_error: 0.6017 - val_loss: 0.3094 - val_dense_26_loss: 0.3025 - val_dense_27_loss: 0.3716 - val_dense_26_root_mean_squared_error: 0.5500 - val_dense_27_root_mean_squared_error: 0.6096\n",
      "Epoch 17/30\n",
      "363/363 [==============================] - 1s 3ms/step - loss: 0.3112 - dense_26_loss: 0.3056 - dense_27_loss: 0.3621 - dense_26_root_mean_squared_error: 0.5528 - dense_27_root_mean_squared_error: 0.6018 - val_loss: 0.4987 - val_dense_26_loss: 0.4757 - val_dense_27_loss: 0.7056 - val_dense_26_root_mean_squared_error: 0.6897 - val_dense_27_root_mean_squared_error: 0.8400\n",
      "Epoch 18/30\n",
      "363/363 [==============================] - 1s 3ms/step - loss: 0.3064 - dense_26_loss: 0.3010 - dense_27_loss: 0.3558 - dense_26_root_mean_squared_error: 0.5486 - dense_27_root_mean_squared_error: 0.5965 - val_loss: 0.3066 - val_dense_26_loss: 0.2999 - val_dense_27_loss: 0.3665 - val_dense_26_root_mean_squared_error: 0.5477 - val_dense_27_root_mean_squared_error: 0.6054\n",
      "Epoch 19/30\n",
      "363/363 [==============================] - 1s 3ms/step - loss: 0.3030 - dense_26_loss: 0.2978 - dense_27_loss: 0.3496 - dense_26_root_mean_squared_error: 0.5458 - dense_27_root_mean_squared_error: 0.5912 - val_loss: 0.3035 - val_dense_26_loss: 0.2990 - val_dense_27_loss: 0.3441 - val_dense_26_root_mean_squared_error: 0.5469 - val_dense_27_root_mean_squared_error: 0.5866\n",
      "Epoch 20/30\n",
      "363/363 [==============================] - 1s 3ms/step - loss: 0.3062 - dense_26_loss: 0.3010 - dense_27_loss: 0.3533 - dense_26_root_mean_squared_error: 0.5486 - dense_27_root_mean_squared_error: 0.5944 - val_loss: 0.5873 - val_dense_26_loss: 0.5742 - val_dense_27_loss: 0.7050 - val_dense_26_root_mean_squared_error: 0.7577 - val_dense_27_root_mean_squared_error: 0.8396\n",
      "Epoch 21/30\n",
      "363/363 [==============================] - 1s 4ms/step - loss: 0.3027 - dense_26_loss: 0.2975 - dense_27_loss: 0.3491 - dense_26_root_mean_squared_error: 0.5455 - dense_27_root_mean_squared_error: 0.5909 - val_loss: 0.3587 - val_dense_26_loss: 0.3352 - val_dense_27_loss: 0.5705 - val_dense_26_root_mean_squared_error: 0.5789 - val_dense_27_root_mean_squared_error: 0.7553\n",
      "Epoch 22/30\n",
      "363/363 [==============================] - 1s 3ms/step - loss: 0.3033 - dense_26_loss: 0.2981 - dense_27_loss: 0.3503 - dense_26_root_mean_squared_error: 0.5460 - dense_27_root_mean_squared_error: 0.5919 - val_loss: 0.3119 - val_dense_26_loss: 0.3056 - val_dense_27_loss: 0.3682 - val_dense_26_root_mean_squared_error: 0.5528 - val_dense_27_root_mean_squared_error: 0.6068\n",
      "Epoch 23/30\n",
      "363/363 [==============================] - 1s 3ms/step - loss: 0.2983 - dense_26_loss: 0.2922 - dense_27_loss: 0.3530 - dense_26_root_mean_squared_error: 0.5405 - dense_27_root_mean_squared_error: 0.5941 - val_loss: 0.3714 - val_dense_26_loss: 0.3646 - val_dense_27_loss: 0.4328 - val_dense_26_root_mean_squared_error: 0.6038 - val_dense_27_root_mean_squared_error: 0.6579\n",
      "Epoch 24/30\n",
      "363/363 [==============================] - 1s 3ms/step - loss: 0.3031 - dense_26_loss: 0.2969 - dense_27_loss: 0.3590 - dense_26_root_mean_squared_error: 0.5449 - dense_27_root_mean_squared_error: 0.5991 - val_loss: 1.0139 - val_dense_26_loss: 1.0757 - val_dense_27_loss: 0.4581 - val_dense_26_root_mean_squared_error: 1.0372 - val_dense_27_root_mean_squared_error: 0.6768\n",
      "Epoch 25/30\n",
      "363/363 [==============================] - 1s 4ms/step - loss: 0.3022 - dense_26_loss: 0.2975 - dense_27_loss: 0.3450 - dense_26_root_mean_squared_error: 0.5454 - dense_27_root_mean_squared_error: 0.5874 - val_loss: 0.3179 - val_dense_26_loss: 0.3024 - val_dense_27_loss: 0.4577 - val_dense_26_root_mean_squared_error: 0.5499 - val_dense_27_root_mean_squared_error: 0.6765\n",
      "Epoch 26/30\n",
      "363/363 [==============================] - 1s 4ms/step - loss: 0.2940 - dense_26_loss: 0.2887 - dense_27_loss: 0.3418 - dense_26_root_mean_squared_error: 0.5373 - dense_27_root_mean_squared_error: 0.5847 - val_loss: 1.8626 - val_dense_26_loss: 1.5242 - val_dense_27_loss: 4.9086 - val_dense_26_root_mean_squared_error: 1.2346 - val_dense_27_root_mean_squared_error: 2.2155\n",
      "Epoch 27/30\n",
      "363/363 [==============================] - 1s 3ms/step - loss: 0.2980 - dense_26_loss: 0.2920 - dense_27_loss: 0.3517 - dense_26_root_mean_squared_error: 0.5404 - dense_27_root_mean_squared_error: 0.5930 - val_loss: 0.4182 - val_dense_26_loss: 0.4212 - val_dense_27_loss: 0.3913 - val_dense_26_root_mean_squared_error: 0.6490 - val_dense_27_root_mean_squared_error: 0.6256\n",
      "Epoch 28/30\n",
      "363/363 [==============================] - 1s 3ms/step - loss: 0.2944 - dense_26_loss: 0.2894 - dense_27_loss: 0.3393 - dense_26_root_mean_squared_error: 0.5380 - dense_27_root_mean_squared_error: 0.5825 - val_loss: 1.7454 - val_dense_26_loss: 1.8205 - val_dense_27_loss: 1.0696 - val_dense_26_root_mean_squared_error: 1.3493 - val_dense_27_root_mean_squared_error: 1.0342\n",
      "Epoch 29/30\n",
      "363/363 [==============================] - 1s 3ms/step - loss: 0.2940 - dense_26_loss: 0.2894 - dense_27_loss: 0.3351 - dense_26_root_mean_squared_error: 0.5380 - dense_27_root_mean_squared_error: 0.5789 - val_loss: 0.3520 - val_dense_26_loss: 0.3538 - val_dense_27_loss: 0.3357 - val_dense_26_root_mean_squared_error: 0.5948 - val_dense_27_root_mean_squared_error: 0.5794\n",
      "Epoch 30/30\n",
      "363/363 [==============================] - 1s 3ms/step - loss: 0.2876 - dense_26_loss: 0.2829 - dense_27_loss: 0.3302 - dense_26_root_mean_squared_error: 0.5318 - dense_27_root_mean_squared_error: 0.5746 - val_loss: 0.3529 - val_dense_26_loss: 0.3513 - val_dense_27_loss: 0.3674 - val_dense_26_root_mean_squared_error: 0.5927 - val_dense_27_root_mean_squared_error: 0.6061\n"
     ]
    }
   ],
   "source": [
    "norm_layer_wide.adapt(X_train_wide)\n",
    "norm_layer_deep.adapt(X_train_deep)\n",
    "\n",
    "history = model.fit(\n",
    "  (X_train_wide, X_train_deep), (y_train, y_train), epochs=30,\n",
    "  validation_data=((X_valid_wide, X_valid_deep), (y_valid, y_valid))\n",
    ")"
   ]
  },
  {
   "cell_type": "code",
   "execution_count": null,
   "id": "f667418e-8214-4043-b793-b6858f754284",
   "metadata": {},
   "outputs": [],
   "source": []
  },
  {
   "cell_type": "code",
   "execution_count": 97,
   "id": "5fce5a38-2bec-4d04-ba55-ea3a09f59712",
   "metadata": {},
   "outputs": [
    {
     "data": {
      "text/plain": [
       "dict_keys(['loss', 'dense_26_loss', 'dense_27_loss', 'dense_26_root_mean_squared_error', 'dense_27_root_mean_squared_error', 'val_loss', 'val_dense_26_loss', 'val_dense_27_loss', 'val_dense_26_root_mean_squared_error', 'val_dense_27_root_mean_squared_error'])"
      ]
     },
     "execution_count": 97,
     "metadata": {},
     "output_type": "execute_result"
    }
   ],
   "source": [
    "history.history.keys()"
   ]
  },
  {
   "cell_type": "code",
   "execution_count": null,
   "id": "a96a79c9-1207-4462-91a3-1fc3c403bd72",
   "metadata": {},
   "outputs": [],
   "source": []
  },
  {
   "cell_type": "code",
   "execution_count": 90,
   "id": "4cbd8992-fcd4-492c-8145-3115016ee617",
   "metadata": {},
   "outputs": [
    {
     "name": "stdout",
     "output_type": "stream",
     "text": [
      "162/162 [==============================] - 0s 2ms/step - loss: 0.3074 - dense_26_loss: 0.3020 - dense_27_loss: 0.3552 - dense_26_root_mean_squared_error: 0.5496 - dense_27_root_mean_squared_error: 0.5960\n"
     ]
    }
   ],
   "source": [
    "eval_results = model.evaluate((X_test_wide, X_test_deep), (y_test, y_test))"
   ]
  },
  {
   "cell_type": "code",
   "execution_count": null,
   "id": "fe006cf7-e8b4-42a3-8342-32f31efddcbd",
   "metadata": {},
   "outputs": [],
   "source": []
  },
  {
   "cell_type": "code",
   "execution_count": 91,
   "id": "f3736f16-f8af-42f6-8e2e-ce178c77ba5c",
   "metadata": {},
   "outputs": [
    {
     "data": {
      "text/plain": [
       "[0.30736270546913147,\n",
       " 0.302049845457077,\n",
       " 0.35517674684524536,\n",
       " 0.5495905876159668,\n",
       " 0.5959670543670654]"
      ]
     },
     "execution_count": 91,
     "metadata": {},
     "output_type": "execute_result"
    }
   ],
   "source": [
    "eval_results"
   ]
  },
  {
   "cell_type": "code",
   "execution_count": 74,
   "id": "3c7fbd9f-69a7-4e73-9c47-6715bc1be046",
   "metadata": {},
   "outputs": [],
   "source": [
    "weighted_sum_of_losses, main_loss, aux_loss, main_rmse, aux_rmse = eval_results"
   ]
  },
  {
   "cell_type": "code",
   "execution_count": 98,
   "id": "1b21258c-bfde-4e68-accb-8b67c87d7e42",
   "metadata": {},
   "outputs": [
    {
     "name": "stdout",
     "output_type": "stream",
     "text": [
      "WARNING:tensorflow:5 out of the last 5 calls to <function Model.make_predict_function.<locals>.predict_function at 0x000001A853D8E3A0> triggered tf.function retracing. Tracing is expensive and the excessive number of tracings could be due to (1) creating @tf.function repeatedly in a loop, (2) passing tensors with different shapes, (3) passing Python objects instead of tensors. For (1), please define your @tf.function outside of the loop. For (2), @tf.function has reduce_retracing=True option that can avoid unnecessary retracing. For (3), please refer to https://www.tensorflow.org/guide/function#controlling_retracing and https://www.tensorflow.org/api_docs/python/tf/function for  more details.\n",
      "1/1 [==============================] - 0s 125ms/step\n"
     ]
    },
    {
     "data": {
      "text/plain": [
       "[array([[0.4935091],\n",
       "        [1.3135679],\n",
       "        [3.9424925]], dtype=float32),\n",
       " array([[0.6927787],\n",
       "        [1.2563348],\n",
       "        [3.8281293]], dtype=float32)]"
      ]
     },
     "execution_count": 98,
     "metadata": {},
     "output_type": "execute_result"
    }
   ],
   "source": [
    "model.predict((X_new_wide, X_new_deep))"
   ]
  },
  {
   "cell_type": "code",
   "execution_count": 99,
   "id": "fd8ea817-3239-4d41-a08d-73769ac22d5b",
   "metadata": {},
   "outputs": [
    {
     "name": "stdout",
     "output_type": "stream",
     "text": [
      "1/1 [==============================] - 0s 62ms/step\n"
     ]
    },
    {
     "data": {
      "text/plain": [
       "{'dense_26': array([[0.4935091],\n",
       "        [1.3135679],\n",
       "        [3.9424925]], dtype=float32),\n",
       " 'dense_27': array([[0.6927787],\n",
       "        [1.2563348],\n",
       "        [3.8281293]], dtype=float32)}"
      ]
     },
     "execution_count": 99,
     "metadata": {},
     "output_type": "execute_result"
    }
   ],
   "source": [
    "y_pred_tuple = model.predict((X_new_wide, X_new_deep))\n",
    "y_pred = dict(zip(model.output_names, y_pred_tuple))\n",
    "y_pred"
   ]
  },
  {
   "cell_type": "code",
   "execution_count": 100,
   "id": "4aaf35ba-7a34-4b7d-b719-6d68e462fdf4",
   "metadata": {},
   "outputs": [
    {
     "data": {
      "text/plain": [
       "array([0.477  , 0.458  , 5.00001])"
      ]
     },
     "execution_count": 100,
     "metadata": {},
     "output_type": "execute_result"
    }
   ],
   "source": [
    "y_test[:3]"
   ]
  },
  {
   "cell_type": "code",
   "execution_count": null,
   "id": "d7cb9b49-ad47-4a3a-8c72-4e9457c4d05f",
   "metadata": {},
   "outputs": [],
   "source": []
  },
  {
   "cell_type": "code",
   "execution_count": null,
   "id": "bb9ac239-3d66-4454-b3da-c6716c777900",
   "metadata": {},
   "outputs": [],
   "source": []
  },
  {
   "cell_type": "markdown",
   "id": "dc6b7030-d0b3-4623-8ca3-d51f8b025fc1",
   "metadata": {},
   "source": [
    "### Subclassing API to Build Dynamic Models"
   ]
  },
  {
   "cell_type": "code",
   "execution_count": 101,
   "id": "87b67ae0-05ed-4c53-a779-90917d722b26",
   "metadata": {},
   "outputs": [],
   "source": [
    "class WideAndDeepModel(keras.Model):\n",
    "  def __init__(self, units=50, activation=\"relu\", **kwargs):\n",
    "    super().__init__(**kwargs)\n",
    "    self.norm_layer_wide = layers.Normalization()\n",
    "    self.norm_layer_deep = layers.Normalization()\n",
    "    self.hidden1 = layers.Dense(units, activation=activation)\n",
    "    self.hidden2 = layers.Dense(units, activation=activation)\n",
    "    self.hidden3 = layers.Dense(units, activation=activation)\n",
    "    self.main_output = layers.Dense(1)\n",
    "    self.aux_output = layers.Dense(1)\n",
    "\n",
    "  def call(self, inputs):\n",
    "    input_wide, input_deep = inputs\n",
    "    norm_wide = self.norm_layer_wide(input_wide)\n",
    "    norm_deep = self.norm_layer_deep(input_deep)\n",
    "    hidden1 = self.hidden1(norm_deep)\n",
    "    hidden2 = self.hidden2(hidden1)\n",
    "    hidden3 = self.hidden3(hidden2)\n",
    "    concat = layers.concatenate([norm_wide, hidden2])\n",
    "    output = self.main_output(concat)\n",
    "    aux_output = self.aux_output(hidden3)\n",
    "\n",
    "    return output, aux_output\n",
    "\n",
    "model = WideAndDeepModel(50, activation=\"relu\", name=\"my_model\")"
   ]
  },
  {
   "cell_type": "code",
   "execution_count": 102,
   "id": "e658c719-1469-4c32-ba27-d8838680b6be",
   "metadata": {},
   "outputs": [],
   "source": [
    "optimizer = tf.keras.optimizers.Adam(learning_rate=2e-3)\n",
    "\n",
    "model.compile(\n",
    "    loss=(\"mse\", \"mse\"),\n",
    "    loss_weights=(0.9, 0.1),\n",
    "    optimizer=optimizer,\n",
    "    metrics=[\"RootMeanSquaredError\"]\n",
    ")"
   ]
  },
  {
   "cell_type": "code",
   "execution_count": 103,
   "id": "274a10a9-ccb9-44d6-a529-b39d5731d625",
   "metadata": {
    "scrolled": true
   },
   "outputs": [
    {
     "name": "stdout",
     "output_type": "stream",
     "text": [
      "Epoch 1/30\n",
      "363/363 [==============================] - 3s 4ms/step - loss: 1939.0485 - output_1_loss: 2148.4351 - output_2_loss: 54.5651 - output_1_root_mean_squared_error: 46.3512 - output_2_root_mean_squared_error: 7.3868 - val_loss: 16.6078 - val_output_1_loss: 17.5356 - val_output_2_loss: 8.2575 - val_output_1_root_mean_squared_error: 4.1876 - val_output_2_root_mean_squared_error: 2.8736\n",
      "Epoch 2/30\n",
      "363/363 [==============================] - 1s 3ms/step - loss: 11.5280 - output_1_loss: 10.3402 - output_2_loss: 22.2180 - output_1_root_mean_squared_error: 3.2156 - output_2_root_mean_squared_error: 4.7136 - val_loss: 8.5588 - val_output_1_loss: 9.2686 - val_output_2_loss: 2.1700 - val_output_1_root_mean_squared_error: 3.0444 - val_output_2_root_mean_squared_error: 1.4731\n",
      "Epoch 3/30\n",
      "363/363 [==============================] - 1s 3ms/step - loss: 20.2351 - output_1_loss: 7.3559 - output_2_loss: 136.1484 - output_1_root_mean_squared_error: 2.7122 - output_2_root_mean_squared_error: 11.6683 - val_loss: 5.8821 - val_output_1_loss: 6.3769 - val_output_2_loss: 1.4287 - val_output_1_root_mean_squared_error: 2.5253 - val_output_2_root_mean_squared_error: 1.1953\n",
      "Epoch 4/30\n",
      "363/363 [==============================] - 1s 4ms/step - loss: 4.5771 - output_1_loss: 4.8658 - output_2_loss: 1.9790 - output_1_root_mean_squared_error: 2.2059 - output_2_root_mean_squared_error: 1.4068 - val_loss: 4.0713 - val_output_1_loss: 4.3407 - val_output_2_loss: 1.6467 - val_output_1_root_mean_squared_error: 2.0834 - val_output_2_root_mean_squared_error: 1.2832\n",
      "Epoch 5/30\n",
      "363/363 [==============================] - 1s 3ms/step - loss: 3.2120 - output_1_loss: 3.0588 - output_2_loss: 4.5909 - output_1_root_mean_squared_error: 1.7489 - output_2_root_mean_squared_error: 2.1426 - val_loss: 2.6687 - val_output_1_loss: 2.7146 - val_output_2_loss: 2.2562 - val_output_1_root_mean_squared_error: 1.6476 - val_output_2_root_mean_squared_error: 1.5021\n",
      "Epoch 6/30\n",
      "363/363 [==============================] - 1s 3ms/step - loss: 6.3909 - output_1_loss: 2.0185 - output_2_loss: 45.7425 - output_1_root_mean_squared_error: 1.4207 - output_2_root_mean_squared_error: 6.7633 - val_loss: 1.6430 - val_output_1_loss: 1.6515 - val_output_2_loss: 1.5674 - val_output_1_root_mean_squared_error: 1.2851 - val_output_2_root_mean_squared_error: 1.2519\n",
      "Epoch 7/30\n",
      "363/363 [==============================] - 1s 3ms/step - loss: 1.5430 - output_1_loss: 1.5256 - output_2_loss: 1.7001 - output_1_root_mean_squared_error: 1.2351 - output_2_root_mean_squared_error: 1.3039 - val_loss: 1.2229 - val_output_1_loss: 1.1770 - val_output_2_loss: 1.6359 - val_output_1_root_mean_squared_error: 1.0849 - val_output_2_root_mean_squared_error: 1.2790\n",
      "Epoch 8/30\n",
      "363/363 [==============================] - 1s 3ms/step - loss: 1.4079 - output_1_loss: 1.2396 - output_2_loss: 2.9229 - output_1_root_mean_squared_error: 1.1134 - output_2_root_mean_squared_error: 1.7096 - val_loss: 1.4076 - val_output_1_loss: 1.2632 - val_output_2_loss: 2.7071 - val_output_1_root_mean_squared_error: 1.1239 - val_output_2_root_mean_squared_error: 1.6453\n",
      "Epoch 9/30\n",
      "363/363 [==============================] - 1s 3ms/step - loss: 4.8708 - output_1_loss: 1.1952 - output_2_loss: 37.9512 - output_1_root_mean_squared_error: 1.0933 - output_2_root_mean_squared_error: 6.1605 - val_loss: 2.2034 - val_output_1_loss: 2.2698 - val_output_2_loss: 1.6060 - val_output_1_root_mean_squared_error: 1.5066 - val_output_2_root_mean_squared_error: 1.2673\n",
      "Epoch 10/30\n",
      "363/363 [==============================] - 1s 3ms/step - loss: 2.9711 - output_1_loss: 2.9551 - output_2_loss: 3.1154 - output_1_root_mean_squared_error: 1.7190 - output_2_root_mean_squared_error: 1.7651 - val_loss: 1.8643 - val_output_1_loss: 1.6968 - val_output_2_loss: 3.3717 - val_output_1_root_mean_squared_error: 1.3026 - val_output_2_root_mean_squared_error: 1.8362\n",
      "Epoch 11/30\n",
      "363/363 [==============================] - 1s 4ms/step - loss: 5.7002 - output_1_loss: 4.1098 - output_2_loss: 20.0138 - output_1_root_mean_squared_error: 2.0273 - output_2_root_mean_squared_error: 4.4737 - val_loss: 1.6215 - val_output_1_loss: 1.1823 - val_output_2_loss: 5.5749 - val_output_1_root_mean_squared_error: 1.0873 - val_output_2_root_mean_squared_error: 2.3611\n",
      "Epoch 12/30\n",
      "363/363 [==============================] - 1s 4ms/step - loss: 2.1107 - output_1_loss: 1.7452 - output_2_loss: 5.4003 - output_1_root_mean_squared_error: 1.3211 - output_2_root_mean_squared_error: 2.3239 - val_loss: 3.7994 - val_output_1_loss: 3.9249 - val_output_2_loss: 2.6704 - val_output_1_root_mean_squared_error: 1.9811 - val_output_2_root_mean_squared_error: 1.6341\n",
      "Epoch 13/30\n",
      "363/363 [==============================] - 1s 4ms/step - loss: 70.4950 - output_1_loss: 66.4786 - output_2_loss: 106.6427 - output_1_root_mean_squared_error: 8.1534 - output_2_root_mean_squared_error: 10.3268 - val_loss: 1.0280 - val_output_1_loss: 0.9644 - val_output_2_loss: 1.6005 - val_output_1_root_mean_squared_error: 0.9821 - val_output_2_root_mean_squared_error: 1.2651\n",
      "Epoch 14/30\n",
      "363/363 [==============================] - 1s 3ms/step - loss: 1.0407 - output_1_loss: 0.9883 - output_2_loss: 1.5124 - output_1_root_mean_squared_error: 0.9941 - output_2_root_mean_squared_error: 1.2298 - val_loss: 0.8640 - val_output_1_loss: 0.6979 - val_output_2_loss: 2.3588 - val_output_1_root_mean_squared_error: 0.8354 - val_output_2_root_mean_squared_error: 1.5358\n",
      "Epoch 15/30\n",
      "363/363 [==============================] - 1s 3ms/step - loss: 0.8316 - output_1_loss: 0.7466 - output_2_loss: 1.5963 - output_1_root_mean_squared_error: 0.8641 - output_2_root_mean_squared_error: 1.2634 - val_loss: 0.9207 - val_output_1_loss: 0.8523 - val_output_2_loss: 1.5362 - val_output_1_root_mean_squared_error: 0.9232 - val_output_2_root_mean_squared_error: 1.2394\n",
      "Epoch 16/30\n",
      "363/363 [==============================] - 1s 4ms/step - loss: 2.7134 - output_1_loss: 2.8123 - output_2_loss: 1.8236 - output_1_root_mean_squared_error: 1.6770 - output_2_root_mean_squared_error: 1.3504 - val_loss: 1.1959 - val_output_1_loss: 1.1541 - val_output_2_loss: 1.5719 - val_output_1_root_mean_squared_error: 1.0743 - val_output_2_root_mean_squared_error: 1.2537\n",
      "Epoch 17/30\n",
      "363/363 [==============================] - 1s 3ms/step - loss: 89.9151 - output_1_loss: 95.3363 - output_2_loss: 41.1242 - output_1_root_mean_squared_error: 9.7640 - output_2_root_mean_squared_error: 6.4128 - val_loss: 1.0006 - val_output_1_loss: 0.9050 - val_output_2_loss: 1.8602 - val_output_1_root_mean_squared_error: 0.9513 - val_output_2_root_mean_squared_error: 1.3639\n",
      "Epoch 18/30\n",
      "363/363 [==============================] - 1s 4ms/step - loss: 0.8010 - output_1_loss: 0.7119 - output_2_loss: 1.6031 - output_1_root_mean_squared_error: 0.8437 - output_2_root_mean_squared_error: 1.2661 - val_loss: 0.8824 - val_output_1_loss: 0.8206 - val_output_2_loss: 1.4392 - val_output_1_root_mean_squared_error: 0.9059 - val_output_2_root_mean_squared_error: 1.1996\n",
      "Epoch 19/30\n",
      "363/363 [==============================] - 1s 3ms/step - loss: 0.8008 - output_1_loss: 0.7309 - output_2_loss: 1.4293 - output_1_root_mean_squared_error: 0.8550 - output_2_root_mean_squared_error: 1.1955 - val_loss: 1.1169 - val_output_1_loss: 1.0549 - val_output_2_loss: 1.6751 - val_output_1_root_mean_squared_error: 1.0271 - val_output_2_root_mean_squared_error: 1.2942\n",
      "Epoch 20/30\n",
      "363/363 [==============================] - 1s 3ms/step - loss: 0.8509 - output_1_loss: 0.7888 - output_2_loss: 1.4095 - output_1_root_mean_squared_error: 0.8881 - output_2_root_mean_squared_error: 1.1872 - val_loss: 0.9265 - val_output_1_loss: 0.8776 - val_output_2_loss: 1.3666 - val_output_1_root_mean_squared_error: 0.9368 - val_output_2_root_mean_squared_error: 1.1690\n",
      "Epoch 21/30\n",
      "363/363 [==============================] - 1s 3ms/step - loss: 0.9167 - output_1_loss: 0.8631 - output_2_loss: 1.3992 - output_1_root_mean_squared_error: 0.9290 - output_2_root_mean_squared_error: 1.1829 - val_loss: 1.2438 - val_output_1_loss: 1.2233 - val_output_2_loss: 1.4281 - val_output_1_root_mean_squared_error: 1.1061 - val_output_2_root_mean_squared_error: 1.1950\n",
      "Epoch 22/30\n",
      "363/363 [==============================] - 1s 3ms/step - loss: 2.7745 - output_1_loss: 2.8752 - output_2_loss: 1.8680 - output_1_root_mean_squared_error: 1.6956 - output_2_root_mean_squared_error: 1.3667 - val_loss: 1.0667 - val_output_1_loss: 1.0339 - val_output_2_loss: 1.3616 - val_output_1_root_mean_squared_error: 1.0168 - val_output_2_root_mean_squared_error: 1.1669\n",
      "Epoch 23/30\n",
      "363/363 [==============================] - 1s 3ms/step - loss: 1.4981 - output_1_loss: 1.4993 - output_2_loss: 1.4869 - output_1_root_mean_squared_error: 1.2245 - output_2_root_mean_squared_error: 1.2194 - val_loss: 3.1877 - val_output_1_loss: 3.2430 - val_output_2_loss: 2.6897 - val_output_1_root_mean_squared_error: 1.8008 - val_output_2_root_mean_squared_error: 1.6400\n",
      "Epoch 24/30\n",
      "363/363 [==============================] - 1s 3ms/step - loss: 3.1768 - output_1_loss: 3.3391 - output_2_loss: 1.7162 - output_1_root_mean_squared_error: 1.8273 - output_2_root_mean_squared_error: 1.3101 - val_loss: 1.7605 - val_output_1_loss: 1.7810 - val_output_2_loss: 1.5757 - val_output_1_root_mean_squared_error: 1.3345 - val_output_2_root_mean_squared_error: 1.2552\n",
      "Epoch 25/30\n",
      "363/363 [==============================] - 1s 3ms/step - loss: 0.9876 - output_1_loss: 0.8902 - output_2_loss: 1.8643 - output_1_root_mean_squared_error: 0.9435 - output_2_root_mean_squared_error: 1.3654 - val_loss: 1.5112 - val_output_1_loss: 1.5171 - val_output_2_loss: 1.4574 - val_output_1_root_mean_squared_error: 1.2317 - val_output_2_root_mean_squared_error: 1.2072\n",
      "Epoch 26/30\n",
      "363/363 [==============================] - 1s 4ms/step - loss: 1.9652 - output_1_loss: 0.8942 - output_2_loss: 11.6035 - output_1_root_mean_squared_error: 0.9456 - output_2_root_mean_squared_error: 3.4064 - val_loss: 2.1085 - val_output_1_loss: 1.0906 - val_output_2_loss: 11.2690 - val_output_1_root_mean_squared_error: 1.0443 - val_output_2_root_mean_squared_error: 3.3569\n",
      "Epoch 27/30\n",
      "363/363 [==============================] - 2s 5ms/step - loss: 28.4256 - output_1_loss: 31.3636 - output_2_loss: 1.9844 - output_1_root_mean_squared_error: 5.6003 - output_2_root_mean_squared_error: 1.4087 - val_loss: 1.0431 - val_output_1_loss: 1.0015 - val_output_2_loss: 1.4175 - val_output_1_root_mean_squared_error: 1.0008 - val_output_2_root_mean_squared_error: 1.1906\n",
      "Epoch 28/30\n",
      "363/363 [==============================] - 1s 3ms/step - loss: 0.7909 - output_1_loss: 0.7209 - output_2_loss: 1.4211 - output_1_root_mean_squared_error: 0.8490 - output_2_root_mean_squared_error: 1.1921 - val_loss: 1.4117 - val_output_1_loss: 1.4026 - val_output_2_loss: 1.4938 - val_output_1_root_mean_squared_error: 1.1843 - val_output_2_root_mean_squared_error: 1.2222\n",
      "Epoch 29/30\n",
      "363/363 [==============================] - 1s 3ms/step - loss: 0.8025 - output_1_loss: 0.7352 - output_2_loss: 1.4082 - output_1_root_mean_squared_error: 0.8575 - output_2_root_mean_squared_error: 1.1867 - val_loss: 1.1404 - val_output_1_loss: 1.1131 - val_output_2_loss: 1.3857 - val_output_1_root_mean_squared_error: 1.0550 - val_output_2_root_mean_squared_error: 1.1772\n",
      "Epoch 30/30\n",
      "363/363 [==============================] - 1s 3ms/step - loss: 0.7573 - output_1_loss: 0.6830 - output_2_loss: 1.4260 - output_1_root_mean_squared_error: 0.8264 - output_2_root_mean_squared_error: 1.1942 - val_loss: 1.2014 - val_output_1_loss: 1.1616 - val_output_2_loss: 1.5598 - val_output_1_root_mean_squared_error: 1.0778 - val_output_2_root_mean_squared_error: 1.2489\n"
     ]
    }
   ],
   "source": [
    "norm_layer_wide.adapt(X_train_wide)\n",
    "norm_layer_deep.adapt(X_train_deep)\n",
    "\n",
    "history = model.fit(\n",
    "  (X_train_wide, X_train_deep), (y_train, y_train), epochs=30,\n",
    "  validation_data=((X_valid_wide, X_valid_deep), (y_valid, y_valid))\n",
    ")"
   ]
  },
  {
   "cell_type": "code",
   "execution_count": 104,
   "id": "423f6cf5-c471-4929-94ba-35119e4e91d1",
   "metadata": {},
   "outputs": [
    {
     "name": "stdout",
     "output_type": "stream",
     "text": [
      "162/162 [==============================] - 0s 2ms/step - loss: 0.7496 - output_1_loss: 0.6630 - output_2_loss: 1.5293 - output_1_root_mean_squared_error: 0.8142 - output_2_root_mean_squared_error: 1.2367\n"
     ]
    },
    {
     "data": {
      "text/plain": [
       "[0.7496021389961243,\n",
       " 0.6629689931869507,\n",
       " 1.5293034315109253,\n",
       " 0.8142290711402893,\n",
       " 1.2366501092910767]"
      ]
     },
     "execution_count": 104,
     "metadata": {},
     "output_type": "execute_result"
    }
   ],
   "source": [
    "model.evaluate((X_test_wide, X_test_deep), (y_test, y_test))"
   ]
  },
  {
   "cell_type": "code",
   "execution_count": 106,
   "id": "814d27d9-8719-4b4e-bfda-32d397e8f76e",
   "metadata": {},
   "outputs": [
    {
     "name": "stdout",
     "output_type": "stream",
     "text": [
      "Model: \"my_model\"\n",
      "_________________________________________________________________\n",
      " Layer (type)                Output Shape              Param #   \n",
      "=================================================================\n",
      " normalization_8 (Normalizat  multiple                 11        \n",
      " ion)                                                            \n",
      "                                                                 \n",
      " normalization_9 (Normalizat  multiple                 13        \n",
      " ion)                                                            \n",
      "                                                                 \n",
      " dense_28 (Dense)            multiple                  350       \n",
      "                                                                 \n",
      " dense_29 (Dense)            multiple                  2550      \n",
      "                                                                 \n",
      " dense_30 (Dense)            multiple                  2550      \n",
      "                                                                 \n",
      " dense_31 (Dense)            multiple                  56        \n",
      "                                                                 \n",
      " dense_32 (Dense)            multiple                  51        \n",
      "                                                                 \n",
      "=================================================================\n",
      "Total params: 5,581\n",
      "Trainable params: 5,557\n",
      "Non-trainable params: 24\n",
      "_________________________________________________________________\n"
     ]
    }
   ],
   "source": [
    "model.summary()"
   ]
  },
  {
   "cell_type": "code",
   "execution_count": null,
   "id": "bf2cca9f-f652-4a91-b450-c8604a9b440c",
   "metadata": {},
   "outputs": [],
   "source": []
  },
  {
   "cell_type": "code",
   "execution_count": null,
   "id": "d96ed1b5-8e6a-4b1b-82d3-32fd23b2eea3",
   "metadata": {},
   "outputs": [],
   "source": []
  },
  {
   "cell_type": "code",
   "execution_count": 108,
   "id": "ca6593a7-ee80-4c74-8ee5-190e1e48eb23",
   "metadata": {},
   "outputs": [
    {
     "name": "stdout",
     "output_type": "stream",
     "text": [
      "INFO:tensorflow:Assets written to: Models/my_keras_model\\assets\n"
     ]
    }
   ],
   "source": [
    "model.save(\"Models/my_keras_model\", save_format=\"tf\")"
   ]
  },
  {
   "cell_type": "code",
   "execution_count": null,
   "id": "04be078e-f550-4141-9a3e-bb067c268829",
   "metadata": {},
   "outputs": [],
   "source": []
  },
  {
   "cell_type": "code",
   "execution_count": 109,
   "id": "a7d38eae-2298-46b3-9b1b-e68d49ede713",
   "metadata": {},
   "outputs": [
    {
     "name": "stdout",
     "output_type": "stream",
     "text": [
      "Model: \"my_model\"\n",
      "_________________________________________________________________\n",
      " Layer (type)                Output Shape              Param #   \n",
      "=================================================================\n",
      " normalization_8 (Normalizat  multiple                 11        \n",
      " ion)                                                            \n",
      "                                                                 \n",
      " normalization_9 (Normalizat  multiple                 13        \n",
      " ion)                                                            \n",
      "                                                                 \n",
      " dense_28 (Dense)            multiple                  350       \n",
      "                                                                 \n",
      " dense_29 (Dense)            multiple                  2550      \n",
      "                                                                 \n",
      " dense_30 (Dense)            multiple                  2550      \n",
      "                                                                 \n",
      " dense_31 (Dense)            multiple                  56        \n",
      "                                                                 \n",
      " dense_32 (Dense)            multiple                  51        \n",
      "                                                                 \n",
      "=================================================================\n",
      "Total params: 5,581\n",
      "Trainable params: 5,557\n",
      "Non-trainable params: 24\n",
      "_________________________________________________________________\n"
     ]
    }
   ],
   "source": [
    "model = keras.models.load_model(\"Models/my_keras_model\")\n",
    "model.summary()"
   ]
  },
  {
   "cell_type": "code",
   "execution_count": 110,
   "id": "4705d8d3-4fae-484f-bd4a-a1951497455e",
   "metadata": {},
   "outputs": [
    {
     "name": "stdout",
     "output_type": "stream",
     "text": [
      "WARNING:tensorflow:6 out of the last 7 calls to <function Model.make_predict_function.<locals>.predict_function at 0x000001A85768CB80> triggered tf.function retracing. Tracing is expensive and the excessive number of tracings could be due to (1) creating @tf.function repeatedly in a loop, (2) passing tensors with different shapes, (3) passing Python objects instead of tensors. For (1), please define your @tf.function outside of the loop. For (2), @tf.function has reduce_retracing=True option that can avoid unnecessary retracing. For (3), please refer to https://www.tensorflow.org/guide/function#controlling_retracing and https://www.tensorflow.org/api_docs/python/tf/function for  more details.\n",
      "1/1 [==============================] - 0s 273ms/step\n"
     ]
    },
    {
     "data": {
      "text/plain": [
       "(array([[1.1949869],\n",
       "        [1.727614 ],\n",
       "        [2.6137319]], dtype=float32),\n",
       " array([[1.7164558],\n",
       "        [1.663833 ],\n",
       "        [1.8066581]], dtype=float32))"
      ]
     },
     "execution_count": 110,
     "metadata": {},
     "output_type": "execute_result"
    }
   ],
   "source": [
    "model.predict((X_new_wide, X_new_deep))"
   ]
  },
  {
   "cell_type": "code",
   "execution_count": null,
   "id": "a10cc4b8-3de0-40b7-b19f-65ae23cce198",
   "metadata": {},
   "outputs": [],
   "source": []
  },
  {
   "cell_type": "markdown",
   "id": "5587ebd7-8d47-493d-a6db-db317bb5532e",
   "metadata": {},
   "source": [
    "### Using Callbacks"
   ]
  },
  {
   "cell_type": "code",
   "execution_count": 113,
   "id": "65a50bcb-ac86-423b-8704-9ef7a1ec8fe8",
   "metadata": {
    "scrolled": true
   },
   "outputs": [
    {
     "name": "stdout",
     "output_type": "stream",
     "text": [
      "Epoch 1/30\n",
      "363/363 [==============================] - 2s 5ms/step - loss: 0.9128 - output_1_loss: 0.8635 - output_2_loss: 1.3566 - output_1_root_mean_squared_error: 0.9292 - output_2_root_mean_squared_error: 1.1647 - val_loss: 0.6783 - val_output_1_loss: 0.6181 - val_output_2_loss: 1.2202 - val_output_1_root_mean_squared_error: 0.7862 - val_output_2_root_mean_squared_error: 1.1046\n",
      "Epoch 2/30\n",
      "363/363 [==============================] - 1s 4ms/step - loss: 1.0272 - output_1_loss: 0.9913 - output_2_loss: 1.3501 - output_1_root_mean_squared_error: 0.9956 - output_2_root_mean_squared_error: 1.1619 - val_loss: 0.7578 - val_output_1_loss: 0.6907 - val_output_2_loss: 1.3620 - val_output_1_root_mean_squared_error: 0.8311 - val_output_2_root_mean_squared_error: 1.1670\n",
      "Epoch 3/30\n",
      "363/363 [==============================] - 1s 4ms/step - loss: 0.8041 - output_1_loss: 0.7499 - output_2_loss: 1.2925 - output_1_root_mean_squared_error: 0.8659 - output_2_root_mean_squared_error: 1.1369 - val_loss: 0.9448 - val_output_1_loss: 0.8965 - val_output_2_loss: 1.3794 - val_output_1_root_mean_squared_error: 0.9469 - val_output_2_root_mean_squared_error: 1.1745\n",
      "Epoch 4/30\n",
      "363/363 [==============================] - 1s 4ms/step - loss: 0.7731 - output_1_loss: 0.7172 - output_2_loss: 1.2768 - output_1_root_mean_squared_error: 0.8469 - output_2_root_mean_squared_error: 1.1299 - val_loss: 1.0387 - val_output_1_loss: 0.9935 - val_output_2_loss: 1.4449 - val_output_1_root_mean_squared_error: 0.9968 - val_output_2_root_mean_squared_error: 1.2020\n",
      "Epoch 5/30\n",
      "363/363 [==============================] - 2s 4ms/step - loss: 1.0055 - output_1_loss: 0.9721 - output_2_loss: 1.3062 - output_1_root_mean_squared_error: 0.9860 - output_2_root_mean_squared_error: 1.1429 - val_loss: 1.5124 - val_output_1_loss: 1.4891 - val_output_2_loss: 1.7225 - val_output_1_root_mean_squared_error: 1.2203 - val_output_2_root_mean_squared_error: 1.3124\n",
      "Epoch 6/30\n",
      "363/363 [==============================] - 1s 4ms/step - loss: 0.8853 - output_1_loss: 0.8370 - output_2_loss: 1.3205 - output_1_root_mean_squared_error: 0.9149 - output_2_root_mean_squared_error: 1.1491 - val_loss: 0.7081 - val_output_1_loss: 0.6147 - val_output_2_loss: 1.5484 - val_output_1_root_mean_squared_error: 0.7841 - val_output_2_root_mean_squared_error: 1.2444\n",
      "Epoch 7/30\n",
      "363/363 [==============================] - 1s 4ms/step - loss: 0.7860 - output_1_loss: 0.7284 - output_2_loss: 1.3045 - output_1_root_mean_squared_error: 0.8535 - output_2_root_mean_squared_error: 1.1422 - val_loss: 0.7909 - val_output_1_loss: 0.7023 - val_output_2_loss: 1.5884 - val_output_1_root_mean_squared_error: 0.8380 - val_output_2_root_mean_squared_error: 1.2603\n",
      "Epoch 8/30\n",
      "363/363 [==============================] - 2s 4ms/step - loss: 1.1756 - output_1_loss: 1.1629 - output_2_loss: 1.2901 - output_1_root_mean_squared_error: 1.0784 - output_2_root_mean_squared_error: 1.1358 - val_loss: 0.6788 - val_output_1_loss: 0.5946 - val_output_2_loss: 1.4370 - val_output_1_root_mean_squared_error: 0.7711 - val_output_2_root_mean_squared_error: 1.1987\n",
      "Epoch 9/30\n",
      "363/363 [==============================] - 1s 4ms/step - loss: 0.7833 - output_1_loss: 0.7205 - output_2_loss: 1.3486 - output_1_root_mean_squared_error: 0.8488 - output_2_root_mean_squared_error: 1.1613 - val_loss: 0.7303 - val_output_1_loss: 0.6586 - val_output_2_loss: 1.3755 - val_output_1_root_mean_squared_error: 0.8116 - val_output_2_root_mean_squared_error: 1.1728\n",
      "Epoch 10/30\n",
      "363/363 [==============================] - 1s 4ms/step - loss: 0.8988 - output_1_loss: 0.8506 - output_2_loss: 1.3325 - output_1_root_mean_squared_error: 0.9223 - output_2_root_mean_squared_error: 1.1543 - val_loss: 0.7112 - val_output_1_loss: 0.6318 - val_output_2_loss: 1.4258 - val_output_1_root_mean_squared_error: 0.7948 - val_output_2_root_mean_squared_error: 1.1941\n",
      "Epoch 11/30\n",
      "363/363 [==============================] - 1s 4ms/step - loss: 0.9750 - output_1_loss: 0.9351 - output_2_loss: 1.3341 - output_1_root_mean_squared_error: 0.9670 - output_2_root_mean_squared_error: 1.1550 - val_loss: 1.0230 - val_output_1_loss: 0.9652 - val_output_2_loss: 1.5427 - val_output_1_root_mean_squared_error: 0.9825 - val_output_2_root_mean_squared_error: 1.2421\n",
      "Epoch 12/30\n",
      "363/363 [==============================] - 2s 5ms/step - loss: 0.7876 - output_1_loss: 0.7276 - output_2_loss: 1.3280 - output_1_root_mean_squared_error: 0.8530 - output_2_root_mean_squared_error: 1.1524 - val_loss: 0.6901 - val_output_1_loss: 0.6123 - val_output_2_loss: 1.3906 - val_output_1_root_mean_squared_error: 0.7825 - val_output_2_root_mean_squared_error: 1.1793\n",
      "Epoch 13/30\n",
      "363/363 [==============================] - 1s 4ms/step - loss: 0.8753 - output_1_loss: 0.8248 - output_2_loss: 1.3298 - output_1_root_mean_squared_error: 0.9082 - output_2_root_mean_squared_error: 1.1532 - val_loss: 2.4188 - val_output_1_loss: 2.5041 - val_output_2_loss: 1.6514 - val_output_1_root_mean_squared_error: 1.5824 - val_output_2_root_mean_squared_error: 1.2851\n",
      "Epoch 14/30\n",
      "363/363 [==============================] - 1s 4ms/step - loss: 0.9767 - output_1_loss: 0.9380 - output_2_loss: 1.3251 - output_1_root_mean_squared_error: 0.9685 - output_2_root_mean_squared_error: 1.1511 - val_loss: 0.6966 - val_output_1_loss: 0.5970 - val_output_2_loss: 1.5931 - val_output_1_root_mean_squared_error: 0.7727 - val_output_2_root_mean_squared_error: 1.2622\n",
      "Epoch 15/30\n",
      "363/363 [==============================] - 1s 4ms/step - loss: 0.7304 - output_1_loss: 0.6658 - output_2_loss: 1.3125 - output_1_root_mean_squared_error: 0.8159 - output_2_root_mean_squared_error: 1.1457 - val_loss: 0.7597 - val_output_1_loss: 0.7017 - val_output_2_loss: 1.2809 - val_output_1_root_mean_squared_error: 0.8377 - val_output_2_root_mean_squared_error: 1.1318\n",
      "Epoch 16/30\n",
      "363/363 [==============================] - 1s 4ms/step - loss: 0.7731 - output_1_loss: 0.7118 - output_2_loss: 1.3241 - output_1_root_mean_squared_error: 0.8437 - output_2_root_mean_squared_error: 1.1507 - val_loss: 0.8799 - val_output_1_loss: 0.8080 - val_output_2_loss: 1.5276 - val_output_1_root_mean_squared_error: 0.8989 - val_output_2_root_mean_squared_error: 1.2360\n",
      "Epoch 17/30\n",
      "363/363 [==============================] - 1s 4ms/step - loss: 0.9964 - output_1_loss: 0.9585 - output_2_loss: 1.3375 - output_1_root_mean_squared_error: 0.9790 - output_2_root_mean_squared_error: 1.1565 - val_loss: 0.7498 - val_output_1_loss: 0.6261 - val_output_2_loss: 1.8638 - val_output_1_root_mean_squared_error: 0.7912 - val_output_2_root_mean_squared_error: 1.3652\n",
      "Epoch 18/30\n",
      "363/363 [==============================] - 1s 4ms/step - loss: 1.0314 - output_1_loss: 0.9976 - output_2_loss: 1.3350 - output_1_root_mean_squared_error: 0.9988 - output_2_root_mean_squared_error: 1.1554 - val_loss: 0.8034 - val_output_1_loss: 0.7165 - val_output_2_loss: 1.5855 - val_output_1_root_mean_squared_error: 0.8465 - val_output_2_root_mean_squared_error: 1.2592\n",
      "Epoch 19/30\n",
      "363/363 [==============================] - 1s 4ms/step - loss: 0.7997 - output_1_loss: 0.7409 - output_2_loss: 1.3288 - output_1_root_mean_squared_error: 0.8607 - output_2_root_mean_squared_error: 1.1527 - val_loss: 1.0008 - val_output_1_loss: 0.8946 - val_output_2_loss: 1.9564 - val_output_1_root_mean_squared_error: 0.9458 - val_output_2_root_mean_squared_error: 1.3987\n",
      "Epoch 20/30\n",
      "363/363 [==============================] - 1s 4ms/step - loss: 0.8702 - output_1_loss: 0.8181 - output_2_loss: 1.3385 - output_1_root_mean_squared_error: 0.9045 - output_2_root_mean_squared_error: 1.1569 - val_loss: 0.9272 - val_output_1_loss: 0.8480 - val_output_2_loss: 1.6399 - val_output_1_root_mean_squared_error: 0.9209 - val_output_2_root_mean_squared_error: 1.2806\n",
      "Epoch 21/30\n",
      "363/363 [==============================] - 1s 4ms/step - loss: 1.0857 - output_1_loss: 1.0574 - output_2_loss: 1.3405 - output_1_root_mean_squared_error: 1.0283 - output_2_root_mean_squared_error: 1.1578 - val_loss: 0.7590 - val_output_1_loss: 0.6968 - val_output_2_loss: 1.3186 - val_output_1_root_mean_squared_error: 0.8347 - val_output_2_root_mean_squared_error: 1.1483\n",
      "Epoch 22/30\n",
      "363/363 [==============================] - 1s 4ms/step - loss: 0.9564 - output_1_loss: 0.9144 - output_2_loss: 1.3341 - output_1_root_mean_squared_error: 0.9563 - output_2_root_mean_squared_error: 1.1550 - val_loss: 0.6698 - val_output_1_loss: 0.5927 - val_output_2_loss: 1.3634 - val_output_1_root_mean_squared_error: 0.7699 - val_output_2_root_mean_squared_error: 1.1676\n",
      "Epoch 23/30\n",
      "363/363 [==============================] - 1s 4ms/step - loss: 0.7840 - output_1_loss: 0.7220 - output_2_loss: 1.3422 - output_1_root_mean_squared_error: 0.8497 - output_2_root_mean_squared_error: 1.1585 - val_loss: 0.6962 - val_output_1_loss: 0.6273 - val_output_2_loss: 1.3155 - val_output_1_root_mean_squared_error: 0.7920 - val_output_2_root_mean_squared_error: 1.1470\n",
      "Epoch 24/30\n",
      "363/363 [==============================] - 1s 4ms/step - loss: 0.9346 - output_1_loss: 0.8900 - output_2_loss: 1.3362 - output_1_root_mean_squared_error: 0.9434 - output_2_root_mean_squared_error: 1.1559 - val_loss: 0.7259 - val_output_1_loss: 0.6620 - val_output_2_loss: 1.3008 - val_output_1_root_mean_squared_error: 0.8136 - val_output_2_root_mean_squared_error: 1.1405\n",
      "Epoch 25/30\n",
      "363/363 [==============================] - 2s 5ms/step - loss: 0.8846 - output_1_loss: 0.8340 - output_2_loss: 1.3398 - output_1_root_mean_squared_error: 0.9133 - output_2_root_mean_squared_error: 1.1575 - val_loss: 0.7988 - val_output_1_loss: 0.7373 - val_output_2_loss: 1.3523 - val_output_1_root_mean_squared_error: 0.8586 - val_output_2_root_mean_squared_error: 1.1629\n",
      "Epoch 26/30\n",
      "363/363 [==============================] - 2s 4ms/step - loss: 1.6181 - output_1_loss: 1.6490 - output_2_loss: 1.3406 - output_1_root_mean_squared_error: 1.2841 - output_2_root_mean_squared_error: 1.1579 - val_loss: 2.5631 - val_output_1_loss: 2.6847 - val_output_2_loss: 1.4691 - val_output_1_root_mean_squared_error: 1.6385 - val_output_2_root_mean_squared_error: 1.2121\n",
      "Epoch 27/30\n",
      "363/363 [==============================] - 1s 4ms/step - loss: 0.8145 - output_1_loss: 0.7562 - output_2_loss: 1.3389 - output_1_root_mean_squared_error: 0.8696 - output_2_root_mean_squared_error: 1.1571 - val_loss: 0.9148 - val_output_1_loss: 0.8618 - val_output_2_loss: 1.3914 - val_output_1_root_mean_squared_error: 0.9283 - val_output_2_root_mean_squared_error: 1.1796\n",
      "Epoch 28/30\n",
      "363/363 [==============================] - 1s 4ms/step - loss: 0.7675 - output_1_loss: 0.7026 - output_2_loss: 1.3521 - output_1_root_mean_squared_error: 0.8382 - output_2_root_mean_squared_error: 1.1628 - val_loss: 1.0648 - val_output_1_loss: 1.0039 - val_output_2_loss: 1.6132 - val_output_1_root_mean_squared_error: 1.0019 - val_output_2_root_mean_squared_error: 1.2701\n",
      "Epoch 29/30\n",
      "363/363 [==============================] - 1s 4ms/step - loss: 0.7587 - output_1_loss: 0.6947 - output_2_loss: 1.3349 - output_1_root_mean_squared_error: 0.8335 - output_2_root_mean_squared_error: 1.1554 - val_loss: 1.2108 - val_output_1_loss: 1.1787 - val_output_2_loss: 1.4995 - val_output_1_root_mean_squared_error: 1.0857 - val_output_2_root_mean_squared_error: 1.2246\n",
      "Epoch 30/30\n",
      "363/363 [==============================] - 1s 4ms/step - loss: 0.8252 - output_1_loss: 0.7687 - output_2_loss: 1.3337 - output_1_root_mean_squared_error: 0.8767 - output_2_root_mean_squared_error: 1.1549 - val_loss: 1.4452 - val_output_1_loss: 1.3802 - val_output_2_loss: 2.0301 - val_output_1_root_mean_squared_error: 1.1748 - val_output_2_root_mean_squared_error: 1.4248\n"
     ]
    }
   ],
   "source": [
    "checkpoint_cb = keras.callbacks.ModelCheckpoint(\"Models/my_checkpoints\", save_weights_only=True)\n",
    "\n",
    "history = model.fit(\n",
    "  (X_train_wide, X_train_deep), (y_train, y_train), epochs=30,\n",
    "  validation_data=((X_valid_wide, X_valid_deep), (y_valid, y_valid)),\n",
    "  callbacks=[checkpoint_cb]\n",
    ")"
   ]
  },
  {
   "cell_type": "code",
   "execution_count": null,
   "id": "772b168a-b62e-48ad-b2de-1a624650804a",
   "metadata": {},
   "outputs": [],
   "source": []
  },
  {
   "cell_type": "code",
   "execution_count": null,
   "id": "f7f9c7b8-42af-4ba9-8e12-75c2fba19ae1",
   "metadata": {},
   "outputs": [],
   "source": []
  },
  {
   "cell_type": "code",
   "execution_count": 114,
   "id": "163ce5ba-ef02-4b16-8c7c-aaea200f1417",
   "metadata": {},
   "outputs": [],
   "source": [
    "early_stopping_cb = keras.callbacks.EarlyStopping(\n",
    "  patience=5, restore_best_weights=True\n",
    ")"
   ]
  },
  {
   "cell_type": "code",
   "execution_count": 116,
   "id": "cf1034b7-ee1c-442b-b0fe-ec4aaebb94b4",
   "metadata": {
    "scrolled": true
   },
   "outputs": [
    {
     "name": "stdout",
     "output_type": "stream",
     "text": [
      "Epoch 1/30\n",
      "363/363 [==============================] - 1s 4ms/step - loss: 0.7643 - output_1_loss: 0.7005 - output_2_loss: 1.3386 - output_1_root_mean_squared_error: 0.8370 - output_2_root_mean_squared_error: 1.1570 - val_loss: 2.7320 - val_output_1_loss: 2.6177 - val_output_2_loss: 3.7599 - val_output_1_root_mean_squared_error: 1.6179 - val_output_2_root_mean_squared_error: 1.9390\n",
      "Epoch 2/30\n",
      "363/363 [==============================] - 2s 4ms/step - loss: 0.8977 - output_1_loss: 0.8485 - output_2_loss: 1.3411 - output_1_root_mean_squared_error: 0.9211 - output_2_root_mean_squared_error: 1.1581 - val_loss: 1.1102 - val_output_1_loss: 0.9323 - val_output_2_loss: 2.7114 - val_output_1_root_mean_squared_error: 0.9655 - val_output_2_root_mean_squared_error: 1.6466\n",
      "Epoch 3/30\n",
      "363/363 [==============================] - 2s 4ms/step - loss: 0.8746 - output_1_loss: 0.8225 - output_2_loss: 1.3436 - output_1_root_mean_squared_error: 0.9069 - output_2_root_mean_squared_error: 1.1591 - val_loss: 0.6943 - val_output_1_loss: 0.6244 - val_output_2_loss: 1.3238 - val_output_1_root_mean_squared_error: 0.7902 - val_output_2_root_mean_squared_error: 1.1506\n",
      "Epoch 4/30\n",
      "363/363 [==============================] - 2s 4ms/step - loss: 0.7743 - output_1_loss: 0.7114 - output_2_loss: 1.3408 - output_1_root_mean_squared_error: 0.8434 - output_2_root_mean_squared_error: 1.1579 - val_loss: 0.6672 - val_output_1_loss: 0.5912 - val_output_2_loss: 1.3508 - val_output_1_root_mean_squared_error: 0.7689 - val_output_2_root_mean_squared_error: 1.1623\n",
      "Epoch 5/30\n",
      "363/363 [==============================] - 2s 5ms/step - loss: 0.9872 - output_1_loss: 0.9478 - output_2_loss: 1.3420 - output_1_root_mean_squared_error: 0.9735 - output_2_root_mean_squared_error: 1.1584 - val_loss: 0.7838 - val_output_1_loss: 0.7204 - val_output_2_loss: 1.3551 - val_output_1_root_mean_squared_error: 0.8487 - val_output_2_root_mean_squared_error: 1.1641\n",
      "Epoch 6/30\n",
      "363/363 [==============================] - 1s 4ms/step - loss: 0.9224 - output_1_loss: 0.8759 - output_2_loss: 1.3405 - output_1_root_mean_squared_error: 0.9359 - output_2_root_mean_squared_error: 1.1578 - val_loss: 0.6633 - val_output_1_loss: 0.5838 - val_output_2_loss: 1.3791 - val_output_1_root_mean_squared_error: 0.7641 - val_output_2_root_mean_squared_error: 1.1743\n",
      "Epoch 7/30\n",
      "363/363 [==============================] - 2s 4ms/step - loss: 0.7663 - output_1_loss: 0.7026 - output_2_loss: 1.3396 - output_1_root_mean_squared_error: 0.8382 - output_2_root_mean_squared_error: 1.1574 - val_loss: 0.6659 - val_output_1_loss: 0.5859 - val_output_2_loss: 1.3859 - val_output_1_root_mean_squared_error: 0.7654 - val_output_2_root_mean_squared_error: 1.1773\n",
      "Epoch 8/30\n",
      "363/363 [==============================] - 1s 4ms/step - loss: 0.9580 - output_1_loss: 0.9156 - output_2_loss: 1.3392 - output_1_root_mean_squared_error: 0.9569 - output_2_root_mean_squared_error: 1.1572 - val_loss: 0.7363 - val_output_1_loss: 0.6643 - val_output_2_loss: 1.3842 - val_output_1_root_mean_squared_error: 0.8151 - val_output_2_root_mean_squared_error: 1.1765\n",
      "Epoch 9/30\n",
      "363/363 [==============================] - 1s 4ms/step - loss: 0.8225 - output_1_loss: 0.7651 - output_2_loss: 1.3396 - output_1_root_mean_squared_error: 0.8747 - output_2_root_mean_squared_error: 1.1574 - val_loss: 0.7478 - val_output_1_loss: 0.6785 - val_output_2_loss: 1.3714 - val_output_1_root_mean_squared_error: 0.8237 - val_output_2_root_mean_squared_error: 1.1711\n",
      "Epoch 10/30\n",
      "363/363 [==============================] - 1s 4ms/step - loss: 0.8916 - output_1_loss: 0.8419 - output_2_loss: 1.3388 - output_1_root_mean_squared_error: 0.9175 - output_2_root_mean_squared_error: 1.1571 - val_loss: 0.7899 - val_output_1_loss: 0.7296 - val_output_2_loss: 1.3319 - val_output_1_root_mean_squared_error: 0.8542 - val_output_2_root_mean_squared_error: 1.1541\n",
      "Epoch 11/30\n",
      "363/363 [==============================] - 2s 4ms/step - loss: 0.9240 - output_1_loss: 0.8774 - output_2_loss: 1.3438 - output_1_root_mean_squared_error: 0.9367 - output_2_root_mean_squared_error: 1.1592 - val_loss: 0.7214 - val_output_1_loss: 0.6553 - val_output_2_loss: 1.3164 - val_output_1_root_mean_squared_error: 0.8095 - val_output_2_root_mean_squared_error: 1.1473\n"
     ]
    }
   ],
   "source": [
    "history = model.fit(\n",
    "  (X_train_wide, X_train_deep), (y_train, y_train), epochs=30,\n",
    "  validation_data=((X_valid_wide, X_valid_deep), (y_valid, y_valid)),\n",
    "  callbacks=[checkpoint_cb, early_stopping_cb]\n",
    ")"
   ]
  },
  {
   "cell_type": "code",
   "execution_count": null,
   "id": "1399e601-7a6d-46f5-8647-3f47bae8ebab",
   "metadata": {},
   "outputs": [],
   "source": []
  },
  {
   "cell_type": "code",
   "execution_count": 164,
   "id": "85c44903-b3c9-42f3-816f-6732007d41b0",
   "metadata": {},
   "outputs": [],
   "source": [
    "class PrintValTrainRatioCallback(keras.callbacks.Callback):\n",
    "  def on_epoch_end(self, epoch, logs):\n",
    "    ratio = logs[\"val_loss\"] / logs[\"loss\"]\n",
    "    print(f\"Epoch={epoch}, val/train={ratio:.2f}\")"
   ]
  },
  {
   "cell_type": "code",
   "execution_count": 166,
   "id": "1d8ec7ef-299f-45f5-b4e5-3cae6597468f",
   "metadata": {
    "scrolled": true
   },
   "outputs": [
    {
     "name": "stdout",
     "output_type": "stream",
     "text": [
      "Epoch=0, val/train=2.32\n",
      "Epoch=1, val/train=2.61\n",
      "Epoch=2, val/train=2.14\n",
      "Epoch=3, val/train=2.07\n",
      "Epoch=4, val/train=2.23\n",
      "Epoch=5, val/train=2.16\n",
      "Epoch=6, val/train=2.23\n",
      "Epoch=7, val/train=2.30\n",
      "Epoch=8, val/train=2.11\n",
      "Epoch=9, val/train=2.13\n",
      "Epoch=10, val/train=2.47\n",
      "Epoch=11, val/train=2.65\n",
      "Epoch=12, val/train=2.32\n",
      "Epoch=13, val/train=2.41\n",
      "Epoch=14, val/train=2.14\n",
      "Epoch=15, val/train=2.16\n",
      "Epoch=16, val/train=2.24\n",
      "Epoch=17, val/train=2.16\n",
      "Epoch=18, val/train=2.18\n",
      "Epoch=19, val/train=2.17\n",
      "Epoch=20, val/train=2.40\n",
      "Epoch=21, val/train=2.24\n",
      "Epoch=22, val/train=2.27\n",
      "Epoch=23, val/train=2.31\n",
      "Epoch=24, val/train=2.17\n",
      "Epoch=25, val/train=2.35\n",
      "Epoch=26, val/train=2.26\n",
      "Epoch=27, val/train=2.20\n",
      "Epoch=28, val/train=2.28\n",
      "Epoch=29, val/train=2.30\n"
     ]
    }
   ],
   "source": [
    "history = model.fit(\n",
    "    X_train, y_train, epochs=30,\n",
    "    validation_data=(X_valid, y_valid),\n",
    "    callbacks = [PrintValTrainRatioCallback()],\n",
    "    verbose=0\n",
    ")"
   ]
  },
  {
   "cell_type": "code",
   "execution_count": null,
   "id": "4bc68607-931c-4d04-a993-29ceb922aefd",
   "metadata": {},
   "outputs": [],
   "source": []
  },
  {
   "cell_type": "code",
   "execution_count": null,
   "id": "8f4b5d8b-1bc5-4cde-8768-6612542bcce6",
   "metadata": {},
   "outputs": [],
   "source": []
  },
  {
   "cell_type": "markdown",
   "id": "b1d397d7-e89b-4161-9e50-937bcc368367",
   "metadata": {},
   "source": [
    "### Tensorflow Board"
   ]
  },
  {
   "cell_type": "code",
   "execution_count": 150,
   "id": "0a276ce2-e074-45bf-bd7f-52d696e36c47",
   "metadata": {},
   "outputs": [],
   "source": [
    "def get_run_logdir(root_logdir=\"my_logs\"):\n",
    "  return Path(root_logdir) / strftime(\"run_%Y_%m_%d_%H_%M_%S\")\n",
    "\n",
    "run_logdir = get_run_logdir()"
   ]
  },
  {
   "cell_type": "code",
   "execution_count": 158,
   "id": "1c754e05-4c25-48a1-b1c2-6dbc48f5ba92",
   "metadata": {},
   "outputs": [],
   "source": [
    "optimizer = tf.keras.optimizers.Adam(learning_rate=1e-3)\n",
    "\n",
    "model.compile(\n",
    "    loss=\"mse\",\n",
    "    optimizer=optimizer,\n",
    "    metrics=[\"RootMeanSquaredError\"]\n",
    ")"
   ]
  },
  {
   "cell_type": "code",
   "execution_count": 159,
   "id": "c3d02e99-6230-4027-93a6-21afb411936b",
   "metadata": {
    "scrolled": true
   },
   "outputs": [
    {
     "name": "stdout",
     "output_type": "stream",
     "text": [
      "Epoch 1/30\n",
      "363/363 [==============================] - 3s 6ms/step - loss: 0.1408 - root_mean_squared_error: 0.3752 - val_loss: 0.6338 - val_root_mean_squared_error: 0.7961\n",
      "Epoch 2/30\n",
      "363/363 [==============================] - 1s 4ms/step - loss: 0.1434 - root_mean_squared_error: 0.3787 - val_loss: 0.2786 - val_root_mean_squared_error: 0.5278\n",
      "Epoch 3/30\n",
      "363/363 [==============================] - 1s 3ms/step - loss: 0.1406 - root_mean_squared_error: 0.3749 - val_loss: 0.2811 - val_root_mean_squared_error: 0.5302\n",
      "Epoch 4/30\n",
      "363/363 [==============================] - 1s 3ms/step - loss: 0.1412 - root_mean_squared_error: 0.3758 - val_loss: 0.2685 - val_root_mean_squared_error: 0.5181\n",
      "Epoch 5/30\n",
      "363/363 [==============================] - 1s 3ms/step - loss: 0.1399 - root_mean_squared_error: 0.3740 - val_loss: 0.2781 - val_root_mean_squared_error: 0.5274\n",
      "Epoch 6/30\n",
      "363/363 [==============================] - 1s 3ms/step - loss: 0.1402 - root_mean_squared_error: 0.3744 - val_loss: 0.2857 - val_root_mean_squared_error: 0.5345\n",
      "Epoch 7/30\n",
      "363/363 [==============================] - 1s 3ms/step - loss: 0.1385 - root_mean_squared_error: 0.3721 - val_loss: 0.2964 - val_root_mean_squared_error: 0.5444\n",
      "Epoch 8/30\n",
      "363/363 [==============================] - 1s 3ms/step - loss: 0.1430 - root_mean_squared_error: 0.3781 - val_loss: 1.0483 - val_root_mean_squared_error: 1.0238\n",
      "Epoch 9/30\n",
      "363/363 [==============================] - 1s 3ms/step - loss: 0.1423 - root_mean_squared_error: 0.3772 - val_loss: 0.2801 - val_root_mean_squared_error: 0.5292\n",
      "Epoch 10/30\n",
      "363/363 [==============================] - 1s 3ms/step - loss: 0.1400 - root_mean_squared_error: 0.3741 - val_loss: 0.2756 - val_root_mean_squared_error: 0.5249\n",
      "Epoch 11/30\n",
      "363/363 [==============================] - 1s 3ms/step - loss: 0.1384 - root_mean_squared_error: 0.3720 - val_loss: 0.2711 - val_root_mean_squared_error: 0.5207\n",
      "Epoch 12/30\n",
      "363/363 [==============================] - 1s 3ms/step - loss: 0.1376 - root_mean_squared_error: 0.3710 - val_loss: 0.2744 - val_root_mean_squared_error: 0.5238\n",
      "Epoch 13/30\n",
      "363/363 [==============================] - 1s 3ms/step - loss: 0.1365 - root_mean_squared_error: 0.3694 - val_loss: 0.2944 - val_root_mean_squared_error: 0.5426\n",
      "Epoch 14/30\n",
      "363/363 [==============================] - 1s 3ms/step - loss: 0.1362 - root_mean_squared_error: 0.3691 - val_loss: 0.2833 - val_root_mean_squared_error: 0.5322\n",
      "Epoch 15/30\n",
      "363/363 [==============================] - 1s 3ms/step - loss: 0.1373 - root_mean_squared_error: 0.3706 - val_loss: 0.2745 - val_root_mean_squared_error: 0.5240\n",
      "Epoch 16/30\n",
      "363/363 [==============================] - 1s 3ms/step - loss: 0.1353 - root_mean_squared_error: 0.3679 - val_loss: 0.2817 - val_root_mean_squared_error: 0.5308\n",
      "Epoch 17/30\n",
      "363/363 [==============================] - 1s 3ms/step - loss: 0.1347 - root_mean_squared_error: 0.3670 - val_loss: 0.2786 - val_root_mean_squared_error: 0.5279\n",
      "Epoch 18/30\n",
      "363/363 [==============================] - 1s 3ms/step - loss: 0.1376 - root_mean_squared_error: 0.3710 - val_loss: 0.2782 - val_root_mean_squared_error: 0.5275\n",
      "Epoch 19/30\n",
      "363/363 [==============================] - 1s 3ms/step - loss: 0.1358 - root_mean_squared_error: 0.3685 - val_loss: 0.2732 - val_root_mean_squared_error: 0.5227\n",
      "Epoch 20/30\n",
      "363/363 [==============================] - 1s 3ms/step - loss: 0.1373 - root_mean_squared_error: 0.3706 - val_loss: 0.2842 - val_root_mean_squared_error: 0.5331\n",
      "Epoch 21/30\n",
      "363/363 [==============================] - 1s 3ms/step - loss: 0.1367 - root_mean_squared_error: 0.3697 - val_loss: 0.5693 - val_root_mean_squared_error: 0.7545\n",
      "Epoch 22/30\n",
      "363/363 [==============================] - 1s 3ms/step - loss: 0.1358 - root_mean_squared_error: 0.3685 - val_loss: 0.2871 - val_root_mean_squared_error: 0.5358\n",
      "Epoch 23/30\n",
      "363/363 [==============================] - 1s 3ms/step - loss: 0.1338 - root_mean_squared_error: 0.3657 - val_loss: 0.2781 - val_root_mean_squared_error: 0.5274\n",
      "Epoch 24/30\n",
      "363/363 [==============================] - 1s 3ms/step - loss: 0.1342 - root_mean_squared_error: 0.3663 - val_loss: 0.2894 - val_root_mean_squared_error: 0.5380\n",
      "Epoch 25/30\n",
      "363/363 [==============================] - 1s 3ms/step - loss: 0.1364 - root_mean_squared_error: 0.3694 - val_loss: 0.2767 - val_root_mean_squared_error: 0.5261\n",
      "Epoch 26/30\n",
      "363/363 [==============================] - 1s 3ms/step - loss: 0.1349 - root_mean_squared_error: 0.3673 - val_loss: 0.2922 - val_root_mean_squared_error: 0.5405\n",
      "Epoch 27/30\n",
      "363/363 [==============================] - 1s 3ms/step - loss: 0.1339 - root_mean_squared_error: 0.3659 - val_loss: 0.3097 - val_root_mean_squared_error: 0.5565\n",
      "Epoch 28/30\n",
      "363/363 [==============================] - 1s 3ms/step - loss: 0.1333 - root_mean_squared_error: 0.3651 - val_loss: 0.3041 - val_root_mean_squared_error: 0.5515\n",
      "Epoch 29/30\n",
      "363/363 [==============================] - 1s 3ms/step - loss: 0.1343 - root_mean_squared_error: 0.3665 - val_loss: 0.3512 - val_root_mean_squared_error: 0.5927\n",
      "Epoch 30/30\n",
      "363/363 [==============================] - 1s 3ms/step - loss: 0.1334 - root_mean_squared_error: 0.3652 - val_loss: 0.2824 - val_root_mean_squared_error: 0.5314\n"
     ]
    }
   ],
   "source": [
    "tensorboard_cb = keras.callbacks.TensorBoard(run_logdir, profile_batch=(100,200))\n",
    "\n",
    "history = model.fit(\n",
    "    X_train, y_train, epochs=30,\n",
    "    validation_data=(X_valid, y_valid),\n",
    "    callbacks = [tensorboard_cb]\n",
    ")"
   ]
  },
  {
   "cell_type": "code",
   "execution_count": 161,
   "id": "d8dfc5e5-7ce5-4872-8f59-affbdf1a0eae",
   "metadata": {},
   "outputs": [
    {
     "name": "stdout",
     "output_type": "stream",
     "text": [
      "my_logs\n",
      "  run_2025_02_22_17_07_50\n",
      "    events.out.tfevents.1740240596.INFINITY.profile-empty\n",
      "    plugins\n",
      "      profile\n",
      "        2025_02_22_16_09_56\n",
      "          INFINITY.input_pipeline.pb\n",
      "          INFINITY.kernel_stats.pb\n",
      "          INFINITY.memory_profile.json.gz\n",
      "          INFINITY.overview_page.pb\n",
      "          INFINITY.tensorflow_stats.pb\n",
      "          INFINITY.trace.json.gz\n",
      "          INFINITY.xplane.pb\n",
      "        2025_02_22_16_11_04\n",
      "          INFINITY.input_pipeline.pb\n",
      "          INFINITY.kernel_stats.pb\n",
      "          INFINITY.memory_profile.json.gz\n",
      "          INFINITY.overview_page.pb\n",
      "          INFINITY.tensorflow_stats.pb\n",
      "          INFINITY.trace.json.gz\n",
      "          INFINITY.xplane.pb\n",
      "    train\n",
      "      events.out.tfevents.1740240595.INFINITY.12220.0.v2\n",
      "      events.out.tfevents.1740240663.INFINITY.12220.2.v2\n",
      "    validation\n",
      "      events.out.tfevents.1740240597.INFINITY.12220.1.v2\n",
      "      events.out.tfevents.1740240664.INFINITY.12220.3.v2\n",
      "  run_2025_02_22_17_14_56\n",
      "    events.out.tfevents.1740240914.INFINITY.profile-empty\n",
      "    plugins\n",
      "      profile\n",
      "        2025_02_22_16_15_14\n",
      "          INFINITY.input_pipeline.pb\n",
      "          INFINITY.kernel_stats.pb\n",
      "          INFINITY.memory_profile.json.gz\n",
      "          INFINITY.overview_page.pb\n",
      "          INFINITY.tensorflow_stats.pb\n",
      "          INFINITY.trace.json.gz\n",
      "          INFINITY.xplane.pb\n",
      "        2025_02_22_16_22_07\n",
      "          INFINITY.input_pipeline.pb\n",
      "          INFINITY.kernel_stats.pb\n",
      "          INFINITY.memory_profile.json.gz\n",
      "          INFINITY.overview_page.pb\n",
      "          INFINITY.tensorflow_stats.pb\n",
      "          INFINITY.trace.json.gz\n",
      "          INFINITY.xplane.pb\n",
      "    train\n",
      "      events.out.tfevents.1740240913.INFINITY.12220.4.v2\n",
      "      events.out.tfevents.1740241326.INFINITY.12220.6.v2\n",
      "    validation\n",
      "      events.out.tfevents.1740240915.INFINITY.12220.5.v2\n",
      "      events.out.tfevents.1740241328.INFINITY.12220.7.v2\n"
     ]
    }
   ],
   "source": [
    "print(\"my_logs\")\n",
    "for path in sorted(Path(\"my_logs\").glob(\"**/*\")):\n",
    "    print(\"  \" * (len(path.parts) - 1) + path.parts[-1])"
   ]
  },
  {
   "cell_type": "code",
   "execution_count": 162,
   "id": "09e479c2-92fd-4765-80b5-80bcda7fb976",
   "metadata": {},
   "outputs": [],
   "source": [
    "%load_ext tensorboard"
   ]
  },
  {
   "cell_type": "code",
   "execution_count": 163,
   "id": "97d2f7bf-6d7a-498c-9697-77fa35f070ab",
   "metadata": {},
   "outputs": [
    {
     "data": {
      "text/html": [
       "\n",
       "      <iframe id=\"tensorboard-frame-a131e20820549f36\" width=\"100%\" height=\"800\" frameborder=\"0\">\n",
       "      </iframe>\n",
       "      <script>\n",
       "        (function() {\n",
       "          const frame = document.getElementById(\"tensorboard-frame-a131e20820549f36\");\n",
       "          const url = new URL(\"/\", window.location);\n",
       "          const port = 6006;\n",
       "          if (port) {\n",
       "            url.port = port;\n",
       "          }\n",
       "          frame.src = url;\n",
       "        })();\n",
       "      </script>\n",
       "    "
      ],
      "text/plain": [
       "<IPython.core.display.HTML object>"
      ]
     },
     "metadata": {},
     "output_type": "display_data"
    }
   ],
   "source": [
    "%tensorboard --logdir=./my_logs"
   ]
  },
  {
   "cell_type": "code",
   "execution_count": 167,
   "id": "27f9452f-fec6-4087-a5d4-1636acd9a70a",
   "metadata": {},
   "outputs": [],
   "source": [
    "test_logdir = get_run_logdir()\n",
    "writer = tf.summary.create_file_writer(str(test_logdir))\n",
    "with writer.as_default():\n",
    "    for step in range(1, 1000 + 1):\n",
    "        tf.summary.scalar(\"my_scalar\", np.sin(step / 10), step=step)\n",
    "        \n",
    "        data = (np.random.randn(100) + 2) * step / 100  # gets larger\n",
    "        tf.summary.histogram(\"my_hist\", data, buckets=50, step=step)\n",
    "        \n",
    "        images = np.random.rand(2, 32, 32, 3) * step / 1000  # gets brighter\n",
    "        tf.summary.image(\"my_images\", images, step=step)\n",
    "        \n",
    "        texts = [\"The step is \" + str(step), \"Its square is \" + str(step ** 2)]\n",
    "        tf.summary.text(\"my_text\", texts, step=step)\n",
    "        \n",
    "        sine_wave = tf.math.sin(tf.range(12000) / 48000 * 2 * np.pi * step)\n",
    "        audio = tf.reshape(tf.cast(sine_wave, tf.float32), [1, -1, 1])\n",
    "        tf.summary.audio(\"my_audio\", audio, sample_rate=48000, step=step)"
   ]
  },
  {
   "cell_type": "code",
   "execution_count": null,
   "id": "93d840c8-6932-4f5f-b2b6-ffa108b4fcd3",
   "metadata": {},
   "outputs": [],
   "source": []
  },
  {
   "cell_type": "code",
   "execution_count": null,
   "id": "9ba74a32-8af9-4a6c-a4bb-22fc3872e8e8",
   "metadata": {},
   "outputs": [],
   "source": []
  },
  {
   "cell_type": "code",
   "execution_count": null,
   "id": "3e9d3cb2-3f0b-4b73-a436-4604409fffd2",
   "metadata": {},
   "outputs": [],
   "source": []
  },
  {
   "cell_type": "code",
   "execution_count": null,
   "id": "9ae4b6a9-2b04-42e4-9624-803d35a5d470",
   "metadata": {},
   "outputs": [],
   "source": []
  },
  {
   "cell_type": "code",
   "execution_count": null,
   "id": "eac3f108-3d2f-410e-974f-f377c9f76726",
   "metadata": {},
   "outputs": [],
   "source": []
  },
  {
   "cell_type": "code",
   "execution_count": null,
   "id": "96c5a467-8064-4d0e-9235-d0327c78defa",
   "metadata": {},
   "outputs": [],
   "source": []
  },
  {
   "cell_type": "code",
   "execution_count": 8,
   "id": "a65212ce-c2c3-4a89-bb37-9e3d4910d2f0",
   "metadata": {},
   "outputs": [],
   "source": [
    "def build_model(hp):\n",
    "  n_hidden = hp.Int(\"n_hidden\", min_value=0, max_value=8, default=2)\n",
    "  n_neurons = hp.Int(\"n_neurons\", min_value=16, max_value=256)\n",
    "  learning_rate = hp.Float(\"learning_rate\", min_value=1e-4, max_value=1e-2, sampling=\"log\")\n",
    "  optimizer = hp.Choice(\"optimizer\", values=[\"sgd\", \"adam\"])\n",
    "  if optimizer == \"sgd\":\n",
    "    optimizer = tf.keras.optimizers.SGD(learning_rate=learning_rate)\n",
    "  else:\n",
    "    optimizer = tf.keras.optimizers.Adam(learning_rate=learning_rate)\n",
    "\n",
    "  model = tf.keras.Sequential()\n",
    "  model.add(tf.keras.layers.Flatten())\n",
    "  for _ in range(n_hidden):\n",
    "    model.add(tf.keras.layers.Dense(n_neurons, activation=\"relu\"))\n",
    "  model.add(tf.keras.layers.Dense(10, activation=\"softmax\"))\n",
    "  model.compile(loss=\"sparse_categorical_crossentropy\", optimizer=optimizer, metrics=[\"accuracy\"])\n",
    "\n",
    "  return model"
   ]
  },
  {
   "cell_type": "code",
   "execution_count": null,
   "id": "1230ac4d-8506-457d-8a24-9cc0cff9eeb5",
   "metadata": {},
   "outputs": [],
   "source": []
  },
  {
   "cell_type": "code",
   "execution_count": 9,
   "id": "cf9be3b8-15ca-4b96-b437-bb3a076ef69a",
   "metadata": {},
   "outputs": [
    {
     "name": "stdout",
     "output_type": "stream",
     "text": [
      "Trial 5 Complete [00h 00m 52s]\n",
      "val_accuracy: 0.7268000245094299\n",
      "\n",
      "Best val_accuracy So Far: 0.8596000075340271\n",
      "Total elapsed time: 00h 04m 35s\n"
     ]
    }
   ],
   "source": [
    "random_search_tuner = kt.RandomSearch(\n",
    "  build_model, objective=\"val_accuracy\", max_trials=5, overwrite=True,\n",
    "  directory=\"my_fashion_mnist\", project_name=\"my_rnd_search\", seed=42\n",
    ")\n",
    "\n",
    "random_search_tuner.search(X_train, y_train, epochs=10, validation_data=(X_valid, y_valid))"
   ]
  },
  {
   "cell_type": "code",
   "execution_count": 11,
   "id": "404981f5-a659-4614-b5c8-6193883ac1a8",
   "metadata": {},
   "outputs": [
    {
     "data": {
      "text/plain": [
       "[<keras.src.engine.sequential.Sequential at 0x7f900e5fa400>,\n",
       " <keras.src.engine.sequential.Sequential at 0x7f902cfabb80>,\n",
       " <keras.src.engine.sequential.Sequential at 0x7f900c6a3e20>]"
      ]
     },
     "execution_count": 11,
     "metadata": {},
     "output_type": "execute_result"
    }
   ],
   "source": [
    "top3_models = random_search_tuner.get_best_models(num_models=3)\n",
    "top3_models"
   ]
  },
  {
   "cell_type": "code",
   "execution_count": 17,
   "id": "7212b6c7-290a-4740-b8e3-1cf2e982e3ef",
   "metadata": {},
   "outputs": [
    {
     "data": {
      "text/plain": [
       "<keras.src.engine.sequential.Sequential at 0x7f900e5fa400>"
      ]
     },
     "execution_count": 17,
     "metadata": {},
     "output_type": "execute_result"
    }
   ],
   "source": [
    "best_model = top3_models[0]\n",
    "best_model"
   ]
  },
  {
   "cell_type": "code",
   "execution_count": 15,
   "id": "5b72f0e8-4ce4-44eb-aed5-93b451eb730f",
   "metadata": {},
   "outputs": [
    {
     "data": {
      "text/plain": [
       "{'n_hidden': 8,\n",
       " 'n_neurons': 37,\n",
       " 'learning_rate': 0.008547485565344062,\n",
       " 'optimizer': 'sgd'}"
      ]
     },
     "execution_count": 15,
     "metadata": {},
     "output_type": "execute_result"
    }
   ],
   "source": [
    "top3_params = random_search_tuner.get_best_hyperparameters(num_trials=3)\n",
    "top3_params[0].values"
   ]
  },
  {
   "cell_type": "code",
   "execution_count": 18,
   "id": "30164ac5-ca30-473e-b982-081362ffff9f",
   "metadata": {},
   "outputs": [
    {
     "name": "stdout",
     "output_type": "stream",
     "text": [
      "Trial 3 summary\n",
      "Hyperparameters:\n",
      "n_hidden: 8\n",
      "n_neurons: 37\n",
      "learning_rate: 0.008547485565344062\n",
      "optimizer: sgd\n",
      "Score: 0.8596000075340271\n"
     ]
    }
   ],
   "source": [
    "best_trial = random_search_tuner.oracle.get_best_trials(num_trials=1)[0]\n",
    "best_trial.summary()"
   ]
  },
  {
   "cell_type": "code",
   "execution_count": 19,
   "id": "f05e5c48-56aa-4515-ba63-963680abd509",
   "metadata": {},
   "outputs": [
    {
     "data": {
      "text/plain": [
       "0.8596000075340271"
      ]
     },
     "execution_count": 19,
     "metadata": {},
     "output_type": "execute_result"
    }
   ],
   "source": [
    "best_trial.metrics.get_last_value(\"val_accuracy\")"
   ]
  },
  {
   "cell_type": "code",
   "execution_count": 20,
   "id": "c75caae1-0426-43fe-a340-b51587ed98fa",
   "metadata": {},
   "outputs": [
    {
     "name": "stdout",
     "output_type": "stream",
     "text": [
      "Epoch 1/10\n",
      "1875/1875 [==============================] - 6s 3ms/step - loss: nan - accuracy: 0.1003\n",
      "Epoch 2/10\n",
      "1875/1875 [==============================] - 5s 3ms/step - loss: nan - accuracy: 0.1000\n",
      "Epoch 3/10\n",
      "1875/1875 [==============================] - 5s 3ms/step - loss: nan - accuracy: 0.1000\n",
      "Epoch 4/10\n",
      "1875/1875 [==============================] - 5s 3ms/step - loss: nan - accuracy: 0.1000\n",
      "Epoch 5/10\n",
      "1875/1875 [==============================] - 5s 3ms/step - loss: nan - accuracy: 0.1000\n",
      "Epoch 6/10\n",
      "1875/1875 [==============================] - 5s 3ms/step - loss: nan - accuracy: 0.1000\n",
      "Epoch 7/10\n",
      "1875/1875 [==============================] - 5s 3ms/step - loss: nan - accuracy: 0.1000\n",
      "Epoch 8/10\n",
      "1875/1875 [==============================] - 5s 3ms/step - loss: nan - accuracy: 0.1000\n",
      "Epoch 9/10\n",
      "1875/1875 [==============================] - 5s 2ms/step - loss: nan - accuracy: 0.1000\n",
      "Epoch 10/10\n",
      "1875/1875 [==============================] - 5s 3ms/step - loss: nan - accuracy: 0.1000\n"
     ]
    },
    {
     "data": {
      "text/plain": [
       "<keras.src.callbacks.History at 0x7f900420d7f0>"
      ]
     },
     "execution_count": 20,
     "metadata": {},
     "output_type": "execute_result"
    }
   ],
   "source": [
    "best_model.fit(X_train_full, y_train_full, epochs=10)"
   ]
  },
  {
   "cell_type": "code",
   "execution_count": 21,
   "id": "c8951c65-6d22-40ab-a104-43b646d715da",
   "metadata": {},
   "outputs": [
    {
     "name": "stdout",
     "output_type": "stream",
     "text": [
      "313/313 [==============================] - 1s 2ms/step - loss: nan - accuracy: 0.1000\n"
     ]
    },
    {
     "data": {
      "text/plain": [
       "[nan, 0.10000000149011612]"
      ]
     },
     "execution_count": 21,
     "metadata": {},
     "output_type": "execute_result"
    }
   ],
   "source": [
    "best_model.evaluate(X_test, y_test)"
   ]
  },
  {
   "cell_type": "code",
   "execution_count": null,
   "id": "5c5c940c-e35a-4d0c-80d1-66d3b2347e74",
   "metadata": {},
   "outputs": [],
   "source": []
  },
  {
   "cell_type": "code",
   "execution_count": 25,
   "id": "d80d1a5e-8063-4cd6-a8fc-7fadb7d99252",
   "metadata": {},
   "outputs": [],
   "source": [
    "class MyClassificationHyperModel(kt.HyperModel):\n",
    "  def build(self, hp):\n",
    "    return build_model(hp)\n",
    "\n",
    "  def fit(self, hp, model, X, y, **kwargs):\n",
    "    if hp.Boolean(\"normalize\"):\n",
    "      norm_layer = tf.keras.layers.Normalization()\n",
    "      X = norm_layer(X)\n",
    "    return model.fit(X, y, **kwargs)"
   ]
  },
  {
   "cell_type": "code",
   "execution_count": 26,
   "id": "4ccb4985-ecc0-48c3-b5d8-3c5fad36dda0",
   "metadata": {},
   "outputs": [],
   "source": [
    "hyperband_tuner = kt.Hyperband(\n",
    "  MyClassificationHyperModel(), objective=\"val_accuracy\", seed=42,\n",
    "  max_epochs=10, factor=3, hyperband_iterations=2, overwrite=True,\n",
    "  directory=\"my_fashion_mnist\", project_name=\"hyperband\"\n",
    ")"
   ]
  },
  {
   "cell_type": "code",
   "execution_count": null,
   "id": "0588d0a2-1cb2-4f01-9ffa-ffccfb4677b2",
   "metadata": {},
   "outputs": [],
   "source": []
  }
 ],
 "metadata": {
  "kernelspec": {
   "display_name": "Python 3 (ipykernel)",
   "language": "python",
   "name": "python3"
  },
  "language_info": {
   "codemirror_mode": {
    "name": "ipython",
    "version": 3
   },
   "file_extension": ".py",
   "mimetype": "text/x-python",
   "name": "python",
   "nbconvert_exporter": "python",
   "pygments_lexer": "ipython3",
   "version": "3.9.21"
  }
 },
 "nbformat": 4,
 "nbformat_minor": 5
}
