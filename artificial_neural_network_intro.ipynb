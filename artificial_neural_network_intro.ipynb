{
 "cells": [
  {
   "cell_type": "code",
   "execution_count": 1,
   "id": "ab814617-948a-48e4-8d64-74134bf44f22",
   "metadata": {},
   "outputs": [],
   "source": [
    "import tensorflow as tf\n",
    "from tensorflow import keras\n",
    "from keras import layers"
   ]
  },
  {
   "cell_type": "code",
   "execution_count": 41,
   "id": "f11d955d-ce50-48d4-9f8b-166a91b18b59",
   "metadata": {},
   "outputs": [],
   "source": [
    "import numpy as np\n",
    "from sklearn.datasets import load_iris, fetch_california_housing\n",
    "from sklearn.linear_model import Perceptron\n",
    "import matplotlib.pyplot as plt\n",
    "from sklearn.preprocessing import StandardScaler\n",
    "from sklearn.pipeline import make_pipeline\n",
    "from scipy.special import expit as sigmoid\n",
    "from sklearn.metrics import mean_squared_error\n",
    "from sklearn.model_selection import train_test_split\n",
    "from sklearn.neural_network import MLPRegressor\n",
    "import pandas as pd"
   ]
  },
  {
   "cell_type": "code",
   "execution_count": null,
   "id": "f90d3983-a0e7-4c2a-9b08-3237ae61f9f7",
   "metadata": {},
   "outputs": [],
   "source": []
  },
  {
   "cell_type": "markdown",
   "id": "e5604324-2910-4c2e-a52f-cba76aeef844",
   "metadata": {},
   "source": [
    "### The Perceptron"
   ]
  },
  {
   "cell_type": "code",
   "execution_count": 3,
   "id": "81419992-bb01-446e-858d-509826f49de8",
   "metadata": {},
   "outputs": [],
   "source": [
    "iris = load_iris(as_frame=True)\n",
    "X = iris.data[[\"sepal length (cm)\", \"sepal width (cm)\"]].values\n",
    "y = (iris.target == 0)"
   ]
  },
  {
   "cell_type": "code",
   "execution_count": 4,
   "id": "17670e5e-1177-4cf7-8311-8ae8a08bd1c1",
   "metadata": {},
   "outputs": [
    {
     "data": {
      "text/plain": [
       "array(['setosa', 'versicolor', 'virginica'], dtype='<U10')"
      ]
     },
     "execution_count": 4,
     "metadata": {},
     "output_type": "execute_result"
    }
   ],
   "source": [
    "iris.target_names"
   ]
  },
  {
   "cell_type": "code",
   "execution_count": 5,
   "id": "07a0eea4-cb5f-4ca0-b363-b7073041b87b",
   "metadata": {
    "scrolled": true
   },
   "outputs": [
    {
     "data": {
      "text/plain": [
       "<matplotlib.legend.Legend at 0x25566523190>"
      ]
     },
     "execution_count": 5,
     "metadata": {},
     "output_type": "execute_result"
    },
    {
     "data": {
      "image/png": "[encoded data removed]",
      "text/plain": [
       "<Figure size 640x480 with 1 Axes>"
      ]
     },
     "metadata": {},
     "output_type": "display_data"
    }
   ],
   "source": [
    "plt.plot(X[:, 0][y==True], X[:, 1][y==True], \"o\", label=\"setosa\")\n",
    "plt.plot(X[:, 0][y==False], X[:, 1][y==False], \"o\", label=\"versicolor or virginica\")\n",
    "plt.grid()\n",
    "plt.legend()"
   ]
  },
  {
   "cell_type": "code",
   "execution_count": 6,
   "id": "192bfac4-196b-4615-9dcc-5ca45de8c86e",
   "metadata": {},
   "outputs": [
    {
     "data": {
      "text/html": [
       "<style>#sk-container-id-1 {\n",
       "  /* Definition of color scheme common for light and dark mode */\n",
       "  --sklearn-color-text: #000;\n",
       "  --sklearn-color-text-muted: #666;\n",
       "  --sklearn-color-line: gray;\n",
       "  /* Definition of color scheme for unfitted estimators */\n",
       "  --sklearn-color-unfitted-level-0: #fff5e6;\n",
       "  --sklearn-color-unfitted-level-1: #f6e4d2;\n",
       "  --sklearn-color-unfitted-level-2: #ffe0b3;\n",
       "  --sklearn-color-unfitted-level-3: chocolate;\n",
       "  /* Definition of color scheme for fitted estimators */\n",
       "  --sklearn-color-fitted-level-0: #f0f8ff;\n",
       "  --sklearn-color-fitted-level-1: #d4ebff;\n",
       "  --sklearn-color-fitted-level-2: #b3dbfd;\n",
       "  --sklearn-color-fitted-level-3: cornflowerblue;\n",
       "\n",
       "  /* Specific color for light theme */\n",
       "  --sklearn-color-text-on-default-background: var(--sg-text-color, var(--theme-code-foreground, var(--jp-content-font-color1, black)));\n",
       "  --sklearn-color-background: var(--sg-background-color, var(--theme-background, var(--jp-layout-color0, white)));\n",
       "  --sklearn-color-border-box: var(--sg-text-color, var(--theme-code-foreground, var(--jp-content-font-color1, black)));\n",
       "  --sklearn-color-icon: #696969;\n",
       "\n",
       "  @media (prefers-color-scheme: dark) {\n",
       "    /* Redefinition of color scheme for dark theme */\n",
       "    --sklearn-color-text-on-default-background: var(--sg-text-color, var(--theme-code-foreground, var(--jp-content-font-color1, white)));\n",
       "    --sklearn-color-background: var(--sg-background-color, var(--theme-background, var(--jp-layout-color0, #111)));\n",
       "    --sklearn-color-border-box: var(--sg-text-color, var(--theme-code-foreground, var(--jp-content-font-color1, white)));\n",
       "    --sklearn-color-icon: #878787;\n",
       "  }\n",
       "}\n",
       "\n",
       "#sk-container-id-1 {\n",
       "  color: var(--sklearn-color-text);\n",
       "}\n",
       "\n",
       "#sk-container-id-1 pre {\n",
       "  padding: 0;\n",
       "}\n",
       "\n",
       "#sk-container-id-1 input.sk-hidden--visually {\n",
       "  border: 0;\n",
       "  clip: rect(1px 1px 1px 1px);\n",
       "  clip: rect(1px, 1px, 1px, 1px);\n",
       "  height: 1px;\n",
       "  margin: -1px;\n",
       "  overflow: hidden;\n",
       "  padding: 0;\n",
       "  position: absolute;\n",
       "  width: 1px;\n",
       "}\n",
       "\n",
       "#sk-container-id-1 div.sk-dashed-wrapped {\n",
       "  border: 1px dashed var(--sklearn-color-line);\n",
       "  margin: 0 0.4em 0.5em 0.4em;\n",
       "  box-sizing: border-box;\n",
       "  padding-bottom: 0.4em;\n",
       "  background-color: var(--sklearn-color-background);\n",
       "}\n",
       "\n",
       "#sk-container-id-1 div.sk-container {\n",
       "  /* jupyter's `normalize.less` sets `[hidden] { display: none; }`\n",
       "     but bootstrap.min.css set `[hidden] { display: none !important; }`\n",
       "     so we also need the `!important` here to be able to override the\n",
       "     default hidden behavior on the sphinx rendered scikit-learn.org.\n",
       "     See: https://github.com/scikit-learn/scikit-learn/issues/21755 */\n",
       "  display: inline-block !important;\n",
       "  position: relative;\n",
       "}\n",
       "\n",
       "#sk-container-id-1 div.sk-text-repr-fallback {\n",
       "  display: none;\n",
       "}\n",
       "\n",
       "div.sk-parallel-item,\n",
       "div.sk-serial,\n",
       "div.sk-item {\n",
       "  /* draw centered vertical line to link estimators */\n",
       "  background-image: linear-gradient(var(--sklearn-color-text-on-default-background), var(--sklearn-color-text-on-default-background));\n",
       "  background-size: 2px 100%;\n",
       "  background-repeat: no-repeat;\n",
       "  background-position: center center;\n",
       "}\n",
       "\n",
       "/* Parallel-specific style estimator block */\n",
       "\n",
       "#sk-container-id-1 div.sk-parallel-item::after {\n",
       "  content: \"\";\n",
       "  width: 100%;\n",
       "  border-bottom: 2px solid var(--sklearn-color-text-on-default-background);\n",
       "  flex-grow: 1;\n",
       "}\n",
       "\n",
       "#sk-container-id-1 div.sk-parallel {\n",
       "  display: flex;\n",
       "  align-items: stretch;\n",
       "  justify-content: center;\n",
       "  background-color: var(--sklearn-color-background);\n",
       "  position: relative;\n",
       "}\n",
       "\n",
       "#sk-container-id-1 div.sk-parallel-item {\n",
       "  display: flex;\n",
       "  flex-direction: column;\n",
       "}\n",
       "\n",
       "#sk-container-id-1 div.sk-parallel-item:first-child::after {\n",
       "  align-self: flex-end;\n",
       "  width: 50%;\n",
       "}\n",
       "\n",
       "#sk-container-id-1 div.sk-parallel-item:last-child::after {\n",
       "  align-self: flex-start;\n",
       "  width: 50%;\n",
       "}\n",
       "\n",
       "#sk-container-id-1 div.sk-parallel-item:only-child::after {\n",
       "  width: 0;\n",
       "}\n",
       "\n",
       "/* Serial-specific style estimator block */\n",
       "\n",
       "#sk-container-id-1 div.sk-serial {\n",
       "  display: flex;\n",
       "  flex-direction: column;\n",
       "  align-items: center;\n",
       "  background-color: var(--sklearn-color-background);\n",
       "  padding-right: 1em;\n",
       "  padding-left: 1em;\n",
       "}\n",
       "\n",
       "\n",
       "/* Toggleable style: style used for estimator/Pipeline/ColumnTransformer box that is\n",
       "clickable and can be expanded/collapsed.\n",
       "- Pipeline and ColumnTransformer use this feature and define the default style\n",
       "- Estimators will overwrite some part of the style using the `sk-estimator` class\n",
       "*/\n",
       "\n",
       "/* Pipeline and ColumnTransformer style (default) */\n",
       "\n",
       "#sk-container-id-1 div.sk-toggleable {\n",
       "  /* Default theme specific background. It is overwritten whether we have a\n",
       "  specific estimator or a Pipeline/ColumnTransformer */\n",
       "  background-color: var(--sklearn-color-background);\n",
       "}\n",
       "\n",
       "/* Toggleable label */\n",
       "#sk-container-id-1 label.sk-toggleable__label {\n",
       "  cursor: pointer;\n",
       "  display: flex;\n",
       "  width: 100%;\n",
       "  margin-bottom: 0;\n",
       "  padding: 0.5em;\n",
       "  box-sizing: border-box;\n",
       "  text-align: center;\n",
       "  align-items: start;\n",
       "  justify-content: space-between;\n",
       "  gap: 0.5em;\n",
       "}\n",
       "\n",
       "#sk-container-id-1 label.sk-toggleable__label .caption {\n",
       "  font-size: 0.6rem;\n",
       "  font-weight: lighter;\n",
       "  color: var(--sklearn-color-text-muted);\n",
       "}\n",
       "\n",
       "#sk-container-id-1 label.sk-toggleable__label-arrow:before {\n",
       "  /* Arrow on the left of the label */\n",
       "  content: \"▸\";\n",
       "  float: left;\n",
       "  margin-right: 0.25em;\n",
       "  color: var(--sklearn-color-icon);\n",
       "}\n",
       "\n",
       "#sk-container-id-1 label.sk-toggleable__label-arrow:hover:before {\n",
       "  color: var(--sklearn-color-text);\n",
       "}\n",
       "\n",
       "/* Toggleable content - dropdown */\n",
       "\n",
       "#sk-container-id-1 div.sk-toggleable__content {\n",
       "  max-height: 0;\n",
       "  max-width: 0;\n",
       "  overflow: hidden;\n",
       "  text-align: left;\n",
       "  /* unfitted */\n",
       "  background-color: var(--sklearn-color-unfitted-level-0);\n",
       "}\n",
       "\n",
       "#sk-container-id-1 div.sk-toggleable__content.fitted {\n",
       "  /* fitted */\n",
       "  background-color: var(--sklearn-color-fitted-level-0);\n",
       "}\n",
       "\n",
       "#sk-container-id-1 div.sk-toggleable__content pre {\n",
       "  margin: 0.2em;\n",
       "  border-radius: 0.25em;\n",
       "  color: var(--sklearn-color-text);\n",
       "  /* unfitted */\n",
       "  background-color: var(--sklearn-color-unfitted-level-0);\n",
       "}\n",
       "\n",
       "#sk-container-id-1 div.sk-toggleable__content.fitted pre {\n",
       "  /* unfitted */\n",
       "  background-color: var(--sklearn-color-fitted-level-0);\n",
       "}\n",
       "\n",
       "#sk-container-id-1 input.sk-toggleable__control:checked~div.sk-toggleable__content {\n",
       "  /* Expand drop-down */\n",
       "  max-height: 200px;\n",
       "  max-width: 100%;\n",
       "  overflow: auto;\n",
       "}\n",
       "\n",
       "#sk-container-id-1 input.sk-toggleable__control:checked~label.sk-toggleable__label-arrow:before {\n",
       "  content: \"▾\";\n",
       "}\n",
       "\n",
       "/* Pipeline/ColumnTransformer-specific style */\n",
       "\n",
       "#sk-container-id-1 div.sk-label input.sk-toggleable__control:checked~label.sk-toggleable__label {\n",
       "  color: var(--sklearn-color-text);\n",
       "  background-color: var(--sklearn-color-unfitted-level-2);\n",
       "}\n",
       "\n",
       "#sk-container-id-1 div.sk-label.fitted input.sk-toggleable__control:checked~label.sk-toggleable__label {\n",
       "  background-color: var(--sklearn-color-fitted-level-2);\n",
       "}\n",
       "\n",
       "/* Estimator-specific style */\n",
       "\n",
       "/* Colorize estimator box */\n",
       "#sk-container-id-1 div.sk-estimator input.sk-toggleable__control:checked~label.sk-toggleable__label {\n",
       "  /* unfitted */\n",
       "  background-color: var(--sklearn-color-unfitted-level-2);\n",
       "}\n",
       "\n",
       "#sk-container-id-1 div.sk-estimator.fitted input.sk-toggleable__control:checked~label.sk-toggleable__label {\n",
       "  /* fitted */\n",
       "  background-color: var(--sklearn-color-fitted-level-2);\n",
       "}\n",
       "\n",
       "#sk-container-id-1 div.sk-label label.sk-toggleable__label,\n",
       "#sk-container-id-1 div.sk-label label {\n",
       "  /* The background is the default theme color */\n",
       "  color: var(--sklearn-color-text-on-default-background);\n",
       "}\n",
       "\n",
       "/* On hover, darken the color of the background */\n",
       "#sk-container-id-1 div.sk-label:hover label.sk-toggleable__label {\n",
       "  color: var(--sklearn-color-text);\n",
       "  background-color: var(--sklearn-color-unfitted-level-2);\n",
       "}\n",
       "\n",
       "/* Label box, darken color on hover, fitted */\n",
       "#sk-container-id-1 div.sk-label.fitted:hover label.sk-toggleable__label.fitted {\n",
       "  color: var(--sklearn-color-text);\n",
       "  background-color: var(--sklearn-color-fitted-level-2);\n",
       "}\n",
       "\n",
       "/* Estimator label */\n",
       "\n",
       "#sk-container-id-1 div.sk-label label {\n",
       "  font-family: monospace;\n",
       "  font-weight: bold;\n",
       "  display: inline-block;\n",
       "  line-height: 1.2em;\n",
       "}\n",
       "\n",
       "#sk-container-id-1 div.sk-label-container {\n",
       "  text-align: center;\n",
       "}\n",
       "\n",
       "/* Estimator-specific */\n",
       "#sk-container-id-1 div.sk-estimator {\n",
       "  font-family: monospace;\n",
       "  border: 1px dotted var(--sklearn-color-border-box);\n",
       "  border-radius: 0.25em;\n",
       "  box-sizing: border-box;\n",
       "  margin-bottom: 0.5em;\n",
       "  /* unfitted */\n",
       "  background-color: var(--sklearn-color-unfitted-level-0);\n",
       "}\n",
       "\n",
       "#sk-container-id-1 div.sk-estimator.fitted {\n",
       "  /* fitted */\n",
       "  background-color: var(--sklearn-color-fitted-level-0);\n",
       "}\n",
       "\n",
       "/* on hover */\n",
       "#sk-container-id-1 div.sk-estimator:hover {\n",
       "  /* unfitted */\n",
       "  background-color: var(--sklearn-color-unfitted-level-2);\n",
       "}\n",
       "\n",
       "#sk-container-id-1 div.sk-estimator.fitted:hover {\n",
       "  /* fitted */\n",
       "  background-color: var(--sklearn-color-fitted-level-2);\n",
       "}\n",
       "\n",
       "/* Specification for estimator info (e.g. \"i\" and \"?\") */\n",
       "\n",
       "/* Common style for \"i\" and \"?\" */\n",
       "\n",
       ".sk-estimator-doc-link,\n",
       "a:link.sk-estimator-doc-link,\n",
       "a:visited.sk-estimator-doc-link {\n",
       "  float: right;\n",
       "  font-size: smaller;\n",
       "  line-height: 1em;\n",
       "  font-family: monospace;\n",
       "  background-color: var(--sklearn-color-background);\n",
       "  border-radius: 1em;\n",
       "  height: 1em;\n",
       "  width: 1em;\n",
       "  text-decoration: none !important;\n",
       "  margin-left: 0.5em;\n",
       "  text-align: center;\n",
       "  /* unfitted */\n",
       "  border: var(--sklearn-color-unfitted-level-1) 1pt solid;\n",
       "  color: var(--sklearn-color-unfitted-level-1);\n",
       "}\n",
       "\n",
       ".sk-estimator-doc-link.fitted,\n",
       "a:link.sk-estimator-doc-link.fitted,\n",
       "a:visited.sk-estimator-doc-link.fitted {\n",
       "  /* fitted */\n",
       "  border: var(--sklearn-color-fitted-level-1) 1pt solid;\n",
       "  color: var(--sklearn-color-fitted-level-1);\n",
       "}\n",
       "\n",
       "/* On hover */\n",
       "div.sk-estimator:hover .sk-estimator-doc-link:hover,\n",
       ".sk-estimator-doc-link:hover,\n",
       "div.sk-label-container:hover .sk-estimator-doc-link:hover,\n",
       ".sk-estimator-doc-link:hover {\n",
       "  /* unfitted */\n",
       "  background-color: var(--sklearn-color-unfitted-level-3);\n",
       "  color: var(--sklearn-color-background);\n",
       "  text-decoration: none;\n",
       "}\n",
       "\n",
       "div.sk-estimator.fitted:hover .sk-estimator-doc-link.fitted:hover,\n",
       ".sk-estimator-doc-link.fitted:hover,\n",
       "div.sk-label-container:hover .sk-estimator-doc-link.fitted:hover,\n",
       ".sk-estimator-doc-link.fitted:hover {\n",
       "  /* fitted */\n",
       "  background-color: var(--sklearn-color-fitted-level-3);\n",
       "  color: var(--sklearn-color-background);\n",
       "  text-decoration: none;\n",
       "}\n",
       "\n",
       "/* Span, style for the box shown on hovering the info icon */\n",
       ".sk-estimator-doc-link span {\n",
       "  display: none;\n",
       "  z-index: 9999;\n",
       "  position: relative;\n",
       "  font-weight: normal;\n",
       "  right: .2ex;\n",
       "  padding: .5ex;\n",
       "  margin: .5ex;\n",
       "  width: min-content;\n",
       "  min-width: 20ex;\n",
       "  max-width: 50ex;\n",
       "  color: var(--sklearn-color-text);\n",
       "  box-shadow: 2pt 2pt 4pt #999;\n",
       "  /* unfitted */\n",
       "  background: var(--sklearn-color-unfitted-level-0);\n",
       "  border: .5pt solid var(--sklearn-color-unfitted-level-3);\n",
       "}\n",
       "\n",
       ".sk-estimator-doc-link.fitted span {\n",
       "  /* fitted */\n",
       "  background: var(--sklearn-color-fitted-level-0);\n",
       "  border: var(--sklearn-color-fitted-level-3);\n",
       "}\n",
       "\n",
       ".sk-estimator-doc-link:hover span {\n",
       "  display: block;\n",
       "}\n",
       "\n",
       "/* \"?\"-specific style due to the `<a>` HTML tag */\n",
       "\n",
       "#sk-container-id-1 a.estimator_doc_link {\n",
       "  float: right;\n",
       "  font-size: 1rem;\n",
       "  line-height: 1em;\n",
       "  font-family: monospace;\n",
       "  background-color: var(--sklearn-color-background);\n",
       "  border-radius: 1rem;\n",
       "  height: 1rem;\n",
       "  width: 1rem;\n",
       "  text-decoration: none;\n",
       "  /* unfitted */\n",
       "  color: var(--sklearn-color-unfitted-level-1);\n",
       "  border: var(--sklearn-color-unfitted-level-1) 1pt solid;\n",
       "}\n",
       "\n",
       "#sk-container-id-1 a.estimator_doc_link.fitted {\n",
       "  /* fitted */\n",
       "  border: var(--sklearn-color-fitted-level-1) 1pt solid;\n",
       "  color: var(--sklearn-color-fitted-level-1);\n",
       "}\n",
       "\n",
       "/* On hover */\n",
       "#sk-container-id-1 a.estimator_doc_link:hover {\n",
       "  /* unfitted */\n",
       "  background-color: var(--sklearn-color-unfitted-level-3);\n",
       "  color: var(--sklearn-color-background);\n",
       "  text-decoration: none;\n",
       "}\n",
       "\n",
       "#sk-container-id-1 a.estimator_doc_link.fitted:hover {\n",
       "  /* fitted */\n",
       "  background-color: var(--sklearn-color-fitted-level-3);\n",
       "}\n",
       "</style><div id=\"sk-container-id-1\" class=\"sk-top-container\"><div class=\"sk-text-repr-fallback\"><pre>Pipeline(steps=[(&#x27;standardscaler&#x27;, StandardScaler()),\n",
       "                (&#x27;perceptron&#x27;, Perceptron(random_state=42))])</pre><b>In a Jupyter environment, please rerun this cell to show the HTML representation or trust the notebook. <br />On GitHub, the HTML representation is unable to render, please try loading this page with nbviewer.org.</b></div><div class=\"sk-container\" hidden><div class=\"sk-item sk-dashed-wrapped\"><div class=\"sk-label-container\"><div class=\"sk-label fitted sk-toggleable\"><input class=\"sk-toggleable__control sk-hidden--visually\" id=\"sk-estimator-id-1\" type=\"checkbox\" ><label for=\"sk-estimator-id-1\" class=\"sk-toggleable__label fitted sk-toggleable__label-arrow\"><div><div>Pipeline</div></div><div><a class=\"sk-estimator-doc-link fitted\" rel=\"noreferrer\" target=\"_blank\" href=\"https://scikit-learn.org/1.6/modules/generated/sklearn.pipeline.Pipeline.html\">?<span>Documentation for Pipeline</span></a><span class=\"sk-estimator-doc-link fitted\">i<span>Fitted</span></span></div></label><div class=\"sk-toggleable__content fitted\"><pre>Pipeline(steps=[(&#x27;standardscaler&#x27;, StandardScaler()),\n",
       "                (&#x27;perceptron&#x27;, Perceptron(random_state=42))])</pre></div> </div></div><div class=\"sk-serial\"><div class=\"sk-item\"><div class=\"sk-estimator fitted sk-toggleable\"><input class=\"sk-toggleable__control sk-hidden--visually\" id=\"sk-estimator-id-2\" type=\"checkbox\" ><label for=\"sk-estimator-id-2\" class=\"sk-toggleable__label fitted sk-toggleable__label-arrow\"><div><div>StandardScaler</div></div><div><a class=\"sk-estimator-doc-link fitted\" rel=\"noreferrer\" target=\"_blank\" href=\"https://scikit-learn.org/1.6/modules/generated/sklearn.preprocessing.StandardScaler.html\">?<span>Documentation for StandardScaler</span></a></div></label><div class=\"sk-toggleable__content fitted\"><pre>StandardScaler()</pre></div> </div></div><div class=\"sk-item\"><div class=\"sk-estimator fitted sk-toggleable\"><input class=\"sk-toggleable__control sk-hidden--visually\" id=\"sk-estimator-id-3\" type=\"checkbox\" ><label for=\"sk-estimator-id-3\" class=\"sk-toggleable__label fitted sk-toggleable__label-arrow\"><div><div>Perceptron</div></div><div><a class=\"sk-estimator-doc-link fitted\" rel=\"noreferrer\" target=\"_blank\" href=\"https://scikit-learn.org/1.6/modules/generated/sklearn.linear_model.Perceptron.html\">?<span>Documentation for Perceptron</span></a></div></label><div class=\"sk-toggleable__content fitted\"><pre>Perceptron(random_state=42)</pre></div> </div></div></div></div></div></div>"
      ],
      "text/plain": [
       "Pipeline(steps=[('standardscaler', StandardScaler()),\n",
       "                ('perceptron', Perceptron(random_state=42))])"
      ]
     },
     "execution_count": 6,
     "metadata": {},
     "output_type": "execute_result"
    }
   ],
   "source": [
    "scaler = StandardScaler()\n",
    "per_clf = Perceptron(random_state=42)\n",
    "scaled_per_clf = make_pipeline(scaler, per_clf)\n",
    "scaled_per_clf.fit(X, y)"
   ]
  },
  {
   "cell_type": "code",
   "execution_count": null,
   "id": "784e8eba-96e6-4027-8234-6455571a93e8",
   "metadata": {},
   "outputs": [],
   "source": []
  },
  {
   "cell_type": "code",
   "execution_count": null,
   "id": "5eaf6922-715e-4fa4-ae84-3b212e0dc33a",
   "metadata": {},
   "outputs": [],
   "source": []
  },
  {
   "cell_type": "code",
   "execution_count": 7,
   "id": "840b020e-bc7e-4796-a68a-1b3af426e0b5",
   "metadata": {},
   "outputs": [],
   "source": [
    "w = per_clf.coef_[0] / scaler.scale_\n",
    "b = per_clf.decision_function([-scaler.mean_ / scaler.scale_])\n",
    "\n",
    "axes = [ X[:, 0].min()-0.2, X[:, 0].max()+0.2,  X[:, 1].min()-0.2, X[:, 1].max()+0.2]\n",
    "xmin, xmax = X[:, 0].min()-1, X[:, 0].max()\n",
    "z = np.linspace(xmin, xmax, 500)\n",
    "decision_boundary = -w[0] / w[1] * z - b / w[1]"
   ]
  },
  {
   "cell_type": "code",
   "execution_count": 8,
   "id": "ebdabd75-222d-4371-8e95-b8324757b576",
   "metadata": {},
   "outputs": [],
   "source": [
    "\n",
    "from matplotlib.colors import ListedColormap\n",
    "x0, x1 = np.meshgrid(\n",
    "    np.linspace(axes[0], axes[1], 200).reshape(-1, 1),\n",
    "    np.linspace(axes[2], axes[3], 200).reshape(-1, 1),\n",
    ")\n",
    "X_new = np.c_[x0.ravel(), x1.ravel()]\n",
    "y_predict = scaled_per_clf.predict(X_new)\n",
    "zz = y_predict.reshape(x0.shape)\n",
    "custom_cmap = ListedColormap(['#9898ff', '#fafab0'])"
   ]
  },
  {
   "cell_type": "code",
   "execution_count": 9,
   "id": "f9b625c8-a07d-4730-9f87-413ed2628743",
   "metadata": {},
   "outputs": [
    {
     "data": {
      "text/plain": [
       "(4.1, 8.1, 1.8, 4.6000000000000005)"
      ]
     },
     "execution_count": 9,
     "metadata": {},
     "output_type": "execute_result"
    },
    {
     "data": {
      "image/png": "[encoded data removed]",
      "text/plain": [
       "<Figure size 640x480 with 1 Axes>"
      ]
     },
     "metadata": {},
     "output_type": "display_data"
    }
   ],
   "source": [
    "plt.plot(z, decision_boundary, \"r-\", label=\"decision boundary\")\n",
    "plt.plot(X[:, 0][y==True], X[:, 1][y==True], \"o\", label=\"setosa\")\n",
    "plt.plot(X[:, 0][y==False], X[:, 1][y==False], \"go\", label=\"versicolor or virginica\")\n",
    "plt.legend(loc=\"upper right\")\n",
    "plt.contourf(x0, x1, zz, cmap=custom_cmap)\n",
    "plt.axis(axes)"
   ]
  },
  {
   "cell_type": "code",
   "execution_count": null,
   "id": "2e9ec96e-a217-40e0-9516-35d69cf58dac",
   "metadata": {},
   "outputs": [],
   "source": []
  },
  {
   "cell_type": "markdown",
   "id": "ba19f546-6d12-4cab-9833-641377e990a7",
   "metadata": {},
   "source": [
    "### Activation function"
   ]
  },
  {
   "cell_type": "code",
   "execution_count": 10,
   "id": "b7d8d321-3c7e-4c3f-b996-e1a3a597ec43",
   "metadata": {},
   "outputs": [
    {
     "data": {
      "text/plain": [
       "(-4.5, 4.5, -0.2, 1.2)"
      ]
     },
     "execution_count": 10,
     "metadata": {},
     "output_type": "execute_result"
    },
    {
     "data": {
      "image/png": "[encoded data removed]",
      "text/plain": [
       "<Figure size 1100x310 with 2 Axes>"
      ]
     },
     "metadata": {},
     "output_type": "display_data"
    }
   ],
   "source": [
    "def relu(z):\n",
    "    return np.maximum(0, z)\n",
    "\n",
    "def derivative(f, z, eps=0.000001):\n",
    "    return (f(z + eps) - f(z - eps))/(2 * eps)\n",
    "\n",
    "max_z = 4.5\n",
    "z = np.linspace(-max_z, max_z, 200)\n",
    "\n",
    "plt.figure(figsize=(11, 3.1))\n",
    "\n",
    "plt.subplot(121)\n",
    "plt.plot([-max_z, 0], [0, 0], \"r-\", linewidth=2, label=\"Heaviside\")\n",
    "plt.plot(z, relu(z), \"m-.\", linewidth=2, label=\"ReLU\")\n",
    "plt.plot([0, 0], [0, 1], \"r-\", linewidth=0.5)\n",
    "plt.plot([0, max_z], [1, 1], \"r-\", linewidth=2)\n",
    "plt.plot(z, sigmoid(z), \"g--\", linewidth=2, label=\"Sigmoid\")\n",
    "plt.plot(z, np.tanh(z), \"b-\", linewidth=1, label=\"Tanh\")\n",
    "plt.grid(True)\n",
    "plt.title(\"Activation functions\")\n",
    "plt.axis([-max_z, max_z, -1.65, 2.4])\n",
    "plt.gca().set_yticks([-1, 0, 1, 2])\n",
    "plt.legend(loc=\"lower right\", fontsize=13)\n",
    "\n",
    "plt.subplot(122)\n",
    "plt.plot(z, derivative(np.sign, z), \"r-\", linewidth=2, label=\"Heaviside\")\n",
    "plt.plot(0, 0, \"ro\", markersize=5)\n",
    "plt.plot(0, 0, \"rx\", markersize=10)\n",
    "plt.plot(z, derivative(sigmoid, z), \"g--\", linewidth=2, label=\"Sigmoid\")\n",
    "plt.plot(z, derivative(np.tanh, z), \"b-\", linewidth=1, label=\"Tanh\")\n",
    "plt.plot([-max_z, 0], [0, 0], \"m-.\", linewidth=2)\n",
    "plt.plot([0, max_z], [1, 1], \"m-.\", linewidth=2)\n",
    "plt.plot([0, 0], [0, 1], \"m-.\", linewidth=1.2)\n",
    "plt.plot(0, 1, \"mo\", markersize=5)\n",
    "plt.plot(0, 1, \"mx\", markersize=10)\n",
    "plt.grid(True)\n",
    "plt.title(\"Derivatives\")\n",
    "plt.axis([-max_z, max_z, -0.2, 1.2])"
   ]
  },
  {
   "cell_type": "code",
   "execution_count": null,
   "id": "cf751d57-3d78-48a9-ad4d-450cc6a2de48",
   "metadata": {},
   "outputs": [],
   "source": []
  },
  {
   "cell_type": "code",
   "execution_count": null,
   "id": "09fe7134-0e23-4e4d-b25b-f5d1d9614027",
   "metadata": {},
   "outputs": [],
   "source": []
  },
  {
   "cell_type": "markdown",
   "id": "5182f0dd-2859-4d8f-8570-61cb5654f482",
   "metadata": {},
   "source": [
    "### Regression MLPs"
   ]
  },
  {
   "cell_type": "code",
   "execution_count": 943,
   "id": "10ad6763-9535-44b2-b1c2-8bd05b9cadc4",
   "metadata": {},
   "outputs": [],
   "source": [
    "housing = fetch_california_housing()"
   ]
  },
  {
   "cell_type": "code",
   "execution_count": 947,
   "id": "649abef9-d238-4bf4-81b9-441c0feba65e",
   "metadata": {},
   "outputs": [
    {
     "data": {
      "text/plain": [
       "['data', 'target', 'frame', 'target_names', 'feature_names', 'DESCR']"
      ]
     },
     "execution_count": 947,
     "metadata": {},
     "output_type": "execute_result"
    }
   ],
   "source": [
    "list(housing)"
   ]
  },
  {
   "cell_type": "code",
   "execution_count": 961,
   "id": "aabdb1c8-18d7-49d9-a81a-c53e1edbf71f",
   "metadata": {},
   "outputs": [],
   "source": [
    "X_train_full, X_test, y_train_full, y_test = train_test_split(\n",
    "  housing.data, housing.target, random_state=42\n",
    ")\n",
    "\n",
    "X_train, X_valid, y_train, y_valid = train_test_split(\n",
    "  X_train_full, y_train_full, random_state=42\n",
    ")"
   ]
  },
  {
   "cell_type": "code",
   "execution_count": 963,
   "id": "944fc0aa-f6f4-4ed5-af43-ad9453888f9d",
   "metadata": {},
   "outputs": [],
   "source": [
    "mlp_reg = MLPRegressor(hidden_layer_sizes=[50, 50, 50], random_state=42)\n",
    "pipeline = make_pipeline(StandardScaler(), mlp_reg)"
   ]
  },
  {
   "cell_type": "code",
   "execution_count": 965,
   "id": "7b91348b-1aab-4687-8efc-21f0e393b5ea",
   "metadata": {},
   "outputs": [
    {
     "data": {
      "text/html": [
       "<style>#sk-container-id-43 {\n",
       "  /* Definition of color scheme common for light and dark mode */\n",
       "  --sklearn-color-text: #000;\n",
       "  --sklearn-color-text-muted: #666;\n",
       "  --sklearn-color-line: gray;\n",
       "  /* Definition of color scheme for unfitted estimators */\n",
       "  --sklearn-color-unfitted-level-0: #fff5e6;\n",
       "  --sklearn-color-unfitted-level-1: #f6e4d2;\n",
       "  --sklearn-color-unfitted-level-2: #ffe0b3;\n",
       "  --sklearn-color-unfitted-level-3: chocolate;\n",
       "  /* Definition of color scheme for fitted estimators */\n",
       "  --sklearn-color-fitted-level-0: #f0f8ff;\n",
       "  --sklearn-color-fitted-level-1: #d4ebff;\n",
       "  --sklearn-color-fitted-level-2: #b3dbfd;\n",
       "  --sklearn-color-fitted-level-3: cornflowerblue;\n",
       "\n",
       "  /* Specific color for light theme */\n",
       "  --sklearn-color-text-on-default-background: var(--sg-text-color, var(--theme-code-foreground, var(--jp-content-font-color1, black)));\n",
       "  --sklearn-color-background: var(--sg-background-color, var(--theme-background, var(--jp-layout-color0, white)));\n",
       "  --sklearn-color-border-box: var(--sg-text-color, var(--theme-code-foreground, var(--jp-content-font-color1, black)));\n",
       "  --sklearn-color-icon: #696969;\n",
       "\n",
       "  @media (prefers-color-scheme: dark) {\n",
       "    /* Redefinition of color scheme for dark theme */\n",
       "    --sklearn-color-text-on-default-background: var(--sg-text-color, var(--theme-code-foreground, var(--jp-content-font-color1, white)));\n",
       "    --sklearn-color-background: var(--sg-background-color, var(--theme-background, var(--jp-layout-color0, #111)));\n",
       "    --sklearn-color-border-box: var(--sg-text-color, var(--theme-code-foreground, var(--jp-content-font-color1, white)));\n",
       "    --sklearn-color-icon: #878787;\n",
       "  }\n",
       "}\n",
       "\n",
       "#sk-container-id-43 {\n",
       "  color: var(--sklearn-color-text);\n",
       "}\n",
       "\n",
       "#sk-container-id-43 pre {\n",
       "  padding: 0;\n",
       "}\n",
       "\n",
       "#sk-container-id-43 input.sk-hidden--visually {\n",
       "  border: 0;\n",
       "  clip: rect(1px 1px 1px 1px);\n",
       "  clip: rect(1px, 1px, 1px, 1px);\n",
       "  height: 1px;\n",
       "  margin: -1px;\n",
       "  overflow: hidden;\n",
       "  padding: 0;\n",
       "  position: absolute;\n",
       "  width: 1px;\n",
       "}\n",
       "\n",
       "#sk-container-id-43 div.sk-dashed-wrapped {\n",
       "  border: 1px dashed var(--sklearn-color-line);\n",
       "  margin: 0 0.4em 0.5em 0.4em;\n",
       "  box-sizing: border-box;\n",
       "  padding-bottom: 0.4em;\n",
       "  background-color: var(--sklearn-color-background);\n",
       "}\n",
       "\n",
       "#sk-container-id-43 div.sk-container {\n",
       "  /* jupyter's `normalize.less` sets `[hidden] { display: none; }`\n",
       "     but bootstrap.min.css set `[hidden] { display: none !important; }`\n",
       "     so we also need the `!important` here to be able to override the\n",
       "     default hidden behavior on the sphinx rendered scikit-learn.org.\n",
       "     See: https://github.com/scikit-learn/scikit-learn/issues/21755 */\n",
       "  display: inline-block !important;\n",
       "  position: relative;\n",
       "}\n",
       "\n",
       "#sk-container-id-43 div.sk-text-repr-fallback {\n",
       "  display: none;\n",
       "}\n",
       "\n",
       "div.sk-parallel-item,\n",
       "div.sk-serial,\n",
       "div.sk-item {\n",
       "  /* draw centered vertical line to link estimators */\n",
       "  background-image: linear-gradient(var(--sklearn-color-text-on-default-background), var(--sklearn-color-text-on-default-background));\n",
       "  background-size: 2px 100%;\n",
       "  background-repeat: no-repeat;\n",
       "  background-position: center center;\n",
       "}\n",
       "\n",
       "/* Parallel-specific style estimator block */\n",
       "\n",
       "#sk-container-id-43 div.sk-parallel-item::after {\n",
       "  content: \"\";\n",
       "  width: 100%;\n",
       "  border-bottom: 2px solid var(--sklearn-color-text-on-default-background);\n",
       "  flex-grow: 1;\n",
       "}\n",
       "\n",
       "#sk-container-id-43 div.sk-parallel {\n",
       "  display: flex;\n",
       "  align-items: stretch;\n",
       "  justify-content: center;\n",
       "  background-color: var(--sklearn-color-background);\n",
       "  position: relative;\n",
       "}\n",
       "\n",
       "#sk-container-id-43 div.sk-parallel-item {\n",
       "  display: flex;\n",
       "  flex-direction: column;\n",
       "}\n",
       "\n",
       "#sk-container-id-43 div.sk-parallel-item:first-child::after {\n",
       "  align-self: flex-end;\n",
       "  width: 50%;\n",
       "}\n",
       "\n",
       "#sk-container-id-43 div.sk-parallel-item:last-child::after {\n",
       "  align-self: flex-start;\n",
       "  width: 50%;\n",
       "}\n",
       "\n",
       "#sk-container-id-43 div.sk-parallel-item:only-child::after {\n",
       "  width: 0;\n",
       "}\n",
       "\n",
       "/* Serial-specific style estimator block */\n",
       "\n",
       "#sk-container-id-43 div.sk-serial {\n",
       "  display: flex;\n",
       "  flex-direction: column;\n",
       "  align-items: center;\n",
       "  background-color: var(--sklearn-color-background);\n",
       "  padding-right: 1em;\n",
       "  padding-left: 1em;\n",
       "}\n",
       "\n",
       "\n",
       "/* Toggleable style: style used for estimator/Pipeline/ColumnTransformer box that is\n",
       "clickable and can be expanded/collapsed.\n",
       "- Pipeline and ColumnTransformer use this feature and define the default style\n",
       "- Estimators will overwrite some part of the style using the `sk-estimator` class\n",
       "*/\n",
       "\n",
       "/* Pipeline and ColumnTransformer style (default) */\n",
       "\n",
       "#sk-container-id-43 div.sk-toggleable {\n",
       "  /* Default theme specific background. It is overwritten whether we have a\n",
       "  specific estimator or a Pipeline/ColumnTransformer */\n",
       "  background-color: var(--sklearn-color-background);\n",
       "}\n",
       "\n",
       "/* Toggleable label */\n",
       "#sk-container-id-43 label.sk-toggleable__label {\n",
       "  cursor: pointer;\n",
       "  display: flex;\n",
       "  width: 100%;\n",
       "  margin-bottom: 0;\n",
       "  padding: 0.5em;\n",
       "  box-sizing: border-box;\n",
       "  text-align: center;\n",
       "  align-items: start;\n",
       "  justify-content: space-between;\n",
       "  gap: 0.5em;\n",
       "}\n",
       "\n",
       "#sk-container-id-43 label.sk-toggleable__label .caption {\n",
       "  font-size: 0.6rem;\n",
       "  font-weight: lighter;\n",
       "  color: var(--sklearn-color-text-muted);\n",
       "}\n",
       "\n",
       "#sk-container-id-43 label.sk-toggleable__label-arrow:before {\n",
       "  /* Arrow on the left of the label */\n",
       "  content: \"▸\";\n",
       "  float: left;\n",
       "  margin-right: 0.25em;\n",
       "  color: var(--sklearn-color-icon);\n",
       "}\n",
       "\n",
       "#sk-container-id-43 label.sk-toggleable__label-arrow:hover:before {\n",
       "  color: var(--sklearn-color-text);\n",
       "}\n",
       "\n",
       "/* Toggleable content - dropdown */\n",
       "\n",
       "#sk-container-id-43 div.sk-toggleable__content {\n",
       "  max-height: 0;\n",
       "  max-width: 0;\n",
       "  overflow: hidden;\n",
       "  text-align: left;\n",
       "  /* unfitted */\n",
       "  background-color: var(--sklearn-color-unfitted-level-0);\n",
       "}\n",
       "\n",
       "#sk-container-id-43 div.sk-toggleable__content.fitted {\n",
       "  /* fitted */\n",
       "  background-color: var(--sklearn-color-fitted-level-0);\n",
       "}\n",
       "\n",
       "#sk-container-id-43 div.sk-toggleable__content pre {\n",
       "  margin: 0.2em;\n",
       "  border-radius: 0.25em;\n",
       "  color: var(--sklearn-color-text);\n",
       "  /* unfitted */\n",
       "  background-color: var(--sklearn-color-unfitted-level-0);\n",
       "}\n",
       "\n",
       "#sk-container-id-43 div.sk-toggleable__content.fitted pre {\n",
       "  /* unfitted */\n",
       "  background-color: var(--sklearn-color-fitted-level-0);\n",
       "}\n",
       "\n",
       "#sk-container-id-43 input.sk-toggleable__control:checked~div.sk-toggleable__content {\n",
       "  /* Expand drop-down */\n",
       "  max-height: 200px;\n",
       "  max-width: 100%;\n",
       "  overflow: auto;\n",
       "}\n",
       "\n",
       "#sk-container-id-43 input.sk-toggleable__control:checked~label.sk-toggleable__label-arrow:before {\n",
       "  content: \"▾\";\n",
       "}\n",
       "\n",
       "/* Pipeline/ColumnTransformer-specific style */\n",
       "\n",
       "#sk-container-id-43 div.sk-label input.sk-toggleable__control:checked~label.sk-toggleable__label {\n",
       "  color: var(--sklearn-color-text);\n",
       "  background-color: var(--sklearn-color-unfitted-level-2);\n",
       "}\n",
       "\n",
       "#sk-container-id-43 div.sk-label.fitted input.sk-toggleable__control:checked~label.sk-toggleable__label {\n",
       "  background-color: var(--sklearn-color-fitted-level-2);\n",
       "}\n",
       "\n",
       "/* Estimator-specific style */\n",
       "\n",
       "/* Colorize estimator box */\n",
       "#sk-container-id-43 div.sk-estimator input.sk-toggleable__control:checked~label.sk-toggleable__label {\n",
       "  /* unfitted */\n",
       "  background-color: var(--sklearn-color-unfitted-level-2);\n",
       "}\n",
       "\n",
       "#sk-container-id-43 div.sk-estimator.fitted input.sk-toggleable__control:checked~label.sk-toggleable__label {\n",
       "  /* fitted */\n",
       "  background-color: var(--sklearn-color-fitted-level-2);\n",
       "}\n",
       "\n",
       "#sk-container-id-43 div.sk-label label.sk-toggleable__label,\n",
       "#sk-container-id-43 div.sk-label label {\n",
       "  /* The background is the default theme color */\n",
       "  color: var(--sklearn-color-text-on-default-background);\n",
       "}\n",
       "\n",
       "/* On hover, darken the color of the background */\n",
       "#sk-container-id-43 div.sk-label:hover label.sk-toggleable__label {\n",
       "  color: var(--sklearn-color-text);\n",
       "  background-color: var(--sklearn-color-unfitted-level-2);\n",
       "}\n",
       "\n",
       "/* Label box, darken color on hover, fitted */\n",
       "#sk-container-id-43 div.sk-label.fitted:hover label.sk-toggleable__label.fitted {\n",
       "  color: var(--sklearn-color-text);\n",
       "  background-color: var(--sklearn-color-fitted-level-2);\n",
       "}\n",
       "\n",
       "/* Estimator label */\n",
       "\n",
       "#sk-container-id-43 div.sk-label label {\n",
       "  font-family: monospace;\n",
       "  font-weight: bold;\n",
       "  display: inline-block;\n",
       "  line-height: 1.2em;\n",
       "}\n",
       "\n",
       "#sk-container-id-43 div.sk-label-container {\n",
       "  text-align: center;\n",
       "}\n",
       "\n",
       "/* Estimator-specific */\n",
       "#sk-container-id-43 div.sk-estimator {\n",
       "  font-family: monospace;\n",
       "  border: 1px dotted var(--sklearn-color-border-box);\n",
       "  border-radius: 0.25em;\n",
       "  box-sizing: border-box;\n",
       "  margin-bottom: 0.5em;\n",
       "  /* unfitted */\n",
       "  background-color: var(--sklearn-color-unfitted-level-0);\n",
       "}\n",
       "\n",
       "#sk-container-id-43 div.sk-estimator.fitted {\n",
       "  /* fitted */\n",
       "  background-color: var(--sklearn-color-fitted-level-0);\n",
       "}\n",
       "\n",
       "/* on hover */\n",
       "#sk-container-id-43 div.sk-estimator:hover {\n",
       "  /* unfitted */\n",
       "  background-color: var(--sklearn-color-unfitted-level-2);\n",
       "}\n",
       "\n",
       "#sk-container-id-43 div.sk-estimator.fitted:hover {\n",
       "  /* fitted */\n",
       "  background-color: var(--sklearn-color-fitted-level-2);\n",
       "}\n",
       "\n",
       "/* Specification for estimator info (e.g. \"i\" and \"?\") */\n",
       "\n",
       "/* Common style for \"i\" and \"?\" */\n",
       "\n",
       ".sk-estimator-doc-link,\n",
       "a:link.sk-estimator-doc-link,\n",
       "a:visited.sk-estimator-doc-link {\n",
       "  float: right;\n",
       "  font-size: smaller;\n",
       "  line-height: 1em;\n",
       "  font-family: monospace;\n",
       "  background-color: var(--sklearn-color-background);\n",
       "  border-radius: 1em;\n",
       "  height: 1em;\n",
       "  width: 1em;\n",
       "  text-decoration: none !important;\n",
       "  margin-left: 0.5em;\n",
       "  text-align: center;\n",
       "  /* unfitted */\n",
       "  border: var(--sklearn-color-unfitted-level-1) 1pt solid;\n",
       "  color: var(--sklearn-color-unfitted-level-1);\n",
       "}\n",
       "\n",
       ".sk-estimator-doc-link.fitted,\n",
       "a:link.sk-estimator-doc-link.fitted,\n",
       "a:visited.sk-estimator-doc-link.fitted {\n",
       "  /* fitted */\n",
       "  border: var(--sklearn-color-fitted-level-1) 1pt solid;\n",
       "  color: var(--sklearn-color-fitted-level-1);\n",
       "}\n",
       "\n",
       "/* On hover */\n",
       "div.sk-estimator:hover .sk-estimator-doc-link:hover,\n",
       ".sk-estimator-doc-link:hover,\n",
       "div.sk-label-container:hover .sk-estimator-doc-link:hover,\n",
       ".sk-estimator-doc-link:hover {\n",
       "  /* unfitted */\n",
       "  background-color: var(--sklearn-color-unfitted-level-3);\n",
       "  color: var(--sklearn-color-background);\n",
       "  text-decoration: none;\n",
       "}\n",
       "\n",
       "div.sk-estimator.fitted:hover .sk-estimator-doc-link.fitted:hover,\n",
       ".sk-estimator-doc-link.fitted:hover,\n",
       "div.sk-label-container:hover .sk-estimator-doc-link.fitted:hover,\n",
       ".sk-estimator-doc-link.fitted:hover {\n",
       "  /* fitted */\n",
       "  background-color: var(--sklearn-color-fitted-level-3);\n",
       "  color: var(--sklearn-color-background);\n",
       "  text-decoration: none;\n",
       "}\n",
       "\n",
       "/* Span, style for the box shown on hovering the info icon */\n",
       ".sk-estimator-doc-link span {\n",
       "  display: none;\n",
       "  z-index: 9999;\n",
       "  position: relative;\n",
       "  font-weight: normal;\n",
       "  right: .2ex;\n",
       "  padding: .5ex;\n",
       "  margin: .5ex;\n",
       "  width: min-content;\n",
       "  min-width: 20ex;\n",
       "  max-width: 50ex;\n",
       "  color: var(--sklearn-color-text);\n",
       "  box-shadow: 2pt 2pt 4pt #999;\n",
       "  /* unfitted */\n",
       "  background: var(--sklearn-color-unfitted-level-0);\n",
       "  border: .5pt solid var(--sklearn-color-unfitted-level-3);\n",
       "}\n",
       "\n",
       ".sk-estimator-doc-link.fitted span {\n",
       "  /* fitted */\n",
       "  background: var(--sklearn-color-fitted-level-0);\n",
       "  border: var(--sklearn-color-fitted-level-3);\n",
       "}\n",
       "\n",
       ".sk-estimator-doc-link:hover span {\n",
       "  display: block;\n",
       "}\n",
       "\n",
       "/* \"?\"-specific style due to the `<a>` HTML tag */\n",
       "\n",
       "#sk-container-id-43 a.estimator_doc_link {\n",
       "  float: right;\n",
       "  font-size: 1rem;\n",
       "  line-height: 1em;\n",
       "  font-family: monospace;\n",
       "  background-color: var(--sklearn-color-background);\n",
       "  border-radius: 1rem;\n",
       "  height: 1rem;\n",
       "  width: 1rem;\n",
       "  text-decoration: none;\n",
       "  /* unfitted */\n",
       "  color: var(--sklearn-color-unfitted-level-1);\n",
       "  border: var(--sklearn-color-unfitted-level-1) 1pt solid;\n",
       "}\n",
       "\n",
       "#sk-container-id-43 a.estimator_doc_link.fitted {\n",
       "  /* fitted */\n",
       "  border: var(--sklearn-color-fitted-level-1) 1pt solid;\n",
       "  color: var(--sklearn-color-fitted-level-1);\n",
       "}\n",
       "\n",
       "/* On hover */\n",
       "#sk-container-id-43 a.estimator_doc_link:hover {\n",
       "  /* unfitted */\n",
       "  background-color: var(--sklearn-color-unfitted-level-3);\n",
       "  color: var(--sklearn-color-background);\n",
       "  text-decoration: none;\n",
       "}\n",
       "\n",
       "#sk-container-id-43 a.estimator_doc_link.fitted:hover {\n",
       "  /* fitted */\n",
       "  background-color: var(--sklearn-color-fitted-level-3);\n",
       "}\n",
       "</style><div id=\"sk-container-id-43\" class=\"sk-top-container\"><div class=\"sk-text-repr-fallback\"><pre>Pipeline(steps=[(&#x27;standardscaler&#x27;, StandardScaler()),\n",
       "                (&#x27;mlpregressor&#x27;,\n",
       "                 MLPRegressor(hidden_layer_sizes=[50, 50, 50],\n",
       "                              random_state=42))])</pre><b>In a Jupyter environment, please rerun this cell to show the HTML representation or trust the notebook. <br />On GitHub, the HTML representation is unable to render, please try loading this page with nbviewer.org.</b></div><div class=\"sk-container\" hidden><div class=\"sk-item sk-dashed-wrapped\"><div class=\"sk-label-container\"><div class=\"sk-label fitted sk-toggleable\"><input class=\"sk-toggleable__control sk-hidden--visually\" id=\"sk-estimator-id-73\" type=\"checkbox\" ><label for=\"sk-estimator-id-73\" class=\"sk-toggleable__label fitted sk-toggleable__label-arrow\"><div><div>Pipeline</div></div><div><a class=\"sk-estimator-doc-link fitted\" rel=\"noreferrer\" target=\"_blank\" href=\"https://scikit-learn.org/1.6/modules/generated/sklearn.pipeline.Pipeline.html\">?<span>Documentation for Pipeline</span></a><span class=\"sk-estimator-doc-link fitted\">i<span>Fitted</span></span></div></label><div class=\"sk-toggleable__content fitted\"><pre>Pipeline(steps=[(&#x27;standardscaler&#x27;, StandardScaler()),\n",
       "                (&#x27;mlpregressor&#x27;,\n",
       "                 MLPRegressor(hidden_layer_sizes=[50, 50, 50],\n",
       "                              random_state=42))])</pre></div> </div></div><div class=\"sk-serial\"><div class=\"sk-item\"><div class=\"sk-estimator fitted sk-toggleable\"><input class=\"sk-toggleable__control sk-hidden--visually\" id=\"sk-estimator-id-74\" type=\"checkbox\" ><label for=\"sk-estimator-id-74\" class=\"sk-toggleable__label fitted sk-toggleable__label-arrow\"><div><div>StandardScaler</div></div><div><a class=\"sk-estimator-doc-link fitted\" rel=\"noreferrer\" target=\"_blank\" href=\"https://scikit-learn.org/1.6/modules/generated/sklearn.preprocessing.StandardScaler.html\">?<span>Documentation for StandardScaler</span></a></div></label><div class=\"sk-toggleable__content fitted\"><pre>StandardScaler()</pre></div> </div></div><div class=\"sk-item\"><div class=\"sk-estimator fitted sk-toggleable\"><input class=\"sk-toggleable__control sk-hidden--visually\" id=\"sk-estimator-id-75\" type=\"checkbox\" ><label for=\"sk-estimator-id-75\" class=\"sk-toggleable__label fitted sk-toggleable__label-arrow\"><div><div>MLPRegressor</div></div><div><a class=\"sk-estimator-doc-link fitted\" rel=\"noreferrer\" target=\"_blank\" href=\"https://scikit-learn.org/1.6/modules/generated/sklearn.neural_network.MLPRegressor.html\">?<span>Documentation for MLPRegressor</span></a></div></label><div class=\"sk-toggleable__content fitted\"><pre>MLPRegressor(hidden_layer_sizes=[50, 50, 50], random_state=42)</pre></div> </div></div></div></div></div></div>"
      ],
      "text/plain": [
       "Pipeline(steps=[('standardscaler', StandardScaler()),\n",
       "                ('mlpregressor',\n",
       "                 MLPRegressor(hidden_layer_sizes=[50, 50, 50],\n",
       "                              random_state=42))])"
      ]
     },
     "execution_count": 965,
     "metadata": {},
     "output_type": "execute_result"
    }
   ],
   "source": [
    "pipeline.fit(X_train, y_train)"
   ]
  },
  {
   "cell_type": "code",
   "execution_count": 983,
   "id": "e44ca20d-4cc6-4d46-b43a-d46c7c6f4565",
   "metadata": {},
   "outputs": [
    {
     "data": {
      "text/plain": [
       "np.float64(0.5053326657968437)"
      ]
     },
     "execution_count": 983,
     "metadata": {},
     "output_type": "execute_result"
    }
   ],
   "source": [
    "y_pred = pipeline.predict(X_valid)\n",
    "rmse = mean_squared_error(y_valid, y_pred)\n",
    "np.sqrt(rmse)"
   ]
  },
  {
   "cell_type": "code",
   "execution_count": null,
   "id": "ba25bf26-76fe-4e57-a4b8-69818de1604c",
   "metadata": {},
   "outputs": [],
   "source": []
  },
  {
   "cell_type": "code",
   "execution_count": null,
   "id": "fb9f62d9-a56f-4640-8b02-de4392151d53",
   "metadata": {},
   "outputs": [],
   "source": []
  },
  {
   "cell_type": "markdown",
   "id": "1e5dc8ef-7192-4bbf-9b05-f636fdf47344",
   "metadata": {},
   "source": [
    "### Implementing MLPs with Keras"
   ]
  },
  {
   "cell_type": "code",
   "execution_count": 3,
   "id": "d951a7a6-c6c7-471a-82d2-a5d3aba55da9",
   "metadata": {},
   "outputs": [],
   "source": [
    "fashion_mnist = tf.keras.datasets.fashion_mnist.load_data()\n",
    "(X_train_full, y_train_full), (X_test, y_test) = fashion_mnist\n",
    "X_train, y_train = X_train_full[:-5000], y_train_full[:-5000]\n",
    "X_valid, y_valid = X_train_full[-5000:], y_train_full[-5000:]"
   ]
  },
  {
   "cell_type": "code",
   "execution_count": 4,
   "id": "9925ed0e-8c51-4227-b93c-f9790cca6c63",
   "metadata": {},
   "outputs": [
    {
     "data": {
      "text/plain": [
       "(55000, 28, 28)"
      ]
     },
     "execution_count": 4,
     "metadata": {},
     "output_type": "execute_result"
    }
   ],
   "source": [
    "X_train.shape"
   ]
  },
  {
   "cell_type": "code",
   "execution_count": 5,
   "id": "c676c1df-a8c3-4328-9ce1-c1ef884378be",
   "metadata": {},
   "outputs": [
    {
     "data": {
      "text/plain": [
       "dtype('uint8')"
      ]
     },
     "execution_count": 5,
     "metadata": {},
     "output_type": "execute_result"
    }
   ],
   "source": [
    "X_train.dtype"
   ]
  },
  {
   "cell_type": "code",
   "execution_count": 6,
   "id": "774dd28d-b63e-492b-844b-dd9f0af595e4",
   "metadata": {},
   "outputs": [],
   "source": [
    "X_train, X_valid, X_test = X_train/255., X_valid/255., X_test/255."
   ]
  },
  {
   "cell_type": "code",
   "execution_count": 7,
   "id": "4082f12a-508a-4aca-ba6d-ea711026e434",
   "metadata": {},
   "outputs": [],
   "source": [
    "class_names = [\"T-shirt/top\", \"Trouser\", \"Pullover\", \"Dress\", \"Coat\",\n",
    "              \"Sandal\", \"Shirt\", \"Sneaker\", \"Bag\", \"Ankle boot\"]"
   ]
  },
  {
   "cell_type": "code",
   "execution_count": 8,
   "id": "6f58b3b1-0b93-43a3-b9fd-150c9860484e",
   "metadata": {},
   "outputs": [
    {
     "data": {
      "text/plain": [
       "'Ankle boot'"
      ]
     },
     "execution_count": 8,
     "metadata": {},
     "output_type": "execute_result"
    }
   ],
   "source": [
    "class_names[y_train[0]]"
   ]
  },
  {
   "cell_type": "code",
   "execution_count": 34,
   "id": "05c2afdc-58a8-46b8-842a-c934b8fdca8b",
   "metadata": {},
   "outputs": [
    {
     "data": {
      "image/png": "[encoded data removed]",
      "text/plain": [
       "<Figure size 1200x480 with 40 Axes>"
      ]
     },
     "metadata": {},
     "output_type": "display_data"
    }
   ],
   "source": [
    "n_rows = 4\n",
    "n_cols = 10\n",
    "plt.figure(figsize=(n_cols * 1.2, n_rows * 1.2))\n",
    "for row in range(n_rows):\n",
    "    for col in range(n_cols):\n",
    "        index = n_cols * row + col\n",
    "        plt.subplot(n_rows, n_cols, index + 1)\n",
    "        plt.imshow(X_train[index], cmap=\"binary\", interpolation=\"nearest\")\n",
    "        plt.axis('off')\n",
    "        plt.title(class_names[y_train[index]])\n",
    "plt.subplots_adjust(wspace=0.2, hspace=0.5)"
   ]
  },
  {
   "cell_type": "code",
   "execution_count": 27,
   "id": "adbc4275-ac20-4c7b-bfc7-82cd13819316",
   "metadata": {},
   "outputs": [],
   "source": [
    "tf.random.set_seed(42)\n",
    "model = keras.Sequential()\n",
    "model.add(layers.Input(shape=[28, 28]))\n",
    "model.add(layers.Flatten())\n",
    "model.add(layers.Dense(300, activation=\"relu\"))\n",
    "model.add(layers.Dense(100, activation=\"relu\"))\n",
    "model.add(layers.Dense(10, activation=\"softmax\"))"
   ]
  },
  {
   "cell_type": "code",
   "execution_count": 10,
   "id": "0c779bbb-1983-48b4-8792-0483b937142e",
   "metadata": {},
   "outputs": [],
   "source": [
    "model = keras.Sequential([\n",
    "  layers.Flatten(input_shape=[28, 28]),\n",
    "  layers.Dense(300, activation=\"relu\"),\n",
    "  layers.Dense(100, activation=\"relu\"),\n",
    "  layers.Dense(10, activation=\"softmax\")\n",
    "])"
   ]
  },
  {
   "cell_type": "code",
   "execution_count": 11,
   "id": "60eef5e1-5653-4d5c-95cc-331236a35c3b",
   "metadata": {},
   "outputs": [
    {
     "name": "stdout",
     "output_type": "stream",
     "text": [
      "Model: \"sequential\"\n",
      "_________________________________________________________________\n",
      " Layer (type)                Output Shape              Param #   \n",
      "=================================================================\n",
      " flatten (Flatten)           (None, 784)               0         \n",
      "                                                                 \n",
      " dense (Dense)               (None, 300)               235500    \n",
      "                                                                 \n",
      " dense_1 (Dense)             (None, 100)               30100     \n",
      "                                                                 \n",
      " dense_2 (Dense)             (None, 10)                1010      \n",
      "                                                                 \n",
      "=================================================================\n",
      "Total params: 266,610\n",
      "Trainable params: 266,610\n",
      "Non-trainable params: 0\n",
      "_________________________________________________________________\n"
     ]
    }
   ],
   "source": [
    "model.summary()"
   ]
  },
  {
   "cell_type": "code",
   "execution_count": 15,
   "id": "76b7995b-b3ec-4a0c-8180-5f6ce4a94a28",
   "metadata": {},
   "outputs": [
    {
     "data": {
      "text/plain": [
       "[<keras.layers.reshaping.flatten.Flatten at 0x1717f5a1fa0>,\n",
       " <keras.layers.core.dense.Dense at 0x1715f3c1070>,\n",
       " <keras.layers.core.dense.Dense at 0x171788f6040>,\n",
       " <keras.layers.core.dense.Dense at 0x171788f6250>]"
      ]
     },
     "execution_count": 15,
     "metadata": {},
     "output_type": "execute_result"
    }
   ],
   "source": [
    "model.layers"
   ]
  },
  {
   "cell_type": "code",
   "execution_count": 17,
   "id": "90dbecba-59b0-4b17-8062-b0caa279870a",
   "metadata": {},
   "outputs": [
    {
     "data": {
      "text/plain": [
       "'dense_1'"
      ]
     },
     "execution_count": 17,
     "metadata": {},
     "output_type": "execute_result"
    }
   ],
   "source": [
    "hidden1 = model.layers[2]\n",
    "hidden1.name"
   ]
  },
  {
   "cell_type": "code",
   "execution_count": 19,
   "id": "51f1b583-7f57-43ef-8c39-b24604a55b7e",
   "metadata": {},
   "outputs": [
    {
     "data": {
      "text/plain": [
       "True"
      ]
     },
     "execution_count": 19,
     "metadata": {},
     "output_type": "execute_result"
    }
   ],
   "source": [
    "model.get_layer(\"dense_1\") is hidden1"
   ]
  },
  {
   "cell_type": "code",
   "execution_count": 21,
   "id": "cceb3b08-2f64-415d-8ce8-7aa06e7cf39a",
   "metadata": {},
   "outputs": [],
   "source": [
    "weights, biases = hidden1.get_weights()"
   ]
  },
  {
   "cell_type": "code",
   "execution_count": 22,
   "id": "9df68313-7e8e-421c-a8bd-dbb42ed0aec4",
   "metadata": {},
   "outputs": [
    {
     "data": {
      "text/plain": [
       "array([[-0.06988654, -0.04000514, -0.08607361, ..., -0.02900636,\n",
       "        -0.03349046,  0.10453596],\n",
       "       [-0.09565335, -0.02223171, -0.10895149, ..., -0.0759127 ,\n",
       "         0.03300051, -0.0407237 ],\n",
       "       [ 0.11073283,  0.05503664,  0.0165394 , ..., -0.03804916,\n",
       "         0.00235657,  0.0238859 ],\n",
       "       ...,\n",
       "       [ 0.05360693, -0.04273477,  0.11662986, ...,  0.12071251,\n",
       "        -0.11013775, -0.06818689],\n",
       "       [ 0.03524473, -0.08638267, -0.05199115, ...,  0.09519111,\n",
       "         0.05321262,  0.09926689],\n",
       "       [ 0.09338173, -0.05928361, -0.02324715, ..., -0.04827432,\n",
       "         0.09385029,  0.08208484]], dtype=float32)"
      ]
     },
     "execution_count": 22,
     "metadata": {},
     "output_type": "execute_result"
    }
   ],
   "source": [
    "weights"
   ]
  },
  {
   "cell_type": "code",
   "execution_count": 23,
   "id": "ee111cdf-5570-4ca4-84d4-73e4076d66eb",
   "metadata": {
    "scrolled": true
   },
   "outputs": [
    {
     "data": {
      "text/plain": [
       "array([0., 0., 0., 0., 0., 0., 0., 0., 0., 0., 0., 0., 0., 0., 0., 0., 0.,\n",
       "       0., 0., 0., 0., 0., 0., 0., 0., 0., 0., 0., 0., 0., 0., 0., 0., 0.,\n",
       "       0., 0., 0., 0., 0., 0., 0., 0., 0., 0., 0., 0., 0., 0., 0., 0., 0.,\n",
       "       0., 0., 0., 0., 0., 0., 0., 0., 0., 0., 0., 0., 0., 0., 0., 0., 0.,\n",
       "       0., 0., 0., 0., 0., 0., 0., 0., 0., 0., 0., 0., 0., 0., 0., 0., 0.,\n",
       "       0., 0., 0., 0., 0., 0., 0., 0., 0., 0., 0., 0., 0., 0., 0.],\n",
       "      dtype=float32)"
      ]
     },
     "execution_count": 23,
     "metadata": {},
     "output_type": "execute_result"
    }
   ],
   "source": [
    "biases"
   ]
  },
  {
   "cell_type": "code",
   "execution_count": 26,
   "id": "c3227be3-908c-424e-b53a-cd50fb0dc5e7",
   "metadata": {},
   "outputs": [
    {
     "data": {
      "text/plain": [
       "((300, 100), (100,))"
      ]
     },
     "execution_count": 26,
     "metadata": {},
     "output_type": "execute_result"
    }
   ],
   "source": [
    "weights.shape, biases.shape"
   ]
  },
  {
   "cell_type": "code",
   "execution_count": 27,
   "id": "8d90eddf-9bd2-40a2-8fb4-cfc35e8a477b",
   "metadata": {},
   "outputs": [],
   "source": [
    "model.compile(loss=\"sparse_categorical_crossentropy\",\n",
    "             optimizer=\"sgd\",\n",
    "             metrics=[\"accuracy\"])"
   ]
  },
  {
   "cell_type": "code",
   "execution_count": 35,
   "id": "f0248a14-d1f0-4c77-98a6-81c0b6429150",
   "metadata": {},
   "outputs": [
    {
     "data": {
      "text/plain": [
       "array([[1., 0., 0., 0., 0., 0., 0., 0., 0., 0.],\n",
       "       [0., 0., 0., 0., 0., 1., 0., 0., 0., 0.],\n",
       "       [0., 1., 0., 0., 0., 0., 0., 0., 0., 0.],\n",
       "       [1., 0., 0., 0., 0., 0., 0., 0., 0., 0.]], dtype=float32)"
      ]
     },
     "execution_count": 35,
     "metadata": {},
     "output_type": "execute_result"
    }
   ],
   "source": [
    "keras.utils.to_categorical([0, 5, 1, 0], num_classes=10)"
   ]
  },
  {
   "cell_type": "code",
   "execution_count": 36,
   "id": "6f3fb9fd-6d2a-450c-82ad-905733b78c23",
   "metadata": {},
   "outputs": [
    {
     "data": {
      "text/plain": [
       "array([0, 5, 1, 0], dtype=int64)"
      ]
     },
     "execution_count": 36,
     "metadata": {},
     "output_type": "execute_result"
    }
   ],
   "source": [
    "np.argmax(\n",
    "    [[1., 0., 0., 0., 0., 0., 0., 0., 0., 0.],\n",
    "     [0., 0., 0., 0., 0., 1., 0., 0., 0., 0.],\n",
    "     [0., 1., 0., 0., 0., 0., 0., 0., 0., 0.],\n",
    "     [1., 0., 0., 0., 0., 0., 0., 0., 0., 0.]],\n",
    "    axis=1\n",
    ")"
   ]
  },
  {
   "cell_type": "code",
   "execution_count": null,
   "id": "bf69d3bc-8ccc-43cc-810e-b1398ee298bd",
   "metadata": {},
   "outputs": [],
   "source": []
  },
  {
   "cell_type": "code",
   "execution_count": null,
   "id": "8f14784b-48e8-49ac-8644-f7a31f44dae1",
   "metadata": {},
   "outputs": [],
   "source": []
  },
  {
   "cell_type": "code",
   "execution_count": 29,
   "id": "43d0feb2-5454-4481-a562-43d2fba9216a",
   "metadata": {
    "scrolled": true
   },
   "outputs": [
    {
     "name": "stdout",
     "output_type": "stream",
     "text": [
      "Epoch 1/30\n",
      "1719/1719 [==============================] - 8s 4ms/step - loss: 0.7019 - accuracy: 0.7676 - val_loss: 0.5126 - val_accuracy: 0.8142\n",
      "Epoch 2/30\n",
      "1719/1719 [==============================] - 6s 3ms/step - loss: 0.4856 - accuracy: 0.8325 - val_loss: 0.4674 - val_accuracy: 0.8346\n",
      "Epoch 3/30\n",
      "1719/1719 [==============================] - 6s 3ms/step - loss: 0.4442 - accuracy: 0.8451 - val_loss: 0.4148 - val_accuracy: 0.8536\n",
      "Epoch 4/30\n",
      "1719/1719 [==============================] - 7s 4ms/step - loss: 0.4168 - accuracy: 0.8549 - val_loss: 0.4099 - val_accuracy: 0.8538\n",
      "Epoch 5/30\n",
      "1719/1719 [==============================] - 6s 4ms/step - loss: 0.3959 - accuracy: 0.8608 - val_loss: 0.3921 - val_accuracy: 0.8558\n",
      "Epoch 6/30\n",
      "1719/1719 [==============================] - 7s 4ms/step - loss: 0.3794 - accuracy: 0.8664 - val_loss: 0.4116 - val_accuracy: 0.8518\n",
      "Epoch 7/30\n",
      "1719/1719 [==============================] - 7s 4ms/step - loss: 0.3653 - accuracy: 0.8717 - val_loss: 0.3664 - val_accuracy: 0.8688\n",
      "Epoch 8/30\n",
      "1719/1719 [==============================] - 6s 4ms/step - loss: 0.3531 - accuracy: 0.8756 - val_loss: 0.3658 - val_accuracy: 0.8670\n",
      "Epoch 9/30\n",
      "1719/1719 [==============================] - 6s 4ms/step - loss: 0.3419 - accuracy: 0.8777 - val_loss: 0.3473 - val_accuracy: 0.8730\n",
      "Epoch 10/30\n",
      "1719/1719 [==============================] - 7s 4ms/step - loss: 0.3323 - accuracy: 0.8810 - val_loss: 0.3469 - val_accuracy: 0.8772\n",
      "Epoch 11/30\n",
      "1719/1719 [==============================] - 9s 5ms/step - loss: 0.3236 - accuracy: 0.8839 - val_loss: 0.3508 - val_accuracy: 0.8734\n",
      "Epoch 12/30\n",
      "1719/1719 [==============================] - 8s 4ms/step - loss: 0.3156 - accuracy: 0.8864 - val_loss: 0.3435 - val_accuracy: 0.8722\n",
      "Epoch 13/30\n",
      "1719/1719 [==============================] - 6s 4ms/step - loss: 0.3077 - accuracy: 0.8897 - val_loss: 0.3341 - val_accuracy: 0.8784\n",
      "Epoch 14/30\n",
      "1719/1719 [==============================] - 7s 4ms/step - loss: 0.2998 - accuracy: 0.8924 - val_loss: 0.3303 - val_accuracy: 0.8784\n",
      "Epoch 15/30\n",
      "1719/1719 [==============================] - 7s 4ms/step - loss: 0.2936 - accuracy: 0.8949 - val_loss: 0.3309 - val_accuracy: 0.8796\n",
      "Epoch 16/30\n",
      "1719/1719 [==============================] - 6s 4ms/step - loss: 0.2875 - accuracy: 0.8958 - val_loss: 0.3265 - val_accuracy: 0.8820\n",
      "Epoch 17/30\n",
      "1719/1719 [==============================] - 7s 4ms/step - loss: 0.2812 - accuracy: 0.8999 - val_loss: 0.3272 - val_accuracy: 0.8810\n",
      "Epoch 18/30\n",
      "1719/1719 [==============================] - 6s 4ms/step - loss: 0.2764 - accuracy: 0.9010 - val_loss: 0.3196 - val_accuracy: 0.8802\n",
      "Epoch 19/30\n",
      "1719/1719 [==============================] - 6s 3ms/step - loss: 0.2708 - accuracy: 0.9020 - val_loss: 0.3241 - val_accuracy: 0.8810\n",
      "Epoch 20/30\n",
      "1719/1719 [==============================] - 6s 4ms/step - loss: 0.2652 - accuracy: 0.9051 - val_loss: 0.3085 - val_accuracy: 0.8868\n",
      "Epoch 21/30\n",
      "1719/1719 [==============================] - 8s 5ms/step - loss: 0.2609 - accuracy: 0.9067 - val_loss: 0.3175 - val_accuracy: 0.8838\n",
      "Epoch 22/30\n",
      "1719/1719 [==============================] - 6s 4ms/step - loss: 0.2558 - accuracy: 0.9071 - val_loss: 0.3148 - val_accuracy: 0.8850\n",
      "Epoch 23/30\n",
      "1719/1719 [==============================] - 11s 6ms/step - loss: 0.2513 - accuracy: 0.9096 - val_loss: 0.3141 - val_accuracy: 0.8874\n",
      "Epoch 24/30\n",
      "1719/1719 [==============================] - 11s 6ms/step - loss: 0.2459 - accuracy: 0.9127 - val_loss: 0.3140 - val_accuracy: 0.8880\n",
      "Epoch 25/30\n",
      "1719/1719 [==============================] - 10s 6ms/step - loss: 0.2420 - accuracy: 0.9132 - val_loss: 0.3292 - val_accuracy: 0.8810\n",
      "Epoch 26/30\n",
      "1719/1719 [==============================] - 7s 4ms/step - loss: 0.2380 - accuracy: 0.9155 - val_loss: 0.3140 - val_accuracy: 0.8868\n",
      "Epoch 27/30\n",
      "1719/1719 [==============================] - 6s 3ms/step - loss: 0.2334 - accuracy: 0.9158 - val_loss: 0.3113 - val_accuracy: 0.8878\n",
      "Epoch 28/30\n",
      "1719/1719 [==============================] - 6s 4ms/step - loss: 0.2299 - accuracy: 0.9177 - val_loss: 0.3101 - val_accuracy: 0.8900\n",
      "Epoch 29/30\n",
      "1719/1719 [==============================] - 6s 4ms/step - loss: 0.2259 - accuracy: 0.9185 - val_loss: 0.3124 - val_accuracy: 0.8880\n",
      "Epoch 30/30\n",
      "1719/1719 [==============================] - 7s 4ms/step - loss: 0.2226 - accuracy: 0.9191 - val_loss: 0.3177 - val_accuracy: 0.8852\n"
     ]
    }
   ],
   "source": [
    "history = model.fit(X_train, y_train, epochs=30,\n",
    "                   validation_data=(X_valid, y_valid))"
   ]
  },
  {
   "cell_type": "code",
   "execution_count": null,
   "id": "48c12298-e0c2-4b91-b7f6-8f72b6969855",
   "metadata": {},
   "outputs": [],
   "source": []
  },
  {
   "cell_type": "code",
   "execution_count": 37,
   "id": "48e6fc01-a346-4fc9-8059-8c558f683452",
   "metadata": {},
   "outputs": [
    {
     "data": {
      "text/plain": [
       "{'verbose': 1, 'epochs': 30, 'steps': 1719}"
      ]
     },
     "execution_count": 37,
     "metadata": {},
     "output_type": "execute_result"
    }
   ],
   "source": [
    "history.params"
   ]
  },
  {
   "cell_type": "code",
   "execution_count": 38,
   "id": "216a0ead-3bbf-400c-80c0-50455b79bc9b",
   "metadata": {
    "scrolled": true
   },
   "outputs": [
    {
     "data": {
      "text/plain": [
       "[0,\n",
       " 1,\n",
       " 2,\n",
       " 3,\n",
       " 4,\n",
       " 5,\n",
       " 6,\n",
       " 7,\n",
       " 8,\n",
       " 9,\n",
       " 10,\n",
       " 11,\n",
       " 12,\n",
       " 13,\n",
       " 14,\n",
       " 15,\n",
       " 16,\n",
       " 17,\n",
       " 18,\n",
       " 19,\n",
       " 20,\n",
       " 21,\n",
       " 22,\n",
       " 23,\n",
       " 24,\n",
       " 25,\n",
       " 26,\n",
       " 27,\n",
       " 28,\n",
       " 29]"
      ]
     },
     "execution_count": 38,
     "metadata": {},
     "output_type": "execute_result"
    }
   ],
   "source": [
    "history.epoch"
   ]
  },
  {
   "cell_type": "code",
   "execution_count": 44,
   "id": "f18dc547-b12b-4f6f-9076-00e2625f4c69",
   "metadata": {
    "scrolled": true
   },
   "outputs": [
    {
     "data": {
      "text/plain": [
       "{'loss': [0.7019267678260803,\n",
       "  0.4856487512588501,\n",
       "  0.44424986839294434,\n",
       "  0.41675862669944763,\n",
       "  0.3958534896373749,\n",
       "  0.37937358021736145,\n",
       "  0.36525073647499084,\n",
       "  0.3531261682510376,\n",
       "  0.3419438302516937,\n",
       "  0.33231121301651,\n",
       "  0.32364001870155334,\n",
       "  0.31564828753471375,\n",
       "  0.30767911672592163,\n",
       "  0.29979658126831055,\n",
       "  0.2935895323753357,\n",
       "  0.2874912917613983,\n",
       "  0.28115323185920715,\n",
       "  0.2763873040676117,\n",
       "  0.2707759141921997,\n",
       "  0.2651839554309845,\n",
       "  0.26089799404144287,\n",
       "  0.25579002499580383,\n",
       "  0.25132858753204346,\n",
       "  0.2459295690059662,\n",
       "  0.2419607937335968,\n",
       "  0.23795682191848755,\n",
       "  0.2334289252758026,\n",
       "  0.22985096275806427,\n",
       "  0.22590717673301697,\n",
       "  0.22262603044509888],\n",
       " 'accuracy': [0.7675636410713196,\n",
       "  0.8325454592704773,\n",
       "  0.8451454639434814,\n",
       "  0.8549090623855591,\n",
       "  0.8607817888259888,\n",
       "  0.8663636445999146,\n",
       "  0.8716909289360046,\n",
       "  0.8756181597709656,\n",
       "  0.8777272701263428,\n",
       "  0.8809999823570251,\n",
       "  0.8839091062545776,\n",
       "  0.8863999843597412,\n",
       "  0.8897272944450378,\n",
       "  0.8924000263214111,\n",
       "  0.8949454426765442,\n",
       "  0.8957818150520325,\n",
       "  0.8998545408248901,\n",
       "  0.9009636640548706,\n",
       "  0.9020181894302368,\n",
       "  0.9051454663276672,\n",
       "  0.9066908955574036,\n",
       "  0.9071090817451477,\n",
       "  0.909636378288269,\n",
       "  0.9126726984977722,\n",
       "  0.9132363796234131,\n",
       "  0.9154909253120422,\n",
       "  0.9157999753952026,\n",
       "  0.9176727533340454,\n",
       "  0.9185090661048889,\n",
       "  0.9190545678138733],\n",
       " 'val_loss': [0.5126226544380188,\n",
       "  0.4673982858657837,\n",
       "  0.4147692322731018,\n",
       "  0.4098574221134186,\n",
       "  0.39213380217552185,\n",
       "  0.4116035997867584,\n",
       "  0.3664381504058838,\n",
       "  0.36578497290611267,\n",
       "  0.34733936190605164,\n",
       "  0.34691542387008667,\n",
       "  0.3508383631706238,\n",
       "  0.34348446130752563,\n",
       "  0.33413296937942505,\n",
       "  0.33025941252708435,\n",
       "  0.33089664578437805,\n",
       "  0.3264807164669037,\n",
       "  0.32715699076652527,\n",
       "  0.3196321427822113,\n",
       "  0.32409095764160156,\n",
       "  0.3085169494152069,\n",
       "  0.3174731433391571,\n",
       "  0.3148173391819,\n",
       "  0.31408122181892395,\n",
       "  0.31398287415504456,\n",
       "  0.3291946351528168,\n",
       "  0.31396955251693726,\n",
       "  0.3112555742263794,\n",
       "  0.31012678146362305,\n",
       "  0.31235358119010925,\n",
       "  0.31768402457237244],\n",
       " 'val_accuracy': [0.8141999840736389,\n",
       "  0.8345999717712402,\n",
       "  0.853600025177002,\n",
       "  0.8537999987602234,\n",
       "  0.8557999730110168,\n",
       "  0.8518000245094299,\n",
       "  0.8687999844551086,\n",
       "  0.8669999837875366,\n",
       "  0.8730000257492065,\n",
       "  0.8772000074386597,\n",
       "  0.8733999729156494,\n",
       "  0.8722000122070312,\n",
       "  0.8784000277519226,\n",
       "  0.8784000277519226,\n",
       "  0.8795999884605408,\n",
       "  0.8820000290870667,\n",
       "  0.8809999823570251,\n",
       "  0.8802000284194946,\n",
       "  0.8809999823570251,\n",
       "  0.8867999911308289,\n",
       "  0.8838000297546387,\n",
       "  0.8849999904632568,\n",
       "  0.8873999714851379,\n",
       "  0.8880000114440918,\n",
       "  0.8809999823570251,\n",
       "  0.8867999911308289,\n",
       "  0.8877999782562256,\n",
       "  0.8899999856948853,\n",
       "  0.8880000114440918,\n",
       "  0.885200023651123]}"
      ]
     },
     "execution_count": 44,
     "metadata": {},
     "output_type": "execute_result"
    }
   ],
   "source": [
    "history.history"
   ]
  },
  {
   "cell_type": "code",
   "execution_count": null,
   "id": "8c966c8f-812c-49a7-927e-59aafb846521",
   "metadata": {},
   "outputs": [],
   "source": []
  },
  {
   "cell_type": "code",
   "execution_count": 42,
   "id": "30306d30-e151-42af-894b-7b0016da7f61",
   "metadata": {},
   "outputs": [
    {
     "data": {
      "text/plain": [
       "<Axes: xlabel='Epoch'>"
      ]
     },
     "execution_count": 42,
     "metadata": {},
     "output_type": "execute_result"
    },
    {
     "data": {
      "image/png": "[encoded data removed]",
      "text/plain": [
       "<Figure size 800x500 with 1 Axes>"
      ]
     },
     "metadata": {},
     "output_type": "display_data"
    }
   ],
   "source": [
    "pd.DataFrame(history.history).plot(\n",
    "  figsize=(8, 5), xlim=[0, 30], ylim=[0, 1], grid=True, xlabel=\"Epoch\",\n",
    "  style=[\"r--\", \"r--.\", \"b-\", \"b-*\"]\n",
    ")"
   ]
  },
  {
   "cell_type": "code",
   "execution_count": 53,
   "id": "7324f98b-c8a1-4f76-af78-f87b79b562bd",
   "metadata": {},
   "outputs": [
    {
     "data": {
      "image/png": "[encoded data removed]",
      "text/plain": [
       "<Figure size 1200x300 with 2 Axes>"
      ]
     },
     "metadata": {},
     "output_type": "display_data"
    }
   ],
   "source": [
    "loss = history.history['loss']\n",
    "val_loss = history.history['val_loss']\n",
    "\n",
    "accuracy = history.history['accuracy']\n",
    "val_accuracy = history.history['val_accuracy']\n",
    "\n",
    "epochs = history.epoch\n",
    "\n",
    "fig, axes = plt.subplots(ncols=2, figsize=(12, 3))\n",
    "\n",
    "plt.sca(axes[0])\n",
    "plt.plot(epochs, loss, label='Training loss')\n",
    "plt.plot(epochs, val_loss, label='Validation loss')\n",
    "plt.title('Training and validation loss')\n",
    "plt.xlabel('Epochs')\n",
    "plt.ylabel('Loss')\n",
    "plt.legend()\n",
    "plt.grid()\n",
    "\n",
    "\n",
    "plt.sca(axes[1])\n",
    "plt.plot(epochs, accuracy,  label='Training accuracy')\n",
    "plt.plot(epochs, val_accuracy, label='Validation accuracy')\n",
    "plt.title('Training and validation accuracy')\n",
    "plt.xlabel('Epochs')\n",
    "plt.ylabel('Accuracy')\n",
    "plt.legend()\n",
    "plt.grid()\n"
   ]
  },
  {
   "cell_type": "code",
   "execution_count": null,
   "id": "aaea62a7-8d60-4c7a-9e9f-667508e732a9",
   "metadata": {},
   "outputs": [],
   "source": []
  },
  {
   "cell_type": "code",
   "execution_count": null,
   "id": "11bbe28a-6813-4192-a920-4533c6bd0d49",
   "metadata": {},
   "outputs": [],
   "source": []
  },
  {
   "cell_type": "code",
   "execution_count": null,
   "id": "b21b3ecf-f440-4168-bf29-2b37d724f5d1",
   "metadata": {},
   "outputs": [],
   "source": []
  },
  {
   "cell_type": "code",
   "execution_count": null,
   "id": "37782263-16a7-482c-8dcc-582fce9fce20",
   "metadata": {},
   "outputs": [],
   "source": []
  },
  {
   "cell_type": "code",
   "execution_count": null,
   "id": "95ec8022-c850-4b6a-8eaa-a154bbdfaf08",
   "metadata": {},
   "outputs": [],
   "source": []
  },
  {
   "cell_type": "code",
   "execution_count": 35,
   "id": "b2c5840a-fbdd-4c0f-891f-165d023beb77",
   "metadata": {},
   "outputs": [
    {
     "name": "stdout",
     "output_type": "stream",
     "text": [
      "313/313 [==============================] - 1s 2ms/step - loss: 0.3199 - accuracy: 0.8860\n"
     ]
    },
    {
     "data": {
      "text/plain": [
       "[0.319905549287796, 0.8859999775886536]"
      ]
     },
     "execution_count": 35,
     "metadata": {},
     "output_type": "execute_result"
    }
   ],
   "source": [
    "model.evaluate(X_test, y_test)"
   ]
  },
  {
   "cell_type": "code",
   "execution_count": 36,
   "id": "330f36a9-e50b-42a1-badf-14e901b6cb25",
   "metadata": {},
   "outputs": [
    {
     "name": "stdout",
     "output_type": "stream",
     "text": [
      "1/1 [==============================] - 0s 86ms/step\n"
     ]
    },
    {
     "data": {
      "text/plain": [
       "array([[0.  , 0.  , 0.  , 0.  , 0.  , 0.  , 0.  , 0.02, 0.  , 0.98],\n",
       "       [0.  , 0.  , 1.  , 0.  , 0.  , 0.  , 0.  , 0.  , 0.  , 0.  ],\n",
       "       [0.  , 1.  , 0.  , 0.  , 0.  , 0.  , 0.  , 0.  , 0.  , 0.  ]],\n",
       "      dtype=float32)"
      ]
     },
     "execution_count": 36,
     "metadata": {},
     "output_type": "execute_result"
    }
   ],
   "source": [
    "X_new = X_test[:3]\n",
    "y_proba = model.predict(X_new)\n",
    "y_proba.round(2)"
   ]
  },
  {
   "cell_type": "code",
   "execution_count": 37,
   "id": "5abde99e-4175-4f26-a893-326cf19e9afe",
   "metadata": {},
   "outputs": [
    {
     "data": {
      "text/plain": [
       "array([9, 2, 1])"
      ]
     },
     "execution_count": 37,
     "metadata": {},
     "output_type": "execute_result"
    }
   ],
   "source": [
    "y_pred = y_proba.argmax(axis=-1)\n",
    "y_pred"
   ]
  },
  {
   "cell_type": "code",
   "execution_count": 38,
   "id": "ac5b35d4-8d99-4649-83b8-07d057f3672a",
   "metadata": {},
   "outputs": [
    {
     "data": {
      "text/plain": [
       "array(['Ankle boot', 'Pullover', 'Trouser'], dtype='<U11')"
      ]
     },
     "execution_count": 38,
     "metadata": {},
     "output_type": "execute_result"
    }
   ],
   "source": [
    "np.array(class_names)[y_pred]"
   ]
  },
  {
   "cell_type": "code",
   "execution_count": 39,
   "id": "72231805-ff28-4469-a22d-80e7e0c1cd3a",
   "metadata": {},
   "outputs": [
    {
     "data": {
      "text/plain": [
       "array([9, 2, 1], dtype=uint8)"
      ]
     },
     "execution_count": 39,
     "metadata": {},
     "output_type": "execute_result"
    }
   ],
   "source": [
    "y_new = y_test[:3]\n",
    "y_new"
   ]
  },
  {
   "cell_type": "code",
   "execution_count": 40,
   "id": "674fdba2-5c03-4a8a-905d-1e2d05753c2e",
   "metadata": {},
   "outputs": [
    {
     "data": {
      "image/png": "[encoded data removed]",
      "text/plain": [
       "<Figure size 640x480 with 3 Axes>"
      ]
     },
     "metadata": {},
     "output_type": "display_data"
    }
   ],
   "source": [
    "for i in range(3):\n",
    "  plt.subplot(1, 3, i+1)\n",
    "  plt.imshow(X_new[i], cmap=\"binary\")\n",
    "  plt.axis(\"off\")\n",
    "  plt.title(class_names[y_new[i]])"
   ]
  },
  {
   "cell_type": "code",
   "execution_count": null,
   "id": "407e8bbb-6def-4fd2-8388-56e96f17f88b",
   "metadata": {},
   "outputs": [],
   "source": []
  },
  {
   "cell_type": "code",
   "execution_count": null,
   "id": "9492eb33-ca0c-493d-88c0-a863030e8e93",
   "metadata": {},
   "outputs": [],
   "source": []
  },
  {
   "cell_type": "code",
   "execution_count": null,
   "id": "5b2f2fa8-644a-4139-bd52-f42bd35b4b6a",
   "metadata": {},
   "outputs": [],
   "source": []
  },
  {
   "cell_type": "code",
   "execution_count": 41,
   "id": "45b2de12-bc51-461e-98e6-07d72b8099bb",
   "metadata": {},
   "outputs": [],
   "source": [
    "housing = fetch_california_housing()\n",
    "\n",
    "X_train_full, X_test, y_train_full, y_test = train_test_split(\n",
    "  housing.data, housing.target, random_state=42\n",
    ")\n",
    "\n",
    "X_train, X_valid, y_train, y_valid = train_test_split(\n",
    "  X_train_full, y_train_full, random_state=42\n",
    ")"
   ]
  },
  {
   "cell_type": "code",
   "execution_count": 42,
   "id": "8ecd3e32-486f-494f-ad82-432d3108bc93",
   "metadata": {},
   "outputs": [],
   "source": [
    "tf.random.set_seed(42)\n",
    "norm_layer = tf.keras.layers.Normalization(input_shape=X_train.shape[1:])"
   ]
  },
  {
   "cell_type": "code",
   "execution_count": 43,
   "id": "cf1149e8-25ea-41e8-ac18-0ada2de5556e",
   "metadata": {},
   "outputs": [],
   "source": [
    "model = tf.keras.Sequential([\n",
    "  norm_layer,\n",
    "  tf.keras.layers.Dense(50, activation=\"relu\"),\n",
    "  tf.keras.layers.Dense(50, activation=\"relu\"),\n",
    "  tf.keras.layers.Dense(50, activation=\"relu\"),\n",
    "  tf.keras.layers.Dense(1)\n",
    "])"
   ]
  },
  {
   "cell_type": "code",
   "execution_count": 44,
   "id": "77be2f02-e2d5-4576-bbf4-f98649b388de",
   "metadata": {},
   "outputs": [
    {
     "name": "stdout",
     "output_type": "stream",
     "text": [
      "Model: \"sequential_2\"\n",
      "_________________________________________________________________\n",
      " Layer (type)                Output Shape              Param #   \n",
      "=================================================================\n",
      " normalization (Normalizati  (None, 8)                 17        \n",
      " on)                                                             \n",
      "                                                                 \n",
      " dense_6 (Dense)             (None, 50)                450       \n",
      "                                                                 \n",
      " dense_7 (Dense)             (None, 50)                2550      \n",
      "                                                                 \n",
      " dense_8 (Dense)             (None, 50)                2550      \n",
      "                                                                 \n",
      " dense_9 (Dense)             (None, 1)                 51        \n",
      "                                                                 \n",
      "=================================================================\n",
      "Total params: 5618 (21.95 KB)\n",
      "Trainable params: 5601 (21.88 KB)\n",
      "Non-trainable params: 17 (72.00 Byte)\n",
      "_________________________________________________________________\n"
     ]
    }
   ],
   "source": [
    "model.summary()"
   ]
  },
  {
   "cell_type": "code",
   "execution_count": 45,
   "id": "cf059104-5a84-4424-8dbd-0b2938bed7c0",
   "metadata": {},
   "outputs": [],
   "source": [
    "optimizer = tf.keras.optimizers.Adam(learning_rate=1e-3)\n",
    "model.compile(loss=\"mse\", optimizer=optimizer, metrics=[\"RootMeanSquaredError\"])\n",
    "norm_layer.adapt(X_train)"
   ]
  },
  {
   "cell_type": "code",
   "execution_count": 46,
   "id": "2b49f6b7-2dd3-4e60-8909-903cb432b1d7",
   "metadata": {},
   "outputs": [
    {
     "name": "stdout",
     "output_type": "stream",
     "text": [
      "Epoch 1/30\n",
      "363/363 [==============================] - 2s 3ms/step - loss: 0.9323 - root_mean_squared_error: 0.9655 - val_loss: 0.4534 - val_root_mean_squared_error: 0.6733\n",
      "Epoch 2/30\n",
      "363/363 [==============================] - 1s 3ms/step - loss: 0.3739 - root_mean_squared_error: 0.6115 - val_loss: 2.8183 - val_root_mean_squared_error: 1.6788\n",
      "Epoch 3/30\n",
      "363/363 [==============================] - 1s 2ms/step - loss: 0.3853 - root_mean_squared_error: 0.6207 - val_loss: 0.4342 - val_root_mean_squared_error: 0.6589\n",
      "Epoch 4/30\n",
      "363/363 [==============================] - 1s 2ms/step - loss: 0.3447 - root_mean_squared_error: 0.5871 - val_loss: 3.4433 - val_root_mean_squared_error: 1.8556\n",
      "Epoch 5/30\n",
      "363/363 [==============================] - 1s 3ms/step - loss: 0.3391 - root_mean_squared_error: 0.5823 - val_loss: 9.2188 - val_root_mean_squared_error: 3.0362\n",
      "Epoch 6/30\n",
      "363/363 [==============================] - 1s 2ms/step - loss: 0.3938 - root_mean_squared_error: 0.6275 - val_loss: 1.3311 - val_root_mean_squared_error: 1.1537\n",
      "Epoch 7/30\n",
      "363/363 [==============================] - 1s 2ms/step - loss: 0.3247 - root_mean_squared_error: 0.5698 - val_loss: 1.9414 - val_root_mean_squared_error: 1.3933\n",
      "Epoch 8/30\n",
      "363/363 [==============================] - 1s 2ms/step - loss: 0.3176 - root_mean_squared_error: 0.5636 - val_loss: 0.3800 - val_root_mean_squared_error: 0.6164\n",
      "Epoch 9/30\n",
      "363/363 [==============================] - 1s 3ms/step - loss: 0.3042 - root_mean_squared_error: 0.5516 - val_loss: 0.4134 - val_root_mean_squared_error: 0.6429\n",
      "Epoch 10/30\n",
      "363/363 [==============================] - 1s 2ms/step - loss: 0.2980 - root_mean_squared_error: 0.5459 - val_loss: 0.3233 - val_root_mean_squared_error: 0.5686\n",
      "Epoch 11/30\n",
      "363/363 [==============================] - 1s 2ms/step - loss: 0.2920 - root_mean_squared_error: 0.5404 - val_loss: 0.3030 - val_root_mean_squared_error: 0.5505\n",
      "Epoch 12/30\n",
      "363/363 [==============================] - 1s 3ms/step - loss: 0.2961 - root_mean_squared_error: 0.5442 - val_loss: 0.4937 - val_root_mean_squared_error: 0.7026\n",
      "Epoch 13/30\n",
      "363/363 [==============================] - 1s 3ms/step - loss: 0.2879 - root_mean_squared_error: 0.5366 - val_loss: 0.2793 - val_root_mean_squared_error: 0.5285\n",
      "Epoch 14/30\n",
      "363/363 [==============================] - 1s 3ms/step - loss: 0.2853 - root_mean_squared_error: 0.5342 - val_loss: 0.3116 - val_root_mean_squared_error: 0.5582\n",
      "Epoch 15/30\n",
      "363/363 [==============================] - 1s 3ms/step - loss: 0.2823 - root_mean_squared_error: 0.5313 - val_loss: 0.2817 - val_root_mean_squared_error: 0.5307\n",
      "Epoch 16/30\n",
      "363/363 [==============================] - 1s 2ms/step - loss: 0.2770 - root_mean_squared_error: 0.5263 - val_loss: 0.2704 - val_root_mean_squared_error: 0.5200\n",
      "Epoch 17/30\n",
      "363/363 [==============================] - 1s 2ms/step - loss: 0.2755 - root_mean_squared_error: 0.5249 - val_loss: 0.4085 - val_root_mean_squared_error: 0.6391\n",
      "Epoch 18/30\n",
      "363/363 [==============================] - 1s 3ms/step - loss: 0.2726 - root_mean_squared_error: 0.5221 - val_loss: 0.2883 - val_root_mean_squared_error: 0.5369\n",
      "Epoch 19/30\n",
      "363/363 [==============================] - 1s 2ms/step - loss: 0.2682 - root_mean_squared_error: 0.5179 - val_loss: 0.2742 - val_root_mean_squared_error: 0.5236\n",
      "Epoch 20/30\n",
      "363/363 [==============================] - 1s 3ms/step - loss: 0.2706 - root_mean_squared_error: 0.5202 - val_loss: 0.4763 - val_root_mean_squared_error: 0.6902\n",
      "Epoch 21/30\n",
      "363/363 [==============================] - 1s 3ms/step - loss: 0.2674 - root_mean_squared_error: 0.5171 - val_loss: 0.2969 - val_root_mean_squared_error: 0.5449\n",
      "Epoch 22/30\n",
      "363/363 [==============================] - 1s 3ms/step - loss: 0.2638 - root_mean_squared_error: 0.5136 - val_loss: 0.4048 - val_root_mean_squared_error: 0.6363\n",
      "Epoch 23/30\n",
      "363/363 [==============================] - 1s 2ms/step - loss: 0.2609 - root_mean_squared_error: 0.5108 - val_loss: 0.3087 - val_root_mean_squared_error: 0.5556\n",
      "Epoch 24/30\n",
      "363/363 [==============================] - 1s 3ms/step - loss: 0.2707 - root_mean_squared_error: 0.5202 - val_loss: 2.1215 - val_root_mean_squared_error: 1.4565\n",
      "Epoch 25/30\n",
      "363/363 [==============================] - 1s 2ms/step - loss: 0.2707 - root_mean_squared_error: 0.5202 - val_loss: 0.4427 - val_root_mean_squared_error: 0.6654\n",
      "Epoch 26/30\n",
      "363/363 [==============================] - 1s 2ms/step - loss: 0.2579 - root_mean_squared_error: 0.5078 - val_loss: 0.2885 - val_root_mean_squared_error: 0.5371\n",
      "Epoch 27/30\n",
      "363/363 [==============================] - 1s 3ms/step - loss: 0.2555 - root_mean_squared_error: 0.5055 - val_loss: 0.7270 - val_root_mean_squared_error: 0.8527\n",
      "Epoch 28/30\n",
      "363/363 [==============================] - 1s 3ms/step - loss: 0.2572 - root_mean_squared_error: 0.5072 - val_loss: 2.8693 - val_root_mean_squared_error: 1.6939\n",
      "Epoch 29/30\n",
      "363/363 [==============================] - 1s 3ms/step - loss: 0.2568 - root_mean_squared_error: 0.5067 - val_loss: 1.4489 - val_root_mean_squared_error: 1.2037\n",
      "Epoch 30/30\n",
      "363/363 [==============================] - 1s 2ms/step - loss: 0.2662 - root_mean_squared_error: 0.5160 - val_loss: 1.2328 - val_root_mean_squared_error: 1.1103\n"
     ]
    }
   ],
   "source": [
    "history = model.fit(X_train, y_train, epochs=30,\n",
    "                   validation_data=(X_valid, y_valid))"
   ]
  },
  {
   "cell_type": "code",
   "execution_count": 47,
   "id": "a5aaf5ab-5d69-4835-989a-45bbe694af74",
   "metadata": {},
   "outputs": [
    {
     "data": {
      "text/plain": [
       "<Axes: xlabel='Epoch'>"
      ]
     },
     "execution_count": 47,
     "metadata": {},
     "output_type": "execute_result"
    },
    {
     "data": {
      "image/png": "[encoded data removed]",
      "text/plain": [
       "<Figure size 800x500 with 1 Axes>"
      ]
     },
     "metadata": {},
     "output_type": "display_data"
    }
   ],
   "source": [
    "pd.DataFrame(history.history).plot(\n",
    "  figsize=(8, 5), xlim=[0, 30], ylim=[0, 1], grid=True, xlabel=\"Epoch\",\n",
    "  style=[\"r--\", \"r--.\", \"b-\", \"b-*\"]\n",
    ")"
   ]
  },
  {
   "cell_type": "code",
   "execution_count": 48,
   "id": "d350e482-f06d-4549-9cba-e1603469d27e",
   "metadata": {},
   "outputs": [
    {
     "name": "stdout",
     "output_type": "stream",
     "text": [
      "162/162 [==============================] - 0s 2ms/step - loss: 0.2818 - root_mean_squared_error: 0.5309\n"
     ]
    },
    {
     "data": {
      "text/plain": [
       "[0.28183677792549133, 0.5308830142021179]"
      ]
     },
     "execution_count": 48,
     "metadata": {},
     "output_type": "execute_result"
    }
   ],
   "source": [
    "model.evaluate(X_test, y_test)"
   ]
  },
  {
   "cell_type": "code",
   "execution_count": 49,
   "id": "0bedac0b-837b-477c-89d4-542659922650",
   "metadata": {},
   "outputs": [
    {
     "data": {
      "text/plain": [
       "array([[ 1.68120000e+00,  2.50000000e+01,  4.19220056e+00,\n",
       "         1.02228412e+00,  1.39200000e+03,  3.87743733e+00,\n",
       "         3.60600000e+01, -1.19010000e+02],\n",
       "       [ 2.53130000e+00,  3.00000000e+01,  5.03938356e+00,\n",
       "         1.19349315e+00,  1.56500000e+03,  2.67979452e+00,\n",
       "         3.51400000e+01, -1.19460000e+02],\n",
       "       [ 3.48010000e+00,  5.20000000e+01,  3.97715472e+00,\n",
       "         1.18587747e+00,  1.31000000e+03,  1.36033229e+00,\n",
       "         3.78000000e+01, -1.22440000e+02]])"
      ]
     },
     "execution_count": 49,
     "metadata": {},
     "output_type": "execute_result"
    }
   ],
   "source": [
    "X_new = X_test[:3]\n",
    "X_new"
   ]
  },
  {
   "cell_type": "code",
   "execution_count": 50,
   "id": "58941749-bab2-4244-8fb5-55ab999abdc8",
   "metadata": {},
   "outputs": [
    {
     "name": "stdout",
     "output_type": "stream",
     "text": [
      "1/1 [==============================] - 0s 96ms/step\n"
     ]
    },
    {
     "data": {
      "text/plain": [
       "array([[0.47239733],\n",
       "       [1.0930794 ],\n",
       "       [4.724635  ]], dtype=float32)"
      ]
     },
     "execution_count": 50,
     "metadata": {},
     "output_type": "execute_result"
    }
   ],
   "source": [
    "model.predict(X_new)"
   ]
  },
  {
   "cell_type": "code",
   "execution_count": 51,
   "id": "a6bb932d-a12a-4174-b2aa-39ee406c1d01",
   "metadata": {},
   "outputs": [
    {
     "data": {
      "text/plain": [
       "array([0.477  , 0.458  , 5.00001])"
      ]
     },
     "execution_count": 51,
     "metadata": {},
     "output_type": "execute_result"
    }
   ],
   "source": [
    "y_test[:3]"
   ]
  },
  {
   "cell_type": "code",
   "execution_count": 52,
   "id": "8301ee69-b6c0-409f-973c-16e044912162",
   "metadata": {},
   "outputs": [
    {
     "data": {
      "text/plain": [
       "5.00001"
      ]
     },
     "execution_count": 52,
     "metadata": {},
     "output_type": "execute_result"
    }
   ],
   "source": [
    "y_train.max()"
   ]
  },
  {
   "cell_type": "code",
   "execution_count": 53,
   "id": "adf4d13c-379b-4f5e-a502-cbacf002adcd",
   "metadata": {},
   "outputs": [
    {
     "data": {
      "text/plain": [
       "(11610, 8)"
      ]
     },
     "execution_count": 53,
     "metadata": {},
     "output_type": "execute_result"
    }
   ],
   "source": [
    "X_train.shape"
   ]
  },
  {
   "cell_type": "code",
   "execution_count": 54,
   "id": "79cec9d7-05d7-4fad-b8b7-b2b181f362b1",
   "metadata": {},
   "outputs": [],
   "source": [
    "normalization_layer = tf.keras.layers.Normalization()\n",
    "hidden_layer1 = tf.keras.layers.Dense(30, activation=\"relu\")\n",
    "hidden_layer2 = tf.keras.layers.Dense(30, activation=\"relu\")\n",
    "concat_layer = tf.keras.layers.Concatenate()\n",
    "output_layer = tf.keras.layers.Dense(1)"
   ]
  },
  {
   "cell_type": "code",
   "execution_count": 55,
   "id": "aab0b9f5-c143-411c-86c5-d0a84ec2d5b9",
   "metadata": {},
   "outputs": [],
   "source": [
    "input_ = tf.keras.layers.Input(shape=X_train.shape[1:])\n",
    "normalized = normalization_layer(input_)\n",
    "hidden1 = hidden_layer1(normalized)\n",
    "hidden2 = hidden_layer2(hidden1)\n",
    "concat = concat_layer([normalized, hidden2])\n",
    "output = output_layer(concat)\n",
    "\n",
    "model = tf.keras.Model(inputs=[input_], outputs=[output])"
   ]
  },
  {
   "cell_type": "code",
   "execution_count": 56,
   "id": "9ec4743e-0e24-421a-9f6a-40d55c5f5a59",
   "metadata": {},
   "outputs": [
    {
     "name": "stdout",
     "output_type": "stream",
     "text": [
      "Model: \"model\"\n",
      "__________________________________________________________________________________________________\n",
      " Layer (type)                Output Shape                 Param #   Connected to                  \n",
      "==================================================================================================\n",
      " input_2 (InputLayer)        [(None, 8)]                  0         []                            \n",
      "                                                                                                  \n",
      " normalization_1 (Normaliza  (None, 8)                    17        ['input_2[0][0]']             \n",
      " tion)                                                                                            \n",
      "                                                                                                  \n",
      " dense_10 (Dense)            (None, 30)                   270       ['normalization_1[0][0]']     \n",
      "                                                                                                  \n",
      " dense_11 (Dense)            (None, 30)                   930       ['dense_10[0][0]']            \n",
      "                                                                                                  \n",
      " concatenate (Concatenate)   (None, 38)                   0         ['normalization_1[0][0]',     \n",
      "                                                                     'dense_11[0][0]']            \n",
      "                                                                                                  \n",
      " dense_12 (Dense)            (None, 1)                    39        ['concatenate[0][0]']         \n",
      "                                                                                                  \n",
      "==================================================================================================\n",
      "Total params: 1256 (4.91 KB)\n",
      "Trainable params: 1239 (4.84 KB)\n",
      "Non-trainable params: 17 (72.00 Byte)\n",
      "__________________________________________________________________________________________________\n"
     ]
    }
   ],
   "source": [
    "model.summary()"
   ]
  },
  {
   "cell_type": "code",
   "execution_count": 57,
   "id": "3167a42e-f3f0-427a-b85a-bf2fc54042ff",
   "metadata": {},
   "outputs": [],
   "source": [
    "optimizer = tf.keras.optimizers.Adam(learning_rate=1e-3)\n",
    "\n",
    "model.compile(loss=\"mse\", optimizer=optimizer,\n",
    "             metrics=[\"RootMeanSquaredError\"])\n",
    "normalization_layer.adapt(X_train)"
   ]
  },
  {
   "cell_type": "code",
   "execution_count": 58,
   "id": "5e17631e-cfbe-47ab-99ab-fe8cd642cfc5",
   "metadata": {
    "scrolled": true
   },
   "outputs": [
    {
     "name": "stdout",
     "output_type": "stream",
     "text": [
      "Epoch 1/30\n",
      "363/363 [==============================] - 2s 3ms/step - loss: 1.0201 - root_mean_squared_error: 1.0100 - val_loss: 0.8982 - val_root_mean_squared_error: 0.9477\n",
      "Epoch 2/30\n",
      "363/363 [==============================] - 1s 4ms/step - loss: 0.4534 - root_mean_squared_error: 0.6733 - val_loss: 1.4516 - val_root_mean_squared_error: 1.2048\n",
      "Epoch 3/30\n",
      "363/363 [==============================] - 1s 2ms/step - loss: 0.3986 - root_mean_squared_error: 0.6314 - val_loss: 0.7492 - val_root_mean_squared_error: 0.8656\n",
      "Epoch 4/30\n",
      "363/363 [==============================] - 1s 3ms/step - loss: 0.3691 - root_mean_squared_error: 0.6076 - val_loss: 1.3172 - val_root_mean_squared_error: 1.1477\n",
      "Epoch 5/30\n",
      "363/363 [==============================] - 1s 2ms/step - loss: 0.3674 - root_mean_squared_error: 0.6061 - val_loss: 3.6665 - val_root_mean_squared_error: 1.9148\n",
      "Epoch 6/30\n",
      "363/363 [==============================] - 1s 2ms/step - loss: 0.3755 - root_mean_squared_error: 0.6128 - val_loss: 3.1236 - val_root_mean_squared_error: 1.7674\n",
      "Epoch 7/30\n",
      "363/363 [==============================] - 1s 3ms/step - loss: 0.3606 - root_mean_squared_error: 0.6005 - val_loss: 0.7124 - val_root_mean_squared_error: 0.8440\n",
      "Epoch 8/30\n",
      "363/363 [==============================] - 1s 2ms/step - loss: 0.3383 - root_mean_squared_error: 0.5816 - val_loss: 0.6860 - val_root_mean_squared_error: 0.8282\n",
      "Epoch 9/30\n",
      "363/363 [==============================] - 1s 3ms/step - loss: 0.3310 - root_mean_squared_error: 0.5753 - val_loss: 0.4671 - val_root_mean_squared_error: 0.6835\n",
      "Epoch 10/30\n",
      "363/363 [==============================] - 1s 3ms/step - loss: 0.3295 - root_mean_squared_error: 0.5740 - val_loss: 0.7438 - val_root_mean_squared_error: 0.8624\n",
      "Epoch 11/30\n",
      "363/363 [==============================] - 1s 3ms/step - loss: 0.3239 - root_mean_squared_error: 0.5692 - val_loss: 0.4144 - val_root_mean_squared_error: 0.6437\n",
      "Epoch 12/30\n",
      "363/363 [==============================] - 1s 3ms/step - loss: 0.3280 - root_mean_squared_error: 0.5727 - val_loss: 1.6053 - val_root_mean_squared_error: 1.2670\n",
      "Epoch 13/30\n",
      "363/363 [==============================] - 1s 3ms/step - loss: 0.3273 - root_mean_squared_error: 0.5721 - val_loss: 0.6660 - val_root_mean_squared_error: 0.8161\n",
      "Epoch 14/30\n",
      "363/363 [==============================] - 1s 3ms/step - loss: 0.3160 - root_mean_squared_error: 0.5622 - val_loss: 0.9993 - val_root_mean_squared_error: 0.9997\n",
      "Epoch 15/30\n",
      "363/363 [==============================] - 1s 2ms/step - loss: 0.3154 - root_mean_squared_error: 0.5616 - val_loss: 1.8278 - val_root_mean_squared_error: 1.3520\n",
      "Epoch 16/30\n",
      "363/363 [==============================] - 1s 3ms/step - loss: 0.3226 - root_mean_squared_error: 0.5680 - val_loss: 4.3761 - val_root_mean_squared_error: 2.0919\n",
      "Epoch 17/30\n",
      "363/363 [==============================] - 1s 2ms/step - loss: 0.3330 - root_mean_squared_error: 0.5771 - val_loss: 2.3516 - val_root_mean_squared_error: 1.5335\n",
      "Epoch 18/30\n",
      "363/363 [==============================] - 1s 3ms/step - loss: 0.3193 - root_mean_squared_error: 0.5650 - val_loss: 2.1513 - val_root_mean_squared_error: 1.4667\n",
      "Epoch 19/30\n",
      "363/363 [==============================] - 1s 3ms/step - loss: 0.3108 - root_mean_squared_error: 0.5575 - val_loss: 0.7550 - val_root_mean_squared_error: 0.8689\n",
      "Epoch 20/30\n",
      "363/363 [==============================] - 1s 2ms/step - loss: 0.3068 - root_mean_squared_error: 0.5539 - val_loss: 0.9311 - val_root_mean_squared_error: 0.9649\n",
      "Epoch 21/30\n",
      "363/363 [==============================] - 1s 2ms/step - loss: 0.3009 - root_mean_squared_error: 0.5485 - val_loss: 0.4547 - val_root_mean_squared_error: 0.6743\n",
      "Epoch 22/30\n",
      "363/363 [==============================] - 1s 3ms/step - loss: 0.2970 - root_mean_squared_error: 0.5450 - val_loss: 1.1411 - val_root_mean_squared_error: 1.0682\n",
      "Epoch 23/30\n",
      "363/363 [==============================] - 1s 2ms/step - loss: 0.2963 - root_mean_squared_error: 0.5444 - val_loss: 0.3492 - val_root_mean_squared_error: 0.5909\n",
      "Epoch 24/30\n",
      "363/363 [==============================] - 1s 2ms/step - loss: 0.3083 - root_mean_squared_error: 0.5552 - val_loss: 2.0821 - val_root_mean_squared_error: 1.4429\n",
      "Epoch 25/30\n",
      "363/363 [==============================] - 1s 3ms/step - loss: 0.3044 - root_mean_squared_error: 0.5517 - val_loss: 0.6952 - val_root_mean_squared_error: 0.8338\n",
      "Epoch 26/30\n",
      "363/363 [==============================] - 1s 2ms/step - loss: 0.2945 - root_mean_squared_error: 0.5427 - val_loss: 1.4661 - val_root_mean_squared_error: 1.2108\n",
      "Epoch 27/30\n",
      "363/363 [==============================] - 1s 2ms/step - loss: 0.3012 - root_mean_squared_error: 0.5489 - val_loss: 0.5397 - val_root_mean_squared_error: 0.7346\n",
      "Epoch 28/30\n",
      "363/363 [==============================] - 1s 3ms/step - loss: 0.2974 - root_mean_squared_error: 0.5453 - val_loss: 1.6555 - val_root_mean_squared_error: 1.2867\n",
      "Epoch 29/30\n",
      "363/363 [==============================] - 1s 2ms/step - loss: 0.2972 - root_mean_squared_error: 0.5451 - val_loss: 0.8610 - val_root_mean_squared_error: 0.9279\n",
      "Epoch 30/30\n",
      "363/363 [==============================] - 1s 2ms/step - loss: 0.2938 - root_mean_squared_error: 0.5421 - val_loss: 1.0101 - val_root_mean_squared_error: 1.0051\n"
     ]
    }
   ],
   "source": [
    "history = model.fit(X_train, y_train, epochs=30,\n",
    "                   validation_data=(X_valid, y_valid))"
   ]
  },
  {
   "cell_type": "code",
   "execution_count": 59,
   "id": "fedd4198-b6dd-4526-938c-291458cb5c5c",
   "metadata": {},
   "outputs": [
    {
     "data": {
      "text/plain": [
       "<matplotlib.legend.Legend at 0x7fe8bdfb6790>"
      ]
     },
     "execution_count": 59,
     "metadata": {},
     "output_type": "execute_result"
    },
    {
     "data": {
      "image/png": "[encoded data removed]",
      "text/plain": [
       "<Figure size 800x500 with 1 Axes>"
      ]
     },
     "metadata": {},
     "output_type": "display_data"
    }
   ],
   "source": [
    "plt.figure(figsize=(8,5))\n",
    "\n",
    "for key, style in zip(history.history, [\"r--\", \"r--.\", \"g-\", \"b-*\"]):\n",
    "  epochs = np.array(history.epoch) + (0 if key.startswith(\"val_\") else -0.5)\n",
    "  plt.plot(epochs, history.history[key], style, label=key)\n",
    "plt.xlabel(\"Epochs\")\n",
    "plt.grid()\n",
    "plt.legend()"
   ]
  },
  {
   "cell_type": "code",
   "execution_count": 60,
   "id": "7253ef83-0bd3-4728-8d97-327785f8341d",
   "metadata": {},
   "outputs": [
    {
     "name": "stdout",
     "output_type": "stream",
     "text": [
      "162/162 [==============================] - 0s 2ms/step - loss: 0.2987 - root_mean_squared_error: 0.5465\n"
     ]
    },
    {
     "data": {
      "text/plain": [
       "[0.29867249727249146, 0.5465093851089478]"
      ]
     },
     "execution_count": 60,
     "metadata": {},
     "output_type": "execute_result"
    }
   ],
   "source": [
    "model.evaluate(X_test, y_test)"
   ]
  },
  {
   "cell_type": "code",
   "execution_count": null,
   "id": "f78f1409-9ca7-4361-b0c6-f595613cd8d0",
   "metadata": {},
   "outputs": [],
   "source": []
  },
  {
   "cell_type": "code",
   "execution_count": null,
   "id": "0188f2c0-621b-4b76-9aaf-721fde85db24",
   "metadata": {},
   "outputs": [],
   "source": []
  },
  {
   "cell_type": "code",
   "execution_count": 61,
   "id": "29636a9b-994a-4d77-b5ba-a694d00dfe4d",
   "metadata": {},
   "outputs": [],
   "source": [
    "input_wide = tf.keras.layers.Input(shape=[5])\n",
    "input_deep = tf.keras.layers.Input(shape=[6])\n",
    "\n",
    "norm_layer_wide = tf.keras.layers.Normalization()\n",
    "norm_layer_deep = tf.keras.layers.Normalization()\n",
    "\n",
    "norm_wide = norm_layer_wide(input_wide)\n",
    "norm_deep = norm_layer_deep(input_deep)\n",
    "\n",
    "hidden1 = tf.keras.layers.Dense(30, activation=\"relu\")(norm_deep)\n",
    "hidden2 = tf.keras.layers.Dense(30, activation=\"relu\")(hidden1)\n",
    "\n",
    "concat = tf.keras.layers.concatenate([norm_wide, hidden2])\n",
    "output = tf.keras.layers.Dense(1)(concat)\n",
    "\n",
    "model = tf.keras.Model(inputs=[input_wide, input_deep], outputs=[output])"
   ]
  },
  {
   "cell_type": "code",
   "execution_count": 62,
   "id": "89ef4b18-8b49-400d-b3f1-89f15566cae1",
   "metadata": {},
   "outputs": [
    {
     "name": "stdout",
     "output_type": "stream",
     "text": [
      "Model: \"model_1\"\n",
      "__________________________________________________________________________________________________\n",
      " Layer (type)                Output Shape                 Param #   Connected to                  \n",
      "==================================================================================================\n",
      " input_4 (InputLayer)        [(None, 6)]                  0         []                            \n",
      "                                                                                                  \n",
      " normalization_3 (Normaliza  (None, 6)                    13        ['input_4[0][0]']             \n",
      " tion)                                                                                            \n",
      "                                                                                                  \n",
      " input_3 (InputLayer)        [(None, 5)]                  0         []                            \n",
      "                                                                                                  \n",
      " dense_13 (Dense)            (None, 30)                   210       ['normalization_3[0][0]']     \n",
      "                                                                                                  \n",
      " normalization_2 (Normaliza  (None, 5)                    11        ['input_3[0][0]']             \n",
      " tion)                                                                                            \n",
      "                                                                                                  \n",
      " dense_14 (Dense)            (None, 30)                   930       ['dense_13[0][0]']            \n",
      "                                                                                                  \n",
      " concatenate_1 (Concatenate  (None, 35)                   0         ['normalization_2[0][0]',     \n",
      " )                                                                   'dense_14[0][0]']            \n",
      "                                                                                                  \n",
      " dense_15 (Dense)            (None, 1)                    36        ['concatenate_1[0][0]']       \n",
      "                                                                                                  \n",
      "==================================================================================================\n",
      "Total params: 1200 (4.70 KB)\n",
      "Trainable params: 1176 (4.59 KB)\n",
      "Non-trainable params: 24 (104.00 Byte)\n",
      "__________________________________________________________________________________________________\n"
     ]
    }
   ],
   "source": [
    "model.summary()"
   ]
  },
  {
   "cell_type": "code",
   "execution_count": 63,
   "id": "c2038ea7-7c35-4250-9478-f5ed24179244",
   "metadata": {},
   "outputs": [],
   "source": [
    "optimizer = tf.keras.optimizers.Adam(learning_rate=1e-3)\n",
    "model.compile(\n",
    "  loss=\"mse\",\n",
    "  optimizer=optimizer,\n",
    "  metrics=[\"RootMeanSquaredError\"]\n",
    ")"
   ]
  },
  {
   "cell_type": "code",
   "execution_count": 64,
   "id": "e97470ee-afc6-4786-8437-8d73531036f7",
   "metadata": {},
   "outputs": [],
   "source": [
    "X_train_wide, X_train_deep = X_train[:, :5], X_train[:, 2:]\n",
    "X_valid_wide, X_valid_deep = X_valid[:, :5], X_valid[:, 2:]\n",
    "X_test_wide, X_test_deep = X_test[:, :5], X_test[:, 2:]\n",
    "X_new_wide, X_new_deep = X_test_wide[:3], X_test_deep[:3]\n",
    "\n",
    "norm_layer_wide.adapt(X_train_wide)\n",
    "norm_layer_deep.adapt(X_train_deep)"
   ]
  },
  {
   "cell_type": "code",
   "execution_count": 65,
   "id": "ecb4bc29-6969-49c5-a534-ac69479548f3",
   "metadata": {
    "scrolled": true
   },
   "outputs": [
    {
     "name": "stdout",
     "output_type": "stream",
     "text": [
      "Epoch 1/30\n",
      "363/363 [==============================] - 2s 3ms/step - loss: 1.5418 - root_mean_squared_error: 1.2417 - val_loss: 0.6548 - val_root_mean_squared_error: 0.8092\n",
      "Epoch 2/30\n",
      "363/363 [==============================] - 1s 2ms/step - loss: 0.5489 - root_mean_squared_error: 0.7409 - val_loss: 0.9352 - val_root_mean_squared_error: 0.9670\n",
      "Epoch 3/30\n",
      "363/363 [==============================] - 1s 3ms/step - loss: 0.4800 - root_mean_squared_error: 0.6928 - val_loss: 0.5059 - val_root_mean_squared_error: 0.7113\n",
      "Epoch 4/30\n",
      "363/363 [==============================] - 1s 2ms/step - loss: 0.4342 - root_mean_squared_error: 0.6589 - val_loss: 0.5941 - val_root_mean_squared_error: 0.7708\n",
      "Epoch 5/30\n",
      "363/363 [==============================] - 1s 2ms/step - loss: 0.4029 - root_mean_squared_error: 0.6348 - val_loss: 0.7782 - val_root_mean_squared_error: 0.8822\n",
      "Epoch 6/30\n",
      "363/363 [==============================] - 1s 3ms/step - loss: 0.3826 - root_mean_squared_error: 0.6185 - val_loss: 0.5114 - val_root_mean_squared_error: 0.7151\n",
      "Epoch 7/30\n",
      "363/363 [==============================] - 1s 2ms/step - loss: 0.3658 - root_mean_squared_error: 0.6048 - val_loss: 0.9483 - val_root_mean_squared_error: 0.9738\n",
      "Epoch 8/30\n",
      "363/363 [==============================] - 1s 2ms/step - loss: 0.3563 - root_mean_squared_error: 0.5969 - val_loss: 1.9712 - val_root_mean_squared_error: 1.4040\n",
      "Epoch 9/30\n",
      "363/363 [==============================] - 1s 3ms/step - loss: 0.3553 - root_mean_squared_error: 0.5961 - val_loss: 4.0420 - val_root_mean_squared_error: 2.0105\n",
      "Epoch 10/30\n",
      "363/363 [==============================] - 1s 2ms/step - loss: 0.3755 - root_mean_squared_error: 0.6127 - val_loss: 0.8441 - val_root_mean_squared_error: 0.9187\n",
      "Epoch 11/30\n",
      "363/363 [==============================] - 1s 3ms/step - loss: 0.3409 - root_mean_squared_error: 0.5839 - val_loss: 0.5662 - val_root_mean_squared_error: 0.7525\n",
      "Epoch 12/30\n",
      "363/363 [==============================] - 1s 3ms/step - loss: 0.3446 - root_mean_squared_error: 0.5870 - val_loss: 0.4937 - val_root_mean_squared_error: 0.7027\n",
      "Epoch 13/30\n",
      "363/363 [==============================] - 1s 4ms/step - loss: 0.3356 - root_mean_squared_error: 0.5793 - val_loss: 0.7170 - val_root_mean_squared_error: 0.8468\n",
      "Epoch 14/30\n",
      "363/363 [==============================] - 1s 3ms/step - loss: 0.3342 - root_mean_squared_error: 0.5781 - val_loss: 0.8448 - val_root_mean_squared_error: 0.9191\n",
      "Epoch 15/30\n",
      "363/363 [==============================] - 1s 3ms/step - loss: 0.3334 - root_mean_squared_error: 0.5774 - val_loss: 0.9584 - val_root_mean_squared_error: 0.9790\n",
      "Epoch 16/30\n",
      "363/363 [==============================] - 1s 3ms/step - loss: 0.3316 - root_mean_squared_error: 0.5759 - val_loss: 0.8267 - val_root_mean_squared_error: 0.9092\n",
      "Epoch 17/30\n",
      "363/363 [==============================] - 1s 3ms/step - loss: 0.3303 - root_mean_squared_error: 0.5747 - val_loss: 0.8888 - val_root_mean_squared_error: 0.9428\n",
      "Epoch 18/30\n",
      "363/363 [==============================] - 1s 3ms/step - loss: 0.3279 - root_mean_squared_error: 0.5726 - val_loss: 0.4806 - val_root_mean_squared_error: 0.6932\n",
      "Epoch 19/30\n",
      "363/363 [==============================] - 1s 3ms/step - loss: 0.3220 - root_mean_squared_error: 0.5675 - val_loss: 0.6421 - val_root_mean_squared_error: 0.8013\n",
      "Epoch 20/30\n",
      "363/363 [==============================] - 1s 3ms/step - loss: 0.3246 - root_mean_squared_error: 0.5697 - val_loss: 0.4825 - val_root_mean_squared_error: 0.6946\n",
      "Epoch 21/30\n",
      "363/363 [==============================] - 1s 3ms/step - loss: 0.3233 - root_mean_squared_error: 0.5686 - val_loss: 0.9869 - val_root_mean_squared_error: 0.9934\n",
      "Epoch 22/30\n",
      "363/363 [==============================] - 1s 3ms/step - loss: 0.3241 - root_mean_squared_error: 0.5693 - val_loss: 0.5678 - val_root_mean_squared_error: 0.7535\n",
      "Epoch 23/30\n",
      "363/363 [==============================] - 1s 3ms/step - loss: 0.3157 - root_mean_squared_error: 0.5618 - val_loss: 0.3087 - val_root_mean_squared_error: 0.5556\n",
      "Epoch 24/30\n",
      "363/363 [==============================] - 1s 3ms/step - loss: 0.3185 - root_mean_squared_error: 0.5644 - val_loss: 0.3777 - val_root_mean_squared_error: 0.6146\n",
      "Epoch 25/30\n",
      "363/363 [==============================] - 1s 3ms/step - loss: 0.3154 - root_mean_squared_error: 0.5616 - val_loss: 0.6538 - val_root_mean_squared_error: 0.8086\n",
      "Epoch 26/30\n",
      "363/363 [==============================] - 1s 3ms/step - loss: 0.3150 - root_mean_squared_error: 0.5613 - val_loss: 0.3156 - val_root_mean_squared_error: 0.5618\n",
      "Epoch 27/30\n",
      "363/363 [==============================] - 1s 3ms/step - loss: 0.3109 - root_mean_squared_error: 0.5576 - val_loss: 0.4190 - val_root_mean_squared_error: 0.6473\n",
      "Epoch 28/30\n",
      "363/363 [==============================] - 1s 3ms/step - loss: 0.3109 - root_mean_squared_error: 0.5576 - val_loss: 0.3230 - val_root_mean_squared_error: 0.5683\n",
      "Epoch 29/30\n",
      "363/363 [==============================] - 1s 3ms/step - loss: 0.3088 - root_mean_squared_error: 0.5557 - val_loss: 0.9376 - val_root_mean_squared_error: 0.9683\n",
      "Epoch 30/30\n",
      "363/363 [==============================] - 1s 3ms/step - loss: 0.3140 - root_mean_squared_error: 0.5603 - val_loss: 0.5505 - val_root_mean_squared_error: 0.7420\n"
     ]
    }
   ],
   "source": [
    "history = model.fit(\n",
    "  (X_train_wide, X_train_deep), y_train, epochs=30,\n",
    "  validation_data=((X_valid_wide, X_valid_deep), y_valid)\n",
    ")"
   ]
  },
  {
   "cell_type": "code",
   "execution_count": 66,
   "id": "cae23546-1814-40a1-8184-ac007d9c7a80",
   "metadata": {},
   "outputs": [
    {
     "data": {
      "text/plain": [
       "<matplotlib.legend.Legend at 0x7fe8b2932c10>"
      ]
     },
     "execution_count": 66,
     "metadata": {},
     "output_type": "execute_result"
    },
    {
     "data": {
      "image/png": "[encoded data removed]",
      "text/plain": [
       "<Figure size 800x500 with 1 Axes>"
      ]
     },
     "metadata": {},
     "output_type": "display_data"
    }
   ],
   "source": [
    "pd.DataFrame(history.history).plot(\n",
    "  figsize=(8,5), grid=True, xlabel=\"Epochs\",\n",
    "  style=[\"r--\", \"r--.\", \"g-\", \"b-*\"]\n",
    ")\n",
    "plt.legend()\n"
   ]
  },
  {
   "cell_type": "code",
   "execution_count": 67,
   "id": "7848e5bc-f87c-4880-bf94-23adb1319a80",
   "metadata": {},
   "outputs": [
    {
     "name": "stdout",
     "output_type": "stream",
     "text": [
      "162/162 [==============================] - 0s 2ms/step - loss: 0.3149 - root_mean_squared_error: 0.5611\n"
     ]
    },
    {
     "data": {
      "text/plain": [
       "[0.3148772120475769, 0.5611392259597778]"
      ]
     },
     "execution_count": 67,
     "metadata": {},
     "output_type": "execute_result"
    }
   ],
   "source": [
    "model.evaluate((X_test_wide, X_test_deep), y_test)"
   ]
  },
  {
   "cell_type": "code",
   "execution_count": null,
   "id": "5e860533-7860-4c5e-9195-54e131eb270a",
   "metadata": {},
   "outputs": [],
   "source": []
  },
  {
   "cell_type": "code",
   "execution_count": 68,
   "id": "fd4aa663-580e-4ba6-9c20-4e09680c0fc1",
   "metadata": {},
   "outputs": [],
   "source": [
    "input_wide = tf.keras.layers.Input(shape=[5])\n",
    "norm_layer_wide = tf.keras.layers.Normalization()\n",
    "norm_wide = norm_layer_wide(input_wide)\n",
    "\n",
    "input_deep = tf.keras.layers.Input(shape=[6])\n",
    "norm_layer_deep = tf.keras.layers.Normalization()\n",
    "norm_deep = norm_layer_deep(input_deep)\n",
    "hidden1 = tf.keras.layers.Dense(30, activation=\"relu\")(norm_deep)\n",
    "hidden2 = tf.keras.layers.Dense(30, activation=\"relu\")(hidden1)\n",
    "\n",
    "concat = tf.keras.layers.concatenate([norm_wide, hidden2])\n",
    "output = tf.keras.layers.Dense(1)(concat)\n",
    "\n",
    "aux_output = tf.keras.layers.Dense(1)(hidden2)\n",
    "\n",
    "model = tf.keras.Model(inputs=[input_wide, input_deep], outputs=[output, aux_output])"
   ]
  },
  {
   "cell_type": "code",
   "execution_count": 69,
   "id": "ee053ba3-38c9-4702-aa8e-3538092fd8d3",
   "metadata": {},
   "outputs": [
    {
     "name": "stdout",
     "output_type": "stream",
     "text": [
      "Model: \"model_2\"\n",
      "__________________________________________________________________________________________________\n",
      " Layer (type)                Output Shape                 Param #   Connected to                  \n",
      "==================================================================================================\n",
      " input_6 (InputLayer)        [(None, 6)]                  0         []                            \n",
      "                                                                                                  \n",
      " normalization_5 (Normaliza  (None, 6)                    13        ['input_6[0][0]']             \n",
      " tion)                                                                                            \n",
      "                                                                                                  \n",
      " input_5 (InputLayer)        [(None, 5)]                  0         []                            \n",
      "                                                                                                  \n",
      " dense_16 (Dense)            (None, 30)                   210       ['normalization_5[0][0]']     \n",
      "                                                                                                  \n",
      " normalization_4 (Normaliza  (None, 5)                    11        ['input_5[0][0]']             \n",
      " tion)                                                                                            \n",
      "                                                                                                  \n",
      " dense_17 (Dense)            (None, 30)                   930       ['dense_16[0][0]']            \n",
      "                                                                                                  \n",
      " concatenate_2 (Concatenate  (None, 35)                   0         ['normalization_4[0][0]',     \n",
      " )                                                                   'dense_17[0][0]']            \n",
      "                                                                                                  \n",
      " dense_18 (Dense)            (None, 1)                    36        ['concatenate_2[0][0]']       \n",
      "                                                                                                  \n",
      " dense_19 (Dense)            (None, 1)                    31        ['dense_17[0][0]']            \n",
      "                                                                                                  \n",
      "==================================================================================================\n",
      "Total params: 1231 (4.82 KB)\n",
      "Trainable params: 1207 (4.71 KB)\n",
      "Non-trainable params: 24 (104.00 Byte)\n",
      "__________________________________________________________________________________________________\n"
     ]
    }
   ],
   "source": [
    "model.summary()"
   ]
  },
  {
   "cell_type": "code",
   "execution_count": 70,
   "id": "fa415497-b293-46c0-a7f2-787540dd4033",
   "metadata": {},
   "outputs": [],
   "source": [
    "optimizer = tf.keras.optimizers.Adam(learning_rate=1e-3)\n",
    "\n",
    "model.compile(loss=(\"mse\", \"mse\"), loss_weights=(0.9, 0.1),\n",
    "             optimizer=optimizer, metrics=[\"RootMeanSquaredError\"])"
   ]
  },
  {
   "cell_type": "code",
   "execution_count": 71,
   "id": "81e40873-9dff-4ade-aab0-949ae8bb0079",
   "metadata": {
    "scrolled": true
   },
   "outputs": [
    {
     "name": "stdout",
     "output_type": "stream",
     "text": [
      "Epoch 1/20\n",
      "363/363 [==============================] - 3s 5ms/step - loss: 1.1401 - dense_18_loss: 1.0621 - dense_19_loss: 1.8425 - dense_18_root_mean_squared_error: 1.0306 - dense_19_root_mean_squared_error: 1.3574 - val_loss: 0.8744 - val_dense_18_loss: 0.4806 - val_dense_19_loss: 4.4185 - val_dense_18_root_mean_squared_error: 0.6933 - val_dense_19_root_mean_squared_error: 2.1020\n",
      "Epoch 2/20\n",
      "363/363 [==============================] - 1s 4ms/step - loss: 0.4694 - dense_18_loss: 0.4422 - dense_19_loss: 0.7145 - dense_18_root_mean_squared_error: 0.6649 - dense_19_root_mean_squared_error: 0.8453 - val_loss: 1.1407 - val_dense_18_loss: 1.0727 - val_dense_19_loss: 1.7525 - val_dense_18_root_mean_squared_error: 1.0357 - val_dense_19_root_mean_squared_error: 1.3238\n",
      "Epoch 3/20\n",
      "363/363 [==============================] - 1s 4ms/step - loss: 0.4310 - dense_18_loss: 0.4131 - dense_19_loss: 0.5922 - dense_18_root_mean_squared_error: 0.6427 - dense_19_root_mean_squared_error: 0.7695 - val_loss: 0.4642 - val_dense_18_loss: 0.3772 - val_dense_19_loss: 1.2470 - val_dense_18_root_mean_squared_error: 0.6142 - val_dense_19_root_mean_squared_error: 1.1167\n",
      "Epoch 4/20\n",
      "363/363 [==============================] - 1s 3ms/step - loss: 0.4109 - dense_18_loss: 0.3938 - dense_19_loss: 0.5650 - dense_18_root_mean_squared_error: 0.6275 - dense_19_root_mean_squared_error: 0.7517 - val_loss: 0.3949 - val_dense_18_loss: 0.3652 - val_dense_19_loss: 0.6620 - val_dense_18_root_mean_squared_error: 0.6043 - val_dense_19_root_mean_squared_error: 0.8137\n",
      "Epoch 5/20\n",
      "363/363 [==============================] - 1s 4ms/step - loss: 0.3970 - dense_18_loss: 0.3816 - dense_19_loss: 0.5353 - dense_18_root_mean_squared_error: 0.6178 - dense_19_root_mean_squared_error: 0.7317 - val_loss: 0.4994 - val_dense_18_loss: 0.4987 - val_dense_19_loss: 0.5054 - val_dense_18_root_mean_squared_error: 0.7062 - val_dense_19_root_mean_squared_error: 0.7109\n",
      "Epoch 6/20\n",
      "363/363 [==============================] - 1s 3ms/step - loss: 0.3897 - dense_18_loss: 0.3756 - dense_19_loss: 0.5164 - dense_18_root_mean_squared_error: 0.6128 - dense_19_root_mean_squared_error: 0.7186 - val_loss: 1.4091 - val_dense_18_loss: 1.4571 - val_dense_19_loss: 0.9769 - val_dense_18_root_mean_squared_error: 1.2071 - val_dense_19_root_mean_squared_error: 0.9884\n",
      "Epoch 7/20\n",
      "363/363 [==============================] - 1s 3ms/step - loss: 0.3941 - dense_18_loss: 0.3821 - dense_19_loss: 0.5022 - dense_18_root_mean_squared_error: 0.6181 - dense_19_root_mean_squared_error: 0.7087 - val_loss: 1.8887 - val_dense_18_loss: 2.0397 - val_dense_19_loss: 0.5300 - val_dense_18_root_mean_squared_error: 1.4282 - val_dense_19_root_mean_squared_error: 0.7280\n",
      "Epoch 8/20\n",
      "363/363 [==============================] - 1s 4ms/step - loss: 0.3804 - dense_18_loss: 0.3690 - dense_19_loss: 0.4829 - dense_18_root_mean_squared_error: 0.6074 - dense_19_root_mean_squared_error: 0.6949 - val_loss: 3.1091 - val_dense_18_loss: 3.1843 - val_dense_19_loss: 2.4321 - val_dense_18_root_mean_squared_error: 1.7845 - val_dense_19_root_mean_squared_error: 1.5595\n",
      "Epoch 9/20\n",
      "363/363 [==============================] - 1s 4ms/step - loss: 0.3794 - dense_18_loss: 0.3686 - dense_19_loss: 0.4765 - dense_18_root_mean_squared_error: 0.6072 - dense_19_root_mean_squared_error: 0.6903 - val_loss: 1.3297 - val_dense_18_loss: 1.4133 - val_dense_19_loss: 0.5777 - val_dense_18_root_mean_squared_error: 1.1888 - val_dense_19_root_mean_squared_error: 0.7601\n",
      "Epoch 10/20\n",
      "363/363 [==============================] - 1s 4ms/step - loss: 0.3749 - dense_18_loss: 0.3656 - dense_19_loss: 0.4588 - dense_18_root_mean_squared_error: 0.6046 - dense_19_root_mean_squared_error: 0.6773 - val_loss: 1.1592 - val_dense_18_loss: 1.1517 - val_dense_19_loss: 1.2267 - val_dense_18_root_mean_squared_error: 1.0732 - val_dense_19_root_mean_squared_error: 1.1075\n",
      "Epoch 11/20\n",
      "363/363 [==============================] - 2s 4ms/step - loss: 0.3601 - dense_18_loss: 0.3506 - dense_19_loss: 0.4461 - dense_18_root_mean_squared_error: 0.5921 - dense_19_root_mean_squared_error: 0.6679 - val_loss: 0.3450 - val_dense_18_loss: 0.3264 - val_dense_19_loss: 0.5127 - val_dense_18_root_mean_squared_error: 0.5713 - val_dense_19_root_mean_squared_error: 0.7160\n",
      "Epoch 12/20\n",
      "363/363 [==============================] - 2s 4ms/step - loss: 0.3590 - dense_18_loss: 0.3504 - dense_19_loss: 0.4371 - dense_18_root_mean_squared_error: 0.5919 - dense_19_root_mean_squared_error: 0.6611 - val_loss: 0.7775 - val_dense_18_loss: 0.7489 - val_dense_19_loss: 1.0346 - val_dense_18_root_mean_squared_error: 0.8654 - val_dense_19_root_mean_squared_error: 1.0172\n",
      "Epoch 13/20\n",
      "363/363 [==============================] - 1s 4ms/step - loss: 0.3543 - dense_18_loss: 0.3458 - dense_19_loss: 0.4314 - dense_18_root_mean_squared_error: 0.5880 - dense_19_root_mean_squared_error: 0.6568 - val_loss: 0.3749 - val_dense_18_loss: 0.3709 - val_dense_19_loss: 0.4107 - val_dense_18_root_mean_squared_error: 0.6090 - val_dense_19_root_mean_squared_error: 0.6408\n",
      "Epoch 14/20\n",
      "363/363 [==============================] - 1s 4ms/step - loss: 0.3481 - dense_18_loss: 0.3396 - dense_19_loss: 0.4249 - dense_18_root_mean_squared_error: 0.5827 - dense_19_root_mean_squared_error: 0.6519 - val_loss: 0.3586 - val_dense_18_loss: 0.3541 - val_dense_19_loss: 0.3984 - val_dense_18_root_mean_squared_error: 0.5951 - val_dense_19_root_mean_squared_error: 0.6312\n",
      "Epoch 15/20\n",
      "363/363 [==============================] - 1s 4ms/step - loss: 0.3440 - dense_18_loss: 0.3364 - dense_19_loss: 0.4120 - dense_18_root_mean_squared_error: 0.5800 - dense_19_root_mean_squared_error: 0.6419 - val_loss: 0.6602 - val_dense_18_loss: 0.6530 - val_dense_19_loss: 0.7255 - val_dense_18_root_mean_squared_error: 0.8081 - val_dense_19_root_mean_squared_error: 0.8518\n",
      "Epoch 16/20\n",
      "363/363 [==============================] - 1s 4ms/step - loss: 0.3443 - dense_18_loss: 0.3367 - dense_19_loss: 0.4129 - dense_18_root_mean_squared_error: 0.5802 - dense_19_root_mean_squared_error: 0.6425 - val_loss: 1.6420 - val_dense_18_loss: 1.7467 - val_dense_19_loss: 0.6991 - val_dense_18_root_mean_squared_error: 1.3216 - val_dense_19_root_mean_squared_error: 0.8361\n",
      "Epoch 17/20\n",
      "363/363 [==============================] - 1s 4ms/step - loss: 0.3523 - dense_18_loss: 0.3459 - dense_19_loss: 0.4096 - dense_18_root_mean_squared_error: 0.5881 - dense_19_root_mean_squared_error: 0.6400 - val_loss: 2.4897 - val_dense_18_loss: 2.4446 - val_dense_19_loss: 2.8949 - val_dense_18_root_mean_squared_error: 1.5635 - val_dense_19_root_mean_squared_error: 1.7015\n",
      "Epoch 18/20\n",
      "363/363 [==============================] - 1s 4ms/step - loss: 0.3473 - dense_18_loss: 0.3399 - dense_19_loss: 0.4138 - dense_18_root_mean_squared_error: 0.5830 - dense_19_root_mean_squared_error: 0.6433 - val_loss: 0.6954 - val_dense_18_loss: 0.7162 - val_dense_19_loss: 0.5085 - val_dense_18_root_mean_squared_error: 0.8463 - val_dense_19_root_mean_squared_error: 0.7131\n",
      "Epoch 19/20\n",
      "363/363 [==============================] - 2s 4ms/step - loss: 0.3354 - dense_18_loss: 0.3287 - dense_19_loss: 0.3955 - dense_18_root_mean_squared_error: 0.5733 - dense_19_root_mean_squared_error: 0.6289 - val_loss: 1.2120 - val_dense_18_loss: 1.2183 - val_dense_19_loss: 1.1554 - val_dense_18_root_mean_squared_error: 1.1038 - val_dense_19_root_mean_squared_error: 1.0749\n",
      "Epoch 20/20\n",
      "363/363 [==============================] - 1s 4ms/step - loss: 0.3410 - dense_18_loss: 0.3343 - dense_19_loss: 0.4006 - dense_18_root_mean_squared_error: 0.5782 - dense_19_root_mean_squared_error: 0.6329 - val_loss: 0.5508 - val_dense_18_loss: 0.5681 - val_dense_19_loss: 0.3954 - val_dense_18_root_mean_squared_error: 0.7537 - val_dense_19_root_mean_squared_error: 0.6288\n"
     ]
    }
   ],
   "source": [
    "norm_layer_wide.adapt(X_train_wide)\n",
    "norm_layer_deep.adapt(X_train_deep)\n",
    "\n",
    "history = model.fit(\n",
    "  (X_train_wide, X_train_deep), (y_train, y_train), epochs=20,\n",
    "  validation_data=((X_valid_wide, X_valid_deep), (y_valid, y_valid))\n",
    ")"
   ]
  },
  {
   "cell_type": "code",
   "execution_count": 72,
   "id": "4cbd8992-fcd4-492c-8145-3115016ee617",
   "metadata": {},
   "outputs": [
    {
     "name": "stdout",
     "output_type": "stream",
     "text": [
      "162/162 [==============================] - 0s 2ms/step - loss: 0.3309 - dense_18_loss: 0.3246 - dense_19_loss: 0.3878 - dense_18_root_mean_squared_error: 0.5697 - dense_19_root_mean_squared_error: 0.6227\n"
     ]
    }
   ],
   "source": [
    "eval_results = model.evaluate((X_test_wide, X_test_deep), (y_test, y_test))"
   ]
  },
  {
   "cell_type": "code",
   "execution_count": 73,
   "id": "f3736f16-f8af-42f6-8e2e-ce178c77ba5c",
   "metadata": {},
   "outputs": [
    {
     "data": {
      "text/plain": [
       "[0.33087876439094543,\n",
       " 0.32455456256866455,\n",
       " 0.38779518008232117,\n",
       " 0.5696969032287598,\n",
       " 0.6227320432662964]"
      ]
     },
     "execution_count": 73,
     "metadata": {},
     "output_type": "execute_result"
    }
   ],
   "source": [
    "eval_results"
   ]
  },
  {
   "cell_type": "code",
   "execution_count": 74,
   "id": "3c7fbd9f-69a7-4e73-9c47-6715bc1be046",
   "metadata": {},
   "outputs": [],
   "source": [
    "weighted_sum_of_losses, main_loss, aux_loss, main_rmse, aux_rmse = eval_results"
   ]
  },
  {
   "cell_type": "code",
   "execution_count": 75,
   "id": "1b21258c-bfde-4e68-accb-8b67c87d7e42",
   "metadata": {},
   "outputs": [
    {
     "name": "stdout",
     "output_type": "stream",
     "text": [
      "1/1 [==============================] - 0s 101ms/step\n"
     ]
    },
    {
     "data": {
      "text/plain": [
       "[array([[0.35166532],\n",
       "        [1.3137399 ],\n",
       "        [3.5397458 ]], dtype=float32),\n",
       " array([[0.4729575],\n",
       "        [1.3792764],\n",
       "        [3.495034 ]], dtype=float32)]"
      ]
     },
     "execution_count": 75,
     "metadata": {},
     "output_type": "execute_result"
    }
   ],
   "source": [
    "model.predict((X_new_wide, X_new_deep))"
   ]
  },
  {
   "cell_type": "code",
   "execution_count": 76,
   "id": "fd8ea817-3239-4d41-a08d-73769ac22d5b",
   "metadata": {},
   "outputs": [
    {
     "name": "stdout",
     "output_type": "stream",
     "text": [
      "1/1 [==============================] - 0s 24ms/step\n"
     ]
    },
    {
     "data": {
      "text/plain": [
       "{'dense_18': array([[0.35166532],\n",
       "        [1.3137399 ],\n",
       "        [3.5397458 ]], dtype=float32),\n",
       " 'dense_19': array([[0.4729575],\n",
       "        [1.3792764],\n",
       "        [3.495034 ]], dtype=float32)}"
      ]
     },
     "execution_count": 76,
     "metadata": {},
     "output_type": "execute_result"
    }
   ],
   "source": [
    "y_pred_tuple = model.predict((X_new_wide, X_new_deep))\n",
    "y_pred = dict(zip(model.output_names, y_pred_tuple))\n",
    "y_pred"
   ]
  },
  {
   "cell_type": "code",
   "execution_count": 77,
   "id": "4aaf35ba-7a34-4b7d-b719-6d68e462fdf4",
   "metadata": {},
   "outputs": [
    {
     "data": {
      "text/plain": [
       "array([0.477  , 0.458  , 5.00001])"
      ]
     },
     "execution_count": 77,
     "metadata": {},
     "output_type": "execute_result"
    }
   ],
   "source": [
    "y_test[:3]"
   ]
  },
  {
   "cell_type": "code",
   "execution_count": null,
   "id": "775a1f06-9e64-4e14-90fa-261732e4be7f",
   "metadata": {},
   "outputs": [],
   "source": []
  },
  {
   "cell_type": "code",
   "execution_count": null,
   "id": "44cf0688-747b-4c63-9ed2-01692bb144ec",
   "metadata": {},
   "outputs": [],
   "source": []
  },
  {
   "cell_type": "code",
   "execution_count": 78,
   "id": "87b67ae0-05ed-4c53-a779-90917d722b26",
   "metadata": {},
   "outputs": [],
   "source": [
    "class WideAndDeepModel(tf.keras.Model):\n",
    "  def __init__(self, units=30, activation=\"relu\", **kwargs):\n",
    "    super().__init__(**kwargs)\n",
    "    self.norm_layer_wide = tf.keras.layers.Normalization()\n",
    "    self.norm_layer_deep = tf.keras.layers.Normalization()\n",
    "    self.hidden1 = tf.keras.layers.Dense(units, activation=activation)\n",
    "    self.hidden2 = tf.keras.layers.Dense(units, activation=activation)\n",
    "    self.main_output = tf.keras.layers.Dense(1)\n",
    "    self.aux_output = tf.keras.layers.Dense(1)\n",
    "\n",
    "  def call(self, inputs):\n",
    "    input_wide, input_deep = inputs\n",
    "    norm_wide = self.norm_layer_wide(input_wide)\n",
    "    norm_deep = self.norm_layer_deep(input_deep)\n",
    "    hidden1 = self.hidden1(norm_deep)\n",
    "    hidden2 = self.hidden2(hidden1)\n",
    "    concat = tf.keras.layers.concatenate([norm_wide, hidden2])\n",
    "    output = self.main_output(concat)\n",
    "    aux_output = self.aux_output(hidden2)\n",
    "\n",
    "    return output, aux_output\n",
    "\n",
    "model = WideAndDeepModel(30, activation=\"relu\", name=\"my_model\")"
   ]
  },
  {
   "cell_type": "code",
   "execution_count": 96,
   "id": "e658c719-1469-4c32-ba27-d8838680b6be",
   "metadata": {},
   "outputs": [],
   "source": [
    "optimizer = tf.keras.optimizers.Adam(learning_rate=2e-3)\n",
    "\n",
    "model.compile(loss=(\"mse\", \"mse\"), loss_weights=(0.9, 0.1),\n",
    "             optimizer=optimizer, metrics=[\"RootMeanSquaredError\"])"
   ]
  },
  {
   "cell_type": "code",
   "execution_count": 80,
   "id": "274a10a9-ccb9-44d6-a529-b39d5731d625",
   "metadata": {
    "scrolled": true
   },
   "outputs": [
    {
     "name": "stdout",
     "output_type": "stream",
     "text": [
      "Epoch 1/20\n",
      "363/363 [==============================] - 3s 5ms/step - loss: 292.6240 - output_1_loss: 46.0891 - output_2_loss: 2511.4373 - output_1_root_mean_squared_error: 6.7889 - output_2_root_mean_squared_error: 50.1142 - val_loss: 4.1705 - val_output_1_loss: 3.9953 - val_output_2_loss: 5.7473 - val_output_1_root_mean_squared_error: 1.9988 - val_output_2_root_mean_squared_error: 2.3974\n",
      "Epoch 2/20\n",
      "363/363 [==============================] - 2s 4ms/step - loss: 2.9921 - output_1_loss: 3.0668 - output_2_loss: 2.3198 - output_1_root_mean_squared_error: 1.7512 - output_2_root_mean_squared_error: 1.5231 - val_loss: 2.9906 - val_output_1_loss: 2.7193 - val_output_2_loss: 5.4327 - val_output_1_root_mean_squared_error: 1.6490 - val_output_2_root_mean_squared_error: 2.3308\n",
      "Epoch 3/20\n",
      "363/363 [==============================] - 1s 3ms/step - loss: 2.2180 - output_1_loss: 2.2183 - output_2_loss: 2.2160 - output_1_root_mean_squared_error: 1.4894 - output_2_root_mean_squared_error: 1.4886 - val_loss: 2.2536 - val_output_1_loss: 1.9508 - val_output_2_loss: 4.9783 - val_output_1_root_mean_squared_error: 1.3967 - val_output_2_root_mean_squared_error: 2.2312\n",
      "Epoch 4/20\n",
      "363/363 [==============================] - 1s 3ms/step - loss: 1.8108 - output_1_loss: 1.7760 - output_2_loss: 2.1234 - output_1_root_mean_squared_error: 1.3327 - output_2_root_mean_squared_error: 1.4572 - val_loss: 2.1086 - val_output_1_loss: 1.8295 - val_output_2_loss: 4.6206 - val_output_1_root_mean_squared_error: 1.3526 - val_output_2_root_mean_squared_error: 2.1495\n",
      "Epoch 5/20\n",
      "363/363 [==============================] - 1s 3ms/step - loss: 1.6142 - output_1_loss: 1.5477 - output_2_loss: 2.2120 - output_1_root_mean_squared_error: 1.2441 - output_2_root_mean_squared_error: 1.4873 - val_loss: 1.7132 - val_output_1_loss: 1.4642 - val_output_2_loss: 3.9549 - val_output_1_root_mean_squared_error: 1.2100 - val_output_2_root_mean_squared_error: 1.9887\n",
      "Epoch 6/20\n",
      "363/363 [==============================] - 1s 3ms/step - loss: 1.3284 - output_1_loss: 1.2364 - output_2_loss: 2.1566 - output_1_root_mean_squared_error: 1.1119 - output_2_root_mean_squared_error: 1.4685 - val_loss: 1.3617 - val_output_1_loss: 1.1944 - val_output_2_loss: 2.8670 - val_output_1_root_mean_squared_error: 1.0929 - val_output_2_root_mean_squared_error: 1.6932\n",
      "Epoch 7/20\n",
      "363/363 [==============================] - 1s 3ms/step - loss: 1.2609 - output_1_loss: 1.1344 - output_2_loss: 2.3997 - output_1_root_mean_squared_error: 1.0651 - output_2_root_mean_squared_error: 1.5491 - val_loss: 1.3372 - val_output_1_loss: 1.1958 - val_output_2_loss: 2.6099 - val_output_1_root_mean_squared_error: 1.0935 - val_output_2_root_mean_squared_error: 1.6155\n",
      "Epoch 8/20\n",
      "363/363 [==============================] - 1s 3ms/step - loss: 1.1183 - output_1_loss: 1.0021 - output_2_loss: 2.1638 - output_1_root_mean_squared_error: 1.0011 - output_2_root_mean_squared_error: 1.4710 - val_loss: 1.4217 - val_output_1_loss: 1.3206 - val_output_2_loss: 2.3312 - val_output_1_root_mean_squared_error: 1.1492 - val_output_2_root_mean_squared_error: 1.5268\n",
      "Epoch 9/20\n",
      "363/363 [==============================] - 1s 3ms/step - loss: 1.1910 - output_1_loss: 1.0910 - output_2_loss: 2.0915 - output_1_root_mean_squared_error: 1.0445 - output_2_root_mean_squared_error: 1.4462 - val_loss: 2.4991 - val_output_1_loss: 2.5546 - val_output_2_loss: 1.9989 - val_output_1_root_mean_squared_error: 1.5983 - val_output_2_root_mean_squared_error: 1.4138\n",
      "Epoch 10/20\n",
      "363/363 [==============================] - 1s 3ms/step - loss: 1.6725 - output_1_loss: 1.5956 - output_2_loss: 2.3644 - output_1_root_mean_squared_error: 1.2632 - output_2_root_mean_squared_error: 1.5377 - val_loss: 3.6200 - val_output_1_loss: 3.7864 - val_output_2_loss: 2.1224 - val_output_1_root_mean_squared_error: 1.9459 - val_output_2_root_mean_squared_error: 1.4568\n",
      "Epoch 11/20\n",
      "363/363 [==============================] - 1s 3ms/step - loss: 1.4560 - output_1_loss: 1.3710 - output_2_loss: 2.2209 - output_1_root_mean_squared_error: 1.1709 - output_2_root_mean_squared_error: 1.4903 - val_loss: 2.7043 - val_output_1_loss: 2.7066 - val_output_2_loss: 2.6836 - val_output_1_root_mean_squared_error: 1.6452 - val_output_2_root_mean_squared_error: 1.6382\n",
      "Epoch 12/20\n",
      "363/363 [==============================] - 1s 3ms/step - loss: 1.1408 - output_1_loss: 1.0053 - output_2_loss: 2.3602 - output_1_root_mean_squared_error: 1.0027 - output_2_root_mean_squared_error: 1.5363 - val_loss: 1.4060 - val_output_1_loss: 1.3607 - val_output_2_loss: 1.8138 - val_output_1_root_mean_squared_error: 1.1665 - val_output_2_root_mean_squared_error: 1.3468\n",
      "Epoch 13/20\n",
      "363/363 [==============================] - 1s 3ms/step - loss: 1.4834 - output_1_loss: 1.3241 - output_2_loss: 2.9170 - output_1_root_mean_squared_error: 1.1507 - output_2_root_mean_squared_error: 1.7079 - val_loss: 1.7690 - val_output_1_loss: 1.6725 - val_output_2_loss: 2.6371 - val_output_1_root_mean_squared_error: 1.2933 - val_output_2_root_mean_squared_error: 1.6239\n",
      "Epoch 14/20\n",
      "363/363 [==============================] - 1s 4ms/step - loss: 2.5892 - output_1_loss: 2.5563 - output_2_loss: 2.8851 - output_1_root_mean_squared_error: 1.5988 - output_2_root_mean_squared_error: 1.6985 - val_loss: 1.3941 - val_output_1_loss: 1.3775 - val_output_2_loss: 1.5432 - val_output_1_root_mean_squared_error: 1.1737 - val_output_2_root_mean_squared_error: 1.2423\n",
      "Epoch 15/20\n",
      "363/363 [==============================] - 1s 3ms/step - loss: 0.9184 - output_1_loss: 0.8076 - output_2_loss: 1.9150 - output_1_root_mean_squared_error: 0.8987 - output_2_root_mean_squared_error: 1.3838 - val_loss: 1.9247 - val_output_1_loss: 1.4496 - val_output_2_loss: 6.2007 - val_output_1_root_mean_squared_error: 1.2040 - val_output_2_root_mean_squared_error: 2.4901\n",
      "Epoch 16/20\n",
      "363/363 [==============================] - 1s 3ms/step - loss: 4.9379 - output_1_loss: 4.3522 - output_2_loss: 10.2091 - output_1_root_mean_squared_error: 2.0862 - output_2_root_mean_squared_error: 3.1952 - val_loss: 1.4244 - val_output_1_loss: 1.3800 - val_output_2_loss: 1.8245 - val_output_1_root_mean_squared_error: 1.1747 - val_output_2_root_mean_squared_error: 1.3507\n",
      "Epoch 17/20\n",
      "363/363 [==============================] - 1s 3ms/step - loss: 1.0592 - output_1_loss: 0.9626 - output_2_loss: 1.9287 - output_1_root_mean_squared_error: 0.9811 - output_2_root_mean_squared_error: 1.3888 - val_loss: 1.2222 - val_output_1_loss: 1.1784 - val_output_2_loss: 1.6169 - val_output_1_root_mean_squared_error: 1.0855 - val_output_2_root_mean_squared_error: 1.2716\n",
      "Epoch 18/20\n",
      "363/363 [==============================] - 1s 3ms/step - loss: 1.5231 - output_1_loss: 1.4033 - output_2_loss: 2.6018 - output_1_root_mean_squared_error: 1.1846 - output_2_root_mean_squared_error: 1.6130 - val_loss: 1.2979 - val_output_1_loss: 1.2148 - val_output_2_loss: 2.0455 - val_output_1_root_mean_squared_error: 1.1022 - val_output_2_root_mean_squared_error: 1.4302\n",
      "Epoch 19/20\n",
      "363/363 [==============================] - 1s 3ms/step - loss: 1.2402 - output_1_loss: 1.0718 - output_2_loss: 2.7552 - output_1_root_mean_squared_error: 1.0353 - output_2_root_mean_squared_error: 1.6599 - val_loss: 6.4052 - val_output_1_loss: 5.9738 - val_output_2_loss: 10.2879 - val_output_1_root_mean_squared_error: 2.4441 - val_output_2_root_mean_squared_error: 3.2075\n",
      "Epoch 20/20\n",
      "363/363 [==============================] - 1s 3ms/step - loss: 2.0329 - output_1_loss: 1.9667 - output_2_loss: 2.6291 - output_1_root_mean_squared_error: 1.4024 - output_2_root_mean_squared_error: 1.6215 - val_loss: 1.2895 - val_output_1_loss: 1.2607 - val_output_2_loss: 1.5491 - val_output_1_root_mean_squared_error: 1.1228 - val_output_2_root_mean_squared_error: 1.2446\n"
     ]
    }
   ],
   "source": [
    "norm_layer_wide.adapt(X_train_wide)\n",
    "norm_layer_deep.adapt(X_train_deep)\n",
    "\n",
    "history = model.fit(\n",
    "  (X_train_wide, X_train_deep), (y_train, y_train), epochs=20,\n",
    "  validation_data=((X_valid_wide, X_valid_deep), (y_valid, y_valid))\n",
    ")"
   ]
  },
  {
   "cell_type": "code",
   "execution_count": 81,
   "id": "423f6cf5-c471-4929-94ba-35119e4e91d1",
   "metadata": {},
   "outputs": [
    {
     "name": "stdout",
     "output_type": "stream",
     "text": [
      "162/162 [==============================] - 0s 2ms/step - loss: 0.7384 - output_1_loss: 0.6760 - output_2_loss: 1.3000 - output_1_root_mean_squared_error: 0.8222 - output_2_root_mean_squared_error: 1.1402\n"
     ]
    },
    {
     "data": {
      "text/plain": [
       "[0.7383525371551514,\n",
       " 0.6759523153305054,\n",
       " 1.2999563217163086,\n",
       " 0.8221631646156311,\n",
       " 1.1401562690734863]"
      ]
     },
     "execution_count": 81,
     "metadata": {},
     "output_type": "execute_result"
    }
   ],
   "source": [
    "model.evaluate((X_test_wide, X_test_deep), (y_test, y_test))"
   ]
  },
  {
   "cell_type": "code",
   "execution_count": 82,
   "id": "814d27d9-8719-4b4e-bfda-32d397e8f76e",
   "metadata": {},
   "outputs": [
    {
     "name": "stdout",
     "output_type": "stream",
     "text": [
      "Model: \"my_model\"\n",
      "_________________________________________________________________\n",
      " Layer (type)                Output Shape              Param #   \n",
      "=================================================================\n",
      " normalization_6 (Normaliza  multiple                  11        \n",
      " tion)                                                           \n",
      "                                                                 \n",
      " normalization_7 (Normaliza  multiple                  13        \n",
      " tion)                                                           \n",
      "                                                                 \n",
      " dense_20 (Dense)            multiple                  210       \n",
      "                                                                 \n",
      " dense_21 (Dense)            multiple                  930       \n",
      "                                                                 \n",
      " dense_22 (Dense)            multiple                  36        \n",
      "                                                                 \n",
      " dense_23 (Dense)            multiple                  31        \n",
      "                                                                 \n",
      "=================================================================\n",
      "Total params: 1231 (4.82 KB)\n",
      "Trainable params: 1207 (4.71 KB)\n",
      "Non-trainable params: 24 (104.00 Byte)\n",
      "_________________________________________________________________\n"
     ]
    }
   ],
   "source": [
    "model.summary()"
   ]
  },
  {
   "cell_type": "code",
   "execution_count": 83,
   "id": "ca6593a7-ee80-4c74-8ee5-190e1e48eb23",
   "metadata": {},
   "outputs": [
    {
     "name": "stdout",
     "output_type": "stream",
     "text": [
      "INFO:tensorflow:Assets written to: ../Models/my_keras_model/assets\n"
     ]
    },
    {
     "name": "stderr",
     "output_type": "stream",
     "text": [
      "INFO:tensorflow:Assets written to: ../Models/my_keras_model/assets\n"
     ]
    }
   ],
   "source": [
    "model.save(\"../Models/my_keras_model\", save_format=\"tf\")"
   ]
  },
  {
   "cell_type": "code",
   "execution_count": null,
   "id": "04be078e-f550-4141-9a3e-bb067c268829",
   "metadata": {},
   "outputs": [],
   "source": []
  },
  {
   "cell_type": "code",
   "execution_count": 84,
   "id": "a7d38eae-2298-46b3-9b1b-e68d49ede713",
   "metadata": {},
   "outputs": [],
   "source": [
    "model = tf.keras.models.load_model(\"../Models/my_keras_model\")"
   ]
  },
  {
   "cell_type": "code",
   "execution_count": 85,
   "id": "4705d8d3-4fae-484f-bd4a-a1951497455e",
   "metadata": {},
   "outputs": [
    {
     "name": "stdout",
     "output_type": "stream",
     "text": [
      "1/1 [==============================] - 0s 173ms/step\n"
     ]
    },
    {
     "data": {
      "text/plain": [
       "(array([[0.8850127],\n",
       "        [1.3821594],\n",
       "        [2.1213102]], dtype=float32),\n",
       " array([[1.8965907],\n",
       "        [1.9131083],\n",
       "        [1.8789058]], dtype=float32))"
      ]
     },
     "execution_count": 85,
     "metadata": {},
     "output_type": "execute_result"
    }
   ],
   "source": [
    "model.predict((X_new_wide, X_new_deep))"
   ]
  },
  {
   "cell_type": "code",
   "execution_count": null,
   "id": "a10cc4b8-3de0-40b7-b19f-65ae23cce198",
   "metadata": {},
   "outputs": [],
   "source": []
  },
  {
   "cell_type": "code",
   "execution_count": null,
   "id": "e8f5d844-7640-440c-b48d-319927778b12",
   "metadata": {},
   "outputs": [],
   "source": []
  },
  {
   "cell_type": "code",
   "execution_count": 86,
   "id": "65a50bcb-ac86-423b-8704-9ef7a1ec8fe8",
   "metadata": {
    "scrolled": true
   },
   "outputs": [
    {
     "name": "stdout",
     "output_type": "stream",
     "text": [
      "Epoch 1/30\n",
      "363/363 [==============================] - 3s 4ms/step - loss: 2.3504 - output_1_loss: 1.7622 - output_2_loss: 7.6441 - output_1_root_mean_squared_error: 1.3275 - output_2_root_mean_squared_error: 2.7648 - val_loss: 1.8476 - val_output_1_loss: 1.3786 - val_output_2_loss: 6.0679 - val_output_1_root_mean_squared_error: 1.1742 - val_output_2_root_mean_squared_error: 2.4633\n",
      "Epoch 2/30\n",
      "363/363 [==============================] - 1s 3ms/step - loss: 0.9499 - output_1_loss: 0.8682 - output_2_loss: 1.6856 - output_1_root_mean_squared_error: 0.9317 - output_2_root_mean_squared_error: 1.2983 - val_loss: 3.6955 - val_output_1_loss: 3.5158 - val_output_2_loss: 5.3129 - val_output_1_root_mean_squared_error: 1.8750 - val_output_2_root_mean_squared_error: 2.3050\n",
      "Epoch 3/30\n",
      "363/363 [==============================] - 1s 3ms/step - loss: 1.5052 - output_1_loss: 1.2754 - output_2_loss: 3.5726 - output_1_root_mean_squared_error: 1.1294 - output_2_root_mean_squared_error: 1.8901 - val_loss: 1.5772 - val_output_1_loss: 1.3473 - val_output_2_loss: 3.6461 - val_output_1_root_mean_squared_error: 1.1607 - val_output_2_root_mean_squared_error: 1.9095\n",
      "Epoch 4/30\n",
      "363/363 [==============================] - 1s 4ms/step - loss: 1.5224 - output_1_loss: 0.9673 - output_2_loss: 6.5182 - output_1_root_mean_squared_error: 0.9835 - output_2_root_mean_squared_error: 2.5531 - val_loss: 2.7744 - val_output_1_loss: 1.3210 - val_output_2_loss: 15.8555 - val_output_1_root_mean_squared_error: 1.1493 - val_output_2_root_mean_squared_error: 3.9819\n",
      "Epoch 5/30\n",
      "363/363 [==============================] - 1s 4ms/step - loss: 1.9921 - output_1_loss: 1.7763 - output_2_loss: 3.9338 - output_1_root_mean_squared_error: 1.3328 - output_2_root_mean_squared_error: 1.9834 - val_loss: 1.1378 - val_output_1_loss: 1.0855 - val_output_2_loss: 1.6090 - val_output_1_root_mean_squared_error: 1.0419 - val_output_2_root_mean_squared_error: 1.2685\n",
      "Epoch 6/30\n",
      "363/363 [==============================] - 1s 4ms/step - loss: 1.1521 - output_1_loss: 1.0200 - output_2_loss: 2.3402 - output_1_root_mean_squared_error: 1.0100 - output_2_root_mean_squared_error: 1.5298 - val_loss: 1.3559 - val_output_1_loss: 1.3258 - val_output_2_loss: 1.6272 - val_output_1_root_mean_squared_error: 1.1514 - val_output_2_root_mean_squared_error: 1.2756\n",
      "Epoch 7/30\n",
      "363/363 [==============================] - 1s 4ms/step - loss: 1.0508 - output_1_loss: 0.9111 - output_2_loss: 2.3078 - output_1_root_mean_squared_error: 0.9545 - output_2_root_mean_squared_error: 1.5191 - val_loss: 11.7418 - val_output_1_loss: 12.8205 - val_output_2_loss: 2.0335 - val_output_1_root_mean_squared_error: 3.5806 - val_output_2_root_mean_squared_error: 1.4260\n",
      "Epoch 8/30\n",
      "363/363 [==============================] - 1s 4ms/step - loss: 1.8712 - output_1_loss: 1.7995 - output_2_loss: 2.5163 - output_1_root_mean_squared_error: 1.3414 - output_2_root_mean_squared_error: 1.5863 - val_loss: 1.1457 - val_output_1_loss: 1.0604 - val_output_2_loss: 1.9137 - val_output_1_root_mean_squared_error: 1.0297 - val_output_2_root_mean_squared_error: 1.3833\n",
      "Epoch 9/30\n",
      "363/363 [==============================] - 1s 4ms/step - loss: 1.4070 - output_1_loss: 1.3256 - output_2_loss: 2.1397 - output_1_root_mean_squared_error: 1.1513 - output_2_root_mean_squared_error: 1.4628 - val_loss: 3.5065 - val_output_1_loss: 3.6314 - val_output_2_loss: 2.3821 - val_output_1_root_mean_squared_error: 1.9056 - val_output_2_root_mean_squared_error: 1.5434\n",
      "Epoch 10/30\n",
      "363/363 [==============================] - 1s 4ms/step - loss: 1.8193 - output_1_loss: 1.6847 - output_2_loss: 3.0300 - output_1_root_mean_squared_error: 1.2980 - output_2_root_mean_squared_error: 1.7407 - val_loss: 1.2858 - val_output_1_loss: 1.2419 - val_output_2_loss: 1.6810 - val_output_1_root_mean_squared_error: 1.1144 - val_output_2_root_mean_squared_error: 1.2965\n",
      "Epoch 11/30\n",
      "363/363 [==============================] - 1s 4ms/step - loss: 1.2587 - output_1_loss: 1.0257 - output_2_loss: 3.3559 - output_1_root_mean_squared_error: 1.0128 - output_2_root_mean_squared_error: 1.8319 - val_loss: 2.0613 - val_output_1_loss: 2.1390 - val_output_2_loss: 1.3611 - val_output_1_root_mean_squared_error: 1.4625 - val_output_2_root_mean_squared_error: 1.1667\n",
      "Epoch 12/30\n",
      "363/363 [==============================] - 1s 4ms/step - loss: 1.0828 - output_1_loss: 0.8107 - output_2_loss: 3.5316 - output_1_root_mean_squared_error: 0.9004 - output_2_root_mean_squared_error: 1.8793 - val_loss: 1.1327 - val_output_1_loss: 1.1096 - val_output_2_loss: 1.3402 - val_output_1_root_mean_squared_error: 1.0534 - val_output_2_root_mean_squared_error: 1.1577\n",
      "Epoch 13/30\n",
      "363/363 [==============================] - 1s 4ms/step - loss: 1.7007 - output_1_loss: 1.3914 - output_2_loss: 4.4844 - output_1_root_mean_squared_error: 1.1796 - output_2_root_mean_squared_error: 2.1176 - val_loss: 1.6133 - val_output_1_loss: 1.3457 - val_output_2_loss: 4.0219 - val_output_1_root_mean_squared_error: 1.1600 - val_output_2_root_mean_squared_error: 2.0055\n",
      "Epoch 14/30\n",
      "363/363 [==============================] - 1s 4ms/step - loss: 1.2278 - output_1_loss: 1.0344 - output_2_loss: 2.9684 - output_1_root_mean_squared_error: 1.0170 - output_2_root_mean_squared_error: 1.7229 - val_loss: 1.0837 - val_output_1_loss: 0.9982 - val_output_2_loss: 1.8530 - val_output_1_root_mean_squared_error: 0.9991 - val_output_2_root_mean_squared_error: 1.3612\n",
      "Epoch 15/30\n",
      "363/363 [==============================] - 1s 4ms/step - loss: 0.8899 - output_1_loss: 0.7497 - output_2_loss: 2.1513 - output_1_root_mean_squared_error: 0.8659 - output_2_root_mean_squared_error: 1.4667 - val_loss: 1.0963 - val_output_1_loss: 1.0806 - val_output_2_loss: 1.2376 - val_output_1_root_mean_squared_error: 1.0395 - val_output_2_root_mean_squared_error: 1.1125\n",
      "Epoch 16/30\n",
      "363/363 [==============================] - 1s 4ms/step - loss: 2.6921 - output_1_loss: 1.7691 - output_2_loss: 10.9990 - output_1_root_mean_squared_error: 1.3301 - output_2_root_mean_squared_error: 3.3165 - val_loss: 1.3881 - val_output_1_loss: 1.3762 - val_output_2_loss: 1.4949 - val_output_1_root_mean_squared_error: 1.1731 - val_output_2_root_mean_squared_error: 1.2226\n",
      "Epoch 17/30\n",
      "363/363 [==============================] - 1s 4ms/step - loss: 1.2417 - output_1_loss: 0.9385 - output_2_loss: 3.9705 - output_1_root_mean_squared_error: 0.9687 - output_2_root_mean_squared_error: 1.9926 - val_loss: 1.7222 - val_output_1_loss: 1.6471 - val_output_2_loss: 2.3978 - val_output_1_root_mean_squared_error: 1.2834 - val_output_2_root_mean_squared_error: 1.5485\n",
      "Epoch 18/30\n",
      "363/363 [==============================] - 1s 4ms/step - loss: 1.2263 - output_1_loss: 1.0385 - output_2_loss: 2.9171 - output_1_root_mean_squared_error: 1.0190 - output_2_root_mean_squared_error: 1.7080 - val_loss: 2.0499 - val_output_1_loss: 1.5423 - val_output_2_loss: 6.6186 - val_output_1_root_mean_squared_error: 1.2419 - val_output_2_root_mean_squared_error: 2.5727\n",
      "Epoch 19/30\n",
      "363/363 [==============================] - 1s 4ms/step - loss: 1.9057 - output_1_loss: 1.8485 - output_2_loss: 2.4197 - output_1_root_mean_squared_error: 1.3596 - output_2_root_mean_squared_error: 1.5555 - val_loss: 1.5496 - val_output_1_loss: 1.2394 - val_output_2_loss: 4.3420 - val_output_1_root_mean_squared_error: 1.1133 - val_output_2_root_mean_squared_error: 2.0838\n",
      "Epoch 20/30\n",
      "363/363 [==============================] - 1s 4ms/step - loss: 1.5758 - output_1_loss: 1.3363 - output_2_loss: 3.7316 - output_1_root_mean_squared_error: 1.1560 - output_2_root_mean_squared_error: 1.9317 - val_loss: 1.4664 - val_output_1_loss: 1.4802 - val_output_2_loss: 1.3429 - val_output_1_root_mean_squared_error: 1.2166 - val_output_2_root_mean_squared_error: 1.1588\n",
      "Epoch 21/30\n",
      "363/363 [==============================] - 1s 4ms/step - loss: 1.1163 - output_1_loss: 1.0745 - output_2_loss: 1.4919 - output_1_root_mean_squared_error: 1.0366 - output_2_root_mean_squared_error: 1.2214 - val_loss: 1.3985 - val_output_1_loss: 1.4075 - val_output_2_loss: 1.3178 - val_output_1_root_mean_squared_error: 1.1864 - val_output_2_root_mean_squared_error: 1.1480\n",
      "Epoch 22/30\n",
      "363/363 [==============================] - 1s 3ms/step - loss: 1.0862 - output_1_loss: 1.0135 - output_2_loss: 1.7399 - output_1_root_mean_squared_error: 1.0067 - output_2_root_mean_squared_error: 1.3191 - val_loss: 1.2970 - val_output_1_loss: 1.2722 - val_output_2_loss: 1.5203 - val_output_1_root_mean_squared_error: 1.1279 - val_output_2_root_mean_squared_error: 1.2330\n",
      "Epoch 23/30\n",
      "363/363 [==============================] - 1s 4ms/step - loss: 1.2130 - output_1_loss: 1.0905 - output_2_loss: 2.3159 - output_1_root_mean_squared_error: 1.0443 - output_2_root_mean_squared_error: 1.5218 - val_loss: 1.7541 - val_output_1_loss: 1.7010 - val_output_2_loss: 2.2323 - val_output_1_root_mean_squared_error: 1.3042 - val_output_2_root_mean_squared_error: 1.4941\n",
      "Epoch 24/30\n",
      "363/363 [==============================] - 1s 3ms/step - loss: 2.1003 - output_1_loss: 1.9666 - output_2_loss: 3.3029 - output_1_root_mean_squared_error: 1.4024 - output_2_root_mean_squared_error: 1.8174 - val_loss: 1.5149 - val_output_1_loss: 1.4468 - val_output_2_loss: 2.1278 - val_output_1_root_mean_squared_error: 1.2028 - val_output_2_root_mean_squared_error: 1.4587\n",
      "Epoch 25/30\n",
      "363/363 [==============================] - 1s 4ms/step - loss: 0.8609 - output_1_loss: 0.7021 - output_2_loss: 2.2904 - output_1_root_mean_squared_error: 0.8379 - output_2_root_mean_squared_error: 1.5134 - val_loss: 1.7835 - val_output_1_loss: 1.4320 - val_output_2_loss: 4.9474 - val_output_1_root_mean_squared_error: 1.1967 - val_output_2_root_mean_squared_error: 2.2243\n",
      "Epoch 26/30\n",
      "363/363 [==============================] - 1s 3ms/step - loss: 1.1579 - output_1_loss: 0.8320 - output_2_loss: 4.0914 - output_1_root_mean_squared_error: 0.9121 - output_2_root_mean_squared_error: 2.0227 - val_loss: 2.6584 - val_output_1_loss: 1.3913 - val_output_2_loss: 14.0627 - val_output_1_root_mean_squared_error: 1.1795 - val_output_2_root_mean_squared_error: 3.7500\n",
      "Epoch 27/30\n",
      "363/363 [==============================] - 1s 4ms/step - loss: 0.9323 - output_1_loss: 0.8384 - output_2_loss: 1.7778 - output_1_root_mean_squared_error: 0.9156 - output_2_root_mean_squared_error: 1.3333 - val_loss: 3.0085 - val_output_1_loss: 2.6354 - val_output_2_loss: 6.3661 - val_output_1_root_mean_squared_error: 1.6234 - val_output_2_root_mean_squared_error: 2.5231\n",
      "Epoch 28/30\n",
      "363/363 [==============================] - 1s 3ms/step - loss: 1.6744 - output_1_loss: 1.5741 - output_2_loss: 2.5772 - output_1_root_mean_squared_error: 1.2546 - output_2_root_mean_squared_error: 1.6054 - val_loss: 1.9046 - val_output_1_loss: 1.5672 - val_output_2_loss: 4.9413 - val_output_1_root_mean_squared_error: 1.2519 - val_output_2_root_mean_squared_error: 2.2229\n",
      "Epoch 29/30\n",
      "363/363 [==============================] - 1s 3ms/step - loss: 0.9197 - output_1_loss: 0.8308 - output_2_loss: 1.7201 - output_1_root_mean_squared_error: 0.9115 - output_2_root_mean_squared_error: 1.3115 - val_loss: 1.7745 - val_output_1_loss: 1.5000 - val_output_2_loss: 4.2452 - val_output_1_root_mean_squared_error: 1.2248 - val_output_2_root_mean_squared_error: 2.0604\n",
      "Epoch 30/30\n",
      "363/363 [==============================] - 1s 4ms/step - loss: 0.9318 - output_1_loss: 0.8619 - output_2_loss: 1.5617 - output_1_root_mean_squared_error: 0.9284 - output_2_root_mean_squared_error: 1.2497 - val_loss: 1.7973 - val_output_1_loss: 1.5239 - val_output_2_loss: 4.2580 - val_output_1_root_mean_squared_error: 1.2345 - val_output_2_root_mean_squared_error: 2.0635\n"
     ]
    }
   ],
   "source": [
    "checkpoint_cb = tf.keras.callbacks.ModelCheckpoint(\"../Models/my_checkpoints\",\n",
    "                                                  save_weights_only=True)\n",
    "\n",
    "history = model.fit(\n",
    "  (X_train_wide, X_train_deep), (y_train, y_train), epochs=30,\n",
    "  validation_data=((X_valid_wide, X_valid_deep), (y_valid, y_valid)),\n",
    "  callbacks=[checkpoint_cb]\n",
    ")"
   ]
  },
  {
   "cell_type": "code",
   "execution_count": 87,
   "id": "163ce5ba-ef02-4b16-8c7c-aaea200f1417",
   "metadata": {},
   "outputs": [],
   "source": [
    "early_stopping_cb = tf.keras.callbacks.EarlyStopping(\n",
    "  patience=10, restore_best_weights=True\n",
    ")"
   ]
  },
  {
   "cell_type": "code",
   "execution_count": 88,
   "id": "cf1034b7-ee1c-442b-b0fe-ec4aaebb94b4",
   "metadata": {
    "scrolled": true
   },
   "outputs": [
    {
     "name": "stdout",
     "output_type": "stream",
     "text": [
      "Epoch 1/20\n",
      "363/363 [==============================] - 1s 4ms/step - loss: 1.3160 - output_1_loss: 1.1906 - output_2_loss: 2.4453 - output_1_root_mean_squared_error: 1.0911 - output_2_root_mean_squared_error: 1.5637 - val_loss: 1.9246 - val_output_1_loss: 1.6192 - val_output_2_loss: 4.6733 - val_output_1_root_mean_squared_error: 1.2725 - val_output_2_root_mean_squared_error: 2.1618\n",
      "Epoch 2/20\n",
      "363/363 [==============================] - 1s 4ms/step - loss: 0.7689 - output_1_loss: 0.6824 - output_2_loss: 1.5472 - output_1_root_mean_squared_error: 0.8261 - output_2_root_mean_squared_error: 1.2439 - val_loss: 2.1378 - val_output_1_loss: 1.3693 - val_output_2_loss: 9.0547 - val_output_1_root_mean_squared_error: 1.1702 - val_output_2_root_mean_squared_error: 3.0091\n",
      "Epoch 3/20\n",
      "363/363 [==============================] - 1s 4ms/step - loss: 1.3742 - output_1_loss: 1.1870 - output_2_loss: 3.0586 - output_1_root_mean_squared_error: 1.0895 - output_2_root_mean_squared_error: 1.7489 - val_loss: 2.1870 - val_output_1_loss: 2.1493 - val_output_2_loss: 2.5259 - val_output_1_root_mean_squared_error: 1.4661 - val_output_2_root_mean_squared_error: 1.5893\n",
      "Epoch 4/20\n",
      "363/363 [==============================] - 1s 4ms/step - loss: 0.9727 - output_1_loss: 0.8602 - output_2_loss: 1.9857 - output_1_root_mean_squared_error: 0.9275 - output_2_root_mean_squared_error: 1.4091 - val_loss: 1.9740 - val_output_1_loss: 1.8458 - val_output_2_loss: 3.1277 - val_output_1_root_mean_squared_error: 1.3586 - val_output_2_root_mean_squared_error: 1.7685\n",
      "Epoch 5/20\n",
      "363/363 [==============================] - 1s 4ms/step - loss: 1.2002 - output_1_loss: 1.0949 - output_2_loss: 2.1480 - output_1_root_mean_squared_error: 1.0464 - output_2_root_mean_squared_error: 1.4656 - val_loss: 1.8490 - val_output_1_loss: 1.6892 - val_output_2_loss: 3.2881 - val_output_1_root_mean_squared_error: 1.2997 - val_output_2_root_mean_squared_error: 1.8133\n",
      "Epoch 6/20\n",
      "363/363 [==============================] - 1s 4ms/step - loss: 1.0981 - output_1_loss: 0.8844 - output_2_loss: 3.0217 - output_1_root_mean_squared_error: 0.9404 - output_2_root_mean_squared_error: 1.7383 - val_loss: 1.9034 - val_output_1_loss: 1.8104 - val_output_2_loss: 2.7397 - val_output_1_root_mean_squared_error: 1.3455 - val_output_2_root_mean_squared_error: 1.6552\n",
      "Epoch 7/20\n",
      "363/363 [==============================] - 1s 4ms/step - loss: 0.8782 - output_1_loss: 0.8097 - output_2_loss: 1.4948 - output_1_root_mean_squared_error: 0.8998 - output_2_root_mean_squared_error: 1.2226 - val_loss: 1.6942 - val_output_1_loss: 1.4081 - val_output_2_loss: 4.2695 - val_output_1_root_mean_squared_error: 1.1866 - val_output_2_root_mean_squared_error: 2.0663\n",
      "Epoch 8/20\n",
      "363/363 [==============================] - 1s 4ms/step - loss: 1.3397 - output_1_loss: 1.2819 - output_2_loss: 1.8600 - output_1_root_mean_squared_error: 1.1322 - output_2_root_mean_squared_error: 1.3638 - val_loss: 1.7439 - val_output_1_loss: 1.4433 - val_output_2_loss: 4.4497 - val_output_1_root_mean_squared_error: 1.2014 - val_output_2_root_mean_squared_error: 2.1094\n",
      "Epoch 9/20\n",
      "363/363 [==============================] - 1s 4ms/step - loss: 0.8815 - output_1_loss: 0.8140 - output_2_loss: 1.4885 - output_1_root_mean_squared_error: 0.9022 - output_2_root_mean_squared_error: 1.2200 - val_loss: 2.3911 - val_output_1_loss: 1.9071 - val_output_2_loss: 6.7466 - val_output_1_root_mean_squared_error: 1.3810 - val_output_2_root_mean_squared_error: 2.5974\n",
      "Epoch 10/20\n",
      "363/363 [==============================] - 1s 4ms/step - loss: 1.0621 - output_1_loss: 0.9271 - output_2_loss: 2.2769 - output_1_root_mean_squared_error: 0.9629 - output_2_root_mean_squared_error: 1.5089 - val_loss: 2.1059 - val_output_1_loss: 2.0175 - val_output_2_loss: 2.9009 - val_output_1_root_mean_squared_error: 1.4204 - val_output_2_root_mean_squared_error: 1.7032\n",
      "Epoch 11/20\n",
      "363/363 [==============================] - 1s 4ms/step - loss: 1.3615 - output_1_loss: 1.2458 - output_2_loss: 2.4028 - output_1_root_mean_squared_error: 1.1161 - output_2_root_mean_squared_error: 1.5501 - val_loss: 1.8092 - val_output_1_loss: 1.7201 - val_output_2_loss: 2.6112 - val_output_1_root_mean_squared_error: 1.3115 - val_output_2_root_mean_squared_error: 1.6159\n",
      "Epoch 12/20\n",
      "363/363 [==============================] - 1s 4ms/step - loss: 0.8534 - output_1_loss: 0.7445 - output_2_loss: 1.8329 - output_1_root_mean_squared_error: 0.8629 - output_2_root_mean_squared_error: 1.3538 - val_loss: 1.6171 - val_output_1_loss: 1.3812 - val_output_2_loss: 3.7404 - val_output_1_root_mean_squared_error: 1.1752 - val_output_2_root_mean_squared_error: 1.9340\n",
      "Epoch 13/20\n",
      "363/363 [==============================] - 1s 4ms/step - loss: 1.7388 - output_1_loss: 1.6148 - output_2_loss: 2.8546 - output_1_root_mean_squared_error: 1.2707 - output_2_root_mean_squared_error: 1.6895 - val_loss: 1.4408 - val_output_1_loss: 1.1592 - val_output_2_loss: 3.9759 - val_output_1_root_mean_squared_error: 1.0766 - val_output_2_root_mean_squared_error: 1.9940\n",
      "Epoch 14/20\n",
      "363/363 [==============================] - 1s 4ms/step - loss: 0.9087 - output_1_loss: 0.8109 - output_2_loss: 1.7887 - output_1_root_mean_squared_error: 0.9005 - output_2_root_mean_squared_error: 1.3374 - val_loss: 1.0227 - val_output_1_loss: 0.8203 - val_output_2_loss: 2.8441 - val_output_1_root_mean_squared_error: 0.9057 - val_output_2_root_mean_squared_error: 1.6865\n",
      "Epoch 15/20\n",
      "363/363 [==============================] - 1s 4ms/step - loss: 0.7595 - output_1_loss: 0.6883 - output_2_loss: 1.4004 - output_1_root_mean_squared_error: 0.8297 - output_2_root_mean_squared_error: 1.1834 - val_loss: 1.5219 - val_output_1_loss: 1.0253 - val_output_2_loss: 5.9907 - val_output_1_root_mean_squared_error: 1.0126 - val_output_2_root_mean_squared_error: 2.4476\n",
      "Epoch 16/20\n",
      "363/363 [==============================] - 1s 4ms/step - loss: 1.0975 - output_1_loss: 0.7605 - output_2_loss: 4.1299 - output_1_root_mean_squared_error: 0.8721 - output_2_root_mean_squared_error: 2.0322 - val_loss: 1.2705 - val_output_1_loss: 1.1961 - val_output_2_loss: 1.9401 - val_output_1_root_mean_squared_error: 1.0937 - val_output_2_root_mean_squared_error: 1.3929\n",
      "Epoch 17/20\n",
      "363/363 [==============================] - 1s 4ms/step - loss: 0.9789 - output_1_loss: 0.9291 - output_2_loss: 1.4272 - output_1_root_mean_squared_error: 0.9639 - output_2_root_mean_squared_error: 1.1947 - val_loss: 1.0054 - val_output_1_loss: 0.8278 - val_output_2_loss: 2.6046 - val_output_1_root_mean_squared_error: 0.9098 - val_output_2_root_mean_squared_error: 1.6139\n",
      "Epoch 18/20\n",
      "363/363 [==============================] - 1s 4ms/step - loss: 1.1476 - output_1_loss: 1.0994 - output_2_loss: 1.5816 - output_1_root_mean_squared_error: 1.0485 - output_2_root_mean_squared_error: 1.2576 - val_loss: 1.1234 - val_output_1_loss: 0.9935 - val_output_2_loss: 2.2923 - val_output_1_root_mean_squared_error: 0.9967 - val_output_2_root_mean_squared_error: 1.5140\n",
      "Epoch 19/20\n",
      "363/363 [==============================] - 1s 4ms/step - loss: 1.1905 - output_1_loss: 1.1398 - output_2_loss: 1.6474 - output_1_root_mean_squared_error: 1.0676 - output_2_root_mean_squared_error: 1.2835 - val_loss: 1.0518 - val_output_1_loss: 0.9370 - val_output_2_loss: 2.0848 - val_output_1_root_mean_squared_error: 0.9680 - val_output_2_root_mean_squared_error: 1.4439\n",
      "Epoch 20/20\n",
      "363/363 [==============================] - 1s 4ms/step - loss: 1.0871 - output_1_loss: 1.0075 - output_2_loss: 1.8036 - output_1_root_mean_squared_error: 1.0037 - output_2_root_mean_squared_error: 1.3430 - val_loss: 1.1118 - val_output_1_loss: 1.0016 - val_output_2_loss: 2.1036 - val_output_1_root_mean_squared_error: 1.0008 - val_output_2_root_mean_squared_error: 1.4504\n"
     ]
    }
   ],
   "source": [
    "history = model.fit(\n",
    "  (X_train_wide, X_train_deep), (y_train, y_train), epochs=20,\n",
    "  validation_data=((X_valid_wide, X_valid_deep), (y_valid, y_valid)),\n",
    "  callbacks=[checkpoint_cb, early_stopping_cb]\n",
    ")"
   ]
  },
  {
   "cell_type": "code",
   "execution_count": null,
   "id": "1399e601-7a6d-46f5-8647-3f47bae8ebab",
   "metadata": {},
   "outputs": [],
   "source": []
  },
  {
   "cell_type": "code",
   "execution_count": 89,
   "id": "85c44903-b3c9-42f3-816f-6732007d41b0",
   "metadata": {},
   "outputs": [],
   "source": [
    "class PrintValTrainRatioCallback(tf.keras.callbacks.Callback):\n",
    "  def on_epoch_end(self, epoch, logs):\n",
    "    ratio = logs[\"val_loss\"] / logs[\"loss\"]\n",
    "    print(f\"Epoch={epoch}, val/train={ratio:.2f}\")"
   ]
  },
  {
   "cell_type": "code",
   "execution_count": 90,
   "id": "2128bc86-ac8a-4bca-a739-477582bc128b",
   "metadata": {
    "scrolled": true
   },
   "outputs": [
    {
     "name": "stdout",
     "output_type": "stream",
     "text": [
      "Epoch 1/20\n",
      "354/363 [============================>.] - ETA: 0s - loss: 0.7931 - output_1_loss: 0.7300 - output_2_loss: 1.3606 - output_1_root_mean_squared_error: 0.8544 - output_2_root_mean_squared_error: 1.1665Epoch=0, val/train=1.97\n",
      "363/363 [==============================] - 2s 5ms/step - loss: 0.7944 - output_1_loss: 0.7319 - output_2_loss: 1.3573 - output_1_root_mean_squared_error: 0.8555 - output_2_root_mean_squared_error: 1.1650 - val_loss: 1.5619 - val_output_1_loss: 1.5940 - val_output_2_loss: 1.2732 - val_output_1_root_mean_squared_error: 1.2625 - val_output_2_root_mean_squared_error: 1.1284\n",
      "Epoch 2/20\n",
      "353/363 [============================>.] - ETA: 0s - loss: 0.8174 - output_1_loss: 0.7301 - output_2_loss: 1.6027 - output_1_root_mean_squared_error: 0.8545 - output_2_root_mean_squared_error: 1.2660Epoch=1, val/train=1.82\n",
      "363/363 [==============================] - 2s 4ms/step - loss: 0.8149 - output_1_loss: 0.7285 - output_2_loss: 1.5926 - output_1_root_mean_squared_error: 0.8535 - output_2_root_mean_squared_error: 1.2620 - val_loss: 1.4845 - val_output_1_loss: 1.5036 - val_output_2_loss: 1.3129 - val_output_1_root_mean_squared_error: 1.2262 - val_output_2_root_mean_squared_error: 1.1458\n",
      "Epoch 3/20\n",
      "347/363 [===========================>..] - ETA: 0s - loss: 0.9775 - output_1_loss: 0.9248 - output_2_loss: 1.4527 - output_1_root_mean_squared_error: 0.9616 - output_2_root_mean_squared_error: 1.2053Epoch=2, val/train=1.91\n",
      "363/363 [==============================] - 1s 4ms/step - loss: 0.9653 - output_1_loss: 0.9122 - output_2_loss: 1.4429 - output_1_root_mean_squared_error: 0.9551 - output_2_root_mean_squared_error: 1.2012 - val_loss: 1.8419 - val_output_1_loss: 1.8522 - val_output_2_loss: 1.7496 - val_output_1_root_mean_squared_error: 1.3610 - val_output_2_root_mean_squared_error: 1.3227\n",
      "Epoch 4/20\n",
      "363/363 [==============================] - ETA: 0s - loss: 0.8579 - output_1_loss: 0.7644 - output_2_loss: 1.6986 - output_1_root_mean_squared_error: 0.8743 - output_2_root_mean_squared_error: 1.3033Epoch=3, val/train=1.76\n",
      "363/363 [==============================] - 1s 4ms/step - loss: 0.8579 - output_1_loss: 0.7644 - output_2_loss: 1.6986 - output_1_root_mean_squared_error: 0.8743 - output_2_root_mean_squared_error: 1.3033 - val_loss: 1.5059 - val_output_1_loss: 1.5209 - val_output_2_loss: 1.3717 - val_output_1_root_mean_squared_error: 1.2332 - val_output_2_root_mean_squared_error: 1.1712\n",
      "Epoch 5/20\n",
      "346/363 [===========================>..] - ETA: 0s - loss: 1.3070 - output_1_loss: 1.2547 - output_2_loss: 1.7774 - output_1_root_mean_squared_error: 1.1201 - output_2_root_mean_squared_error: 1.3332Epoch=4, val/train=1.21\n",
      "363/363 [==============================] - 1s 4ms/step - loss: 1.3391 - output_1_loss: 1.2723 - output_2_loss: 1.9399 - output_1_root_mean_squared_error: 1.1280 - output_2_root_mean_squared_error: 1.3928 - val_loss: 1.6172 - val_output_1_loss: 1.3939 - val_output_2_loss: 3.6266 - val_output_1_root_mean_squared_error: 1.1806 - val_output_2_root_mean_squared_error: 1.9044\n",
      "Epoch 6/20\n",
      "361/363 [============================>.] - ETA: 0s - loss: 1.0239 - output_1_loss: 0.8988 - output_2_loss: 2.1496 - output_1_root_mean_squared_error: 0.9481 - output_2_root_mean_squared_error: 1.4661Epoch=5, val/train=0.95\n",
      "363/363 [==============================] - 2s 4ms/step - loss: 1.0229 - output_1_loss: 0.8981 - output_2_loss: 2.1459 - output_1_root_mean_squared_error: 0.9477 - output_2_root_mean_squared_error: 1.4649 - val_loss: 0.9677 - val_output_1_loss: 0.8678 - val_output_2_loss: 1.8676 - val_output_1_root_mean_squared_error: 0.9315 - val_output_2_root_mean_squared_error: 1.3666\n",
      "Epoch 7/20\n",
      "345/363 [===========================>..] - ETA: 0s - loss: 0.8401 - output_1_loss: 0.7467 - output_2_loss: 1.6807 - output_1_root_mean_squared_error: 0.8641 - output_2_root_mean_squared_error: 1.2964Epoch=6, val/train=1.39\n",
      "363/363 [==============================] - 1s 4ms/step - loss: 0.8353 - output_1_loss: 0.7409 - output_2_loss: 1.6847 - output_1_root_mean_squared_error: 0.8608 - output_2_root_mean_squared_error: 1.2980 - val_loss: 1.1599 - val_output_1_loss: 1.0375 - val_output_2_loss: 2.2615 - val_output_1_root_mean_squared_error: 1.0186 - val_output_2_root_mean_squared_error: 1.5038\n",
      "Epoch 8/20\n",
      "358/363 [============================>.] - ETA: 0s - loss: 1.1553 - output_1_loss: 1.1288 - output_2_loss: 1.3943 - output_1_root_mean_squared_error: 1.0624 - output_2_root_mean_squared_error: 1.1808Epoch=7, val/train=1.09\n",
      "363/363 [==============================] - 1s 4ms/step - loss: 1.1543 - output_1_loss: 1.1275 - output_2_loss: 1.3957 - output_1_root_mean_squared_error: 1.0618 - output_2_root_mean_squared_error: 1.1814 - val_loss: 1.2571 - val_output_1_loss: 1.0721 - val_output_2_loss: 2.9226 - val_output_1_root_mean_squared_error: 1.0354 - val_output_2_root_mean_squared_error: 1.7096\n",
      "Epoch 9/20\n",
      "350/363 [===========================>..] - ETA: 0s - loss: 0.7958 - output_1_loss: 0.7444 - output_2_loss: 1.2582 - output_1_root_mean_squared_error: 0.8628 - output_2_root_mean_squared_error: 1.1217Epoch=8, val/train=1.29\n",
      "363/363 [==============================] - 2s 4ms/step - loss: 0.7983 - output_1_loss: 0.7476 - output_2_loss: 1.2537 - output_1_root_mean_squared_error: 0.8647 - output_2_root_mean_squared_error: 1.1197 - val_loss: 1.0327 - val_output_1_loss: 0.8569 - val_output_2_loss: 2.6152 - val_output_1_root_mean_squared_error: 0.9257 - val_output_2_root_mean_squared_error: 1.6172\n",
      "Epoch 10/20\n",
      "350/363 [===========================>..] - ETA: 0s - loss: 0.9185 - output_1_loss: 0.8186 - output_2_loss: 1.8174 - output_1_root_mean_squared_error: 0.9048 - output_2_root_mean_squared_error: 1.3481Epoch=9, val/train=1.21\n",
      "363/363 [==============================] - 1s 4ms/step - loss: 0.9180 - output_1_loss: 0.8205 - output_2_loss: 1.7955 - output_1_root_mean_squared_error: 0.9058 - output_2_root_mean_squared_error: 1.3400 - val_loss: 1.1124 - val_output_1_loss: 0.9309 - val_output_2_loss: 2.7458 - val_output_1_root_mean_squared_error: 0.9649 - val_output_2_root_mean_squared_error: 1.6570\n",
      "Epoch 11/20\n",
      "351/363 [============================>.] - ETA: 0s - loss: 1.0344 - output_1_loss: 0.9551 - output_2_loss: 1.7476 - output_1_root_mean_squared_error: 0.9773 - output_2_root_mean_squared_error: 1.3220Epoch=10, val/train=1.12\n",
      "363/363 [==============================] - 1s 4ms/step - loss: 1.0495 - output_1_loss: 0.9702 - output_2_loss: 1.7637 - output_1_root_mean_squared_error: 0.9850 - output_2_root_mean_squared_error: 1.3281 - val_loss: 1.1747 - val_output_1_loss: 0.7443 - val_output_2_loss: 5.0482 - val_output_1_root_mean_squared_error: 0.8627 - val_output_2_root_mean_squared_error: 2.2468\n",
      "Epoch 12/20\n",
      "349/363 [===========================>..] - ETA: 0s - loss: 0.7972 - output_1_loss: 0.7336 - output_2_loss: 1.3696 - output_1_root_mean_squared_error: 0.8565 - output_2_root_mean_squared_error: 1.1703Epoch=11, val/train=1.17\n",
      "363/363 [==============================] - 1s 4ms/step - loss: 0.7984 - output_1_loss: 0.7346 - output_2_loss: 1.3726 - output_1_root_mean_squared_error: 0.8571 - output_2_root_mean_squared_error: 1.1716 - val_loss: 0.9346 - val_output_1_loss: 0.6780 - val_output_2_loss: 3.2441 - val_output_1_root_mean_squared_error: 0.8234 - val_output_2_root_mean_squared_error: 1.8011\n",
      "Epoch 13/20\n",
      "357/363 [============================>.] - ETA: 0s - loss: 1.6297 - output_1_loss: 1.5975 - output_2_loss: 1.9192 - output_1_root_mean_squared_error: 1.2639 - output_2_root_mean_squared_error: 1.3853Epoch=12, val/train=0.67\n",
      "363/363 [==============================] - 1s 4ms/step - loss: 1.6145 - output_1_loss: 1.5814 - output_2_loss: 1.9127 - output_1_root_mean_squared_error: 1.2575 - output_2_root_mean_squared_error: 1.3830 - val_loss: 1.0792 - val_output_1_loss: 0.9247 - val_output_2_loss: 2.4692 - val_output_1_root_mean_squared_error: 0.9616 - val_output_2_root_mean_squared_error: 1.5714\n",
      "Epoch 14/20\n",
      "360/363 [============================>.] - ETA: 0s - loss: 0.7989 - output_1_loss: 0.7070 - output_2_loss: 1.6265 - output_1_root_mean_squared_error: 0.8408 - output_2_root_mean_squared_error: 1.2754Epoch=13, val/train=1.13\n",
      "363/363 [==============================] - 1s 4ms/step - loss: 0.7973 - output_1_loss: 0.7053 - output_2_loss: 1.6251 - output_1_root_mean_squared_error: 0.8398 - output_2_root_mean_squared_error: 1.2748 - val_loss: 0.9019 - val_output_1_loss: 0.7351 - val_output_2_loss: 2.4031 - val_output_1_root_mean_squared_error: 0.8574 - val_output_2_root_mean_squared_error: 1.5502\n",
      "Epoch 15/20\n",
      "357/363 [============================>.] - ETA: 0s - loss: 0.7391 - output_1_loss: 0.6753 - output_2_loss: 1.3134 - output_1_root_mean_squared_error: 0.8218 - output_2_root_mean_squared_error: 1.1460Epoch=14, val/train=1.43\n",
      "363/363 [==============================] - 1s 4ms/step - loss: 0.7378 - output_1_loss: 0.6735 - output_2_loss: 1.3164 - output_1_root_mean_squared_error: 0.8206 - output_2_root_mean_squared_error: 1.1474 - val_loss: 1.0555 - val_output_1_loss: 0.6586 - val_output_2_loss: 4.6272 - val_output_1_root_mean_squared_error: 0.8116 - val_output_2_root_mean_squared_error: 2.1511\n",
      "Epoch 16/20\n",
      "355/363 [============================>.] - ETA: 0s - loss: 1.0055 - output_1_loss: 0.7599 - output_2_loss: 3.2156 - output_1_root_mean_squared_error: 0.8717 - output_2_root_mean_squared_error: 1.7932Epoch=15, val/train=1.08\n",
      "363/363 [==============================] - 1s 4ms/step - loss: 0.9966 - output_1_loss: 0.7551 - output_2_loss: 3.1709 - output_1_root_mean_squared_error: 0.8689 - output_2_root_mean_squared_error: 1.7807 - val_loss: 1.0795 - val_output_1_loss: 0.7027 - val_output_2_loss: 4.4709 - val_output_1_root_mean_squared_error: 0.8382 - val_output_2_root_mean_squared_error: 2.1144\n",
      "Epoch 17/20\n",
      "356/363 [============================>.] - ETA: 0s - loss: 0.9946 - output_1_loss: 0.9532 - output_2_loss: 1.3669 - output_1_root_mean_squared_error: 0.9763 - output_2_root_mean_squared_error: 1.1691Epoch=16, val/train=1.09\n",
      "363/363 [==============================] - 1s 4ms/step - loss: 0.9878 - output_1_loss: 0.9453 - output_2_loss: 1.3699 - output_1_root_mean_squared_error: 0.9723 - output_2_root_mean_squared_error: 1.1704 - val_loss: 1.0793 - val_output_1_loss: 0.8404 - val_output_2_loss: 3.2299 - val_output_1_root_mean_squared_error: 0.9167 - val_output_2_root_mean_squared_error: 1.7972\n",
      "Epoch 18/20\n",
      "361/363 [============================>.] - ETA: 0s - loss: 1.0701 - output_1_loss: 1.0306 - output_2_loss: 1.4257 - output_1_root_mean_squared_error: 1.0152 - output_2_root_mean_squared_error: 1.1940Epoch=17, val/train=1.14\n",
      "363/363 [==============================] - 1s 4ms/step - loss: 1.0682 - output_1_loss: 1.0287 - output_2_loss: 1.4238 - output_1_root_mean_squared_error: 1.0142 - output_2_root_mean_squared_error: 1.1932 - val_loss: 1.2186 - val_output_1_loss: 0.9209 - val_output_2_loss: 3.8978 - val_output_1_root_mean_squared_error: 0.9596 - val_output_2_root_mean_squared_error: 1.9743\n",
      "Epoch 19/20\n",
      "355/363 [============================>.] - ETA: 0s - loss: 0.8518 - output_1_loss: 0.7992 - output_2_loss: 1.3249 - output_1_root_mean_squared_error: 0.8940 - output_2_root_mean_squared_error: 1.1511Epoch=18, val/train=1.29\n",
      "363/363 [==============================] - 2s 4ms/step - loss: 0.8514 - output_1_loss: 0.7994 - output_2_loss: 1.3192 - output_1_root_mean_squared_error: 0.8941 - output_2_root_mean_squared_error: 1.1486 - val_loss: 1.1010 - val_output_1_loss: 0.7015 - val_output_2_loss: 4.6965 - val_output_1_root_mean_squared_error: 0.8376 - val_output_2_root_mean_squared_error: 2.1671\n",
      "Epoch 20/20\n",
      "353/363 [============================>.] - ETA: 0s - loss: 0.8872 - output_1_loss: 0.7954 - output_2_loss: 1.7138 - output_1_root_mean_squared_error: 0.8918 - output_2_root_mean_squared_error: 1.3091Epoch=19, val/train=1.26\n",
      "363/363 [==============================] - 1s 4ms/step - loss: 0.8807 - output_1_loss: 0.7903 - output_2_loss: 1.6948 - output_1_root_mean_squared_error: 0.8890 - output_2_root_mean_squared_error: 1.3018 - val_loss: 1.1101 - val_output_1_loss: 0.6871 - val_output_2_loss: 4.9176 - val_output_1_root_mean_squared_error: 0.8289 - val_output_2_root_mean_squared_error: 2.2176\n"
     ]
    }
   ],
   "source": [
    "history = model.fit(\n",
    "  (X_train_wide, X_train_deep), (y_train, y_train), epochs=20,\n",
    "  validation_data=((X_valid_wide, X_valid_deep), (y_valid, y_valid)),\n",
    "  callbacks=[PrintValTrainRatioCallback()]\n",
    ")"
   ]
  },
  {
   "cell_type": "code",
   "execution_count": null,
   "id": "4bc68607-931c-4d04-a993-29ceb922aefd",
   "metadata": {},
   "outputs": [],
   "source": []
  },
  {
   "cell_type": "code",
   "execution_count": null,
   "id": "893b2e4e-0095-4d36-94d9-668dbe514394",
   "metadata": {},
   "outputs": [],
   "source": []
  },
  {
   "cell_type": "code",
   "execution_count": 92,
   "id": "0a276ce2-e074-45bf-bd7f-52d696e36c47",
   "metadata": {},
   "outputs": [],
   "source": [
    "def get_run_logdir(root_logdir=\"my_logs\"):\n",
    "  return Path(root_logdir) / strftime(\"run_%Y_%m_%d_%H_%M_%S\")\n",
    "\n",
    "run_logdir = get_run_logdir()"
   ]
  },
  {
   "cell_type": "code",
   "execution_count": 97,
   "id": "c3d02e99-6230-4027-93a6-21afb411936b",
   "metadata": {
    "scrolled": true
   },
   "outputs": [
    {
     "name": "stdout",
     "output_type": "stream",
     "text": [
      "Epoch 1/20\n"
     ]
    },
    {
     "name": "stderr",
     "output_type": "stream",
     "text": [
      "2023-12-20 20:58:49.365978: I tensorflow/tsl/profiler/lib/profiler_session.cc:104] Profiler session initializing.\n",
      "2023-12-20 20:58:49.366035: I tensorflow/tsl/profiler/lib/profiler_session.cc:119] Profiler session started.\n",
      "2023-12-20 20:58:49.369965: I tensorflow/tsl/profiler/lib/profiler_session.cc:131] Profiler session tear down.\n",
      "2023-12-20 20:58:49.370203: I tensorflow/compiler/xla/backends/profiler/gpu/cupti_tracer.cc:1805] CUPTI activity buffer flushed\n"
     ]
    },
    {
     "name": "stdout",
     "output_type": "stream",
     "text": [
      "150/363 [===========>..................] - ETA: 0s - loss: 1.6701 - output_1_loss: 1.6115 - output_2_loss: 2.1977 - output_1_root_mean_squared_error: 1.2695 - output_2_root_mean_squared_error: 1.4825"
     ]
    },
    {
     "name": "stderr",
     "output_type": "stream",
     "text": [
      "2023-12-20 20:58:50.860435: I tensorflow/tsl/profiler/lib/profiler_session.cc:104] Profiler session initializing.\n",
      "2023-12-20 20:58:50.860480: I tensorflow/tsl/profiler/lib/profiler_session.cc:119] Profiler session started.\n"
     ]
    },
    {
     "name": "stdout",
     "output_type": "stream",
     "text": [
      "249/363 [===================>..........] - ETA: 0s - loss: 1.3012 - output_1_loss: 1.2287 - output_2_loss: 1.9539 - output_1_root_mean_squared_error: 1.1084 - output_2_root_mean_squared_error: 1.3978"
     ]
    },
    {
     "name": "stderr",
     "output_type": "stream",
     "text": [
      "2023-12-20 20:58:51.243413: I tensorflow/tsl/profiler/lib/profiler_session.cc:70] Profiler session collecting data.\n",
      "2023-12-20 20:58:51.244302: I tensorflow/compiler/xla/backends/profiler/gpu/cupti_tracer.cc:1805] CUPTI activity buffer flushed\n",
      "2023-12-20 20:58:51.265952: I tensorflow/compiler/xla/backends/profiler/gpu/cupti_collector.cc:541]  GpuTracer has collected 0 callback api events and 0 activity events. \n",
      "2023-12-20 20:58:51.267075: I tensorflow/tsl/profiler/lib/profiler_session.cc:131] Profiler session tear down.\n",
      "2023-12-20 20:58:51.267284: I tensorflow/tsl/profiler/rpc/client/save_profile.cc:144] Collecting XSpace to repository: my_logs/run_2023_12_20_20_49_17/plugins/profile/2023_12_20_20_58_51/infinity.xplane.pb\n"
     ]
    },
    {
     "name": "stdout",
     "output_type": "stream",
     "text": [
      "363/363 [==============================] - 3s 5ms/step - loss: 1.1622 - output_1_loss: 1.0556 - output_2_loss: 2.1220 - output_1_root_mean_squared_error: 1.0274 - output_2_root_mean_squared_error: 1.4567 - val_loss: 0.7193 - val_output_1_loss: 0.5465 - val_output_2_loss: 2.2744 - val_output_1_root_mean_squared_error: 0.7393 - val_output_2_root_mean_squared_error: 1.5081\n",
      "Epoch 2/20\n",
      "363/363 [==============================] - 1s 4ms/step - loss: 1.0137 - output_1_loss: 0.9145 - output_2_loss: 1.9067 - output_1_root_mean_squared_error: 0.9563 - output_2_root_mean_squared_error: 1.3808 - val_loss: 1.9662 - val_output_1_loss: 2.0041 - val_output_2_loss: 1.6246 - val_output_1_root_mean_squared_error: 1.4157 - val_output_2_root_mean_squared_error: 1.2746\n",
      "Epoch 3/20\n",
      "363/363 [==============================] - 1s 4ms/step - loss: 1.0501 - output_1_loss: 1.0042 - output_2_loss: 1.4628 - output_1_root_mean_squared_error: 1.0021 - output_2_root_mean_squared_error: 1.2094 - val_loss: 1.0152 - val_output_1_loss: 0.9487 - val_output_2_loss: 1.6142 - val_output_1_root_mean_squared_error: 0.9740 - val_output_2_root_mean_squared_error: 1.2705\n",
      "Epoch 4/20\n",
      "363/363 [==============================] - 2s 4ms/step - loss: 1.0663 - output_1_loss: 0.9333 - output_2_loss: 2.2628 - output_1_root_mean_squared_error: 0.9661 - output_2_root_mean_squared_error: 1.5043 - val_loss: 0.6623 - val_output_1_loss: 0.5482 - val_output_2_loss: 1.6894 - val_output_1_root_mean_squared_error: 0.7404 - val_output_2_root_mean_squared_error: 1.2998\n",
      "Epoch 5/20\n",
      "363/363 [==============================] - 1s 4ms/step - loss: 1.5022 - output_1_loss: 1.5265 - output_2_loss: 1.2840 - output_1_root_mean_squared_error: 1.2355 - output_2_root_mean_squared_error: 1.1331 - val_loss: 0.8378 - val_output_1_loss: 0.7518 - val_output_2_loss: 1.6123 - val_output_1_root_mean_squared_error: 0.8670 - val_output_2_root_mean_squared_error: 1.2698\n",
      "Epoch 6/20\n",
      "363/363 [==============================] - 2s 5ms/step - loss: 0.7860 - output_1_loss: 0.7450 - output_2_loss: 1.1556 - output_1_root_mean_squared_error: 0.8631 - output_2_root_mean_squared_error: 1.0750 - val_loss: 0.7982 - val_output_1_loss: 0.6882 - val_output_2_loss: 1.7876 - val_output_1_root_mean_squared_error: 0.8296 - val_output_2_root_mean_squared_error: 1.3370\n",
      "Epoch 7/20\n",
      "363/363 [==============================] - 2s 6ms/step - loss: 1.0068 - output_1_loss: 0.9581 - output_2_loss: 1.4453 - output_1_root_mean_squared_error: 0.9788 - output_2_root_mean_squared_error: 1.2022 - val_loss: 0.6787 - val_output_1_loss: 0.5966 - val_output_2_loss: 1.4170 - val_output_1_root_mean_squared_error: 0.7724 - val_output_2_root_mean_squared_error: 1.1904\n",
      "Epoch 8/20\n",
      "363/363 [==============================] - 1s 4ms/step - loss: 1.1846 - output_1_loss: 1.1209 - output_2_loss: 1.7575 - output_1_root_mean_squared_error: 1.0587 - output_2_root_mean_squared_error: 1.3257 - val_loss: 0.7693 - val_output_1_loss: 0.7045 - val_output_2_loss: 1.3525 - val_output_1_root_mean_squared_error: 0.8394 - val_output_2_root_mean_squared_error: 1.1630\n",
      "Epoch 9/20\n",
      "363/363 [==============================] - 1s 4ms/step - loss: 0.9188 - output_1_loss: 0.8846 - output_2_loss: 1.2272 - output_1_root_mean_squared_error: 0.9405 - output_2_root_mean_squared_error: 1.1078 - val_loss: 3.6321 - val_output_1_loss: 3.8331 - val_output_2_loss: 1.8232 - val_output_1_root_mean_squared_error: 1.9578 - val_output_2_root_mean_squared_error: 1.3503\n",
      "Epoch 10/20\n",
      "363/363 [==============================] - 1s 4ms/step - loss: 2.4685 - output_1_loss: 2.3162 - output_2_loss: 3.8386 - output_1_root_mean_squared_error: 1.5219 - output_2_root_mean_squared_error: 1.9592 - val_loss: 0.9426 - val_output_1_loss: 0.8161 - val_output_2_loss: 2.0807 - val_output_1_root_mean_squared_error: 0.9034 - val_output_2_root_mean_squared_error: 1.4424\n",
      "Epoch 11/20\n",
      "363/363 [==============================] - 1s 4ms/step - loss: 0.8281 - output_1_loss: 0.7760 - output_2_loss: 1.2973 - output_1_root_mean_squared_error: 0.8809 - output_2_root_mean_squared_error: 1.1390 - val_loss: 0.8063 - val_output_1_loss: 0.7115 - val_output_2_loss: 1.6598 - val_output_1_root_mean_squared_error: 0.8435 - val_output_2_root_mean_squared_error: 1.2884\n",
      "Epoch 12/20\n",
      "363/363 [==============================] - 2s 5ms/step - loss: 0.7170 - output_1_loss: 0.6608 - output_2_loss: 1.2227 - output_1_root_mean_squared_error: 0.8129 - output_2_root_mean_squared_error: 1.1058 - val_loss: 0.9785 - val_output_1_loss: 0.9265 - val_output_2_loss: 1.4463 - val_output_1_root_mean_squared_error: 0.9626 - val_output_2_root_mean_squared_error: 1.2026\n",
      "Epoch 13/20\n",
      "363/363 [==============================] - 1s 4ms/step - loss: 0.9561 - output_1_loss: 0.9242 - output_2_loss: 1.2431 - output_1_root_mean_squared_error: 0.9613 - output_2_root_mean_squared_error: 1.1150 - val_loss: 1.3313 - val_output_1_loss: 1.3229 - val_output_2_loss: 1.4064 - val_output_1_root_mean_squared_error: 1.1502 - val_output_2_root_mean_squared_error: 1.1859\n",
      "Epoch 14/20\n",
      "363/363 [==============================] - 2s 4ms/step - loss: 1.1494 - output_1_loss: 1.1383 - output_2_loss: 1.2489 - output_1_root_mean_squared_error: 1.0669 - output_2_root_mean_squared_error: 1.1175 - val_loss: 0.7145 - val_output_1_loss: 0.6324 - val_output_2_loss: 1.4540 - val_output_1_root_mean_squared_error: 0.7952 - val_output_2_root_mean_squared_error: 1.2058\n",
      "Epoch 15/20\n",
      "363/363 [==============================] - 2s 4ms/step - loss: 0.7181 - output_1_loss: 0.6704 - output_2_loss: 1.1473 - output_1_root_mean_squared_error: 0.8188 - output_2_root_mean_squared_error: 1.0711 - val_loss: 0.6538 - val_output_1_loss: 0.5956 - val_output_2_loss: 1.1782 - val_output_1_root_mean_squared_error: 0.7717 - val_output_2_root_mean_squared_error: 1.0854\n",
      "Epoch 16/20\n",
      "363/363 [==============================] - 1s 4ms/step - loss: 1.0980 - output_1_loss: 1.0868 - output_2_loss: 1.1984 - output_1_root_mean_squared_error: 1.0425 - output_2_root_mean_squared_error: 1.0947 - val_loss: 0.6716 - val_output_1_loss: 0.6307 - val_output_2_loss: 1.0398 - val_output_1_root_mean_squared_error: 0.7942 - val_output_2_root_mean_squared_error: 1.0197\n",
      "Epoch 17/20\n",
      "363/363 [==============================] - 1s 4ms/step - loss: 1.2829 - output_1_loss: 1.2817 - output_2_loss: 1.2938 - output_1_root_mean_squared_error: 1.1321 - output_2_root_mean_squared_error: 1.1375 - val_loss: 0.8555 - val_output_1_loss: 0.7877 - val_output_2_loss: 1.4656 - val_output_1_root_mean_squared_error: 0.8875 - val_output_2_root_mean_squared_error: 1.2106\n",
      "Epoch 18/20\n",
      "363/363 [==============================] - 1s 4ms/step - loss: 1.1936 - output_1_loss: 1.1613 - output_2_loss: 1.4846 - output_1_root_mean_squared_error: 1.0776 - output_2_root_mean_squared_error: 1.2184 - val_loss: 0.8527 - val_output_1_loss: 0.7164 - val_output_2_loss: 2.0797 - val_output_1_root_mean_squared_error: 0.8464 - val_output_2_root_mean_squared_error: 1.4421\n",
      "Epoch 19/20\n",
      "363/363 [==============================] - 1s 4ms/step - loss: 0.9635 - output_1_loss: 0.9052 - output_2_loss: 1.4874 - output_1_root_mean_squared_error: 0.9514 - output_2_root_mean_squared_error: 1.2196 - val_loss: 1.1411 - val_output_1_loss: 0.8826 - val_output_2_loss: 3.4677 - val_output_1_root_mean_squared_error: 0.9394 - val_output_2_root_mean_squared_error: 1.8622\n",
      "Epoch 20/20\n",
      "363/363 [==============================] - 1s 4ms/step - loss: 0.8656 - output_1_loss: 0.8352 - output_2_loss: 1.1399 - output_1_root_mean_squared_error: 0.9139 - output_2_root_mean_squared_error: 1.0677 - val_loss: 0.6477 - val_output_1_loss: 0.5567 - val_output_2_loss: 1.4665 - val_output_1_root_mean_squared_error: 0.7461 - val_output_2_root_mean_squared_error: 1.2110\n"
     ]
    }
   ],
   "source": [
    "tensorboard_cb = tf.keras.callbacks.TensorBoard(run_logdir,\n",
    "                                               profile_batch=(100,200))\n",
    "\n",
    "history = model.fit(\n",
    "  (X_train_wide, X_train_deep), (y_train, y_train), epochs=20,\n",
    "  validation_data=((X_valid_wide, X_valid_deep), (y_valid, y_valid)),\n",
    "  callbacks=[tensorboard_cb]\n",
    ")"
   ]
  },
  {
   "cell_type": "code",
   "execution_count": 98,
   "id": "d8dfc5e5-7ce5-4872-8f59-affbdf1a0eae",
   "metadata": {},
   "outputs": [
    {
     "name": "stdout",
     "output_type": "stream",
     "text": [
      "my_logs\n",
      "  run_2023_12_20_20_49_17\n",
      "    plugins\n",
      "      profile\n",
      "        2023_12_20_20_51_50\n",
      "          infinity.xplane.pb\n",
      "        2023_12_20_20_58_51\n",
      "          infinity.xplane.pb\n",
      "    train\n",
      "      events.out.tfevents.1703101909.infinity.16858.0.v2\n",
      "      events.out.tfevents.1703102329.infinity.16858.2.v2\n",
      "    validation\n",
      "      events.out.tfevents.1703101910.infinity.16858.1.v2\n",
      "      events.out.tfevents.1703102331.infinity.16858.3.v2\n"
     ]
    }
   ],
   "source": [
    "print(\"my_logs\")\n",
    "for path in sorted(Path(\"my_logs\").glob(\"**/*\")):\n",
    "    print(\"  \" * (len(path.parts) - 1) + path.parts[-1])"
   ]
  },
  {
   "cell_type": "code",
   "execution_count": 99,
   "id": "09e479c2-92fd-4765-80b5-80bcda7fb976",
   "metadata": {},
   "outputs": [],
   "source": [
    "%load_ext tensorboard"
   ]
  },
  {
   "cell_type": "code",
   "execution_count": 100,
   "id": "97d2f7bf-6d7a-498c-9697-77fa35f070ab",
   "metadata": {},
   "outputs": [
    {
     "data": {
      "text/html": [
       "\n",
       "      <iframe id=\"tensorboard-frame-83f6c1cb8a6d4c09\" width=\"100%\" height=\"800\" frameborder=\"0\">\n",
       "      </iframe>\n",
       "      <script>\n",
       "        (function() {\n",
       "          const frame = document.getElementById(\"tensorboard-frame-83f6c1cb8a6d4c09\");\n",
       "          const url = new URL(\"/\", window.location);\n",
       "          const port = 6006;\n",
       "          if (port) {\n",
       "            url.port = port;\n",
       "          }\n",
       "          frame.src = url;\n",
       "        })();\n",
       "      </script>\n",
       "    "
      ],
      "text/plain": [
       "<IPython.core.display.HTML object>"
      ]
     },
     "metadata": {},
     "output_type": "display_data"
    }
   ],
   "source": [
    "%tensorboard --logdir=./my_logs"
   ]
  },
  {
   "cell_type": "code",
   "execution_count": null,
   "id": "27f9452f-fec6-4087-a5d4-1636acd9a70a",
   "metadata": {},
   "outputs": [],
   "source": []
  },
  {
   "cell_type": "code",
   "execution_count": null,
   "id": "96c5a467-8064-4d0e-9235-d0327c78defa",
   "metadata": {},
   "outputs": [],
   "source": []
  },
  {
   "cell_type": "code",
   "execution_count": 8,
   "id": "a65212ce-c2c3-4a89-bb37-9e3d4910d2f0",
   "metadata": {},
   "outputs": [],
   "source": [
    "def build_model(hp):\n",
    "  n_hidden = hp.Int(\"n_hidden\", min_value=0, max_value=8, default=2)\n",
    "  n_neurons = hp.Int(\"n_neurons\", min_value=16, max_value=256)\n",
    "  learning_rate = hp.Float(\"learning_rate\", min_value=1e-4, max_value=1e-2, sampling=\"log\")\n",
    "  optimizer = hp.Choice(\"optimizer\", values=[\"sgd\", \"adam\"])\n",
    "  if optimizer == \"sgd\":\n",
    "    optimizer = tf.keras.optimizers.SGD(learning_rate=learning_rate)\n",
    "  else:\n",
    "    optimizer = tf.keras.optimizers.Adam(learning_rate=learning_rate)\n",
    "\n",
    "  model = tf.keras.Sequential()\n",
    "  model.add(tf.keras.layers.Flatten())\n",
    "  for _ in range(n_hidden):\n",
    "    model.add(tf.keras.layers.Dense(n_neurons, activation=\"relu\"))\n",
    "  model.add(tf.keras.layers.Dense(10, activation=\"softmax\"))\n",
    "  model.compile(loss=\"sparse_categorical_crossentropy\", optimizer=optimizer, metrics=[\"accuracy\"])\n",
    "\n",
    "  return model"
   ]
  },
  {
   "cell_type": "code",
   "execution_count": 9,
   "id": "cf9be3b8-15ca-4b96-b437-bb3a076ef69a",
   "metadata": {},
   "outputs": [
    {
     "name": "stdout",
     "output_type": "stream",
     "text": [
      "Trial 5 Complete [00h 00m 52s]\n",
      "val_accuracy: 0.7268000245094299\n",
      "\n",
      "Best val_accuracy So Far: 0.8596000075340271\n",
      "Total elapsed time: 00h 04m 35s\n"
     ]
    }
   ],
   "source": [
    "random_search_tuner = kt.RandomSearch(\n",
    "  build_model, objective=\"val_accuracy\", max_trials=5, overwrite=True,\n",
    "  directory=\"my_fashion_mnist\", project_name=\"my_rnd_search\", seed=42\n",
    ")\n",
    "\n",
    "random_search_tuner.search(X_train, y_train, epochs=10, validation_data=(X_valid, y_valid))"
   ]
  },
  {
   "cell_type": "code",
   "execution_count": 11,
   "id": "404981f5-a659-4614-b5c8-6193883ac1a8",
   "metadata": {},
   "outputs": [
    {
     "data": {
      "text/plain": [
       "[<keras.src.engine.sequential.Sequential at 0x7f900e5fa400>,\n",
       " <keras.src.engine.sequential.Sequential at 0x7f902cfabb80>,\n",
       " <keras.src.engine.sequential.Sequential at 0x7f900c6a3e20>]"
      ]
     },
     "execution_count": 11,
     "metadata": {},
     "output_type": "execute_result"
    }
   ],
   "source": [
    "top3_models = random_search_tuner.get_best_models(num_models=3)\n",
    "top3_models"
   ]
  },
  {
   "cell_type": "code",
   "execution_count": 17,
   "id": "7212b6c7-290a-4740-b8e3-1cf2e982e3ef",
   "metadata": {},
   "outputs": [
    {
     "data": {
      "text/plain": [
       "<keras.src.engine.sequential.Sequential at 0x7f900e5fa400>"
      ]
     },
     "execution_count": 17,
     "metadata": {},
     "output_type": "execute_result"
    }
   ],
   "source": [
    "best_model = top3_models[0]\n",
    "best_model"
   ]
  },
  {
   "cell_type": "code",
   "execution_count": 15,
   "id": "5b72f0e8-4ce4-44eb-aed5-93b451eb730f",
   "metadata": {},
   "outputs": [
    {
     "data": {
      "text/plain": [
       "{'n_hidden': 8,\n",
       " 'n_neurons': 37,\n",
       " 'learning_rate': 0.008547485565344062,\n",
       " 'optimizer': 'sgd'}"
      ]
     },
     "execution_count": 15,
     "metadata": {},
     "output_type": "execute_result"
    }
   ],
   "source": [
    "top3_params = random_search_tuner.get_best_hyperparameters(num_trials=3)\n",
    "top3_params[0].values"
   ]
  },
  {
   "cell_type": "code",
   "execution_count": 18,
   "id": "30164ac5-ca30-473e-b982-081362ffff9f",
   "metadata": {},
   "outputs": [
    {
     "name": "stdout",
     "output_type": "stream",
     "text": [
      "Trial 3 summary\n",
      "Hyperparameters:\n",
      "n_hidden: 8\n",
      "n_neurons: 37\n",
      "learning_rate: 0.008547485565344062\n",
      "optimizer: sgd\n",
      "Score: 0.8596000075340271\n"
     ]
    }
   ],
   "source": [
    "best_trial = random_search_tuner.oracle.get_best_trials(num_trials=1)[0]\n",
    "best_trial.summary()"
   ]
  },
  {
   "cell_type": "code",
   "execution_count": 19,
   "id": "f05e5c48-56aa-4515-ba63-963680abd509",
   "metadata": {},
   "outputs": [
    {
     "data": {
      "text/plain": [
       "0.8596000075340271"
      ]
     },
     "execution_count": 19,
     "metadata": {},
     "output_type": "execute_result"
    }
   ],
   "source": [
    "best_trial.metrics.get_last_value(\"val_accuracy\")"
   ]
  },
  {
   "cell_type": "code",
   "execution_count": 20,
   "id": "c75caae1-0426-43fe-a340-b51587ed98fa",
   "metadata": {},
   "outputs": [
    {
     "name": "stdout",
     "output_type": "stream",
     "text": [
      "Epoch 1/10\n",
      "1875/1875 [==============================] - 6s 3ms/step - loss: nan - accuracy: 0.1003\n",
      "Epoch 2/10\n",
      "1875/1875 [==============================] - 5s 3ms/step - loss: nan - accuracy: 0.1000\n",
      "Epoch 3/10\n",
      "1875/1875 [==============================] - 5s 3ms/step - loss: nan - accuracy: 0.1000\n",
      "Epoch 4/10\n",
      "1875/1875 [==============================] - 5s 3ms/step - loss: nan - accuracy: 0.1000\n",
      "Epoch 5/10\n",
      "1875/1875 [==============================] - 5s 3ms/step - loss: nan - accuracy: 0.1000\n",
      "Epoch 6/10\n",
      "1875/1875 [==============================] - 5s 3ms/step - loss: nan - accuracy: 0.1000\n",
      "Epoch 7/10\n",
      "1875/1875 [==============================] - 5s 3ms/step - loss: nan - accuracy: 0.1000\n",
      "Epoch 8/10\n",
      "1875/1875 [==============================] - 5s 3ms/step - loss: nan - accuracy: 0.1000\n",
      "Epoch 9/10\n",
      "1875/1875 [==============================] - 5s 2ms/step - loss: nan - accuracy: 0.1000\n",
      "Epoch 10/10\n",
      "1875/1875 [==============================] - 5s 3ms/step - loss: nan - accuracy: 0.1000\n"
     ]
    },
    {
     "data": {
      "text/plain": [
       "<keras.src.callbacks.History at 0x7f900420d7f0>"
      ]
     },
     "execution_count": 20,
     "metadata": {},
     "output_type": "execute_result"
    }
   ],
   "source": [
    "best_model.fit(X_train_full, y_train_full, epochs=10)"
   ]
  },
  {
   "cell_type": "code",
   "execution_count": 21,
   "id": "c8951c65-6d22-40ab-a104-43b646d715da",
   "metadata": {},
   "outputs": [
    {
     "name": "stdout",
     "output_type": "stream",
     "text": [
      "313/313 [==============================] - 1s 2ms/step - loss: nan - accuracy: 0.1000\n"
     ]
    },
    {
     "data": {
      "text/plain": [
       "[nan, 0.10000000149011612]"
      ]
     },
     "execution_count": 21,
     "metadata": {},
     "output_type": "execute_result"
    }
   ],
   "source": [
    "best_model.evaluate(X_test, y_test)"
   ]
  },
  {
   "cell_type": "code",
   "execution_count": null,
   "id": "5c5c940c-e35a-4d0c-80d1-66d3b2347e74",
   "metadata": {},
   "outputs": [],
   "source": []
  },
  {
   "cell_type": "code",
   "execution_count": 25,
   "id": "d80d1a5e-8063-4cd6-a8fc-7fadb7d99252",
   "metadata": {},
   "outputs": [],
   "source": [
    "class MyClassificationHyperModel(kt.HyperModel):\n",
    "  def build(self, hp):\n",
    "    return build_model(hp)\n",
    "\n",
    "  def fit(self, hp, model, X, y, **kwargs):\n",
    "    if hp.Boolean(\"normalize\"):\n",
    "      norm_layer = tf.keras.layers.Normalization()\n",
    "      X = norm_layer(X)\n",
    "    return model.fit(X, y, **kwargs)"
   ]
  },
  {
   "cell_type": "code",
   "execution_count": 26,
   "id": "4ccb4985-ecc0-48c3-b5d8-3c5fad36dda0",
   "metadata": {},
   "outputs": [],
   "source": [
    "hyperband_tuner = kt.Hyperband(\n",
    "  MyClassificationHyperModel(), objective=\"val_accuracy\", seed=42,\n",
    "  max_epochs=10, factor=3, hyperband_iterations=2, overwrite=True,\n",
    "  directory=\"my_fashion_mnist\", project_name=\"hyperband\"\n",
    ")"
   ]
  },
  {
   "cell_type": "code",
   "execution_count": null,
   "id": "0588d0a2-1cb2-4f01-9ffa-ffccfb4677b2",
   "metadata": {},
   "outputs": [],
   "source": []
  }
 ],
 "metadata": {
  "kernelspec": {
   "display_name": "Python 3 (ipykernel)",
   "language": "python",
   "name": "python3"
  },
  "language_info": {
   "codemirror_mode": {
    "name": "ipython",
    "version": 3
   },
   "file_extension": ".py",
   "mimetype": "text/x-python",
   "name": "python",
   "nbconvert_exporter": "python",
   "pygments_lexer": "ipython3",
   "version": "3.9.21"
  }
 },
 "nbformat": 4,
 "nbformat_minor": 5
}
